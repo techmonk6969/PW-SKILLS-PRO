{
 "cells": [
  {
   "cell_type": "markdown",
   "id": "b869a750-38bc-4830-9d0d-8897ef3bdb8b",
   "metadata": {},
   "source": [
    "1. Write a Python program to check if a given number is positive or negative.\n",
    "2. Create a program that determines if a person is eligible to vote based on their age.\n",
    "3. Develop a program to find the maximum of two numbers using if-else statements.\n",
    "4. Write a Python script to classify a given year as a leap year or not.\n",
    "5. Create a program that checks whether a character is a vowel or a consonant.\n",
    "6. Implement a program to determine whether a given number is even or odd.\n",
    "7. Write a Python function to calculate the absolute value of a number without using the `abs()` function.\n",
    "8. Develop a program that determines the largest of three given numbers using if-else statements.\n",
    "9. Create a program that checks if a given string is a palindrome.\n",
    "10. Write a Python program to calculate the grade based on a student's score."
   ]
  },
  {
   "cell_type": "code",
   "execution_count": 1,
   "id": "54a6c968-ef46-4a32-90e0-df043b1706cf",
   "metadata": {},
   "outputs": [
    {
     "name": "stdout",
     "output_type": "stream",
     "text": [
      "Positive\n",
      "Negative\n",
      "Zero\n"
     ]
    }
   ],
   "source": [
    "def check_positive_negative(num):\n",
    "    if num > 0:\n",
    "        print(\"Positive\")\n",
    "    elif num < 0:\n",
    "        print(\"Negative\")\n",
    "    else:\n",
    "        print(\"Zero\")\n",
    "\n",
    "check_positive_negative(5)\n",
    "check_positive_negative(-3)\n",
    "check_positive_negative(0)\n"
   ]
  },
  {
   "cell_type": "code",
   "execution_count": 2,
   "id": "e7130c90-eb9c-4cd5-9ffc-aa25604c37b4",
   "metadata": {},
   "outputs": [
    {
     "name": "stdout",
     "output_type": "stream",
     "text": [
      "Eligible to Vote\n",
      "Not Eligible to Vote\n"
     ]
    }
   ],
   "source": [
    "def check_voter_eligibility(age):\n",
    "    if age >= 18:\n",
    "        print(\"Eligible to Vote\")\n",
    "    else:\n",
    "        print(\"Not Eligible to Vote\")\n",
    "\n",
    "check_voter_eligibility(20)\n",
    "check_voter_eligibility(15)\n"
   ]
  },
  {
   "cell_type": "code",
   "execution_count": 3,
   "id": "9c1084bb-5719-49ca-bccb-1153574f8b38",
   "metadata": {},
   "outputs": [
    {
     "name": "stdout",
     "output_type": "stream",
     "text": [
      "Maximum Number: 15\n"
     ]
    }
   ],
   "source": [
    "def find_maximum(num1, num2):\n",
    "    if num1 > num2:\n",
    "        return num1\n",
    "    else:\n",
    "        return num2\n",
    "\n",
    "result = find_maximum(10, 15)\n",
    "print(\"Maximum Number:\", result)\n"
   ]
  },
  {
   "cell_type": "code",
   "execution_count": 4,
   "id": "5154264a-f27d-433b-9066-d6e91007168b",
   "metadata": {},
   "outputs": [
    {
     "name": "stdout",
     "output_type": "stream",
     "text": [
      "Leap Year\n",
      "Not a Leap Year\n"
     ]
    }
   ],
   "source": [
    "def check_leap_year(year):\n",
    "    if (year % 4 == 0 and year % 100 != 0) or (year % 400 == 0):\n",
    "        print(\"Leap Year\")\n",
    "    else:\n",
    "        print(\"Not a Leap Year\")\n",
    "\n",
    "check_leap_year(2020)\n",
    "check_leap_year(2021)\n"
   ]
  },
  {
   "cell_type": "code",
   "execution_count": 5,
   "id": "fc48b131-2ac2-4354-81bd-52d6b12f671a",
   "metadata": {},
   "outputs": [
    {
     "name": "stdout",
     "output_type": "stream",
     "text": [
      "Vowel\n",
      "Consonant\n"
     ]
    }
   ],
   "source": [
    "def check_vowel_consonant(char):\n",
    "    vowels = \"aeiouAEIOU\"\n",
    "    if char in vowels:\n",
    "        print(\"Vowel\")\n",
    "    else:\n",
    "        print(\"Consonant\")\n",
    "\n",
    "check_vowel_consonant('a')\n",
    "check_vowel_consonant('b')\n"
   ]
  },
  {
   "cell_type": "code",
   "execution_count": 6,
   "id": "c1e4a00c-d4be-4eb2-8320-c1de60be38ec",
   "metadata": {},
   "outputs": [
    {
     "name": "stdout",
     "output_type": "stream",
     "text": [
      "Even\n",
      "Odd\n"
     ]
    }
   ],
   "source": [
    "def check_even_odd(num):\n",
    "    if num % 2 == 0:\n",
    "        print(\"Even\")\n",
    "    else:\n",
    "        print(\"Odd\")\n",
    "\n",
    "check_even_odd(10)\n",
    "check_even_odd(15)\n"
   ]
  },
  {
   "cell_type": "code",
   "execution_count": 7,
   "id": "c5263f8f-98e8-4e56-91d8-4930fbf8bf6d",
   "metadata": {},
   "outputs": [
    {
     "name": "stdout",
     "output_type": "stream",
     "text": [
      "Absolute Value: 5\n"
     ]
    }
   ],
   "source": [
    "def absolute_value(num):\n",
    "    if num < 0:\n",
    "        return -num\n",
    "    else:\n",
    "        return num\n",
    "\n",
    "result = absolute_value(-5)\n",
    "print(\"Absolute Value:\", result)\n"
   ]
  },
  {
   "cell_type": "code",
   "execution_count": 8,
   "id": "b69c2366-6205-45f9-bc8f-fd710a7c7fc2",
   "metadata": {},
   "outputs": [
    {
     "name": "stdout",
     "output_type": "stream",
     "text": [
      "Largest Number: 20\n"
     ]
    }
   ],
   "source": [
    "def find_largest(num1, num2, num3):\n",
    "    if num1 >= num2 and num1 >= num3:\n",
    "        return num1\n",
    "    elif num2 >= num1 and num2 >= num3:\n",
    "        return num2\n",
    "    else:\n",
    "        return num3\n",
    "\n",
    "result = find_largest(10, 20, 15)\n",
    "print(\"Largest Number:\", result)\n"
   ]
  },
  {
   "cell_type": "code",
   "execution_count": 9,
   "id": "9f36c761-0daf-49c7-a030-0e586858bf09",
   "metadata": {},
   "outputs": [
    {
     "name": "stdout",
     "output_type": "stream",
     "text": [
      "Palindrome\n",
      "Not a Palindrome\n"
     ]
    }
   ],
   "source": [
    "def check_palindrome(string):\n",
    "    if string == string[::-1]:\n",
    "        print(\"Palindrome\")\n",
    "    else:\n",
    "        print(\"Not a Palindrome\")\n",
    "\n",
    "check_palindrome(\"radar\")\n",
    "check_palindrome(\"hello\")\n"
   ]
  },
  {
   "cell_type": "code",
   "execution_count": 10,
   "id": "06dee4b3-85ba-49cc-988c-92bee51ace7b",
   "metadata": {},
   "outputs": [
    {
     "name": "stdout",
     "output_type": "stream",
     "text": [
      "Grade: B\n"
     ]
    }
   ],
   "source": [
    "def calculate_grade(score):\n",
    "    if score >= 90:\n",
    "        return \"A\"\n",
    "    elif score >= 80:\n",
    "        return \"B\"\n",
    "    elif score >= 70:\n",
    "        return \"C\"\n",
    "    elif score >= 60:\n",
    "        return \"D\"\n",
    "    else:\n",
    "        return \"F\"\n",
    "\n",
    "student_score = 85\n",
    "grade = calculate_grade(student_score)\n",
    "print(\"Grade:\", grade)\n"
   ]
  },
  {
   "cell_type": "markdown",
   "id": "ec3b6d82-f8b8-414c-8dc2-ffda4db3c673",
   "metadata": {},
   "source": [
    "11. Write a program to find the largest among three numbers using nested if-else statements.\n",
    "12. Implement a program to determine if a triangle is equilateral, isosceles, or scalene.\n",
    "13. Develop a program that checks if a year is a leap year and also if it is a century year.\n",
    "14. Write a Python script to determine if a number is positive, negative, or zero.\n",
    "15. Create a program to check if a person is a teenager (between 13 and 19 years old).\n",
    "16. Develop a program that determines the type of angle based on its measure (acute, obtuse, or right).\n",
    "17. Write a Python program to calculate the roots of a quadratic equation.\n",
    "18. Implement a program to determine the day of the week based on a user-provided number (1 for Monday, 2\n",
    "for Tuesday, etc.).\n",
    "19. Create a program that determines if a year is a leap year and also if it is evenly divisible by 400.\n",
    "20. Develop a program that checks if a given number is prime or not using nested if-else statements."
   ]
  },
  {
   "cell_type": "code",
   "execution_count": 11,
   "id": "64cf9a50-d35a-4928-a20c-a66ee413f68f",
   "metadata": {},
   "outputs": [
    {
     "name": "stdout",
     "output_type": "stream",
     "text": [
      "Largest Number: 20\n"
     ]
    }
   ],
   "source": [
    "def find_largest(num1, num2, num3):\n",
    "    if num1 >= num2:\n",
    "        if num1 >= num3:\n",
    "            return num1\n",
    "        else:\n",
    "            return num3\n",
    "    else:\n",
    "        if num2 >= num3:\n",
    "            return num2\n",
    "        else:\n",
    "            return num3\n",
    "\n",
    "result = find_largest(10, 20, 15)\n",
    "print(\"Largest Number:\", result)\n"
   ]
  },
  {
   "cell_type": "code",
   "execution_count": 12,
   "id": "676a53ca-b947-48c8-9d05-d8f0c1884619",
   "metadata": {},
   "outputs": [
    {
     "name": "stdout",
     "output_type": "stream",
     "text": [
      "Triangle Type: Equilateral Triangle\n"
     ]
    }
   ],
   "source": [
    "def triangle_type(side1, side2, side3):\n",
    "    if side1 == side2 == side3:\n",
    "        return \"Equilateral Triangle\"\n",
    "    elif side1 == side2 or side1 == side3 or side2 == side3:\n",
    "        return \"Isosceles Triangle\"\n",
    "    else:\n",
    "        return \"Scalene Triangle\"\n",
    "\n",
    "triangle = triangle_type(5, 5, 5)\n",
    "print(\"Triangle Type:\", triangle)\n"
   ]
  },
  {
   "cell_type": "code",
   "execution_count": 13,
   "id": "011a090b-d4f1-4c4d-a29e-9bcaa425590b",
   "metadata": {},
   "outputs": [
    {
     "name": "stdout",
     "output_type": "stream",
     "text": [
      "Year Type: Leap Century Year\n"
     ]
    }
   ],
   "source": [
    "def check_leap_century(year):\n",
    "    if (year % 4 == 0 and year % 100 != 0) or (year % 400 == 0):\n",
    "        if year % 100 == 0:\n",
    "            return \"Leap Century Year\"\n",
    "        else:\n",
    "            return \"Leap Year\"\n",
    "    else:\n",
    "        return \"Not a Leap Year\"\n",
    "\n",
    "year = 2000\n",
    "result = check_leap_century(year)\n",
    "print(\"Year Type:\", result)\n"
   ]
  },
  {
   "cell_type": "code",
   "execution_count": 14,
   "id": "dcf0552d-148a-4ef6-a2e5-bc373b33c879",
   "metadata": {},
   "outputs": [
    {
     "name": "stdout",
     "output_type": "stream",
     "text": [
      "Number Type: Positive\n"
     ]
    }
   ],
   "source": [
    "def check_number(num):\n",
    "    if num > 0:\n",
    "        return \"Positive\"\n",
    "    elif num < 0:\n",
    "        return \"Negative\"\n",
    "    else:\n",
    "        return \"Zero\"\n",
    "\n",
    "result = check_number(5)\n",
    "print(\"Number Type:\", result)\n"
   ]
  },
  {
   "cell_type": "code",
   "execution_count": 15,
   "id": "05caee49-21dc-473e-9b2e-50ea20fe833b",
   "metadata": {},
   "outputs": [
    {
     "name": "stdout",
     "output_type": "stream",
     "text": [
      "Age Type: Teenager\n"
     ]
    }
   ],
   "source": [
    "def check_teenager(age):\n",
    "    if age >= 13 and age <= 19:\n",
    "        return \"Teenager\"\n",
    "    else:\n",
    "        return \"Not a Teenager\"\n",
    "\n",
    "person_age = 16\n",
    "result = check_teenager(person_age)\n",
    "print(\"Age Type:\", result)\n"
   ]
  },
  {
   "cell_type": "code",
   "execution_count": 16,
   "id": "e2f19e40-b447-4ab4-b90d-b5c9118a1b2d",
   "metadata": {},
   "outputs": [
    {
     "name": "stdout",
     "output_type": "stream",
     "text": [
      "Angle Type: Obtuse Angle\n"
     ]
    }
   ],
   "source": [
    "def angle_type(angle):\n",
    "    if angle < 90:\n",
    "        return \"Acute Angle\"\n",
    "    elif angle == 90:\n",
    "        return \"Right Angle\"\n",
    "    else:\n",
    "        return \"Obtuse Angle\"\n",
    "\n",
    "angle_measure = 110\n",
    "result = angle_type(angle_measure)\n",
    "print(\"Angle Type:\", result)\n"
   ]
  },
  {
   "cell_type": "code",
   "execution_count": 17,
   "id": "8e754861-dc38-4c8e-b90f-8d35c60052af",
   "metadata": {},
   "outputs": [
    {
     "name": "stdout",
     "output_type": "stream",
     "text": [
      "Quadratic Roots: (2.0, 1.0)\n"
     ]
    }
   ],
   "source": [
    "import math\n",
    "\n",
    "def quadratic_roots(a, b, c):\n",
    "    discriminant = b**2 - 4*a*c\n",
    "    if discriminant > 0:\n",
    "        root1 = (-b + math.sqrt(discriminant)) / (2*a)\n",
    "        root2 = (-b - math.sqrt(discriminant)) / (2*a)\n",
    "        return root1, root2\n",
    "    elif discriminant == 0:\n",
    "        root = -b / (2*a)\n",
    "        return root, root\n",
    "    else:\n",
    "        return \"Complex Roots\"\n",
    "\n",
    "a_coefficient = 1\n",
    "b_coefficient = -3\n",
    "c_constant = 2\n",
    "roots = quadratic_roots(a_coefficient, b_coefficient, c_constant)\n",
    "print(\"Quadratic Roots:\", roots)\n"
   ]
  },
  {
   "cell_type": "code",
   "execution_count": 18,
   "id": "f0d27a9a-4c6b-4dca-8b8e-69700da10a8c",
   "metadata": {},
   "outputs": [
    {
     "name": "stdout",
     "output_type": "stream",
     "text": [
      "Day of the Week: Wednesday\n"
     ]
    }
   ],
   "source": [
    "def day_of_week(number):\n",
    "    days = [\"Monday\", \"Tuesday\", \"Wednesday\", \"Thursday\", \"Friday\", \"Saturday\", \"Sunday\"]\n",
    "    if number >= 1 and number <= 7:\n",
    "        return days[number-1]\n",
    "    else:\n",
    "        return \"Invalid Day\"\n",
    "\n",
    "day_number = 3\n",
    "result = day_of_week(day_number)\n",
    "print(\"Day of the Week:\", result)\n"
   ]
  },
  {
   "cell_type": "code",
   "execution_count": 19,
   "id": "a88d0d6e-f907-409f-8490-d2a4a42a28df",
   "metadata": {},
   "outputs": [
    {
     "name": "stdout",
     "output_type": "stream",
     "text": [
      "Year Type: Leap Year\n"
     ]
    }
   ],
   "source": [
    "def check_leap_year(year):\n",
    "    if (year % 4 == 0 and year % 100 != 0) or (year % 400 == 0):\n",
    "        return \"Leap Year\"\n",
    "    else:\n",
    "        return \"Not a Leap Year\"\n",
    "\n",
    "year = 2000\n",
    "result = check_leap_year(year)\n",
    "print(\"Year Type:\", result)\n"
   ]
  },
  {
   "cell_type": "code",
   "execution_count": 20,
   "id": "c009fcf7-7c04-4f03-b167-23a4807b61ae",
   "metadata": {},
   "outputs": [
    {
     "name": "stdout",
     "output_type": "stream",
     "text": [
      "Prime Status: Prime\n"
     ]
    }
   ],
   "source": [
    "def check_prime(number):\n",
    "    if number <= 1:\n",
    "        return \"Not Prime\"\n",
    "    elif number <= 3:\n",
    "        return \"Prime\"\n",
    "    elif number % 2 == 0 or number % 3 == 0:\n",
    "        return \"Not Prime\"\n",
    "    else:\n",
    "        i = 5\n",
    "        while i * i <= number:\n",
    "            if number % i == 0 or number % (i + 2) == 0:\n",
    "                return \"Not Prime\"\n",
    "            i += 6\n",
    "        return \"Prime\"\n",
    "\n",
    "num = 17\n",
    "result = check_prime(num)\n",
    "print(\"Prime Status:\", result)\n"
   ]
  },
  {
   "cell_type": "markdown",
   "id": "bddf8818-b37a-4cae-8d6b-fb8eb98c66fc",
   "metadata": {},
   "source": [
    "21. Write a Python program to assign grades based on different ranges of scores using elif statements.\n",
    "22. Implement a program to determine the type of a triangle based on its angles.\n",
    "23. Develop a program to categorize a given person's BMI into underweight, normal, overweight, or obese using\n",
    "elif statements.\n",
    "24. Create a program that determines whether a given number is positive, negative, or zero using elif\n",
    "statements.\n",
    "25. Write a Python script to determine the type of a character (uppercase, lowercase, or special) using elif\n",
    "statements.\n",
    "26. Implement a program to calculate the discounted price based on different purchase amounts using elif\n",
    "statements.\n",
    "27. Develop a program to calculate the electricity bill based on different consumption slabs using elif\n",
    "statements.\n",
    "28. Create a program to determine the type of quadrilateral based on its angles and sides using elif\n",
    "statements.\n",
    "29. Write a Python script to determine the season based on a user-provided month using elif statements.\n",
    "30. Implement a program to determine the type of a year (leap or common) and month (30 or 31 days) using\n",
    "elif statements."
   ]
  },
  {
   "cell_type": "code",
   "execution_count": 21,
   "id": "543eb8a9-987f-494e-916c-54329395bfbb",
   "metadata": {},
   "outputs": [
    {
     "name": "stdout",
     "output_type": "stream",
     "text": [
      "Grade: B\n"
     ]
    }
   ],
   "source": [
    "def assign_grade(score):\n",
    "    if score >= 90:\n",
    "        return \"A\"\n",
    "    elif score >= 80:\n",
    "        return \"B\"\n",
    "    elif score >= 70:\n",
    "        return \"C\"\n",
    "    elif score >= 60:\n",
    "        return \"D\"\n",
    "    else:\n",
    "        return \"F\"\n",
    "\n",
    "student_score = 85\n",
    "grade = assign_grade(student_score)\n",
    "print(\"Grade:\", grade)\n"
   ]
  },
  {
   "cell_type": "code",
   "execution_count": 22,
   "id": "17f94f6b-63f5-422f-8749-6d21fa0f0a0a",
   "metadata": {},
   "outputs": [
    {
     "name": "stdout",
     "output_type": "stream",
     "text": [
      "Triangle Type: Equilateral Triangle\n"
     ]
    }
   ],
   "source": [
    "def triangle_type(angle1, angle2, angle3):\n",
    "    if angle1 + angle2 + angle3 == 180:\n",
    "        if angle1 == angle2 == angle3:\n",
    "            return \"Equilateral Triangle\"\n",
    "        elif angle1 != angle2 != angle3:\n",
    "            return \"Scalene Triangle\"\n",
    "        else:\n",
    "            return \"Isosceles Triangle\"\n",
    "    else:\n",
    "        return \"Invalid Triangle\"\n",
    "\n",
    "angle_a = 60\n",
    "angle_b = 60\n",
    "angle_c = 60\n",
    "result = triangle_type(angle_a, angle_b, angle_c)\n",
    "print(\"Triangle Type:\", result)\n"
   ]
  },
  {
   "cell_type": "code",
   "execution_count": 23,
   "id": "2cbe3c6c-dbd0-42fb-97ac-3283aa12df04",
   "metadata": {},
   "outputs": [
    {
     "name": "stdout",
     "output_type": "stream",
     "text": [
      "BMI Category: Overweight\n"
     ]
    }
   ],
   "source": [
    "def bmi_category(bmi):\n",
    "    if bmi < 18.5:\n",
    "        return \"Underweight\"\n",
    "    elif bmi < 25:\n",
    "        return \"Normal\"\n",
    "    elif bmi < 30:\n",
    "        return \"Overweight\"\n",
    "    else:\n",
    "        return \"Obese\"\n",
    "\n",
    "person_bmi = 26.5\n",
    "category = bmi_category(person_bmi)\n",
    "print(\"BMI Category:\", category)\n"
   ]
  },
  {
   "cell_type": "code",
   "execution_count": 24,
   "id": "e03769fc-64aa-4210-a498-2bdced96eb52",
   "metadata": {},
   "outputs": [
    {
     "name": "stdout",
     "output_type": "stream",
     "text": [
      "Number Type: Negative\n"
     ]
    }
   ],
   "source": [
    "def check_number(num):\n",
    "    if num > 0:\n",
    "        return \"Positive\"\n",
    "    elif num < 0:\n",
    "        return \"Negative\"\n",
    "    else:\n",
    "        return \"Zero\"\n",
    "\n",
    "number = -5\n",
    "result = check_number(number)\n",
    "print(\"Number Type:\", result)\n"
   ]
  },
  {
   "cell_type": "code",
   "execution_count": 25,
   "id": "f7c1d8d7-a354-4eb1-9dcf-66fa17d86823",
   "metadata": {},
   "outputs": [
    {
     "name": "stdout",
     "output_type": "stream",
     "text": [
      "Character Type: Special Character\n"
     ]
    }
   ],
   "source": [
    "def char_type(char):\n",
    "    if char.isupper():\n",
    "        return \"Uppercase\"\n",
    "    elif char.islower():\n",
    "        return \"Lowercase\"\n",
    "    else:\n",
    "        return \"Special Character\"\n",
    "\n",
    "character = '!'\n",
    "char_category = char_type(character)\n",
    "print(\"Character Type:\", char_category)\n"
   ]
  },
  {
   "cell_type": "code",
   "execution_count": 26,
   "id": "9dc7f78f-34a6-4433-b123-30d22029bbd2",
   "metadata": {},
   "outputs": [
    {
     "name": "stdout",
     "output_type": "stream",
     "text": [
      "Discounted Price: 1080.0\n"
     ]
    }
   ],
   "source": [
    "def calculate_discount(price):\n",
    "    if price >= 1000:\n",
    "        discount = 0.1 * price\n",
    "    elif price >= 500:\n",
    "        discount = 0.05 * price\n",
    "    else:\n",
    "        discount = 0\n",
    "    return price - discount\n",
    "\n",
    "purchase_amount = 1200\n",
    "final_price = calculate_discount(purchase_amount)\n",
    "print(\"Discounted Price:\", final_price)\n"
   ]
  },
  {
   "cell_type": "code",
   "execution_count": 27,
   "id": "2b59f788-7bc2-4a80-998c-010035c71b9d",
   "metadata": {},
   "outputs": [
    {
     "name": "stdout",
     "output_type": "stream",
     "text": [
      "Electricity Bill: 450.0\n"
     ]
    }
   ],
   "source": [
    "def calculate_bill(units):\n",
    "    if units <= 100:\n",
    "        bill = units * 2.5\n",
    "    elif units <= 200:\n",
    "        bill = 100 * 2.5 + (units - 100) * 4\n",
    "    else:\n",
    "        bill = 100 * 2.5 + 100 * 4 + (units - 200) * 6\n",
    "    return bill\n",
    "\n",
    "consumed_units = 150\n",
    "total_bill = calculate_bill(consumed_units)\n",
    "print(\"Electricity Bill:\", total_bill)\n"
   ]
  },
  {
   "cell_type": "code",
   "execution_count": 28,
   "id": "c0893590-2751-4b20-8e03-c5197e4a8180",
   "metadata": {},
   "outputs": [
    {
     "name": "stdout",
     "output_type": "stream",
     "text": [
      "Quadrilateral Type: Square\n"
     ]
    }
   ],
   "source": [
    "def quadrilateral_type(side1, side2, side3, side4, angle1, angle2, angle3, angle4):\n",
    "    if side1 == side2 == side3 == side4:\n",
    "        return \"Square\"\n",
    "    elif side1 == side3 and side2 == side4:\n",
    "        if angle1 == angle2 == angle3 == angle4 == 90:\n",
    "            return \"Rectangle\"\n",
    "        else:\n",
    "            return \"Rhombus\"\n",
    "    else:\n",
    "        return \"Quadrilateral\"\n",
    "\n",
    "result = quadrilateral_type(5, 5, 5, 5, 90, 90, 90, 90)\n",
    "print(\"Quadrilateral Type:\", result)\n"
   ]
  },
  {
   "cell_type": "code",
   "execution_count": 29,
   "id": "5e62e47e-139d-46c2-8a0d-01abee036bdb",
   "metadata": {},
   "outputs": [
    {
     "name": "stdout",
     "output_type": "stream",
     "text": [
      "Season: Autumn\n"
     ]
    }
   ],
   "source": [
    "def get_season(month):\n",
    "    if month in [12, 1, 2]:\n",
    "        return \"Winter\"\n",
    "    elif month in [3, 4, 5]:\n",
    "        return \"Spring\"\n",
    "    elif month in [6, 7, 8]:\n",
    "        return \"Summer\"\n",
    "    elif month in [9, 10, 11]:\n",
    "        return \"Autumn\"\n",
    "    else:\n",
    "        return \"Invalid Month\"\n",
    "\n",
    "input_month = 9\n",
    "season = get_season(input_month)\n",
    "print(\"Season:\", season)\n"
   ]
  },
  {
   "cell_type": "code",
   "execution_count": 30,
   "id": "b74c9d83-c42d-48df-b709-35d98a49ceb2",
   "metadata": {},
   "outputs": [
    {
     "name": "stdout",
     "output_type": "stream",
     "text": [
      "Year Type: Leap Year\n",
      "Days in Month: 29\n"
     ]
    }
   ],
   "source": [
    "def check_year_month(year, month):\n",
    "    if (year % 4 == 0 and year % 100 != 0) or (year % 400 == 0):\n",
    "        year_type = \"Leap Year\"\n",
    "    else:\n",
    "        year_type = \"Common Year\"\n",
    "\n",
    "    if month in [1, 3, 5, 7, 8, 10, 12]:\n",
    "        days = 31\n",
    "    elif month in [4, 6, 9, 11]:\n",
    "        days = 30\n",
    "    else:\n",
    "        days = 28 if year_type == \"Common Year\" else 29\n",
    "\n",
    "    return year_type, days\n",
    "\n",
    "input_year = 2024\n",
    "input_month = 2\n",
    "year_category, days_in_month = check_year_month(input_year, input_month)\n",
    "print(\"Year Type:\", year_category)\n",
    "print(\"Days in Month:\", days_in_month)\n"
   ]
  },
  {
   "cell_type": "markdown",
   "id": "0f670e34-73bf-4744-8af5-0800cce38bfe",
   "metadata": {},
   "source": [
    "1. Write a Python program that checks if a given number is positive, negative, or zero.\n",
    "2. Create a program to determine if a person is eligible to vote based on their age.\n",
    "3. Write a program to find the maximum of two given numbers using conditional statements.\n",
    "4. Develop a program that calculates the grade of a student based on their exam score.\n",
    "5. Create a program that checks if a year is a leap year or not.\n",
    "6. Write a program to classify a triangle based on its sides' lengths.\n",
    "7. Build a program that determines the largest of three given numbers.\n",
    "8. Develop a program that checks whether a character is a vowel or a consonant.\n",
    "9. Create a program to calculate the total cost of a shopping cart based on discounts.\n",
    "10. Write a program that checks if a given number is even or odd."
   ]
  },
  {
   "cell_type": "code",
   "execution_count": 31,
   "id": "4b1084ff-21b6-4aff-9fe6-15de14d43614",
   "metadata": {},
   "outputs": [
    {
     "name": "stdin",
     "output_type": "stream",
     "text": [
      "Enter a number:  13\n"
     ]
    },
    {
     "name": "stdout",
     "output_type": "stream",
     "text": [
      "Number Type: Positive\n"
     ]
    }
   ],
   "source": [
    "def check_number(num):\n",
    "    if num > 0:\n",
    "        return \"Positive\"\n",
    "    elif num < 0:\n",
    "        return \"Negative\"\n",
    "    else:\n",
    "        return \"Zero\"\n",
    "\n",
    "number = float(input(\"Enter a number: \"))\n",
    "result = check_number(number)\n",
    "print(\"Number Type:\", result)\n"
   ]
  },
  {
   "cell_type": "code",
   "execution_count": 32,
   "id": "69a8ec83-2980-4c3f-9867-703c92fef86d",
   "metadata": {},
   "outputs": [
    {
     "name": "stdin",
     "output_type": "stream",
     "text": [
      "Enter your age:  19\n"
     ]
    },
    {
     "name": "stdout",
     "output_type": "stream",
     "text": [
      "Voting Status: Eligible to Vote\n"
     ]
    }
   ],
   "source": [
    "def check_voting_age(age):\n",
    "    if age >= 18:\n",
    "        return \"Eligible to Vote\"\n",
    "    else:\n",
    "        return \"Not Eligible to Vote\"\n",
    "\n",
    "person_age = int(input(\"Enter your age: \"))\n",
    "status = check_voting_age(person_age)\n",
    "print(\"Voting Status:\", status)\n"
   ]
  },
  {
   "cell_type": "code",
   "execution_count": 33,
   "id": "220be913-db29-4e88-b8fe-7c2880bb190e",
   "metadata": {},
   "outputs": [
    {
     "name": "stdin",
     "output_type": "stream",
     "text": [
      "Enter first number:  19\n",
      "Enter second number:  13\n"
     ]
    },
    {
     "name": "stdout",
     "output_type": "stream",
     "text": [
      "Maximum Number: 19.0\n"
     ]
    }
   ],
   "source": [
    "def find_max(num1, num2):\n",
    "    if num1 > num2:\n",
    "        return num1\n",
    "    else:\n",
    "        return num2\n",
    "\n",
    "number1 = float(input(\"Enter first number: \"))\n",
    "number2 = float(input(\"Enter second number: \"))\n",
    "maximum = find_max(number1, number2)\n",
    "print(\"Maximum Number:\", maximum)\n"
   ]
  },
  {
   "cell_type": "code",
   "execution_count": 34,
   "id": "82477683-bff3-4831-a737-cba2dee71887",
   "metadata": {},
   "outputs": [
    {
     "name": "stdin",
     "output_type": "stream",
     "text": [
      "Enter student's score:  100\n"
     ]
    },
    {
     "name": "stdout",
     "output_type": "stream",
     "text": [
      "Grade: A\n"
     ]
    }
   ],
   "source": [
    "def calculate_grade(score):\n",
    "    if score >= 90:\n",
    "        return \"A\"\n",
    "    elif score >= 80:\n",
    "        return \"B\"\n",
    "    elif score >= 70:\n",
    "        return \"C\"\n",
    "    elif score >= 60:\n",
    "        return \"D\"\n",
    "    else:\n",
    "        return \"F\"\n",
    "\n",
    "student_score = float(input(\"Enter student's score: \"))\n",
    "grade = calculate_grade(student_score)\n",
    "print(\"Grade:\", grade)\n"
   ]
  },
  {
   "cell_type": "code",
   "execution_count": 35,
   "id": "3c7063e6-b585-42f0-a939-d9921ca9e4b0",
   "metadata": {},
   "outputs": [
    {
     "name": "stdin",
     "output_type": "stream",
     "text": [
      "Enter a year:  2024\n"
     ]
    },
    {
     "name": "stdout",
     "output_type": "stream",
     "text": [
      "Leap Year Status: Leap Year\n"
     ]
    }
   ],
   "source": [
    "def check_leap_year(year):\n",
    "    if (year % 4 == 0 and year % 100 != 0) or (year % 400 == 0):\n",
    "        return \"Leap Year\"\n",
    "    else:\n",
    "        return \"Not a Leap Year\"\n",
    "\n",
    "input_year = int(input(\"Enter a year: \"))\n",
    "leap_status = check_leap_year(input_year)\n",
    "print(\"Leap Year Status:\", leap_status)\n"
   ]
  },
  {
   "cell_type": "code",
   "execution_count": 36,
   "id": "88614a48-4764-499c-be12-becf6c67fa18",
   "metadata": {},
   "outputs": [
    {
     "name": "stdin",
     "output_type": "stream",
     "text": [
      "Enter length of side A:  16\n",
      "Enter length of side B:  50\n",
      "Enter length of side C:  58\n"
     ]
    },
    {
     "name": "stdout",
     "output_type": "stream",
     "text": [
      "Triangle Type: Scalene Triangle\n"
     ]
    }
   ],
   "source": [
    "def triangle_type(side1, side2, side3):\n",
    "    if side1 == side2 == side3:\n",
    "        return \"Equilateral Triangle\"\n",
    "    elif side1 != side2 != side3:\n",
    "        return \"Scalene Triangle\"\n",
    "    else:\n",
    "        return \"Isosceles Triangle\"\n",
    "\n",
    "a = float(input(\"Enter length of side A: \"))\n",
    "b = float(input(\"Enter length of side B: \"))\n",
    "c = float(input(\"Enter length of side C: \"))\n",
    "triangle = triangle_type(a, b, c)\n",
    "print(\"Triangle Type:\", triangle)\n"
   ]
  },
  {
   "cell_type": "code",
   "execution_count": 37,
   "id": "4fdf84fd-21c6-4d65-8f86-1a8e458e8b39",
   "metadata": {},
   "outputs": [
    {
     "name": "stdin",
     "output_type": "stream",
     "text": [
      "Enter first number:  56\n",
      "Enter second number:  51\n",
      "Enter third number:  78\n"
     ]
    },
    {
     "name": "stdout",
     "output_type": "stream",
     "text": [
      "Largest Number: 78.0\n"
     ]
    }
   ],
   "source": [
    "def find_largest(num1, num2, num3):\n",
    "    if num1 >= num2 and num1 >= num3:\n",
    "        return num1\n",
    "    elif num2 >= num1 and num2 >= num3:\n",
    "        return num2\n",
    "    else:\n",
    "        return num3\n",
    "\n",
    "number1 = float(input(\"Enter first number: \"))\n",
    "number2 = float(input(\"Enter second number: \"))\n",
    "number3 = float(input(\"Enter third number: \"))\n",
    "largest = find_largest(number1, number2, number3)\n",
    "print(\"Largest Number:\", largest)\n"
   ]
  },
  {
   "cell_type": "code",
   "execution_count": 38,
   "id": "a176ade4-6d9e-498b-8084-263c355f8d6d",
   "metadata": {},
   "outputs": [
    {
     "name": "stdin",
     "output_type": "stream",
     "text": [
      "Enter a character:  lavanya\n"
     ]
    },
    {
     "name": "stdout",
     "output_type": "stream",
     "text": [
      "Character Type: Consonant\n"
     ]
    }
   ],
   "source": [
    "def check_character_type(char):\n",
    "    if char.isalpha():\n",
    "        if char.lower() in ['a', 'e', 'i', 'o', 'u']:\n",
    "            return \"Vowel\"\n",
    "        else:\n",
    "            return \"Consonant\"\n",
    "    else:\n",
    "        return \"Not a Letter\"\n",
    "\n",
    "character = input(\"Enter a character: \")\n",
    "char_type = check_character_type(character)\n",
    "print(\"Character Type:\", char_type)\n"
   ]
  },
  {
   "cell_type": "code",
   "execution_count": 39,
   "id": "527f3d38-aaf5-4058-990c-e5d79d5f7d2d",
   "metadata": {},
   "outputs": [
    {
     "name": "stdin",
     "output_type": "stream",
     "text": [
      "Enter item price:  100\n",
      "Enter item quantity:  2\n"
     ]
    },
    {
     "name": "stdout",
     "output_type": "stream",
     "text": [
      "Total Cost: 200.0\n"
     ]
    }
   ],
   "source": [
    "def calculate_total_cost(price, quantity):\n",
    "    if quantity >= 10:\n",
    "        discount = 0.1 * price * quantity\n",
    "    else:\n",
    "        discount = 0\n",
    "    return price * quantity - discount\n",
    "\n",
    "item_price = float(input(\"Enter item price: \"))\n",
    "item_quantity = int(input(\"Enter item quantity: \"))\n",
    "total_cost = calculate_total_cost(item_price, item_quantity)\n",
    "print(\"Total Cost:\", total_cost)\n"
   ]
  },
  {
   "cell_type": "code",
   "execution_count": 40,
   "id": "aa28e9e3-7266-44f9-ada0-aca919b5191d",
   "metadata": {},
   "outputs": [
    {
     "name": "stdin",
     "output_type": "stream",
     "text": [
      "Enter a number:  45\n"
     ]
    },
    {
     "name": "stdout",
     "output_type": "stream",
     "text": [
      "Number Type: Odd\n"
     ]
    }
   ],
   "source": [
    "def check_even_odd(num):\n",
    "    if num % 2 == 0:\n",
    "        return \"Even\"\n",
    "    else:\n",
    "        return \"Odd\"\n",
    "\n",
    "number = int(input(\"Enter a number: \"))\n",
    "result = check_even_odd(number)\n",
    "print(\"Number Type:\", result)\n"
   ]
  },
  {
   "cell_type": "markdown",
   "id": "4fc09c1c-0827-4a51-aec8-a9d261852a6d",
   "metadata": {},
   "source": [
    "11. Write a program that calculates the roots of a quadratic equation .\n",
    "12. Create a program that determines the day of the week based on the day number (1-7).\n",
    "13. Develop a program that calculates the factorial of a given number using recursion.\n",
    "14. Write a program to find the largest among three numbers without using the `max()` function.\n",
    "15. Create a program that simulates a basic ATM transaction menu.\n",
    "16. Build a program that checks if a given string is a palindrome or not.\n",
    "17. Write a program that calculates the average of a list of numbers, excluding the smallest and largest values.\n",
    "18. Develop a program that converts a given temperature from Celsius to Fahrenheit.\n",
    "19. Create a program that simulates a basic calculator for addition, subtraction, multiplication, and division.\n",
    "20. Write a program that determines the roots of a cubic equation using the Cardano formula."
   ]
  },
  {
   "cell_type": "code",
   "execution_count": 41,
   "id": "33d325d6-8820-4e48-9ffc-abb6ea8d30be",
   "metadata": {},
   "outputs": [
    {
     "name": "stdin",
     "output_type": "stream",
     "text": [
      "Enter coefficient a:  45\n",
      "Enter coefficient b:  45\n",
      "Enter coefficient c:  45\n"
     ]
    },
    {
     "name": "stdout",
     "output_type": "stream",
     "text": [
      "Roots: ('-0.5 + 0.8660254037844387i', '-0.5 - 0.8660254037844387i')\n"
     ]
    }
   ],
   "source": [
    "import math\n",
    "\n",
    "def quadratic_roots(a, b, c):\n",
    "    discriminant = b**2 - 4*a*c\n",
    "    if discriminant > 0:\n",
    "        root1 = (-b + math.sqrt(discriminant)) / (2*a)\n",
    "        root2 = (-b - math.sqrt(discriminant)) / (2*a)\n",
    "        return root1, root2\n",
    "    elif discriminant == 0:\n",
    "        root = -b / (2*a)\n",
    "        return root, root\n",
    "    else:\n",
    "        real_part = -b / (2*a)\n",
    "        imaginary_part = math.sqrt(abs(discriminant)) / (2*a)\n",
    "        return f\"{real_part} + {imaginary_part}i\", f\"{real_part} - {imaginary_part}i\"\n",
    "\n",
    "a = float(input(\"Enter coefficient a: \"))\n",
    "b = float(input(\"Enter coefficient b: \"))\n",
    "c = float(input(\"Enter coefficient c: \"))\n",
    "roots = quadratic_roots(a, b, c)\n",
    "print(\"Roots:\", roots)\n"
   ]
  },
  {
   "cell_type": "code",
   "execution_count": 42,
   "id": "201a9214-73e7-4812-9fe7-6ed374c1147c",
   "metadata": {},
   "outputs": [
    {
     "name": "stdin",
     "output_type": "stream",
     "text": [
      "Enter day number (1-7):  5\n"
     ]
    },
    {
     "name": "stdout",
     "output_type": "stream",
     "text": [
      "Day of the Week: Friday\n"
     ]
    }
   ],
   "source": [
    "def day_of_week(day_number):\n",
    "    days = [\"Monday\", \"Tuesday\", \"Wednesday\", \"Thursday\", \"Friday\", \"Saturday\", \"Sunday\"]\n",
    "    if 1 <= day_number <= 7:\n",
    "        return days[day_number - 1]\n",
    "    else:\n",
    "        return \"Invalid Day Number\"\n",
    "\n",
    "day_num = int(input(\"Enter day number (1-7): \"))\n",
    "day = day_of_week(day_num)\n",
    "print(\"Day of the Week:\", day)\n"
   ]
  },
  {
   "cell_type": "code",
   "execution_count": 43,
   "id": "e1f9c553-47f9-4d17-ae2f-af7d5400e91f",
   "metadata": {},
   "outputs": [
    {
     "name": "stdin",
     "output_type": "stream",
     "text": [
      "Enter a number:  485\n"
     ]
    },
    {
     "name": "stdout",
     "output_type": "stream",
     "text": [
      "Factorial: 49425938395896911464971977094913528360118823862112456967362016914907452083372100786643522596116183599525566181824243317224327841897209172946469264394066137988808596090671398455412443463548332825353051329756837450364865423098609046525801271832369233383167696643926591777101015846199112025381419727759359828849328532747330864134227027973930544194921608501517797773964485399829622822962822026587945255772603474546393701028683854760989120238000580671504597230922420467329944009602502151706706111402184217477314982571540693972662290813957050543539109221834408319525490924138386530148011645004771562616681252799079960523096449667729231161586754970829295139973189925335159399829626095120409686690838166390015953994575174136063355506394163644518214983600101070047217890593279343004362534028615495675502772898328979786646334551737264442318832561940358935236243383287514611094510676475211314051577839822379286744368992819737650553962087436115991273648357474200317041477888045916513894400000000000000000000000000000000000000000000000000000000000000000000000000000000000000000000000000000000000000000000000\n"
     ]
    }
   ],
   "source": [
    "def factorial(n):\n",
    "    if n == 0 or n == 1:\n",
    "        return 1\n",
    "    else:\n",
    "        return n * factorial(n-1)\n",
    "\n",
    "number = int(input(\"Enter a number: \"))\n",
    "result = factorial(number)\n",
    "print(\"Factorial:\", result)\n"
   ]
  },
  {
   "cell_type": "code",
   "execution_count": 44,
   "id": "8f150764-bf9e-4ecc-88b2-3ada714d43ee",
   "metadata": {},
   "outputs": [
    {
     "name": "stdin",
     "output_type": "stream",
     "text": [
      "Enter first number:  45\n",
      "Enter second number:  45\n",
      "Enter third number:  45\n"
     ]
    },
    {
     "name": "stdout",
     "output_type": "stream",
     "text": [
      "Largest Number: 45.0\n"
     ]
    }
   ],
   "source": [
    "def find_largest(num1, num2, num3):\n",
    "    largest = num1\n",
    "    if num2 > largest:\n",
    "        largest = num2\n",
    "    if num3 > largest:\n",
    "        largest = num3\n",
    "    return largest\n",
    "\n",
    "number1 = float(input(\"Enter first number: \"))\n",
    "number2 = float(input(\"Enter second number: \"))\n",
    "number3 = float(input(\"Enter third number: \"))\n",
    "largest_num = find_largest(number1, number2, number3)\n",
    "print(\"Largest Number:\", largest_num)\n"
   ]
  },
  {
   "cell_type": "code",
   "execution_count": null,
   "id": "24016c9b-3e4b-4ce8-a3ef-668de6ac9640",
   "metadata": {},
   "outputs": [],
   "source": [
    "def is_palindrome(string):\n",
    "    cleaned_string = string.replace(\" \", \"\").lower()\n",
    "    return cleaned_string == cleaned_string[::-1]\n",
    "\n",
    "input_string = input(\"Enter a string: \")\n",
    "if is_palindrome(input_string):\n",
    "    print(\"Palindrome\")\n",
    "else:\n",
    "    print(\"Not a Palindrome\")\n"
   ]
  },
  {
   "cell_type": "code",
   "execution_count": null,
   "id": "953b5f86-8fe4-43ca-9cbc-d40689fcd846",
   "metadata": {},
   "outputs": [],
   "source": [
    "def average_without_extremes(numbers):\n",
    "    if len(numbers) < 3:\n",
    "        return \"Insufficient Data\"\n",
    "    else:\n",
    "        sorted_numbers = sorted(numbers)\n",
    "        return sum(sorted_numbers[1:-1]) / (len(sorted_numbers) - 2)\n",
    "\n",
    "num_list = [float(x) for x in input(\"Enter numbers separated by space: \").split()]\n",
    "average = average_without_extremes(num_list)\n",
    "print(\"Average (Excluding Smallest and Largest):\", average)\n"
   ]
  },
  {
   "cell_type": "code",
   "execution_count": null,
   "id": "7bf547e4-c712-4b78-adcf-c07af07e7bd9",
   "metadata": {},
   "outputs": [],
   "source": [
    "def celsius_to_fahrenheit(celsius):\n",
    "    return (celsius * 9/5) + 32\n",
    "\n",
    "temp_celsius = float(input(\"Enter temperature in Celsius: \"))\n",
    "temp_fahrenheit = celsius_to_fahrenheit(temp_celsius)\n",
    "print(\"Temperature in Fahrenheit:\", temp_fahrenheit)\n"
   ]
  },
  {
   "cell_type": "code",
   "execution_count": null,
   "id": "d36b423c-17b4-40ef-ae13-276e0227a1d7",
   "metadata": {},
   "outputs": [],
   "source": [
    "def calculator():\n",
    "    print(\"1. Addition\")\n",
    "    print(\"2. Subtraction\")\n",
    "    print(\"3. Multiplication\")\n",
    "    print(\"4. Division\")\n",
    "\n",
    "calculator()\n",
    "operation = input(\"Enter operation number (1-4): \")\n",
    "num1 = float(input(\"Enter first number: \"))\n",
    "num2 = float(input(\"Enter second number: \"))\n",
    "\n",
    "if operation == \"1\":\n",
    "    result = num1 + num2\n",
    "elif operation == \"2\":\n",
    "    result = num1 - num2\n",
    "elif operation == \"3\":\n",
    "    result = num1 * num2\n",
    "elif operation == \"4\":\n",
    "    if num2 != 0:\n",
    "        result = num1 / num2\n",
    "    else:\n",
    "        result = \"Division by zero not allowed\"\n",
    "else:\n",
    "    result = \"Invalid Operation\"\n",
    "\n",
    "print(\"Result:\", result)\n"
   ]
  },
  {
   "cell_type": "markdown",
   "id": "3e27607c-bb4f-4f67-a4fc-9de27e1f9943",
   "metadata": {},
   "source": [
    "21. Create a program that calculates the income tax based on the user's income and tax brackets.\n",
    "22. Write a program that simulates a rock-paper-scissors game against the computer.\n",
    "23. Develop a program that generates a random password based on user preferences (length, complexity).\n",
    "24. Create a program that implements a simple text-based adventure game with branching scenarios.\n",
    "25. Build a program that solves a linear equation for x, considering different cases.\n",
    "26. Write a program that simulates a basic quiz game with multiple-choice questions and scoring.\n",
    "27. Develop a program that determines whether a given year is a prime number or not.\n",
    "28. Create a program that sorts three numbers in ascending order using conditional statements.\n",
    "29. Build a program that determines the roots of a quartic equation using numerical methods.\n",
    "30. Write a program that calculates the BMI (Body Mass Index) and provides health recommendations based\n",
    "on the user's input."
   ]
  },
  {
   "cell_type": "code",
   "execution_count": null,
   "id": "613afff1-8cf9-41d5-81ab-290c55013164",
   "metadata": {},
   "outputs": [],
   "source": [
    "def calculate_income_tax(income):\n",
    "    if income <= 0:\n",
    "        return \"Invalid Income\"\n",
    "    elif income <= 18200:\n",
    "        tax = 0\n",
    "    elif income <= 45000:\n",
    "        tax = (income - 18200) * 0.19\n",
    "    elif income <= 120000:\n",
    "        tax = 5092 + (income - 45000) * 0.32\n",
    "    else:\n",
    "        tax = 29467 + (income - 120000) * 0.37\n",
    "    return tax\n",
    "\n",
    "income_amount = float(input(\"Enter your annual income: \"))\n",
    "income_tax = calculate_income_tax(income_amount)\n",
    "print(\"Income Tax:\", income_tax)\n"
   ]
  },
  {
   "cell_type": "code",
   "execution_count": null,
   "id": "e784f699-8a0f-400f-a861-dbb8559515ec",
   "metadata": {},
   "outputs": [],
   "source": [
    "import random\n",
    "\n",
    "def play_game(player_choice, computer_choice):\n",
    "    if player_choice == computer_choice:\n",
    "        return \"It's a tie!\"\n",
    "    elif (player_choice == \"rock\" and computer_choice == \"scissors\") or \\\n",
    "         (player_choice == \"paper\" and computer_choice == \"rock\") or \\\n",
    "         (player_choice == \"scissors\" and computer_choice == \"paper\"):\n",
    "        return \"You win!\"\n",
    "    else:\n",
    "        return \"Computer wins!\"\n",
    "\n",
    "choices = [\"rock\", \"paper\", \"scissors\"]\n",
    "computer_choice = random.choice(choices)\n",
    "player_choice = input(\"Enter your choice (rock, paper, scissors): \").lower()\n",
    "result = play_game(player_choice, computer_choice)\n",
    "print(f\"Computer's choice: {computer_choice}\")\n",
    "print(result)\n"
   ]
  },
  {
   "cell_type": "code",
   "execution_count": null,
   "id": "63345b3d-46f5-40e9-9f95-94b7d8525857",
   "metadata": {},
   "outputs": [],
   "source": [
    "import string\n",
    "import random\n",
    "\n",
    "def generate_password(length, complexity):\n",
    "    if complexity == \"low\":\n",
    "        characters = string.ascii_letters + string.digits\n",
    "    elif complexity == \"medium\":\n",
    "        characters = string.ascii_letters + string.digits + string.punctuation\n",
    "    else:\n",
    "        characters = string.ascii_letters + string.digits + string.punctuation + string.whitespace\n",
    "    password = ''.join(random.choice(characters) for _ in range(length))\n",
    "    return password\n",
    "\n",
    "password_length = int(input(\"Enter password length: \"))\n",
    "password_complexity = input(\"Enter password complexity (low, medium, high): \").lower()\n",
    "password = generate_password(password_length, password_complexity)\n",
    "print(\"Generated Password:\", password)\n"
   ]
  },
  {
   "cell_type": "code",
   "execution_count": null,
   "id": "341031c5-53c5-4c02-8517-bf105761d696",
   "metadata": {},
   "outputs": [],
   "source": [
    "def adventure_game():\n",
    "    print(\"Welcome to the Adventure Game!\")\n",
    "    print(\"You are in a dark forest.\")\n",
    "    choice = input(\"Do you go left or right? \").lower()\n",
    "    if choice == \"left\":\n",
    "        print(\"You encounter a bear. Run or fight?\")\n",
    "        action = input(\"Run or fight? \").lower()\n",
    "        if action == \"run\":\n",
    "            print(\"You escaped!\")\n",
    "        else:\n",
    "            print(\"The bear defeated you. Game Over!\")\n",
    "    elif choice == \"right\":\n",
    "        print(\"You find a treasure chest. Open it or leave?\")\n",
    "        action = input(\"Open or leave? \").lower()\n",
    "        if action == \"open\":\n",
    "            print(\"You found a treasure! Congratulations!\")\n",
    "        else:\n",
    "            print(\"You missed out on a treasure.\")\n",
    "    else:\n",
    "        print(\"Invalid choice. Game Over!\")\n",
    "\n",
    "adventure_game()\n"
   ]
  },
  {
   "cell_type": "code",
   "execution_count": null,
   "id": "1d10b494-813a-47ec-878d-1ea1edcb15d9",
   "metadata": {},
   "outputs": [],
   "source": [
    "def solve_linear_equation(a, b):\n",
    "    if a == 0:\n",
    "        if b == 0:\n",
    "            return \"Infinite solutions (Identity Equation)\"\n",
    "        else:\n",
    "            return \"No solution (Impossible Equation)\"\n",
    "    else:\n",
    "        x = -b / a\n",
    "        return x\n",
    "\n",
    "coeff_a = float(input(\"Enter coefficient a: \"))\n",
    "coeff_b = float(input(\"Enter coefficient b: \"))\n",
    "solution = solve_linear_equation(coeff_a, coeff_b)\n",
    "print(\"Solution for x:\", solution)\n"
   ]
  },
  {
   "cell_type": "code",
   "execution_count": null,
   "id": "f0a84d4a-cb0e-4359-be6c-1fd031b8f5a4",
   "metadata": {},
   "outputs": [],
   "source": [
    "def quiz_game(questions, answers):\n",
    "    score = 0\n",
    "    for i, question in enumerate(questions):\n",
    "        print(f\"Question {i+1}: {question}\")\n",
    "        user_answer = input(\"Your answer: \").lower()\n",
    "        if user_answer == answers[i]:\n",
    "            score += 1\n",
    "            print(\"Correct!\")\n",
    "        else:\n",
    "            print(\"Incorrect!\")\n",
    "    return score\n",
    "\n",
    "questions_list = [\"What is the capital of France?\", \"What is 2 + 2?\", \"Who wrote Hamlet?\"]\n",
    "answers_list = [\"paris\", \"4\", \"shakespeare\"]\n",
    "total_score = quiz_game(questions_list, answers_list)\n",
    "print(\"Total Score:\", total_score)\n"
   ]
  },
  {
   "cell_type": "code",
   "execution_count": null,
   "id": "a2b12d99-09d5-4aa7-9552-6edc79c316d0",
   "metadata": {},
   "outputs": [],
   "source": [
    "def is_prime(year):\n",
    "    if year <= 1:\n",
    "        return False\n",
    "    for i in range(2, int(year**0.5) + 1):\n",
    "        if year % i == 0:\n",
    "            return False\n",
    "    return True\n",
    "\n",
    "input_year = int(input(\"Enter a year to check if it's prime: \"))\n",
    "if is_prime(input_year):\n",
    "    print(f\"{input_year} is a prime year.\")\n",
    "else:\n",
    "    print(f\"{input_year} is not a prime year.\")\n"
   ]
  },
  {
   "cell_type": "code",
   "execution_count": null,
   "id": "76768edd-27ec-413c-8179-3b2ae79f1990",
   "metadata": {},
   "outputs": [],
   "source": [
    "def sort_numbers(a, b, c):\n",
    "    if a <= b <= c:\n",
    "        return a, b, c\n",
    "    elif a <= c <= b:\n",
    "        return a, c, b\n",
    "    elif b <= a <= c:\n",
    "        return b, a, c\n",
    "    elif b <= c <= a:\n",
    "        return b, c, a\n",
    "    elif c <= a <= b:\n",
    "        return c, a, b\n",
    "    else:\n",
    "        return c, b, a\n",
    "\n",
    "num1 = float(input(\"Enter first number: \"))\n",
    "num2 = float(input(\"Enter second number: \"))\n",
    "num3 = float(input(\"Enter third number: \"))\n",
    "sorted_numbers = sort_numbers(num1, num2, num3)\n",
    "print(\"Sorted Numbers:\", sorted_numbers)\n"
   ]
  },
  {
   "cell_type": "code",
   "execution_count": null,
   "id": "87226f4f-3f59-4aa2-91e4-f1e8126b5d08",
   "metadata": {},
   "outputs": [],
   "source": [
    "def calculate_bmi(weight, height):\n",
    "    bmi = weight / (height ** 2)\n",
    "    return bmi\n",
    "\n",
    "def bmi_recommendations(bmi):\n",
    "    if bmi < 18.5:\n",
    "        return \"Underweight - You may need to gain weight.\"\n",
    "    elif 18.5 <= bmi < 24.9:\n",
    "        return \"Normal Weight - Maintain a healthy lifestyle.\"\n",
    "    elif 25.0 <= bmi < 29.9:\n",
    "        return \"Overweight - Consider weight loss strategies.\"\n",
    "    else:\n",
    "        return \"Obese - Consult a healthcare professional.\"\n",
    "\n",
    "weight_input = float(input(\"Enter your weight in kilograms: \"))\n",
    "height_input = float(input(\"Enter your height in meters: \"))\n",
    "user_bmi = calculate_bmi(weight_input, height_input)\n",
    "recommendations = bmi_recommendations(user_bmi)\n",
    "print(f\"Your BMI is {user_bmi:.2f}. {recommendations}\")\n"
   ]
  },
  {
   "cell_type": "markdown",
   "id": "76ad08e8-a6a2-40fb-af64-06f7dfac0738",
   "metadata": {},
   "source": [
    "31. Create a program that validates a password based on complexity rules (length, characters, etc.).\n",
    "32. Develop a program that performs matrix addition and subtraction based on user input.\n",
    "33. Write a program that calculates the greatest common divisor (GCD) of two numbers using the Euclidean\n",
    "algorithm.\n",
    "34. Build a program that performs matrix multiplication using nested loops and conditional statements.\n",
    "35. Create a program that simulates a basic text-based tic-tac-toe game against the computer.\n",
    "36. Write a program that generates Fibonacci numbers up to a specified term using iterative methods.\n",
    "37. Develop a program that calculates the nth term of the Fibonacci sequence using memoization.\n",
    "38. Create a program that generates a calendar for a given month and year using conditional statements.\n",
    "39. Build a program that simulates a basic text-based blackjack game against the computer.\n",
    "40. Write a program that generates the prime factors of a given number using trial division."
   ]
  },
  {
   "cell_type": "code",
   "execution_count": null,
   "id": "d2733808-2981-43b4-a310-14d3ee13efd8",
   "metadata": {},
   "outputs": [],
   "source": [
    "def validate_password(password):\n",
    "    if len(password) < 8:\n",
    "        return \"Password should be at least 8 characters long.\"\n",
    "    if not any(char.isdigit() for char in password):\n",
    "        return \"Password should contain at least one digit.\"\n",
    "    if not any(char.isalpha() for char in password):\n",
    "        return \"Password should contain at least one letter.\"\n",
    "    return \"Password is valid.\"\n",
    "\n",
    "user_password = input(\"Enter your password: \")\n",
    "validation_result = validate_password(user_password)\n",
    "print(validation_result)\n"
   ]
  },
  {
   "cell_type": "code",
   "execution_count": null,
   "id": "8652ca8f-bfd8-425b-bd21-4c3f6cdf6e30",
   "metadata": {},
   "outputs": [],
   "source": [
    "def matrix_addition(matrix1, matrix2):\n",
    "    result = [[matrix1[i][j] + matrix2[i][j] for j in range(len(matrix1[0]))] for i in range(len(matrix1))]\n",
    "    return result\n",
    "\n",
    "def matrix_subtraction(matrix1, matrix2):\n",
    "    result = [[matrix1[i][j] - matrix2[i][j] for j in range(len(matrix1[0]))] for i in range(len(matrix1))]\n",
    "    return result\n",
    "\n",
    "matrix1 = [[1, 2], [3, 4]]\n",
    "matrix2 = [[5, 6], [7, 8]]\n",
    "print(\"Matrix Addition:\", matrix_addition(matrix1, matrix2))\n",
    "print(\"Matrix Subtraction:\", matrix_subtraction(matrix1, matrix2))\n"
   ]
  },
  {
   "cell_type": "code",
   "execution_count": null,
   "id": "6438ef28-7dc8-42b2-ab8a-b15a7753e272",
   "metadata": {},
   "outputs": [],
   "source": [
    "def gcd_euclidean(a, b):\n",
    "    while b:\n",
    "        a, b = b, a % b\n",
    "    return a\n",
    "\n",
    "num1 = int(input(\"Enter the first number: \"))\n",
    "num2 = int(input(\"Enter the second number: \"))\n",
    "gcd_result = gcd_euclidean(num1, num2)\n",
    "print(\"Greatest Common Divisor (GCD):\", gcd_result)\n"
   ]
  },
  {
   "cell_type": "code",
   "execution_count": null,
   "id": "2e45bc54-d59a-46cc-959d-b894de8a5e03",
   "metadata": {},
   "outputs": [],
   "source": [
    "def matrix_multiplication(matrix1, matrix2):\n",
    "    result = [[sum(matrix1[i][k] * matrix2[k][j] for k in range(len(matrix2))) for j in range(len(matrix2[0]))] for i in range(len(matrix1))]\n",
    "    return result\n",
    "\n",
    "matrix1 = [[1, 2], [3, 4]]\n",
    "matrix2 = [[5, 6], [7, 8]]\n",
    "print(\"Matrix Multiplication:\", matrix_multiplication(matrix1, matrix2))\n"
   ]
  },
  {
   "cell_type": "code",
   "execution_count": null,
   "id": "53c80e58-5468-4c7a-9c6d-cc32f6cf2f27",
   "metadata": {},
   "outputs": [],
   "source": [
    "import random\n",
    "\n",
    "def print_board(board):\n",
    "    for row in board:\n",
    "        print(\" | \".join(row))\n",
    "        print(\"-\" * 9)\n",
    "\n",
    "def check_winner(board):\n",
    "    for row in board:\n",
    "        if row.count(row[0]) == 3 and row[0] != \" \":\n",
    "            return True\n",
    "    for col in range(3):\n",
    "        if board[0][col] == board[1][col] == board[2][col] != \" \":\n",
    "            return True\n",
    "    if board[0][0] == board[1][1] == board[2][2] != \" \" or board[0][2] == board[1][1] == board[2][0] != \" \":\n",
    "        return True\n",
    "    return False\n",
    "\n",
    "def tic_tac_toe():\n",
    "    board = [[\" \" for _ in range(3)] for _ in range(3)]\n",
    "    print_board(board)\n",
    "    player = \"X\"\n",
    "    while True:\n",
    "        row = int(input(\"Enter row number (0-2): \"))\n",
    "        col = int(input(\"Enter column number (0-2): \"))\n",
    "        if board[row][col] == \" \":\n",
    "            board[row][col] = player\n",
    "            print_board(board)\n",
    "            if check_winner(board):\n",
    "                print(f\"{player} wins!\")\n",
    "                break\n",
    "            player = \"O\" if player == \"X\" else \"X\"\n",
    "        else:\n",
    "            print(\"Invalid move. Try again.\")\n",
    "\n",
    "tic_tac_toe()\n"
   ]
  },
  {
   "cell_type": "code",
   "execution_count": null,
   "id": "1f1c7fea-e3b5-4a04-b3be-eaba691f3ca5",
   "metadata": {},
   "outputs": [],
   "source": [
    "def generate_fibonacci(n):\n",
    "    fib_list = [0, 1]\n",
    "    while len(fib_list) < n:\n",
    "        fib_list.append(fib_list[-1] + fib_list[-2])\n",
    "    return fib_list[:n]\n",
    "\n",
    "terms = int(input(\"Enter the number of Fibonacci terms to generate: \"))\n",
    "fibonacci_sequence = generate_fibonacci(terms)\n",
    "print(\"Fibonacci Sequence:\", fibonacci_sequence)\n"
   ]
  },
  {
   "cell_type": "code",
   "execution_count": null,
   "id": "a4df3fe0-81e8-4e5e-a3f4-b70a485b9ada",
   "metadata": {},
   "outputs": [],
   "source": [
    "def fibonacci_memoization(n, memo={}):\n",
    "    if n in memo:\n",
    "        return memo[n]\n",
    "    if n <= 1:\n",
    "        return n\n",
    "    memo[n] = fibonacci_memoization(n - 1, memo) + fibonacci_memoization(n - 2, memo)\n",
    "    return memo[n]\n",
    "\n",
    "term = int(input(\"Enter the term of the Fibonacci sequence to calculate: \"))\n",
    "fibonacci_term = fibonacci_memoization(term)\n",
    "print(f\"The {term}th Fibonacci term is:\", fibonacci_term)\n"
   ]
  },
  {
   "cell_type": "code",
   "execution_count": null,
   "id": "64f24bbe-64fc-494f-8965-28a6f6d2eb45",
   "metadata": {},
   "outputs": [],
   "source": [
    "import calendar\n",
    "\n",
    "month = int(input(\"Enter the month (1-12): \"))\n",
    "year = int(input(\"Enter the year: \"))\n",
    "print(calendar.month(year, month))\n"
   ]
  },
  {
   "cell_type": "code",
   "execution_count": null,
   "id": "f11d3cb3-bd10-4d31-b4c2-4f75a7d5dc6f",
   "metadata": {},
   "outputs": [],
   "source": [
    "import random\n",
    "\n",
    "def deal_card():\n",
    "    cards = [2, 3, 4, 5, 6, 7, 8, 9, 10, 10, 10, 10, 11]  # Cards with values from 2 to 11 (Ace)\n",
    "    return random.choice(cards)\n",
    "\n",
    "def calculate_score(cards):\n",
    "    if sum(cards) == 21 and len(cards) == 2:\n",
    "        return 0  # Blackjack\n",
    "    if 11 in cards and sum(cards) > 21:\n",
    "        cards.remove(11)\n",
    "        cards.append(1)  # Ace value adjustment\n",
    "    return sum(cards)\n",
    "\n",
    "def play_blackjack():\n",
    "    user_cards = [deal_card(), deal_card()]\n",
    "    computer_cards = [deal_card(), deal_card()]\n",
    "\n",
    "    while True:\n",
    "        user_score = calculate_score(user_cards)\n",
    "        computer_score = calculate_score(computer_cards)\n",
    "        print(f\"Your cards: {user_cards}, current score: {user_score}\")\n",
    "        print(f\"Computer's first card: {computer_cards[0]}\")\n",
    "\n",
    "        if user_score == 0 or computer_score == 0 or user_score > 21:\n",
    "            break\n",
    "\n",
    "        user_decision = input(\"Type 'hit' to get another card, or 'stand' to pass: \")\n",
    "        if user_decision == \"hit\":\n",
    "            user_cards.append(deal_card())\n",
    "        else:\n",
    "            break\n",
    "\n",
    "    while computer_score != 0 and computer_score < 17:\n",
    "        computer_cards.append(deal_card())\n",
    "        computer_score = calculate_score(computer_cards)\n",
    "\n",
    "    print(f\"Your final hand: {user_cards}, final score: {user_score}\")\n",
    "    print(f\"Computer's final hand: {computer_cards}, final score: {computer_score}\")\n",
    "\n",
    "    if user_score > 21:\n",
    "        return \"You went over. You lose.\"\n",
    "    elif computer_score > 21 or user_score > computer_score:\n",
    "        return \"You win!\"\n",
    "    elif user_score < computer_score:\n",
    "        return \"You lose.\"\n",
    "    else:\n",
    "        return \"It's a draw.\"\n",
    "\n",
    "print(play_blackjack())\n"
   ]
  },
  {
   "cell_type": "code",
   "execution_count": null,
   "id": "0da79438-ca11-445d-91f4-cc2c189d25fa",
   "metadata": {},
   "outputs": [],
   "source": [
    "def prime_factors(n):\n",
    "    factors = []\n",
    "    divisor = 2\n",
    "    while n > 1:\n",
    "        if n % divisor == 0:\n",
    "            factors.append(divisor)\n",
    "            n //= divisor\n",
    "        else:\n",
    "            divisor += 1\n",
    "    return factors\n",
    "\n",
    "number = int(input(\"Enter a number to find its prime factors: \"))\n",
    "factors_list = prime_factors(number)\n",
    "print(\"Prime Factors:\", factors_list)\n"
   ]
  }
 ],
 "metadata": {
  "kernelspec": {
   "display_name": "Python 3 (ipykernel)",
   "language": "python",
   "name": "python3"
  },
  "language_info": {
   "codemirror_mode": {
    "name": "ipython",
    "version": 3
   },
   "file_extension": ".py",
   "mimetype": "text/x-python",
   "name": "python",
   "nbconvert_exporter": "python",
   "pygments_lexer": "ipython3",
   "version": "3.10.8"
  }
 },
 "nbformat": 4,
 "nbformat_minor": 5
}
