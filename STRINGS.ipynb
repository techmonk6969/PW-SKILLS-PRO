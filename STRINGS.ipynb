{
 "cells": [
  {
   "cell_type": "markdown",
   "id": "a3ea3f0d-6138-44e5-9bdb-1025c88b9e72",
   "metadata": {},
   "source": [
    "1. Write a program to reverse a string."
   ]
  },
  {
   "cell_type": "code",
   "execution_count": 1,
   "id": "6a8e8cd3-4bc6-445a-b97c-ec8bce79d581",
   "metadata": {},
   "outputs": [
    {
     "name": "stdout",
     "output_type": "stream",
     "text": [
      "Original string: Hello, World!\n",
      "Reversed string: !dlroW ,olleH\n"
     ]
    }
   ],
   "source": [
    "def reverse_string(input_str):\n",
    "    # Using string slicing with a step of -1 to reverse the string\n",
    "    reversed_str = input_str[::-1]\n",
    "    return reversed_str\n",
    "\n",
    "# Example usage\n",
    "input_string = \"Hello, World!\"\n",
    "reversed_string = reverse_string(input_string)\n",
    "print(\"Original string:\", input_string)\n",
    "print(\"Reversed string:\", reversed_string)\n"
   ]
  },
  {
   "cell_type": "markdown",
   "id": "db57b2dd-95e6-4830-88f8-039bd0c3d9a4",
   "metadata": {},
   "source": [
    "2. Check if a string is a palindrome."
   ]
  },
  {
   "cell_type": "code",
   "execution_count": 2,
   "id": "e3cb45ec-4c4a-4214-86ab-d59a272195f7",
   "metadata": {},
   "outputs": [
    {
     "name": "stdout",
     "output_type": "stream",
     "text": [
      "\"Able was I ere I saw Elba\" is a palindrome.\n"
     ]
    }
   ],
   "source": [
    "def is_palindrome(input_str):\n",
    "    # Remove spaces and convert to lowercase for case-insensitive comparison\n",
    "    input_str = input_str.replace(\" \", \"\").lower()\n",
    "    # Check if the string is equal to its reverse\n",
    "    return input_str == input_str[::-1]\n",
    "\n",
    "# Example usage\n",
    "input_string = \"Able was I ere I saw Elba\"  # Palindrome example\n",
    "if is_palindrome(input_string):\n",
    "    print(f'\"{input_string}\" is a palindrome.')\n",
    "else:\n",
    "    print(f'\"{input_string}\" is not a palindrome.')\n"
   ]
  },
  {
   "cell_type": "markdown",
   "id": "d34e251e-bfea-434d-b7ef-8ed77db9c24f",
   "metadata": {},
   "source": [
    "3. Convert a string to uppercase."
   ]
  },
  {
   "cell_type": "code",
   "execution_count": 3,
   "id": "b47db4b3-938b-456e-90d0-8fd4f74cd068",
   "metadata": {},
   "outputs": [
    {
     "name": "stdout",
     "output_type": "stream",
     "text": [
      "Original string: Hello, World!\n",
      "Uppercase string: HELLO, WORLD!\n"
     ]
    }
   ],
   "source": [
    "def convert_to_uppercase(input_str):\n",
    "    return input_str.upper()\n",
    "\n",
    "# Example usage\n",
    "input_string = \"Hello, World!\"\n",
    "uppercase_string = convert_to_uppercase(input_string)\n",
    "print(\"Original string:\", input_string)\n",
    "print(\"Uppercase string:\", uppercase_string)\n"
   ]
  },
  {
   "cell_type": "markdown",
   "id": "f9f06647-f1af-4cd6-ba52-443d2168e652",
   "metadata": {},
   "source": [
    "4. Convert a string to lowercase."
   ]
  },
  {
   "cell_type": "code",
   "execution_count": 4,
   "id": "2c27458b-c352-4a94-8170-e8b805d09998",
   "metadata": {},
   "outputs": [
    {
     "name": "stdout",
     "output_type": "stream",
     "text": [
      "Original string: Hello, World!\n",
      "Lowercase string: hello, world!\n"
     ]
    }
   ],
   "source": [
    "def convert_to_lowercase(input_str):\n",
    "    return input_str.lower()\n",
    "\n",
    "# Example usage\n",
    "input_string = \"Hello, World!\"\n",
    "lowercase_string = convert_to_lowercase(input_string)\n",
    "print(\"Original string:\", input_string)\n",
    "print(\"Lowercase string:\", lowercase_string)\n"
   ]
  },
  {
   "cell_type": "markdown",
   "id": "55940281-8bdf-4455-a078-745ac1710200",
   "metadata": {},
   "source": [
    "5. Count the number of vowels in a string."
   ]
  },
  {
   "cell_type": "code",
   "execution_count": 5,
   "id": "9ef2c6b4-f528-4b5a-b2ba-10b7b559bd3c",
   "metadata": {},
   "outputs": [
    {
     "name": "stdout",
     "output_type": "stream",
     "text": [
      "Number of vowels in the string: 3\n"
     ]
    }
   ],
   "source": [
    "def count_vowels(input_str):\n",
    "    vowels = \"aeiouAEIOU\"\n",
    "    count = 0\n",
    "    for char in input_str:\n",
    "        if char in vowels:\n",
    "            count += 1\n",
    "    return count\n",
    "\n",
    "# Example usage\n",
    "input_string = \"Hello, World!\"\n",
    "num_vowels = count_vowels(input_string)\n",
    "print(\"Number of vowels in the string:\", num_vowels)\n"
   ]
  },
  {
   "cell_type": "markdown",
   "id": "90c3b16c-d1de-4f7f-8002-034ed995b6c2",
   "metadata": {},
   "source": [
    "6. Count the number of consonants in a string."
   ]
  },
  {
   "cell_type": "code",
   "execution_count": 6,
   "id": "9db12009-c340-40c0-83ce-96b28552147f",
   "metadata": {},
   "outputs": [
    {
     "name": "stdout",
     "output_type": "stream",
     "text": [
      "Number of consonants in the string: 7\n"
     ]
    }
   ],
   "source": [
    "def count_consonants(input_str):\n",
    "    vowels = \"aeiouAEIOU\"\n",
    "    consonant_count = 0\n",
    "    for char in input_str:\n",
    "        if char.isalpha() and char not in vowels:\n",
    "            consonant_count += 1\n",
    "    return consonant_count\n",
    "\n",
    "# Example usage\n",
    "input_string = \"Hello, World!\"\n",
    "num_consonants = count_consonants(input_string)\n",
    "print(\"Number of consonants in the string:\", num_consonants)\n"
   ]
  },
  {
   "cell_type": "markdown",
   "id": "059b7b6f-e98b-4b79-9803-0e4e29bd8c31",
   "metadata": {},
   "source": [
    "7. Remove all whitespaces from a string."
   ]
  },
  {
   "cell_type": "code",
   "execution_count": 7,
   "id": "afdde3bd-8bba-4caa-af4d-6fc72fde04b8",
   "metadata": {},
   "outputs": [
    {
     "name": "stdout",
     "output_type": "stream",
     "text": [
      "Original string: Hello, World!\n",
      "String without whitespace: Hello,World!\n"
     ]
    }
   ],
   "source": [
    "def remove_whitespace(input_str):\n",
    "    return input_str.replace(\" \", \"\")\n",
    "\n",
    "# Example usage\n",
    "input_string = \"Hello, World!\"\n",
    "no_whitespace_string = remove_whitespace(input_string)\n",
    "print(\"Original string:\", input_string)\n",
    "print(\"String without whitespace:\", no_whitespace_string)\n"
   ]
  },
  {
   "cell_type": "markdown",
   "id": "daa693b1-1251-4b48-9419-9a667f410e58",
   "metadata": {},
   "source": [
    "8. Find the length of a string without using the `len()` function."
   ]
  },
  {
   "cell_type": "code",
   "execution_count": 8,
   "id": "045d6c9e-c549-4f70-8fd7-79932cb1e3d9",
   "metadata": {},
   "outputs": [
    {
     "name": "stdout",
     "output_type": "stream",
     "text": [
      "Length of the string: 13\n"
     ]
    }
   ],
   "source": [
    "def string_length(input_str):\n",
    "    count = 0\n",
    "    for char in input_str:\n",
    "        count += 1\n",
    "    return count\n",
    "\n",
    "# Example usage\n",
    "input_string = \"Hello, World!\"\n",
    "length = string_length(input_string)\n",
    "print(\"Length of the string:\", length)\n"
   ]
  },
  {
   "cell_type": "markdown",
   "id": "5dc1908e-cd99-4587-80f5-2831beaf07af",
   "metadata": {},
   "source": [
    "9. Check if a string contains a specific word."
   ]
  },
  {
   "cell_type": "code",
   "execution_count": 9,
   "id": "6b0009d0-b5d1-421d-ab6d-357b9c12ed77",
   "metadata": {},
   "outputs": [
    {
     "name": "stdout",
     "output_type": "stream",
     "text": [
      "The string \"Hello, World!\" contains the word \"World\".\n"
     ]
    }
   ],
   "source": [
    "def contains_word(input_str, word):\n",
    "    return word in input_str\n",
    "\n",
    "# Example usage\n",
    "input_string = \"Hello, World!\"\n",
    "word_to_check = \"World\"\n",
    "if contains_word(input_string, word_to_check):\n",
    "    print(f'The string \"{input_string}\" contains the word \"{word_to_check}\".')\n",
    "else:\n",
    "    print(f'The string \"{input_string}\" does not contain the word \"{word_to_check}\".')\n"
   ]
  },
  {
   "cell_type": "markdown",
   "id": "bcd8cff0-3c80-4652-884f-1b796a78d23f",
   "metadata": {},
   "source": [
    "10. Replace a word in a string with another word."
   ]
  },
  {
   "cell_type": "code",
   "execution_count": 10,
   "id": "afdcb3e8-001e-4723-b8bb-133739309cb7",
   "metadata": {},
   "outputs": [
    {
     "name": "stdout",
     "output_type": "stream",
     "text": [
      "Original string: Hello, World! This is a test string.\n",
      "Modified string: Hello, World! This is a example string.\n"
     ]
    }
   ],
   "source": [
    "def replace_word(input_str, old_word, new_word):\n",
    "    return input_str.replace(old_word, new_word)\n",
    "\n",
    "# Example usage\n",
    "input_string = \"Hello, World! This is a test string.\"\n",
    "old_word_to_replace = \"test\"\n",
    "new_word = \"example\"\n",
    "modified_string = replace_word(input_string, old_word_to_replace, new_word)\n",
    "print(\"Original string:\", input_string)\n",
    "print(\"Modified string:\", modified_string)\n"
   ]
  },
  {
   "cell_type": "markdown",
   "id": "38b20175-d2b3-41f8-95d8-746967c8e502",
   "metadata": {},
   "source": [
    "11. Count the occurrences of a word in a string."
   ]
  },
  {
   "cell_type": "code",
   "execution_count": 11,
   "id": "c6572b02-ac73-42fb-9183-3df1ed7b939c",
   "metadata": {},
   "outputs": [
    {
     "name": "stdout",
     "output_type": "stream",
     "text": [
      "The word \"Hello\" appears 0 times in the string.\n"
     ]
    }
   ],
   "source": [
    "def count_word_occurrences(input_str, target_word):\n",
    "    words = input_str.split()\n",
    "    count = 0\n",
    "    for word in words:\n",
    "        if word == target_word:\n",
    "            count += 1\n",
    "    return count\n",
    "\n",
    "# Example usage\n",
    "input_string = \"Hello, World! Hello, Python! Hello, World again!\"\n",
    "target_word = \"Hello\"\n",
    "occurrences = count_word_occurrences(input_string, target_word)\n",
    "print(f'The word \"{target_word}\" appears {occurrences} times in the string.')\n"
   ]
  },
  {
   "cell_type": "markdown",
   "id": "5db6313d-3163-4441-97cc-0370b20c663d",
   "metadata": {},
   "source": [
    "12. Find the first occurrence of a word in a string."
   ]
  },
  {
   "cell_type": "code",
   "execution_count": 12,
   "id": "418302a2-2da8-4121-9bce-2355d619289d",
   "metadata": {},
   "outputs": [
    {
     "name": "stdout",
     "output_type": "stream",
     "text": [
      "The word \"test\" first occurs at index 24.\n"
     ]
    }
   ],
   "source": [
    "def find_first_occurrence(input_str, target_word):\n",
    "    index = input_str.find(target_word)\n",
    "    return index\n",
    "\n",
    "# Example usage\n",
    "input_string = \"Hello, World! This is a test string.\"\n",
    "target_word = \"test\"\n",
    "first_occurrence_index = find_first_occurrence(input_string, target_word)\n",
    "\n",
    "if first_occurrence_index != -1:\n",
    "    print(f'The word \"{target_word}\" first occurs at index {first_occurrence_index}.')\n",
    "else:\n",
    "    print(f'The word \"{target_word}\" does not occur in the string.')\n"
   ]
  },
  {
   "cell_type": "markdown",
   "id": "b829c589-a617-4adf-a289-76216f52fd35",
   "metadata": {},
   "source": [
    "13. Find the last occurrence of a word in a string."
   ]
  },
  {
   "cell_type": "code",
   "execution_count": 13,
   "id": "68f8b6ab-947f-43b9-9f37-84a33c42cd41",
   "metadata": {},
   "outputs": [
    {
     "name": "stdout",
     "output_type": "stream",
     "text": [
      "The word \"Hello\" last occurs at index 37.\n"
     ]
    }
   ],
   "source": [
    "def find_last_occurrence(input_str, target_word):\n",
    "    index = input_str.rfind(target_word)\n",
    "    return index\n",
    "\n",
    "# Example usage\n",
    "input_string = \"Hello, World! This is a test string. Hello again!\"\n",
    "target_word = \"Hello\"\n",
    "last_occurrence_index = find_last_occurrence(input_string, target_word)\n",
    "\n",
    "if last_occurrence_index != -1:\n",
    "    print(f'The word \"{target_word}\" last occurs at index {last_occurrence_index}.')\n",
    "else:\n",
    "    print(f'The word \"{target_word}\" does not occur in the string.')\n"
   ]
  },
  {
   "cell_type": "markdown",
   "id": "2e2acf5b-8767-4899-b949-eb8ff529c844",
   "metadata": {},
   "source": [
    "14. Split a string into a list of words."
   ]
  },
  {
   "cell_type": "code",
   "execution_count": 14,
   "id": "2f085a2c-4909-45c9-9b21-7ab1c38c94b8",
   "metadata": {},
   "outputs": [
    {
     "name": "stdout",
     "output_type": "stream",
     "text": [
      "Original string: Hello, World! This is a test string.\n",
      "List of words: ['Hello,', 'World!', 'This', 'is', 'a', 'test', 'string.']\n"
     ]
    }
   ],
   "source": [
    "def split_string_into_words(input_str):\n",
    "    words_list = input_str.split()\n",
    "    return words_list\n",
    "\n",
    "# Example usage\n",
    "input_string = \"Hello, World! This is a test string.\"\n",
    "words_list = split_string_into_words(input_string)\n",
    "print(\"Original string:\", input_string)\n",
    "print(\"List of words:\", words_list)\n"
   ]
  },
  {
   "cell_type": "markdown",
   "id": "f146cf5a-faf2-49d7-8a78-8406e8545cfc",
   "metadata": {},
   "source": [
    "15. Join a list of words into a string."
   ]
  },
  {
   "cell_type": "code",
   "execution_count": 15,
   "id": "af2993f8-17fb-40f1-8c49-f4463b638c7c",
   "metadata": {},
   "outputs": [
    {
     "name": "stdout",
     "output_type": "stream",
     "text": [
      "List of words: ['Hello,', 'World!', 'This', 'is', 'a', 'test', 'string.']\n",
      "Joined string: Hello, World! This is a test string.\n"
     ]
    }
   ],
   "source": [
    "def join_words_into_string(words_list):\n",
    "    return ' '.join(words_list)\n",
    "\n",
    "# Example usage\n",
    "words_list = ['Hello,', 'World!', 'This', 'is', 'a', 'test', 'string.']\n",
    "joined_string = join_words_into_string(words_list)\n",
    "print(\"List of words:\", words_list)\n",
    "print(\"Joined string:\", joined_string)\n"
   ]
  },
  {
   "cell_type": "markdown",
   "id": "bdb90a48-be75-40bb-afaa-a700f029a0c1",
   "metadata": {},
   "source": [
    "16. Convert a string where words are separated by spaces to one where words\n",
    "are separated by underscores."
   ]
  },
  {
   "cell_type": "code",
   "execution_count": 16,
   "id": "cd2c9213-406d-4197-8a40-f36f63210cfe",
   "metadata": {},
   "outputs": [
    {
     "name": "stdout",
     "output_type": "stream",
     "text": [
      "Original string: Hello, World! This is a test string.\n",
      "Underscored string: Hello,_World!_This_is_a_test_string.\n"
     ]
    }
   ],
   "source": [
    "def convert_spaces_to_underscores(input_str):\n",
    "    return input_str.replace(\" \", \"_\")\n",
    "\n",
    "# Example usage\n",
    "input_string = \"Hello, World! This is a test string.\"\n",
    "underscored_string = convert_spaces_to_underscores(input_string)\n",
    "print(\"Original string:\", input_string)\n",
    "print(\"Underscored string:\", underscored_string)\n",
    "\n"
   ]
  },
  {
   "cell_type": "markdown",
   "id": "07b1236d-a7f7-44b9-bc99-78fd6ad63287",
   "metadata": {},
   "source": [
    "17. Check if a string starts with a specific word or phrase."
   ]
  },
  {
   "cell_type": "code",
   "execution_count": 17,
   "id": "971fbe76-7872-4a0a-a593-0ff987e586a0",
   "metadata": {},
   "outputs": [
    {
     "name": "stdout",
     "output_type": "stream",
     "text": [
      "The string \"Hello, World! This is a test string.\" starts with the word \"Hello\".\n"
     ]
    }
   ],
   "source": [
    "def starts_with_word(input_str, target_word):\n",
    "    return input_str.startswith(target_word)\n",
    "\n",
    "# Example usage\n",
    "input_string = \"Hello, World! This is a test string.\"\n",
    "target_word = \"Hello\"\n",
    "if starts_with_word(input_string, target_word):\n",
    "    print(f'The string \"{input_string}\" starts with the word \"{target_word}\".')\n",
    "else:\n",
    "    print(f'The string \"{input_string}\" does not start with the word \"{target_word}\".')\n"
   ]
  },
  {
   "cell_type": "markdown",
   "id": "bdd8b29d-182a-4f78-be1c-9dae31244ac9",
   "metadata": {},
   "source": [
    "18. Check if a string ends with a specific word or phrase."
   ]
  },
  {
   "cell_type": "code",
   "execution_count": 18,
   "id": "bb1d65c3-21e6-420e-a446-628a72018fef",
   "metadata": {},
   "outputs": [
    {
     "name": "stdout",
     "output_type": "stream",
     "text": [
      "The string \"Hello, World! This is a test string.\" ends with the word \"string.\".\n"
     ]
    }
   ],
   "source": [
    "def ends_with_word(input_str, target_word):\n",
    "    return input_str.endswith(target_word)\n",
    "\n",
    "# Example usage\n",
    "input_string = \"Hello, World! This is a test string.\"\n",
    "target_word = \"string.\"\n",
    "if ends_with_word(input_string, target_word):\n",
    "    print(f'The string \"{input_string}\" ends with the word \"{target_word}\".')\n",
    "else:\n",
    "    print(f'The string \"{input_string}\" does not end with the word \"{target_word}\".')\n"
   ]
  },
  {
   "cell_type": "markdown",
   "id": "bf0f6cab-d07a-4d3c-8e7a-e6a006f78406",
   "metadata": {},
   "source": [
    "19. Convert a string to title case (e.g., \"hello world\" to \"Hello World\")."
   ]
  },
  {
   "cell_type": "code",
   "execution_count": 19,
   "id": "f10d50f3-38ef-45a5-86db-5dd269f19cac",
   "metadata": {},
   "outputs": [
    {
     "name": "stdout",
     "output_type": "stream",
     "text": [
      "Original string: hello world\n",
      "Title case string: Hello World\n"
     ]
    }
   ],
   "source": [
    "def convert_to_title_case(input_str):\n",
    "    return input_str.title()\n",
    "\n",
    "# Example usage\n",
    "input_string = \"hello world\"\n",
    "title_case_string = convert_to_title_case(input_string)\n",
    "print(\"Original string:\", input_string)\n",
    "print(\"Title case string:\", title_case_string)\n"
   ]
  },
  {
   "cell_type": "markdown",
   "id": "405aa86d-cd7f-4a3e-80f5-aecb11e91d6b",
   "metadata": {},
   "source": [
    "20. Find the longest word in a string."
   ]
  },
  {
   "cell_type": "code",
   "execution_count": 20,
   "id": "23c6162f-3bc2-487a-be49-14e82a84aee4",
   "metadata": {},
   "outputs": [
    {
     "name": "stdout",
     "output_type": "stream",
     "text": [
      "Original string: Hello, World! This is a test string.\n",
      "Longest word: string.\n"
     ]
    }
   ],
   "source": [
    "def find_longest_word(input_str):\n",
    "    words = input_str.split()\n",
    "    longest_word = \"\"\n",
    "    for word in words:\n",
    "        if len(word) > len(longest_word):\n",
    "            longest_word = word\n",
    "    return longest_word\n",
    "\n",
    "# Example usage\n",
    "input_string = \"Hello, World! This is a test string.\"\n",
    "longest_word = find_longest_word(input_string)\n",
    "print(\"Original string:\", input_string)\n",
    "print(\"Longest word:\", longest_word)\n"
   ]
  },
  {
   "cell_type": "markdown",
   "id": "fa912b62-68c8-43e6-9979-93b23c857300",
   "metadata": {},
   "source": [
    "21. Find the shortest word in a string."
   ]
  },
  {
   "cell_type": "code",
   "execution_count": 21,
   "id": "f1616980-8f3e-4282-b820-4c16fbff67fd",
   "metadata": {},
   "outputs": [
    {
     "name": "stdout",
     "output_type": "stream",
     "text": [
      "Original string: Hello, World! This is a test string.\n",
      "Shortest word: a\n"
     ]
    }
   ],
   "source": [
    "def find_shortest_word(input_str):\n",
    "    words = input_str.split()\n",
    "    shortest_word = None\n",
    "    for word in words:\n",
    "        if shortest_word is None or len(word) < len(shortest_word):\n",
    "            shortest_word = word\n",
    "    return shortest_word\n",
    "\n",
    "# Example usage\n",
    "input_string = \"Hello, World! This is a test string.\"\n",
    "shortest_word = find_shortest_word(input_string)\n",
    "print(\"Original string:\", input_string)\n",
    "print(\"Shortest word:\", shortest_word)\n"
   ]
  },
  {
   "cell_type": "markdown",
   "id": "cfbd3131-3051-4483-8867-ddb830d0703c",
   "metadata": {},
   "source": [
    "22. Reverse the order of words in a string."
   ]
  },
  {
   "cell_type": "code",
   "execution_count": 22,
   "id": "012f94bd-3918-40de-b7a1-1a5a5f8e4337",
   "metadata": {},
   "outputs": [
    {
     "name": "stdout",
     "output_type": "stream",
     "text": [
      "Original string: Hello, World! This is a test string.\n",
      "Reversed string: string. test a is This World! Hello,\n"
     ]
    }
   ],
   "source": [
    "def reverse_words(input_str):\n",
    "    words = input_str.split()\n",
    "    reversed_words = words[::-1]\n",
    "    reversed_string = ' '.join(reversed_words)\n",
    "    return reversed_string\n",
    "\n",
    "# Example usage\n",
    "input_string = \"Hello, World! This is a test string.\"\n",
    "reversed_string = reverse_words(input_string)\n",
    "print(\"Original string:\", input_string)\n",
    "print(\"Reversed string:\", reversed_string)\n"
   ]
  },
  {
   "cell_type": "markdown",
   "id": "866c8221-ec59-4599-8c7e-aee618c93385",
   "metadata": {},
   "source": [
    "23. Check if a string is alphanumeric."
   ]
  },
  {
   "cell_type": "code",
   "execution_count": 23,
   "id": "0f775c94-c676-406d-a586-a105ef16b036",
   "metadata": {},
   "outputs": [
    {
     "name": "stdout",
     "output_type": "stream",
     "text": [
      "Is \"Hello123\" alphanumeric? True\n",
      "Is \"Hello, World!\" alphanumeric? False\n"
     ]
    }
   ],
   "source": [
    "def is_alphanumeric(input_str):\n",
    "    return input_str.isalnum()\n",
    "\n",
    "# Example usage\n",
    "input_string1 = \"Hello123\"\n",
    "input_string2 = \"Hello, World!\"\n",
    "print(f'Is \"{input_string1}\" alphanumeric? {is_alphanumeric(input_string1)}')\n",
    "print(f'Is \"{input_string2}\" alphanumeric? {is_alphanumeric(input_string2)}')\n"
   ]
  },
  {
   "cell_type": "markdown",
   "id": "bbc63d8f-ce55-41a0-ba85-81b156ef7158",
   "metadata": {},
   "source": [
    "24. Extract all digits from a string."
   ]
  },
  {
   "cell_type": "code",
   "execution_count": 24,
   "id": "0a74cd89-f7c7-4787-a897-2baf72b3de57",
   "metadata": {},
   "outputs": [
    {
     "name": "stdout",
     "output_type": "stream",
     "text": [
      "Original string: Hello123 World456!\n",
      "Extracted digits: ['1', '2', '3', '4', '5', '6']\n"
     ]
    }
   ],
   "source": [
    "def extract_digits(input_str):\n",
    "    return [char for char in input_str if char.isdigit()]\n",
    "\n",
    "# Example usage\n",
    "input_string = \"Hello123 World456!\"\n",
    "digits_list = extract_digits(input_string)\n",
    "print(\"Original string:\", input_string)\n",
    "print(\"Extracted digits:\", digits_list)\n"
   ]
  },
  {
   "cell_type": "markdown",
   "id": "704744bf-f296-463c-b071-e6a6a42cb54b",
   "metadata": {},
   "source": [
    "25. Extract all alphabets from a string."
   ]
  },
  {
   "cell_type": "code",
   "execution_count": 25,
   "id": "e5319921-f143-44d9-91d8-5ec6643735eb",
   "metadata": {},
   "outputs": [
    {
     "name": "stdout",
     "output_type": "stream",
     "text": [
      "Original string: Hello123 World456!\n",
      "Extracted alphabets: ['H', 'e', 'l', 'l', 'o', 'W', 'o', 'r', 'l', 'd']\n"
     ]
    }
   ],
   "source": [
    "def extract_alphabets(input_str):\n",
    "    return [char for char in input_str if char.isalpha()]\n",
    "\n",
    "# Example usage\n",
    "input_string = \"Hello123 World456!\"\n",
    "alphabets_list = extract_alphabets(input_string)\n",
    "print(\"Original string:\", input_string)\n",
    "print(\"Extracted alphabets:\", alphabets_list)\n"
   ]
  },
  {
   "cell_type": "markdown",
   "id": "99922596-3384-4167-b126-dba886366e13",
   "metadata": {},
   "source": [
    "26. Count the number of uppercase letters in a string."
   ]
  },
  {
   "cell_type": "code",
   "execution_count": 26,
   "id": "8bd33c78-2a97-4f9b-b2e0-820d43f3c66b",
   "metadata": {},
   "outputs": [
    {
     "name": "stdout",
     "output_type": "stream",
     "text": [
      "Original string: Hello, World! This is a Test String.\n",
      "Number of uppercase letters: 5\n"
     ]
    }
   ],
   "source": [
    "def count_uppercase_letters(input_str):\n",
    "    count = 0\n",
    "    for char in input_str:\n",
    "        if char.isupper():\n",
    "            count += 1\n",
    "    return count\n",
    "\n",
    "# Example usage\n",
    "input_string = \"Hello, World! This is a Test String.\"\n",
    "uppercase_count = count_uppercase_letters(input_string)\n",
    "print(\"Original string:\", input_string)\n",
    "print(\"Number of uppercase letters:\", uppercase_count)\n"
   ]
  },
  {
   "cell_type": "markdown",
   "id": "25574d64-649b-400c-ad0b-36cdc9dd7fae",
   "metadata": {},
   "source": [
    "27. Count the number of lowercase letters in a string."
   ]
  },
  {
   "cell_type": "code",
   "execution_count": 27,
   "id": "98c6c141-b7f1-46f1-979c-53e815b30b33",
   "metadata": {},
   "outputs": [
    {
     "name": "stdout",
     "output_type": "stream",
     "text": [
      "Original string: Hello, World! This is a Test String.\n",
      "Number of lowercase letters: 22\n"
     ]
    }
   ],
   "source": [
    "def count_lowercase_letters(input_str):\n",
    "    count = 0\n",
    "    for char in input_str:\n",
    "        if char.islower():\n",
    "            count += 1\n",
    "    return count\n",
    "\n",
    "# Example usage\n",
    "input_string = \"Hello, World! This is a Test String.\"\n",
    "lowercase_count = count_lowercase_letters(input_string)\n",
    "print(\"Original string:\", input_string)\n",
    "print(\"Number of lowercase letters:\", lowercase_count)\n"
   ]
  },
  {
   "cell_type": "markdown",
   "id": "9964957a-483a-455c-970b-19656288ca2b",
   "metadata": {},
   "source": [
    "28. Swap the case of each character in a string."
   ]
  },
  {
   "cell_type": "code",
   "execution_count": 28,
   "id": "205ec047-80ae-4a4a-8b3c-1c6b00ba29df",
   "metadata": {},
   "outputs": [
    {
     "name": "stdout",
     "output_type": "stream",
     "text": [
      "Original string: Hello, World! This is a Test String.\n",
      "Swapped case string: hELLO, wORLD! tHIS IS A tEST sTRING.\n"
     ]
    }
   ],
   "source": [
    "def swap_case(input_str):\n",
    "    return input_str.swapcase()\n",
    "\n",
    "# Example usage\n",
    "input_string = \"Hello, World! This is a Test String.\"\n",
    "swapped_string = swap_case(input_string)\n",
    "print(\"Original string:\", input_string)\n",
    "print(\"Swapped case string:\", swapped_string)\n"
   ]
  },
  {
   "cell_type": "markdown",
   "id": "8b30d5ea-d765-4fc4-9bf0-588b7b617d4f",
   "metadata": {},
   "source": [
    "29. Remove a specific word from a string."
   ]
  },
  {
   "cell_type": "code",
   "execution_count": 29,
   "id": "b60ef7c2-f454-438c-a434-288422df7158",
   "metadata": {},
   "outputs": [
    {
     "name": "stdout",
     "output_type": "stream",
     "text": [
      "Original string: Hello, World! This is a Test String.\n",
      "String with 'Test' removed: Hello, World! This is a  String.\n"
     ]
    }
   ],
   "source": [
    "def remove_word(input_str, word_to_remove):\n",
    "    return input_str.replace(word_to_remove, '')\n",
    "\n",
    "# Example usage\n",
    "input_string = \"Hello, World! This is a Test String.\"\n",
    "word_to_remove = \"Test\"\n",
    "modified_string = remove_word(input_string, word_to_remove)\n",
    "print(\"Original string:\", input_string)\n",
    "print(f\"String with '{word_to_remove}' removed:\", modified_string)\n"
   ]
  },
  {
   "cell_type": "markdown",
   "id": "35a010c6-8393-470c-9cef-08955535aa7c",
   "metadata": {},
   "source": [
    "30. Check if a string is a valid email address."
   ]
  },
  {
   "cell_type": "code",
   "execution_count": 30,
   "id": "3ef666d2-c21f-4b96-93f8-02a6fbfcf74f",
   "metadata": {},
   "outputs": [
    {
     "name": "stdout",
     "output_type": "stream",
     "text": [
      "Is \"user@example.com\" a valid email address? True\n",
      "Is \"invalid-email\" a valid email address? False\n"
     ]
    }
   ],
   "source": [
    "import re\n",
    "\n",
    "def is_valid_email(email):\n",
    "    pattern = r'^[a-zA-Z0-9._%+-]+@[a-zA-Z0-9.-]+\\.[a-zA-Z]{2,}$'\n",
    "    return re.match(pattern, email) is not None\n",
    "\n",
    "# Example usage\n",
    "email1 = \"user@example.com\"\n",
    "email2 = \"invalid-email\"\n",
    "print(f'Is \"{email1}\" a valid email address? {is_valid_email(email1)}')\n",
    "print(f'Is \"{email2}\" a valid email address? {is_valid_email(email2)}')\n"
   ]
  },
  {
   "cell_type": "markdown",
   "id": "fc705f58-c77c-4005-9202-6a5881d68d03",
   "metadata": {},
   "source": [
    "31. Extract the username from an email address string."
   ]
  },
  {
   "cell_type": "code",
   "execution_count": 31,
   "id": "ce2bf562-c39a-48b1-8e52-8831ce65ca12",
   "metadata": {},
   "outputs": [
    {
     "name": "stdout",
     "output_type": "stream",
     "text": [
      "Email address: user@example.com\n",
      "Extracted username: user\n"
     ]
    }
   ],
   "source": [
    "def extract_username(email):\n",
    "    parts = email.split('@')\n",
    "    if len(parts) == 2:\n",
    "        return parts[0]\n",
    "    else:\n",
    "        return None\n",
    "\n",
    "# Example usage\n",
    "email_address = \"user@example.com\"\n",
    "username = extract_username(email_address)\n",
    "print(\"Email address:\", email_address)\n",
    "print(\"Extracted username:\", username)\n"
   ]
  },
  {
   "cell_type": "markdown",
   "id": "9df8a611-c9fe-43a0-8e69-d57fe3061015",
   "metadata": {},
   "source": [
    "32. Extract the domain name from an email address string."
   ]
  },
  {
   "cell_type": "code",
   "execution_count": 32,
   "id": "8caf1516-bda9-449d-a14e-dce5d6cb2359",
   "metadata": {},
   "outputs": [
    {
     "name": "stdout",
     "output_type": "stream",
     "text": [
      "Email address: user@example.com\n",
      "Extracted domain name: example.com\n"
     ]
    }
   ],
   "source": [
    "def extract_domain(email):\n",
    "    parts = email.split('@')\n",
    "    if len(parts) == 2:\n",
    "        return parts[1]\n",
    "    else:\n",
    "        return None\n",
    "\n",
    "# Example usage\n",
    "email_address = \"user@example.com\"\n",
    "domain_name = extract_domain(email_address)\n",
    "print(\"Email address:\", email_address)\n",
    "print(\"Extracted domain name:\", domain_name)\n"
   ]
  },
  {
   "cell_type": "markdown",
   "id": "722775a5-5322-44d8-8edd-e3b7f4af65aa",
   "metadata": {},
   "source": [
    "33. Replace multiple spaces in a string with a single space."
   ]
  },
  {
   "cell_type": "code",
   "execution_count": 33,
   "id": "6473924d-86bb-4de7-be25-45431efc900c",
   "metadata": {},
   "outputs": [
    {
     "name": "stdout",
     "output_type": "stream",
     "text": [
      "Original string: Hello    World!   This   is  a  test  string   with   multiple    spaces.\n",
      "Modified string: Hello World! This is a test string with multiple spaces.\n"
     ]
    }
   ],
   "source": [
    "import re\n",
    "\n",
    "def replace_multiple_spaces(input_str):\n",
    "    return re.sub(r'\\s+', ' ', input_str)\n",
    "\n",
    "# Example usage\n",
    "input_string = \"Hello    World!   This   is  a  test  string   with   multiple    spaces.\"\n",
    "modified_string = replace_multiple_spaces(input_string)\n",
    "print(\"Original string:\", input_string)\n",
    "print(\"Modified string:\", modified_string)\n"
   ]
  },
  {
   "cell_type": "markdown",
   "id": "ffabfe91-f4c2-4450-9cef-014fe60c61df",
   "metadata": {},
   "source": [
    "34. Check if a string is a valid URL."
   ]
  },
  {
   "cell_type": "code",
   "execution_count": 34,
   "id": "2805355f-4aec-4407-a20c-e904b2ad6bdc",
   "metadata": {},
   "outputs": [
    {
     "name": "stdout",
     "output_type": "stream",
     "text": [
      "Collecting validators\n",
      "  Downloading validators-0.28.1-py3-none-any.whl (39 kB)\n",
      "Installing collected packages: validators\n",
      "Successfully installed validators-0.28.1\n",
      "Note: you may need to restart the kernel to use updated packages.\n"
     ]
    }
   ],
   "source": [
    "pip install validators\n"
   ]
  },
  {
   "cell_type": "code",
   "execution_count": 1,
   "id": "80fb8a11-4854-4b71-84c1-7946fecc4d3a",
   "metadata": {},
   "outputs": [
    {
     "name": "stdout",
     "output_type": "stream",
     "text": [
      "Is \"https://www.example.com\" a valid URL? True\n",
      "Is \"invalid-url\" a valid URL? ValidationError(func=url, args={'value': 'invalid-url'})\n"
     ]
    }
   ],
   "source": [
    "import validators\n",
    "\n",
    "def is_valid_url(url):\n",
    "    return validators.url(url)\n",
    "\n",
    "# Example usage\n",
    "url1 = \"https://www.example.com\"\n",
    "url2 = \"invalid-url\"\n",
    "print(f'Is \"{url1}\" a valid URL? {is_valid_url(url1)}')\n",
    "print(f'Is \"{url2}\" a valid URL? {is_valid_url(url2)}')\n"
   ]
  },
  {
   "cell_type": "markdown",
   "id": "6dea79da-0f6b-4f98-a589-cf3cf39bb752",
   "metadata": {},
   "source": [
    "35. Extract the protocol (http or https) from a URL string."
   ]
  },
  {
   "cell_type": "code",
   "execution_count": 2,
   "id": "c590fa00-898d-4c38-af77-56c5989c6fc6",
   "metadata": {},
   "outputs": [
    {
     "name": "stdout",
     "output_type": "stream",
     "text": [
      "Protocol for \"https://www.example.com\": https\n",
      "Protocol for \"http://www.example.com\": http\n",
      "Protocol for \"ftp://ftp.example.com\": None\n"
     ]
    }
   ],
   "source": [
    "from urllib.parse import urlparse\n",
    "\n",
    "def extract_protocol(url):\n",
    "    parsed_url = urlparse(url)\n",
    "    if parsed_url.scheme in ['http', 'https']:\n",
    "        return parsed_url.scheme\n",
    "    else:\n",
    "        return None\n",
    "\n",
    "# Example usage\n",
    "url1 = \"https://www.example.com\"\n",
    "url2 = \"http://www.example.com\"\n",
    "url3 = \"ftp://ftp.example.com\"\n",
    "print(f'Protocol for \"{url1}\": {extract_protocol(url1)}')\n",
    "print(f'Protocol for \"{url2}\": {extract_protocol(url2)}')\n",
    "print(f'Protocol for \"{url3}\": {extract_protocol(url3)}')\n"
   ]
  },
  {
   "cell_type": "markdown",
   "id": "cb00f7f6-157c-47ba-bff5-eb4f950ac5f0",
   "metadata": {},
   "source": [
    "36. Find the frequency of each character in a string."
   ]
  },
  {
   "cell_type": "code",
   "execution_count": 3,
   "id": "d17ef7d3-d508-4a84-b1c6-d5be1fc74f2e",
   "metadata": {},
   "outputs": [
    {
     "name": "stdout",
     "output_type": "stream",
     "text": [
      "Input string: hello world\n",
      "Character frequency:\n",
      "'h': 1\n",
      "'e': 1\n",
      "'l': 3\n",
      "'o': 2\n",
      "' ': 1\n",
      "'w': 1\n",
      "'r': 1\n",
      "'d': 1\n"
     ]
    }
   ],
   "source": [
    "def character_frequency(input_str):\n",
    "    freq_dict = {}\n",
    "    for char in input_str:\n",
    "        if char in freq_dict:\n",
    "            freq_dict[char] += 1\n",
    "        else:\n",
    "            freq_dict[char] = 1\n",
    "    return freq_dict\n",
    "\n",
    "# Example usage\n",
    "input_string = \"hello world\"\n",
    "frequency_map = character_frequency(input_string)\n",
    "print(\"Input string:\", input_string)\n",
    "print(\"Character frequency:\")\n",
    "for char, freq in frequency_map.items():\n",
    "    print(f\"'{char}': {freq}\")\n"
   ]
  },
  {
   "cell_type": "markdown",
   "id": "451d2619-38a5-4a70-9c4f-6fd0da297674",
   "metadata": {},
   "source": [
    "37. Remove all punctuation from a string."
   ]
  },
  {
   "cell_type": "code",
   "execution_count": 4,
   "id": "54d25086-298b-4c11-a61f-5c0d220a5f9f",
   "metadata": {},
   "outputs": [
    {
     "name": "stdout",
     "output_type": "stream",
     "text": [
      "Original string: Hello, World! This is a test string.\n",
      "String without punctuation: Hello World This is a test string\n"
     ]
    }
   ],
   "source": [
    "import string\n",
    "\n",
    "def remove_punctuation(input_str):\n",
    "    return ''.join(char for char in input_str if char not in string.punctuation)\n",
    "\n",
    "# Example usage\n",
    "input_string = \"Hello, World! This is a test string.\"\n",
    "cleaned_string = remove_punctuation(input_string)\n",
    "print(\"Original string:\", input_string)\n",
    "print(\"String without punctuation:\", cleaned_string)\n"
   ]
  },
  {
   "cell_type": "markdown",
   "id": "8285ff39-1b5b-42b2-b00f-0f72f485a09c",
   "metadata": {},
   "source": [
    "38. Check if a string contains only digits."
   ]
  },
  {
   "cell_type": "code",
   "execution_count": 5,
   "id": "59b7551a-a926-4d40-9639-c4ed4ce0eb63",
   "metadata": {},
   "outputs": [
    {
     "name": "stdout",
     "output_type": "stream",
     "text": [
      "Is \"12345\" containing only digits? True\n",
      "Is \"123abc\" containing only digits? False\n"
     ]
    }
   ],
   "source": [
    "def contains_only_digits(input_str):\n",
    "    return input_str.isdigit()\n",
    "\n",
    "# Example usage\n",
    "string1 = \"12345\"\n",
    "string2 = \"123abc\"\n",
    "print(f'Is \"{string1}\" containing only digits? {contains_only_digits(string1)}')\n",
    "print(f'Is \"{string2}\" containing only digits? {contains_only_digits(string2)}')\n"
   ]
  },
  {
   "cell_type": "markdown",
   "id": "a8cf425f-5b7f-40de-b3d9-c7c443aa54bd",
   "metadata": {},
   "source": [
    "39. Check if a string contains only alphabets"
   ]
  },
  {
   "cell_type": "code",
   "execution_count": 6,
   "id": "2223c655-cb08-4cc1-bf40-92acb7a4628a",
   "metadata": {},
   "outputs": [
    {
     "name": "stdout",
     "output_type": "stream",
     "text": [
      "Is \"abcdef\" containing only alphabets? True\n",
      "Is \"abc123\" containing only alphabets? False\n"
     ]
    }
   ],
   "source": [
    "def contains_only_alphabets(input_str):\n",
    "    return input_str.isalpha()\n",
    "\n",
    "# Example usage\n",
    "string1 = \"abcdef\"\n",
    "string2 = \"abc123\"\n",
    "print(f'Is \"{string1}\" containing only alphabets? {contains_only_alphabets(string1)}')\n",
    "print(f'Is \"{string2}\" containing only alphabets? {contains_only_alphabets(string2)}')\n"
   ]
  },
  {
   "cell_type": "markdown",
   "id": "c3ebac62-13e0-4906-9643-a1933c99849f",
   "metadata": {},
   "source": [
    "40. Convert a string to a list of characters."
   ]
  },
  {
   "cell_type": "code",
   "execution_count": 7,
   "id": "21d7448b-9487-4cee-8d46-bbaf42c1cffd",
   "metadata": {},
   "outputs": [
    {
     "name": "stdout",
     "output_type": "stream",
     "text": [
      "['h', 'e', 'l', 'l', 'o']\n"
     ]
    }
   ],
   "source": [
    "input_string = \"hello\"\n",
    "char_list = [char for char in input_string]\n",
    "print(char_list)\n"
   ]
  },
  {
   "cell_type": "markdown",
   "id": "65487cd0-fcd0-4326-b7c8-dd4ee5ea7333",
   "metadata": {},
   "source": [
    "41. Check if two strings are anagrams."
   ]
  },
  {
   "cell_type": "code",
   "execution_count": 8,
   "id": "d5caf201-4720-4724-aedb-9d3afc6e442a",
   "metadata": {},
   "outputs": [
    {
     "name": "stdout",
     "output_type": "stream",
     "text": [
      "Are \"listen\" and \"silent\" anagrams? True\n"
     ]
    }
   ],
   "source": [
    "def are_anagrams(str1, str2):\n",
    "    # Remove spaces and convert to lowercase for comparison\n",
    "    str1 = str1.replace(' ', '').lower()\n",
    "    str2 = str2.replace(' ', '').lower()\n",
    "    \n",
    "    # Check if the sorted versions of the strings are equal\n",
    "    return sorted(str1) == sorted(str2)\n",
    "\n",
    "# Example usage\n",
    "string1 = \"listen\"\n",
    "string2 = \"silent\"\n",
    "print(f'Are \"{string1}\" and \"{string2}\" anagrams? {are_anagrams(string1, string2)}')\n"
   ]
  },
  {
   "cell_type": "markdown",
   "id": "4a7b669c-d94f-4c1d-a951-e1935a4bf9d3",
   "metadata": {},
   "source": [
    "42. Encode a string using a Caesar cipher."
   ]
  },
  {
   "cell_type": "code",
   "execution_count": 9,
   "id": "858bfeb4-2d2c-46a0-8250-4f92946f332e",
   "metadata": {},
   "outputs": [
    {
     "name": "stdout",
     "output_type": "stream",
     "text": [
      "Original string: Hello, World!\n",
      "Encoded string: Khoor, Zruog!\n"
     ]
    }
   ],
   "source": [
    "def caesar_cipher_encode(input_str, shift):\n",
    "    result = \"\"\n",
    "    for char in input_str:\n",
    "        if char.isalpha():\n",
    "            # Determine the position of the character in the alphabet\n",
    "            if char.isupper():\n",
    "                base = ord('A')\n",
    "            else:\n",
    "                base = ord('a')\n",
    "            position = ord(char) - base\n",
    "            \n",
    "            # Apply the shift and wrap around if necessary\n",
    "            new_position = (position + shift) % 26\n",
    "            \n",
    "            # Convert back to the corresponding character\n",
    "            new_char = chr(base + new_position)\n",
    "            result += new_char\n",
    "        else:\n",
    "            result += char  # Non-alphabetic characters remain unchanged\n",
    "    return result\n",
    "\n",
    "# Example usage\n",
    "input_string = \"Hello, World!\"\n",
    "encoded_string = caesar_cipher_encode(input_string, 3)\n",
    "print(\"Original string:\", input_string)\n",
    "print(\"Encoded string:\", encoded_string)\n"
   ]
  },
  {
   "cell_type": "markdown",
   "id": "b9172eb0-c19f-401c-bf47-837c5d844a2c",
   "metadata": {},
   "source": [
    "43. Decode a Caesar cipher encoded string."
   ]
  },
  {
   "cell_type": "code",
   "execution_count": 10,
   "id": "1411903e-e991-455b-92fc-0648180b88f7",
   "metadata": {},
   "outputs": [
    {
     "name": "stdout",
     "output_type": "stream",
     "text": [
      "Encoded string: Khoor, Zruog!\n",
      "Decoded string: Hello, World!\n"
     ]
    }
   ],
   "source": [
    "def caesar_cipher_decode(encoded_str, shift):\n",
    "    result = \"\"\n",
    "    for char in encoded_str:\n",
    "        if char.isalpha():\n",
    "            # Determine the position of the character in the alphabet\n",
    "            if char.isupper():\n",
    "                base = ord('A')\n",
    "            else:\n",
    "                base = ord('a')\n",
    "            position = ord(char) - base\n",
    "            \n",
    "            # Apply the negative shift to decode and wrap around if necessary\n",
    "            new_position = (position - shift) % 26\n",
    "            \n",
    "            # Convert back to the corresponding character\n",
    "            new_char = chr(base + new_position)\n",
    "            result += new_char\n",
    "        else:\n",
    "            result += char  # Non-alphabetic characters remain unchanged\n",
    "    return result\n",
    "\n",
    "# Example usage\n",
    "encoded_string = \"Khoor, Zruog!\"\n",
    "decoded_string = caesar_cipher_decode(encoded_string, 3)\n",
    "print(\"Encoded string:\", encoded_string)\n",
    "print(\"Decoded string:\", decoded_string)\n"
   ]
  },
  {
   "cell_type": "markdown",
   "id": "92fb0089-4f37-45cd-be05-6cda20a84527",
   "metadata": {},
   "source": [
    "44. Find the most frequent word in a string."
   ]
  },
  {
   "cell_type": "code",
   "execution_count": 11,
   "id": "65d42dbe-5f70-4498-a906-ba35dd646398",
   "metadata": {},
   "outputs": [
    {
     "name": "stdout",
     "output_type": "stream",
     "text": [
      "Input string: Hello world hello Python world Python Python\n",
      "Most frequent word: python\n"
     ]
    }
   ],
   "source": [
    "from collections import Counter\n",
    "import re\n",
    "\n",
    "def most_frequent_word(input_str):\n",
    "    # Tokenize the string into words\n",
    "    words = re.findall(r'\\w+', input_str.lower())\n",
    "    \n",
    "    # Count the occurrences of each word using Counter\n",
    "    word_counts = Counter(words)\n",
    "    \n",
    "    # Find the most frequent word\n",
    "    most_common_word = word_counts.most_common(1)\n",
    "    return most_common_word[0][0] if most_common_word else None\n",
    "\n",
    "# Example usage\n",
    "input_string = \"Hello world hello Python world Python Python\"\n",
    "most_frequent = most_frequent_word(input_string)\n",
    "print(\"Input string:\", input_string)\n",
    "print(\"Most frequent word:\", most_frequent)\n"
   ]
  },
  {
   "cell_type": "markdown",
   "id": "389f3d87-cb02-4ee5-8b6d-e7f598b17a06",
   "metadata": {},
   "source": [
    "45. Find all unique words in a string."
   ]
  },
  {
   "cell_type": "code",
   "execution_count": 12,
   "id": "bc8a49c4-2ad9-4352-8b79-9a0830c30da9",
   "metadata": {},
   "outputs": [
    {
     "name": "stdout",
     "output_type": "stream",
     "text": [
      "Input string: Hello world hello Python world Python Python\n",
      "Unique words: ['python', 'world', 'hello']\n"
     ]
    }
   ],
   "source": [
    "import re\n",
    "\n",
    "def unique_words(input_str):\n",
    "    # Tokenize the string into words\n",
    "    words = re.findall(r'\\w+', input_str.lower())\n",
    "    \n",
    "    # Create a set to store unique words\n",
    "    unique_set = set(words)\n",
    "    return list(unique_set)\n",
    "\n",
    "# Example usage\n",
    "input_string = \"Hello world hello Python world Python Python\"\n",
    "unique_word_list = unique_words(input_string)\n",
    "print(\"Input string:\", input_string)\n",
    "print(\"Unique words:\", unique_word_list)\n"
   ]
  },
  {
   "cell_type": "markdown",
   "id": "fa0cc008-6b59-43f1-9780-48fdce378b1f",
   "metadata": {},
   "source": [
    "46. Count the number of syllables in a string."
   ]
  },
  {
   "cell_type": "code",
   "execution_count": 13,
   "id": "5f740aa9-a47e-47ef-93c9-266de0ddc2bd",
   "metadata": {},
   "outputs": [
    {
     "name": "stdout",
     "output_type": "stream",
     "text": [
      "Input string: Hello world, how are you today?\n",
      "Number of syllables: 7\n"
     ]
    }
   ],
   "source": [
    "def count_syllables(input_str):\n",
    "    # Split the string into words\n",
    "    words = input_str.split()\n",
    "    \n",
    "    # Count syllables in each word\n",
    "    syllable_count = 0\n",
    "    for word in words:\n",
    "        vowels = 'aeiouy'\n",
    "        prev_char = ''\n",
    "        for char in word.lower():\n",
    "            if char in vowels and prev_char not in vowels:\n",
    "                syllable_count += 1\n",
    "            prev_char = char\n",
    "    \n",
    "    return syllable_count\n",
    "\n",
    "# Example usage\n",
    "input_string = \"Hello world, how are you today?\"\n",
    "syllable_count = count_syllables(input_string)\n",
    "print(\"Input string:\", input_string)\n",
    "print(\"Number of syllables:\", syllable_count)\n"
   ]
  },
  {
   "cell_type": "markdown",
   "id": "4668824e-f252-45fc-8dff-69fdd5cf7c2c",
   "metadata": {},
   "source": [
    "47. Check if a string contains any special characters."
   ]
  },
  {
   "cell_type": "code",
   "execution_count": 14,
   "id": "f0d48667-a810-4223-af6b-1a6b189ea9eb",
   "metadata": {},
   "outputs": [
    {
     "name": "stdout",
     "output_type": "stream",
     "text": [
      "Input string: Hello, World! This is a test string.\n",
      "Contains special characters: True\n"
     ]
    }
   ],
   "source": [
    "import re\n",
    "\n",
    "def contains_special_characters(input_str):\n",
    "    # Define a regular expression pattern for special characters\n",
    "    pattern = re.compile(r'[^a-zA-Z0-9\\s]')\n",
    "    \n",
    "    # Search for the pattern in the input string\n",
    "    match = pattern.search(input_str)\n",
    "    \n",
    "    # Return True if a match (special character) is found, False otherwise\n",
    "    return bool(match)\n",
    "\n",
    "# Example usage\n",
    "input_string = \"Hello, World! This is a test string.\"\n",
    "has_special_chars = contains_special_characters(input_string)\n",
    "print(\"Input string:\", input_string)\n",
    "print(\"Contains special characters:\", has_special_chars)\n"
   ]
  },
  {
   "cell_type": "markdown",
   "id": "d3ac80eb-d245-4fb0-b7a0-77e9111733cb",
   "metadata": {},
   "source": [
    "48. Remove the nth word from a string."
   ]
  },
  {
   "cell_type": "code",
   "execution_count": 15,
   "id": "8b8b33b9-2a38-4d69-94e7-96bdc8e4f92f",
   "metadata": {},
   "outputs": [
    {
     "name": "stdout",
     "output_type": "stream",
     "text": [
      "Original string: Hello world, how are you today?\n",
      "Modified string: Hello world, are you today?\n"
     ]
    }
   ],
   "source": [
    "def remove_nth_word(input_str, n):\n",
    "    # Split the string into words\n",
    "    words = input_str.split()\n",
    "    \n",
    "    # Check if the index n is valid\n",
    "    if n >= 0 and n < len(words):\n",
    "        # Remove the nth word\n",
    "        del words[n]\n",
    "        # Join the remaining words back into a string\n",
    "        result = ' '.join(words)\n",
    "        return result\n",
    "    else:\n",
    "        return \"Invalid index\"\n",
    "\n",
    "# Example usage\n",
    "input_string = \"Hello world, how are you today?\"\n",
    "n = 2  # Remove the third word (index 2)\n",
    "modified_string = remove_nth_word(input_string, n)\n",
    "print(\"Original string:\", input_string)\n",
    "print(\"Modified string:\", modified_string)\n"
   ]
  },
  {
   "cell_type": "markdown",
   "id": "03f019d1-f64d-4928-875d-43b60f476898",
   "metadata": {},
   "source": [
    "49. Insert a word at the nth position in a string."
   ]
  },
  {
   "cell_type": "code",
   "execution_count": 16,
   "id": "c9f840a1-7b6b-4ac7-bfae-85cd44ee6005",
   "metadata": {},
   "outputs": [
    {
     "name": "stdout",
     "output_type": "stream",
     "text": [
      "Original string: Hello world, how are you today?\n",
      "Modified string: Hello world, fantastic how are you today?\n"
     ]
    }
   ],
   "source": [
    "def insert_word_at_nth_position(input_str, word, n):\n",
    "    # Split the string into words\n",
    "    words = input_str.split()\n",
    "    \n",
    "    # Check if the index n is valid\n",
    "    if n >= 0 and n <= len(words):\n",
    "        # Insert the word at the nth position\n",
    "        words.insert(n, word)\n",
    "        # Join the words back into a string\n",
    "        result = ' '.join(words)\n",
    "        return result\n",
    "    else:\n",
    "        return \"Invalid index\"\n",
    "\n",
    "# Example usage\n",
    "input_string = \"Hello world, how are you today?\"\n",
    "new_word = \"fantastic\"\n",
    "n = 2  # Insert the new word at the third position (index 2)\n",
    "modified_string = insert_word_at_nth_position(input_string, new_word, n)\n",
    "print(\"Original string:\", input_string)\n",
    "print(\"Modified string:\", modified_string)\n"
   ]
  },
  {
   "cell_type": "markdown",
   "id": "398599b8-584f-43f9-a4a2-9007ea5d1bdf",
   "metadata": {},
   "source": [
    "50. Convert a CSV string to a list of lists."
   ]
  },
  {
   "cell_type": "code",
   "execution_count": 17,
   "id": "bd42e7e5-45ac-47cc-9a77-0e07798dd235",
   "metadata": {},
   "outputs": [
    {
     "name": "stdout",
     "output_type": "stream",
     "text": [
      "CSV List:\n",
      "['Name', ' Age', ' City']\n",
      "['John Doe', ' 30', ' New York']\n",
      "['Jane Smith', ' 25', ' Los Angeles']\n"
     ]
    }
   ],
   "source": [
    "import csv\n",
    "from io import StringIO\n",
    "\n",
    "def csv_string_to_list(csv_string):\n",
    "    # Create a StringIO object to simulate a file-like object\n",
    "    csv_file = StringIO(csv_string)\n",
    "    \n",
    "    # Use the csv.reader to read the CSV data into a list of lists\n",
    "    csv_reader = csv.reader(csv_file)\n",
    "    \n",
    "    # Convert the csv_reader object to a list of lists\n",
    "    csv_list = list(csv_reader)\n",
    "    \n",
    "    return csv_list\n",
    "\n",
    "# Example CSV string\n",
    "csv_data = \"\"\"Name, Age, City\n",
    "John Doe, 30, New York\n",
    "Jane Smith, 25, Los Angeles\n",
    "\"\"\"\n",
    "\n",
    "# Convert the CSV string to a list of lists\n",
    "csv_list = csv_string_to_list(csv_data)\n",
    "print(\"CSV List:\")\n",
    "for row in csv_list:\n",
    "    print(row)\n"
   ]
  },
  {
   "cell_type": "markdown",
   "id": "bc3388f7-cc7a-417d-897e-8a598ae75386",
   "metadata": {},
   "source": [
    "1. Create a list with integers from 1 to 10."
   ]
  },
  {
   "cell_type": "code",
   "execution_count": 18,
   "id": "5c3be74f-7fae-4fdb-962f-c80c56e10031",
   "metadata": {},
   "outputs": [
    {
     "name": "stdout",
     "output_type": "stream",
     "text": [
      "[1, 2, 3, 4, 5, 6, 7, 8, 9, 10]\n"
     ]
    }
   ],
   "source": [
    "# Using list comprehension\n",
    "my_list = [i for i in range(1, 11)]\n",
    "print(my_list)\n"
   ]
  },
  {
   "cell_type": "markdown",
   "id": "8a9278d4-c38c-438c-94e3-730da7a1830a",
   "metadata": {},
   "source": [
    "2. Find the length of a list without using the `len()` function."
   ]
  },
  {
   "cell_type": "code",
   "execution_count": 19,
   "id": "a19f6258-ea1f-46ed-8407-87451bb92a03",
   "metadata": {},
   "outputs": [
    {
     "name": "stdout",
     "output_type": "stream",
     "text": [
      "Length of the list: 5\n"
     ]
    }
   ],
   "source": [
    "def find_length_of_list(my_list):\n",
    "    count = 0\n",
    "    for _ in my_list:\n",
    "        count += 1\n",
    "    return count\n",
    "\n",
    "# Example usage\n",
    "my_list = [1, 2, 3, 4, 5]\n",
    "length = find_length_of_list(my_list)\n",
    "print(\"Length of the list:\", length)\n"
   ]
  },
  {
   "cell_type": "markdown",
   "id": "4c616788-2c1c-42b1-8971-e50874ce209a",
   "metadata": {},
   "source": [
    "3. Append an element to the end of a list."
   ]
  },
  {
   "cell_type": "code",
   "execution_count": 20,
   "id": "9badebfb-aa5f-4939-9b5b-44dfc3886f1f",
   "metadata": {},
   "outputs": [
    {
     "name": "stdout",
     "output_type": "stream",
     "text": [
      "[1, 2, 3, 4, 5, 6]\n"
     ]
    }
   ],
   "source": [
    "# Original list\n",
    "my_list = [1, 2, 3, 4, 5]\n",
    "\n",
    "# Append an element to the end of the list\n",
    "my_list.append(6)\n",
    "\n",
    "# Print the modified list\n",
    "print(my_list)\n"
   ]
  },
  {
   "cell_type": "markdown",
   "id": "7c2bede1-3800-402b-971a-5bdd96376e91",
   "metadata": {},
   "source": [
    "4. Insert an element at a specific index in a list."
   ]
  },
  {
   "cell_type": "code",
   "execution_count": 21,
   "id": "36b1aced-5bcd-446e-b215-de0bafdf68f7",
   "metadata": {},
   "outputs": [
    {
     "name": "stdout",
     "output_type": "stream",
     "text": [
      "[1, 2, 10, 3, 4, 5]\n"
     ]
    }
   ],
   "source": [
    "# Original list\n",
    "my_list = [1, 2, 3, 4, 5]\n",
    "\n",
    "# Insert an element at index 2 (third position)\n",
    "my_list.insert(2, 10)\n",
    "\n",
    "# Print the modified list\n",
    "print(my_list)\n"
   ]
  },
  {
   "cell_type": "markdown",
   "id": "fd8a8fc3-d1bb-4353-9a06-333febdb0a67",
   "metadata": {},
   "source": [
    "5. Remove an element from a list by its value."
   ]
  },
  {
   "cell_type": "code",
   "execution_count": 22,
   "id": "6c4b9194-08ee-4c2f-ab9c-3cd494b3e665",
   "metadata": {},
   "outputs": [
    {
     "name": "stdout",
     "output_type": "stream",
     "text": [
      "[1, 2, 4, 5]\n"
     ]
    }
   ],
   "source": [
    "# Original list\n",
    "my_list = [1, 2, 3, 4, 5]\n",
    "\n",
    "# Remove the element with value 3\n",
    "my_list.remove(3)\n",
    "\n",
    "# Print the modified list\n",
    "print(my_list)\n"
   ]
  },
  {
   "cell_type": "markdown",
   "id": "846ce114-f87b-4fe8-be56-2f21ad82af5e",
   "metadata": {},
   "source": [
    "6. Remove an element from a list by its index."
   ]
  },
  {
   "cell_type": "code",
   "execution_count": 23,
   "id": "0dcd200b-41d4-428a-b220-e5aeefa44b27",
   "metadata": {},
   "outputs": [
    {
     "name": "stdout",
     "output_type": "stream",
     "text": [
      "Modified list: [1, 2, 4, 5]\n",
      "Removed element: 3\n"
     ]
    }
   ],
   "source": [
    "# Original list\n",
    "my_list = [1, 2, 3, 4, 5]\n",
    "\n",
    "# Remove the element at index 2 (third position)\n",
    "removed_element = my_list.pop(2)\n",
    "\n",
    "# Print the modified list and the removed element\n",
    "print(\"Modified list:\", my_list)\n",
    "print(\"Removed element:\", removed_element)\n"
   ]
  },
  {
   "cell_type": "markdown",
   "id": "ee526762-1491-42bb-b6b3-c5858fa1cbdc",
   "metadata": {},
   "source": [
    "7. Check if an element exists in a list."
   ]
  },
  {
   "cell_type": "code",
   "execution_count": 24,
   "id": "f3c3cbeb-7b1e-46bf-9196-31e799f0b6af",
   "metadata": {},
   "outputs": [
    {
     "name": "stdout",
     "output_type": "stream",
     "text": [
      "3 exists in the list\n"
     ]
    }
   ],
   "source": [
    "# Original list\n",
    "my_list = [1, 2, 3, 4, 5]\n",
    "\n",
    "# Check if 3 exists in the list\n",
    "if 3 in my_list:\n",
    "    print(\"3 exists in the list\")\n",
    "else:\n",
    "    print(\"3 does not exist in the list\")\n"
   ]
  },
  {
   "cell_type": "markdown",
   "id": "e6ed4c74-b14e-406c-8874-f2d3f6bdd3bb",
   "metadata": {},
   "source": [
    "8. Find the index of the first occurrence of an element in a list."
   ]
  },
  {
   "cell_type": "code",
   "execution_count": 25,
   "id": "310d1a30-c0d8-41c7-8ac9-ac798d231b74",
   "metadata": {},
   "outputs": [
    {
     "name": "stdout",
     "output_type": "stream",
     "text": [
      "Index of the first occurrence of 20: 1\n"
     ]
    }
   ],
   "source": [
    "# Original list\n",
    "my_list = [10, 20, 30, 40, 50, 20]\n",
    "\n",
    "# Find the index of the first occurrence of 20\n",
    "first_index = my_list.index(20)\n",
    "\n",
    "# Print the index of the first occurrence\n",
    "print(\"Index of the first occurrence of 20:\", first_index)\n",
    "\n"
   ]
  },
  {
   "cell_type": "markdown",
   "id": "8809af8a-9ec3-4f1c-954d-517c8dc8798b",
   "metadata": {},
   "source": [
    "9. Count the occurrences of an element in a list."
   ]
  },
  {
   "cell_type": "code",
   "execution_count": 26,
   "id": "5c5ca928-5fea-4054-b56c-7725e4671f89",
   "metadata": {},
   "outputs": [
    {
     "name": "stdout",
     "output_type": "stream",
     "text": [
      "Count of occurrences of 20: 3\n"
     ]
    }
   ],
   "source": [
    "# Original list\n",
    "my_list = [10, 20, 30, 40, 20, 50, 20]\n",
    "\n",
    "# Count the occurrences of the element 20\n",
    "count_20 = my_list.count(20)\n",
    "\n",
    "# Print the count of occurrences\n",
    "print(\"Count of occurrences of 20:\", count_20)\n"
   ]
  },
  {
   "cell_type": "markdown",
   "id": "4ebac7ac-cd72-4c06-9702-fa58c6f1756e",
   "metadata": {},
   "source": [
    "10. Reverse the order of elements in a list."
   ]
  },
  {
   "cell_type": "code",
   "execution_count": 27,
   "id": "7ac0f217-5f63-4627-a96f-e885e33021cc",
   "metadata": {},
   "outputs": [
    {
     "name": "stdout",
     "output_type": "stream",
     "text": [
      "Reversed list: [5, 4, 3, 2, 1]\n"
     ]
    }
   ],
   "source": [
    "# Original list\n",
    "my_list = [1, 2, 3, 4, 5]\n",
    "\n",
    "# Reverse the order of elements using the reverse() method\n",
    "my_list.reverse()\n",
    "\n",
    "# Print the reversed list\n",
    "print(\"Reversed list:\", my_list)\n"
   ]
  },
  {
   "cell_type": "markdown",
   "id": "83631e86-a1d2-4846-84c9-3da73dafacae",
   "metadata": {},
   "source": [
    "11. Sort a list in ascending order."
   ]
  },
  {
   "cell_type": "code",
   "execution_count": 28,
   "id": "83642a2f-8d58-4dea-bcf3-3acd34a87e42",
   "metadata": {},
   "outputs": [
    {
     "name": "stdout",
     "output_type": "stream",
     "text": [
      "Sorted list (ascending order): [1, 2, 3, 5, 8]\n"
     ]
    }
   ],
   "source": [
    "# Original list\n",
    "my_list = [5, 2, 8, 1, 3]\n",
    "\n",
    "# Sort the list in ascending order using the sort() method\n",
    "my_list.sort()\n",
    "\n",
    "# Print the sorted list\n",
    "print(\"Sorted list (ascending order):\", my_list)\n"
   ]
  },
  {
   "cell_type": "markdown",
   "id": "52fc2ed8-1af4-4a53-9d35-94eaf2bc3959",
   "metadata": {},
   "source": [
    "12. Sort a list in descending order."
   ]
  },
  {
   "cell_type": "code",
   "execution_count": 29,
   "id": "0385a82c-fddd-48fe-b676-c732790746c4",
   "metadata": {},
   "outputs": [
    {
     "name": "stdout",
     "output_type": "stream",
     "text": [
      "Sorted list (descending order): [8, 5, 3, 2, 1]\n"
     ]
    }
   ],
   "source": [
    "# Original list\n",
    "my_list = [5, 2, 8, 1, 3]\n",
    "\n",
    "# Sort the list in descending order using the sort() method\n",
    "my_list.sort(reverse=True)\n",
    "\n",
    "# Print the sorted list (descending order)\n",
    "print(\"Sorted list (descending order):\", my_list)\n"
   ]
  },
  {
   "cell_type": "markdown",
   "id": "af721fc8-2805-4ffc-8494-6a5f30c20a09",
   "metadata": {},
   "source": [
    "13. Create a list of even numbers from 1 to 20."
   ]
  },
  {
   "cell_type": "code",
   "execution_count": 30,
   "id": "16b2fab8-73b9-4052-a147-5f5d17f540a6",
   "metadata": {},
   "outputs": [
    {
     "name": "stdout",
     "output_type": "stream",
     "text": [
      "List of even numbers from 1 to 20: [2, 4, 6, 8, 10, 12, 14, 16, 18, 20]\n"
     ]
    }
   ],
   "source": [
    "# Using list comprehension to create a list of even numbers from 1 to 20\n",
    "even_numbers = [num for num in range(1, 21) if num % 2 == 0]\n",
    "\n",
    "# Print the list of even numbers\n",
    "print(\"List of even numbers from 1 to 20:\", even_numbers)\n"
   ]
  },
  {
   "cell_type": "markdown",
   "id": "8119efc8-d4d3-4dbd-8915-943b5dc2635f",
   "metadata": {},
   "source": [
    "14. Create a list of odd numbers from 1 to 20."
   ]
  },
  {
   "cell_type": "code",
   "execution_count": 31,
   "id": "21b62b7b-ccb3-4eb5-b350-266010f44537",
   "metadata": {},
   "outputs": [
    {
     "name": "stdout",
     "output_type": "stream",
     "text": [
      "List of odd numbers from 1 to 20: [1, 3, 5, 7, 9, 11, 13, 15, 17, 19]\n"
     ]
    }
   ],
   "source": [
    "# Using list comprehension to create a list of odd numbers from 1 to 20\n",
    "odd_numbers = [num for num in range(1, 21) if num % 2 != 0]\n",
    "\n",
    "# Print the list of odd numbers\n",
    "print(\"List of odd numbers from 1 to 20:\", odd_numbers)\n"
   ]
  },
  {
   "cell_type": "markdown",
   "id": "f5f659cd-667f-4c45-8685-59e9001e590d",
   "metadata": {},
   "source": [
    "15. Find the sum of all elements in a list."
   ]
  },
  {
   "cell_type": "markdown",
   "id": "0cdc0e76-824d-4526-9e12-191cd619fc15",
   "metadata": {},
   "source": [
    "# Original list\n",
    "my_list = [1, 2, 3, 4, 5]\n",
    "\n",
    "# Find the sum of all elements in the list using the sum() function\n",
    "sum_of_elements = sum(my_list)\n",
    "\n",
    "# Print the sum of all elements\n",
    "print(\"Sum of all elements in the list:\", sum_of_elements)\n"
   ]
  },
  {
   "cell_type": "markdown",
   "id": "b7da54aa-f707-4d64-93f5-b7b0f3085df2",
   "metadata": {},
   "source": [
    "16. Find the maximum value in a list.\n"
   ]
  },
  {
   "cell_type": "code",
   "execution_count": 33,
   "id": "07133c63-4c5a-46ed-8bc2-ed218799a476",
   "metadata": {},
   "outputs": [
    {
     "name": "stdout",
     "output_type": "stream",
     "text": [
      "Maximum value in the list: 50\n"
     ]
    }
   ],
   "source": [
    "# Original list\n",
    "my_list = [10, 30, 20, 50, 40]\n",
    "\n",
    "# Find the maximum value in the list using the max() function\n",
    "max_value = max(my_list)\n",
    "\n",
    "# Print the maximum value\n",
    "print(\"Maximum value in the list:\", max_value)\n"
   ]
  },
  {
   "cell_type": "markdown",
   "id": "a9706e1a-05be-4aba-86c1-e18da1a99282",
   "metadata": {},
   "source": [
    "17. Find the minimum value in a list."
   ]
  },
  {
   "cell_type": "code",
   "execution_count": 34,
   "id": "2efd6d91-8111-4c87-872b-34e3db98547d",
   "metadata": {},
   "outputs": [
    {
     "name": "stdout",
     "output_type": "stream",
     "text": [
      "Minimum value in the list: 10\n"
     ]
    }
   ],
   "source": [
    "# Original list\n",
    "my_list = [10, 30, 20, 50, 40]\n",
    "\n",
    "# Find the minimum value in the list using the min() function\n",
    "min_value = min(my_list)\n",
    "\n",
    "# Print the minimum value\n",
    "print(\"Minimum value in the list:\", min_value)\n"
   ]
  },
  {
   "cell_type": "markdown",
   "id": "4f5a6422-fb5d-4cfe-a89d-fa8d670e4172",
   "metadata": {},
   "source": [
    "18. Create a list of squares of numbers from 1 to 10."
   ]
  },
  {
   "cell_type": "code",
   "execution_count": 35,
   "id": "7720f0b4-145e-492f-a449-135f93c5caaf",
   "metadata": {},
   "outputs": [
    {
     "name": "stdout",
     "output_type": "stream",
     "text": [
      "List of squares of numbers from 1 to 10: [1, 4, 9, 16, 25, 36, 49, 64, 81, 100]\n"
     ]
    }
   ],
   "source": [
    "# Using list comprehension to create a list of squares of numbers from 1 to 10\n",
    "squares_list = [num ** 2 for num in range(1, 11)]\n",
    "\n",
    "# Print the list of squares\n",
    "print(\"List of squares of numbers from 1 to 10:\", squares_list)\n"
   ]
  },
  {
   "cell_type": "markdown",
   "id": "8b26a477-be82-4879-aed0-4c7ae4ddc039",
   "metadata": {},
   "source": [
    "19. Create a list of random numbers."
   ]
  },
  {
   "cell_type": "code",
   "execution_count": 36,
   "id": "b7b39e74-b333-47bd-8947-9db5799dfed7",
   "metadata": {},
   "outputs": [
    {
     "name": "stdout",
     "output_type": "stream",
     "text": [
      "List of random numbers: [19, 12, 52, 10, 72]\n"
     ]
    }
   ],
   "source": [
    "import random\n",
    "\n",
    "# Create a list of 5 random numbers between 1 and 100\n",
    "random_numbers = [random.randint(1, 100) for _ in range(5)]\n",
    "\n",
    "# Print the list of random numbers\n",
    "print(\"List of random numbers:\", random_numbers)\n"
   ]
  },
  {
   "cell_type": "markdown",
   "id": "66266c3a-9cc2-4f32-b514-d4305a6ae235",
   "metadata": {},
   "source": [
    "20. Remove duplicates from a list."
   ]
  },
  {
   "cell_type": "code",
   "execution_count": 37,
   "id": "b42a4860-f086-4de4-b4c6-f38b169ee298",
   "metadata": {},
   "outputs": [
    {
     "name": "stdout",
     "output_type": "stream",
     "text": [
      "List without duplicates: [1, 2, 3, 4, 5]\n"
     ]
    }
   ],
   "source": [
    "# Original list with duplicates\n",
    "my_list = [1, 2, 3, 2, 4, 5, 3]\n",
    "\n",
    "# Remove duplicates by converting to a set and back to a list\n",
    "unique_list = list(set(my_list))\n",
    "\n",
    "# Print the list without duplicates\n",
    "print(\"List without duplicates:\", unique_list)\n"
   ]
  },
  {
   "cell_type": "markdown",
   "id": "2d027c15-9fa7-4b76-8b31-e80fda6a9ab1",
   "metadata": {},
   "source": [
    "21. Find the common elements between two lists."
   ]
  },
  {
   "cell_type": "code",
   "execution_count": 38,
   "id": "5dafb56e-1023-461b-ad6d-8aca5586f3b2",
   "metadata": {},
   "outputs": [
    {
     "name": "stdout",
     "output_type": "stream",
     "text": [
      "Common elements between the two lists: [3, 4, 5]\n"
     ]
    }
   ],
   "source": [
    "# Two lists\n",
    "list1 = [1, 2, 3, 4, 5]\n",
    "list2 = [3, 4, 5, 6, 7]\n",
    "\n",
    "# Find the common elements using set intersection\n",
    "common_elements = list(set(list1) & set(list2))\n",
    "\n",
    "# Print the common elements\n",
    "print(\"Common elements between the two lists:\", common_elements)\n"
   ]
  },
  {
   "cell_type": "markdown",
   "id": "3107bac2-fc54-4ddc-99bd-853f2e24e5f8",
   "metadata": {},
   "source": [
    "22. Find the difference between two lists."
   ]
  },
  {
   "cell_type": "code",
   "execution_count": 39,
   "id": "9002c715-bdd1-493a-95f4-53dd09b17094",
   "metadata": {},
   "outputs": [
    {
     "name": "stdout",
     "output_type": "stream",
     "text": [
      "Difference between list1 and list2: [1, 2]\n"
     ]
    }
   ],
   "source": [
    "# Two lists\n",
    "list1 = [1, 2, 3, 4, 5]\n",
    "list2 = [3, 4, 5, 6, 7]\n",
    "\n",
    "# Find the difference between lists using set difference\n",
    "difference = list(set(list1) - set(list2))\n",
    "\n",
    "# Print the difference\n",
    "print(\"Difference between list1 and list2:\", difference)\n"
   ]
  },
  {
   "cell_type": "markdown",
   "id": "df2b0cfc-b864-4385-aa5e-2c18d0f4dc44",
   "metadata": {},
   "source": [
    "23. Merge two lists."
   ]
  },
  {
   "cell_type": "code",
   "execution_count": 40,
   "id": "5635d561-8dcb-450f-a45b-8897b9803e61",
   "metadata": {},
   "outputs": [
    {
     "name": "stdout",
     "output_type": "stream",
     "text": [
      "Merged list: [1, 2, 3, 4, 5, 6]\n"
     ]
    }
   ],
   "source": [
    "# Two lists\n",
    "list1 = [1, 2, 3]\n",
    "list2 = [4, 5, 6]\n",
    "\n",
    "# Merge the lists using the + operator\n",
    "merged_list = list1 + list2\n",
    "\n",
    "# Print the merged list\n",
    "print(\"Merged list:\", merged_list)\n"
   ]
  },
  {
   "cell_type": "markdown",
   "id": "d3049e3e-fcdd-404d-b1ef-93bec4e4a6ff",
   "metadata": {},
   "source": [
    "24. Multiply all elements in a list by 2."
   ]
  },
  {
   "cell_type": "code",
   "execution_count": 41,
   "id": "1effc422-7039-40c0-b922-be211babbc97",
   "metadata": {},
   "outputs": [
    {
     "name": "stdout",
     "output_type": "stream",
     "text": [
      "Multiplied list: [2, 4, 6, 8, 10]\n"
     ]
    }
   ],
   "source": [
    "# Original list\n",
    "my_list = [1, 2, 3, 4, 5]\n",
    "\n",
    "# Multiply all elements by 2 using list comprehension\n",
    "multiplied_list = [num * 2 for num in my_list]\n",
    "\n",
    "# Print the multiplied list\n",
    "print(\"Multiplied list:\", multiplied_list)\n"
   ]
  },
  {
   "cell_type": "markdown",
   "id": "5a6150b3-fe7a-4d2f-bd34-81350250c09d",
   "metadata": {},
   "source": [
    "25. Filter out all even numbers from a list."
   ]
  },
  {
   "cell_type": "code",
   "execution_count": 42,
   "id": "3e7aa936-e9e6-4908-85cc-dad2acf2f83a",
   "metadata": {},
   "outputs": [
    {
     "name": "stdout",
     "output_type": "stream",
     "text": [
      "List without even numbers: [1, 3, 5]\n"
     ]
    }
   ],
   "source": [
    "# Original list\n",
    "my_list = [1, 2, 3, 4, 5]\n",
    "\n",
    "# Filter out even numbers using list comprehension with a conditional check\n",
    "filtered_list = [num for num in my_list if num % 2 != 0]\n",
    "\n",
    "# Print the filtered list\n",
    "print(\"List without even numbers:\", filtered_list)\n"
   ]
  },
  {
   "cell_type": "markdown",
   "id": "80c496db-2b19-4d3d-a0ea-03baddc311aa",
   "metadata": {},
   "source": [
    "26. Convert a list of strings to a list of integers."
   ]
  },
  {
   "cell_type": "code",
   "execution_count": 43,
   "id": "288f6581-64c8-417e-80d8-9f933ea92bac",
   "metadata": {},
   "outputs": [
    {
     "name": "stdout",
     "output_type": "stream",
     "text": [
      "List of integers: [1, 2, 3, 4, 5]\n"
     ]
    }
   ],
   "source": [
    "# List of strings\n",
    "string_list = ['1', '2', '3', '4', '5']\n",
    "\n",
    "# Convert the list of strings to a list of integers using list comprehension\n",
    "integer_list = [int(num) for num in string_list]\n",
    "\n",
    "# Print the list of integers\n",
    "print(\"List of integers:\", integer_list)\n"
   ]
  },
  {
   "cell_type": "markdown",
   "id": "88152025-4435-4399-a69c-195d174e1d64",
   "metadata": {},
   "source": [
    "27. Convert a list of integers to a list of strings."
   ]
  },
  {
   "cell_type": "code",
   "execution_count": 1,
   "id": "436ac26a-3629-41a5-a28c-37e3b80cb236",
   "metadata": {},
   "outputs": [
    {
     "name": "stdout",
     "output_type": "stream",
     "text": [
      "List of strings: ['1', '2', '3', '4', '5']\n"
     ]
    }
   ],
   "source": [
    "# List of integers\n",
    "integer_list = [1, 2, 3, 4, 5]\n",
    "\n",
    "# Convert the list of integers to a list of strings using list comprehension\n",
    "string_list = [str(num) for num in integer_list]\n",
    "\n",
    "# Print the list of strings\n",
    "print(\"List of strings:\", string_list)\n"
   ]
  },
  {
   "cell_type": "markdown",
   "id": "6c97c2e3-fe29-4b4e-b0af-2c0d4b19a996",
   "metadata": {},
   "source": [
    "28. Flatten a nested list."
   ]
  },
  {
   "cell_type": "code",
   "execution_count": 2,
   "id": "07b9af85-7c3b-4f28-a88f-60a10f805e6b",
   "metadata": {},
   "outputs": [
    {
     "name": "stdout",
     "output_type": "stream",
     "text": [
      "Flattened list: [1, 2, 3, 4, 5, 6, 7, 8]\n"
     ]
    }
   ],
   "source": [
    "# Nested list\n",
    "nested_list = [[1, 2, 3], [4, 5], [6, 7, 8]]\n",
    "\n",
    "# Flatten the nested list using list comprehension and extend\n",
    "flattened_list = [item for sublist in nested_list for item in sublist]\n",
    "\n",
    "# Print the flattened list\n",
    "print(\"Flattened list:\", flattened_list)\n"
   ]
  },
  {
   "cell_type": "markdown",
   "id": "c9a593df-2374-4805-9866-a39287c518b0",
   "metadata": {},
   "source": [
    "29. Create a list of the first 10 Fibonacci numbers."
   ]
  },
  {
   "cell_type": "code",
   "execution_count": 3,
   "id": "5b810ba6-2a9a-4eb9-a565-3e00222a71e9",
   "metadata": {},
   "outputs": [
    {
     "name": "stdout",
     "output_type": "stream",
     "text": [
      "First 10 Fibonacci numbers: [0, 1, 1, 2, 3, 5, 8, 13, 21, 34]\n"
     ]
    }
   ],
   "source": [
    "# Function to generate Fibonacci numbers\n",
    "def fibonacci(n):\n",
    "    fib_list = [0, 1]\n",
    "    while len(fib_list) < n:\n",
    "        fib_list.append(fib_list[-1] + fib_list[-2])\n",
    "    return fib_list[:n]\n",
    "\n",
    "# Generate the first 10 Fibonacci numbers\n",
    "fibonacci_numbers = fibonacci(10)\n",
    "\n",
    "# Print the list of Fibonacci numbers\n",
    "print(\"First 10 Fibonacci numbers:\", fibonacci_numbers)\n"
   ]
  },
  {
   "cell_type": "markdown",
   "id": "712e8a53-0679-44f3-883a-798e09c28b37",
   "metadata": {},
   "source": [
    "30. Check if a list is sorted."
   ]
  },
  {
   "cell_type": "code",
   "execution_count": 4,
   "id": "21c0b1e4-c72a-42b1-8c66-1f5e87c04e1a",
   "metadata": {},
   "outputs": [
    {
     "name": "stdout",
     "output_type": "stream",
     "text": [
      "Is the list sorted? True\n"
     ]
    }
   ],
   "source": [
    "# List to check\n",
    "sorted_list = [1, 2, 3, 4, 5]\n",
    "\n",
    "# Check if the list is sorted using the all() function and a comparison\n",
    "is_sorted = all(sorted_list[i] <= sorted_list[i + 1] for i in range(len(sorted_list) - 1))\n",
    "\n",
    "# Print the result\n",
    "print(\"Is the list sorted?\", is_sorted)\n"
   ]
  },
  {
   "cell_type": "markdown",
   "id": "1fe68255-c30e-459d-8d47-44b965543029",
   "metadata": {},
   "source": [
    "31. Rotate a list to the left by `n` positions."
   ]
  },
  {
   "cell_type": "code",
   "execution_count": 5,
   "id": "22ffce4d-6fa7-4a19-b311-d0107bfb6a89",
   "metadata": {},
   "outputs": [
    {
     "name": "stdout",
     "output_type": "stream",
     "text": [
      "Rotated list to the left: [3, 4, 5, 1, 2]\n"
     ]
    }
   ],
   "source": [
    "def rotate_left(lst, n):\n",
    "    n = n % len(lst)  # Handle cases where n is larger than the length of the list\n",
    "    return lst[n:] + lst[:n]\n",
    "\n",
    "# Original list\n",
    "my_list = [1, 2, 3, 4, 5]\n",
    "\n",
    "# Rotate the list to the left by 2 positions\n",
    "rotated_list = rotate_left(my_list, 2)\n",
    "\n",
    "# Print the rotated list\n",
    "print(\"Rotated list to the left:\", rotated_list)\n"
   ]
  },
  {
   "cell_type": "markdown",
   "id": "95fc21a4-dfe1-4aad-87a4-339098231884",
   "metadata": {},
   "source": [
    "32. Rotate a list to the right by `n` positions."
   ]
  },
  {
   "cell_type": "code",
   "execution_count": 6,
   "id": "d51a6f6c-e58a-4ee2-b5bb-7e67426181e3",
   "metadata": {},
   "outputs": [
    {
     "name": "stdout",
     "output_type": "stream",
     "text": [
      "Rotated list to the right: [4, 5, 1, 2, 3]\n"
     ]
    }
   ],
   "source": [
    "def rotate_right(lst, n):\n",
    "    n = n % len(lst)  # Handle cases where n is larger than the length of the list\n",
    "    return lst[-n:] + lst[:-n]\n",
    "\n",
    "# Original list\n",
    "my_list = [1, 2, 3, 4, 5]\n",
    "\n",
    "# Rotate the list to the right by 2 positions\n",
    "rotated_list = rotate_right(my_list, 2)\n",
    "\n",
    "# Print the rotated list\n",
    "print(\"Rotated list to the right:\", rotated_list)\n"
   ]
  },
  {
   "cell_type": "markdown",
   "id": "47239347-42a7-450e-9021-895201b38c69",
   "metadata": {},
   "source": [
    "33. Create a list of prime numbers up to 50."
   ]
  },
  {
   "cell_type": "code",
   "execution_count": 7,
   "id": "87c605f2-aec6-42a5-861e-8f46c8f70b02",
   "metadata": {},
   "outputs": [
    {
     "name": "stdout",
     "output_type": "stream",
     "text": [
      "List of prime numbers up to 50: [2, 3, 5, 7, 11, 13, 17, 19, 23, 29, 31, 37, 41, 43, 47]\n"
     ]
    }
   ],
   "source": [
    "def is_prime(num):\n",
    "    if num <= 1:\n",
    "        return False\n",
    "    for i in range(2, int(num**0.5) + 1):\n",
    "        if num % i == 0:\n",
    "            return False\n",
    "    return True\n",
    "\n",
    "# Generate a list of prime numbers up to 50 using list comprehension\n",
    "prime_numbers = [num for num in range(2, 51) if is_prime(num)]\n",
    "\n",
    "# Print the list of prime numbers\n",
    "print(\"List of prime numbers up to 50:\", prime_numbers)\n"
   ]
  },
  {
   "cell_type": "markdown",
   "id": "b1a17838-3d06-4e1d-a530-9cffe9d2339a",
   "metadata": {},
   "source": [
    "34. Split a list into chunks of size `n`."
   ]
  },
  {
   "cell_type": "code",
   "execution_count": 8,
   "id": "7d308751-95c5-4c6c-9f0b-37c80d6cb35e",
   "metadata": {},
   "outputs": [
    {
     "name": "stdout",
     "output_type": "stream",
     "text": [
      "Chunked list: [[1, 2, 3], [4, 5, 6], [7, 8, 9]]\n"
     ]
    }
   ],
   "source": [
    "def chunk_list(lst, n):\n",
    "    return [lst[i:i + n] for i in range(0, len(lst), n)]\n",
    "\n",
    "# Original list\n",
    "my_list = [1, 2, 3, 4, 5, 6, 7, 8, 9]\n",
    "\n",
    "# Split the list into chunks of size 3\n",
    "chunked_list = chunk_list(my_list, 3)\n",
    "\n",
    "# Print the chunked list\n",
    "print(\"Chunked list:\", chunked_list)\n"
   ]
  },
  {
   "cell_type": "markdown",
   "id": "df8b8576-56b1-44f7-89e1-4d4e58272ca3",
   "metadata": {},
   "source": [
    "35. Find the second largest number in a list."
   ]
  },
  {
   "cell_type": "code",
   "execution_count": 9,
   "id": "aa88be4f-6b98-4012-9a9b-582560c682ed",
   "metadata": {},
   "outputs": [
    {
     "name": "stdout",
     "output_type": "stream",
     "text": [
      "Second largest number in the list: 15\n"
     ]
    }
   ],
   "source": [
    "def second_largest(lst):\n",
    "    if len(lst) < 2:\n",
    "        return None\n",
    "    sorted_list = sorted(lst, reverse=True)\n",
    "    return sorted_list[1]\n",
    "\n",
    "# Original list\n",
    "my_list = [10, 5, 8, 20, 15]\n",
    "\n",
    "# Find the second largest number in the list\n",
    "second_largest_num = second_largest(my_list)\n",
    "\n",
    "# Print the second largest number\n",
    "print(\"Second largest number in the list:\", second_largest_num)\n"
   ]
  },
  {
   "cell_type": "markdown",
   "id": "f4d9a53d-078a-434b-a812-35c0c3aff536",
   "metadata": {},
   "source": [
    "36. Replace every element in a list with its square."
   ]
  },
  {
   "cell_type": "code",
   "execution_count": 10,
   "id": "b5f9a6f9-ace5-41e4-9f44-e23c90eda92f",
   "metadata": {},
   "outputs": [
    {
     "name": "stdout",
     "output_type": "stream",
     "text": [
      "Squared list: [1, 4, 9, 16, 25]\n"
     ]
    }
   ],
   "source": [
    "# Original list\n",
    "my_list = [1, 2, 3, 4, 5]\n",
    "\n",
    "# Replace each element with its square using list comprehension\n",
    "squared_list = [num**2 for num in my_list]\n",
    "\n",
    "# Print the squared list\n",
    "print(\"Squared list:\", squared_list)\n"
   ]
  },
  {
   "cell_type": "markdown",
   "id": "c39ed4bc-42a7-4152-b6f8-4aeb36babe59",
   "metadata": {},
   "source": [
    "37. Convert a list to a dictionary where list elements become keys and their\n",
    "indices become values."
   ]
  },
  {
   "cell_type": "code",
   "execution_count": 11,
   "id": "efa7b572-2bbb-4d5e-a819-48b23db34d90",
   "metadata": {},
   "outputs": [
    {
     "name": "stdout",
     "output_type": "stream",
     "text": [
      "Dictionary from list: {'apple': 0, 'banana': 1, 'cherry': 2, 'date': 3}\n"
     ]
    }
   ],
   "source": [
    "# Original list\n",
    "my_list = ['apple', 'banana', 'cherry', 'date']\n",
    "\n",
    "# Convert the list to a dictionary with elements as keys and indices as values\n",
    "list_to_dict = {elem: index for index, elem in enumerate(my_list)}\n",
    "\n",
    "# Print the dictionary\n",
    "print(\"Dictionary from list:\", list_to_dict)\n"
   ]
  },
  {
   "cell_type": "markdown",
   "id": "6bad94b9-0abe-46d2-89d5-c2ed1ce2a319",
   "metadata": {},
   "source": [
    "38. Shuffle the elements of a list randomly."
   ]
  },
  {
   "cell_type": "code",
   "execution_count": 12,
   "id": "8aff9812-48c8-412d-8cde-76c1f11c0681",
   "metadata": {},
   "outputs": [
    {
     "name": "stdout",
     "output_type": "stream",
     "text": [
      "Shuffled list: [2, 5, 3, 4, 1]\n"
     ]
    }
   ],
   "source": [
    "import random\n",
    "\n",
    "# Original list\n",
    "my_list = [1, 2, 3, 4, 5]\n",
    "\n",
    "# Shuffle the list randomly using the random.shuffle() function\n",
    "random.shuffle(my_list)\n",
    "\n",
    "# Print the shuffled list\n",
    "print(\"Shuffled list:\", my_list)\n"
   ]
  },
  {
   "cell_type": "markdown",
   "id": "16e487fa-727c-4c26-a88c-f1727cbd4245",
   "metadata": {},
   "source": [
    "39. Create a list of the first 10 factorial numbers."
   ]
  },
  {
   "cell_type": "code",
   "execution_count": 13,
   "id": "806fa9dc-0811-4500-9f91-4eeacff2985c",
   "metadata": {},
   "outputs": [
    {
     "name": "stdout",
     "output_type": "stream",
     "text": [
      "List of factorial numbers: [1, 1, 2, 6, 24, 120, 720, 5040, 40320, 362880]\n"
     ]
    }
   ],
   "source": [
    "# Function to calculate factorial\n",
    "def factorial(n):\n",
    "    if n == 0:\n",
    "        return 1\n",
    "    else:\n",
    "        return n * factorial(n-1)\n",
    "\n",
    "# Create a list of the first 10 factorial numbers using list comprehension\n",
    "factorial_list = [factorial(i) for i in range(10)]\n",
    "\n",
    "# Print the list of factorial numbers\n",
    "print(\"List of factorial numbers:\", factorial_list)\n"
   ]
  },
  {
   "cell_type": "markdown",
   "id": "f08400f0-39e0-4d05-9d77-9fbdf90c1bc1",
   "metadata": {},
   "source": [
    "40. Check if two lists have at least one element in common."
   ]
  },
  {
   "cell_type": "code",
   "execution_count": 14,
   "id": "39114bea-7864-4124-ab3e-763acd16e884",
   "metadata": {},
   "outputs": [
    {
     "name": "stdout",
     "output_type": "stream",
     "text": [
      "Do the lists have at least one common element? True\n"
     ]
    }
   ],
   "source": [
    "# Two lists\n",
    "list1 = [1, 2, 3, 4, 5]\n",
    "list2 = [4, 5, 6, 7, 8]\n",
    "\n",
    "# Check if the lists have at least one common element\n",
    "common_element = any(elem in list1 for elem in list2)\n",
    "\n",
    "# Print the result\n",
    "print(\"Do the lists have at least one common element?\", common_element)\n"
   ]
  },
  {
   "cell_type": "markdown",
   "id": "2c061254-4a7b-406b-a064-a9c8014e54d6",
   "metadata": {},
   "source": [
    "41. Remove all elements from a list."
   ]
  },
  {
   "cell_type": "code",
   "execution_count": 15,
   "id": "4e036666-8f71-4cfd-a1e3-d90ec72a487e",
   "metadata": {},
   "outputs": [
    {
     "name": "stdout",
     "output_type": "stream",
     "text": [
      "Empty list after removal: []\n"
     ]
    }
   ],
   "source": [
    "# Original list\n",
    "my_list = [1, 2, 3, 4, 5]\n",
    "\n",
    "# Clear the list by assigning an empty list to it\n",
    "my_list.clear()\n",
    "\n",
    "# Print the empty list\n",
    "print(\"Empty list after removal:\", my_list)\n"
   ]
  },
  {
   "cell_type": "markdown",
   "id": "b76e9a5c-659d-469b-a762-decc2ca01a60",
   "metadata": {},
   "source": [
    "42. Replace negative numbers in a list with 0."
   ]
  },
  {
   "cell_type": "code",
   "execution_count": 16,
   "id": "98609406-ed14-4976-ac8c-7569370a8234",
   "metadata": {},
   "outputs": [
    {
     "name": "stdout",
     "output_type": "stream",
     "text": [
      "List with negative numbers replaced by 0: [1, 0, 3, 0, 5]\n"
     ]
    }
   ],
   "source": [
    "# Original list\n",
    "my_list = [1, -2, 3, -4, 5]\n",
    "\n",
    "# Replace negative numbers with 0 using list comprehension\n",
    "modified_list = [num if num >= 0 else 0 for num in my_list]\n",
    "\n",
    "# Print the modified list\n",
    "print(\"List with negative numbers replaced by 0:\", modified_list)\n"
   ]
  },
  {
   "cell_type": "markdown",
   "id": "8b57580f-9d75-42a8-aa26-c537de897915",
   "metadata": {},
   "source": [
    "43. Convert a string into a list of words."
   ]
  },
  {
   "cell_type": "code",
   "execution_count": 17,
   "id": "94da6c3c-ae9d-4f76-a438-c893fa55d9b6",
   "metadata": {},
   "outputs": [
    {
     "name": "stdout",
     "output_type": "stream",
     "text": [
      "List of words from the string: ['Hello', 'world,', 'this', 'is', 'a', 'string!']\n"
     ]
    }
   ],
   "source": [
    "# String\n",
    "my_string = \"Hello world, this is a string!\"\n",
    "\n",
    "# Convert the string into a list of words using the split() method\n",
    "word_list = my_string.split()\n",
    "\n",
    "# Print the list of words\n",
    "print(\"List of words from the string:\", word_list)\n"
   ]
  },
  {
   "cell_type": "markdown",
   "id": "4d61ca64-3b1a-4a1e-9c55-c27434452d1a",
   "metadata": {},
   "source": [
    "44. Convert a list of words into a string."
   ]
  },
  {
   "cell_type": "code",
   "execution_count": 18,
   "id": "c32ce6b9-0aa4-4de4-a693-1bea557bb2db",
   "metadata": {},
   "outputs": [
    {
     "name": "stdout",
     "output_type": "stream",
     "text": [
      "String from the list of words: Hello world, this is a list\n"
     ]
    }
   ],
   "source": [
    "# List of words\n",
    "word_list = ['Hello', 'world,', 'this', 'is', 'a', 'list']\n",
    "\n",
    "# Convert the list of words into a string using the join() method\n",
    "my_string = ' '.join(word_list)\n",
    "\n",
    "# Print the string\n",
    "print(\"String from the list of words:\", my_string)\n"
   ]
  },
  {
   "cell_type": "markdown",
   "id": "5bc56360-0b4d-4b5d-81ed-04aaf69bc3d1",
   "metadata": {},
   "source": [
    "45. Create a list of the first `n` powers of 2."
   ]
  },
  {
   "cell_type": "code",
   "execution_count": 19,
   "id": "22eac295-c2fd-45ff-9944-13c804a12b61",
   "metadata": {},
   "outputs": [
    {
     "name": "stdout",
     "output_type": "stream",
     "text": [
      "List of the first 5 powers of 2: [1, 2, 4, 8, 16]\n"
     ]
    }
   ],
   "source": [
    "# Number of powers to generate\n",
    "n = 5\n",
    "\n",
    "# Create a list of the first n powers of 2 using list comprehension\n",
    "powers_of_2 = [2**i for i in range(n)]\n",
    "\n",
    "# Print the list of powers of 2\n",
    "print(\"List of the first\", n, \"powers of 2:\", powers_of_2)\n"
   ]
  },
  {
   "cell_type": "markdown",
   "id": "cc7f12f9-78c5-4165-8341-ad6238963697",
   "metadata": {},
   "source": [
    "46. Find the longest string in a list of strings."
   ]
  },
  {
   "cell_type": "code",
   "execution_count": 20,
   "id": "35408e91-3c5c-4fe6-86af-b27a78fb048d",
   "metadata": {},
   "outputs": [
    {
     "name": "stdout",
     "output_type": "stream",
     "text": [
      "Longest string in the list: banana\n"
     ]
    }
   ],
   "source": [
    "# List of strings\n",
    "string_list = ['apple', 'banana', 'cherry', 'date']\n",
    "\n",
    "# Find the longest string using the max() function with the key=len\n",
    "longest_string = max(string_list, key=len)\n",
    "\n",
    "# Print the longest string\n",
    "print(\"Longest string in the list:\", longest_string)\n"
   ]
  },
  {
   "cell_type": "markdown",
   "id": "5f7d9c51-7971-4247-93cc-63292da402fd",
   "metadata": {},
   "source": [
    "47. Find the shortest string in a list of strings."
   ]
  },
  {
   "cell_type": "code",
   "execution_count": 21,
   "id": "108df2df-f3b0-472d-a43f-58a0e98cb109",
   "metadata": {},
   "outputs": [
    {
     "name": "stdout",
     "output_type": "stream",
     "text": [
      "Shortest string in the list: date\n"
     ]
    }
   ],
   "source": [
    "# List of strings\n",
    "string_list = ['apple', 'banana', 'cherry', 'date']\n",
    "\n",
    "# Find the shortest string using the min() function with the key=len\n",
    "shortest_string = min(string_list, key=len)\n",
    "\n",
    "# Print the shortest string\n",
    "print(\"Shortest string in the list:\", shortest_string)\n"
   ]
  },
  {
   "cell_type": "markdown",
   "id": "574c484a-75d1-4083-8be5-87a0e1a8e88e",
   "metadata": {},
   "source": [
    "48. Create a list of the first `n` triangular numbers."
   ]
  },
  {
   "cell_type": "code",
   "execution_count": 22,
   "id": "89539c13-7c52-4697-a2c2-7aa37d352774",
   "metadata": {},
   "outputs": [
    {
     "name": "stdout",
     "output_type": "stream",
     "text": [
      "List of the first 5 triangular numbers: [1, 3, 6, 10, 15]\n"
     ]
    }
   ],
   "source": [
    "# Number of triangular numbers to generate\n",
    "n = 5\n",
    "\n",
    "# Generate a list of the first n triangular numbers using list comprehension\n",
    "triangular_numbers = [(i * (i + 1)) // 2 for i in range(1, n + 1)]\n",
    "\n",
    "# Print the list of triangular numbers\n",
    "print(\"List of the first\", n, \"triangular numbers:\", triangular_numbers)\n"
   ]
  },
  {
   "cell_type": "markdown",
   "id": "80f02dba-8995-4b1e-975a-cf7926603ad5",
   "metadata": {},
   "source": [
    "49. Check if a list contains another list as a subsequence."
   ]
  },
  {
   "cell_type": "code",
   "execution_count": 23,
   "id": "0acdb608-977c-4699-be1a-dd0103ea2d3e",
   "metadata": {},
   "outputs": [
    {
     "name": "stdout",
     "output_type": "stream",
     "text": [
      "Does the list contain the subsequence? True\n"
     ]
    }
   ],
   "source": [
    "# Main list\n",
    "main_list = [1, 2, 3, 4, 5, 6, 7, 8]\n",
    "\n",
    "# Subsequence list\n",
    "subsequence = [3, 4, 5]\n",
    "\n",
    "# Check if the subsequence is a sublist using list comprehension\n",
    "is_subsequence = any(subsequence == main_list[i:i+len(subsequence)] for i in range(len(main_list) - len(subsequence) + 1))\n",
    "\n",
    "# Print the result\n",
    "print(\"Does the list contain the subsequence?\", is_subsequence)\n"
   ]
  },
  {
   "cell_type": "markdown",
   "id": "a97ad939-d4f8-4e48-bb73-b115e5e89f1d",
   "metadata": {},
   "source": [
    "50. Swap two elements in a list by their indices."
   ]
  },
  {
   "cell_type": "code",
   "execution_count": 24,
   "id": "b31e590e-1362-4a12-a9cf-6f02dd6a2a8d",
   "metadata": {},
   "outputs": [
    {
     "name": "stdout",
     "output_type": "stream",
     "text": [
      "List after swapping elements: [1, 4, 3, 2, 5]\n"
     ]
    }
   ],
   "source": [
    "# Original list\n",
    "my_list = [1, 2, 3, 4, 5]\n",
    "\n",
    "# Indices of elements to swap\n",
    "index1, index2 = 1, 3\n",
    "\n",
    "# Swap the elements using tuple unpacking\n",
    "my_list[index1], my_list[index2] = my_list[index2], my_list[index1]\n",
    "\n",
    "# Print the list after swapping\n",
    "print(\"List after swapping elements:\", my_list)\n"
   ]
  },
  {
   "cell_type": "markdown",
   "id": "3187e991-6c79-4c95-9320-c3c36a5e7b0c",
   "metadata": {},
   "source": [
    "1. Create a tuple with integers from 1 to 5."
   ]
  },
  {
   "cell_type": "code",
   "execution_count": 25,
   "id": "7fb1e67b-6aa4-4e9a-88c4-4aad4c08e896",
   "metadata": {},
   "outputs": [
    {
     "name": "stdout",
     "output_type": "stream",
     "text": [
      "Tuple with integers from 1 to 5: (1, 2, 3, 4, 5)\n"
     ]
    }
   ],
   "source": [
    "# Create a tuple with integers from 1 to 5\n",
    "my_tuple = (1, 2, 3, 4, 5)\n",
    "\n",
    "# Print the tuple\n",
    "print(\"Tuple with integers from 1 to 5:\", my_tuple)\n"
   ]
  },
  {
   "cell_type": "markdown",
   "id": "a3eac852-cb5b-4f0b-b472-7ad6475c2ade",
   "metadata": {},
   "source": [
    "2. Access the third element of a tuple."
   ]
  },
  {
   "cell_type": "code",
   "execution_count": 26,
   "id": "508e00e2-85a5-425a-a08f-15e5e370ec01",
   "metadata": {},
   "outputs": [
    {
     "name": "stdout",
     "output_type": "stream",
     "text": [
      "Third element of the tuple: 3\n"
     ]
    }
   ],
   "source": [
    "# Access the third element of the tuple using indexing (indexing starts at 0)\n",
    "third_element = my_tuple[2]\n",
    "\n",
    "# Print the third element\n",
    "print(\"Third element of the tuple:\", third_element)\n"
   ]
  },
  {
   "cell_type": "markdown",
   "id": "c986cf03-664c-4ab3-931d-d065dac9735b",
   "metadata": {},
   "source": [
    "3. Find the length of a tuple without using the `len()` function."
   ]
  },
  {
   "cell_type": "code",
   "execution_count": 27,
   "id": "1353b9db-ddd2-4bff-813b-da977528dc1d",
   "metadata": {},
   "outputs": [
    {
     "name": "stdout",
     "output_type": "stream",
     "text": [
      "Length of the tuple without using len(): 5\n"
     ]
    }
   ],
   "source": [
    "# Initialize a variable to count the elements in the tuple\n",
    "length = 0\n",
    "\n",
    "# Iterate through the tuple elements and count them\n",
    "for _ in my_tuple:\n",
    "    length += 1\n",
    "\n",
    "# Print the length of the tuple\n",
    "print(\"Length of the tuple without using len():\", length)\n"
   ]
  },
  {
   "cell_type": "markdown",
   "id": "9fd0cdc1-6c65-4557-b0f1-68e0df9d9e55",
   "metadata": {},
   "source": [
    "4. Count the occurrences of an element in a tuple."
   ]
  },
  {
   "cell_type": "code",
   "execution_count": 28,
   "id": "02d82e28-670f-4369-82b8-5079b5bfba98",
   "metadata": {},
   "outputs": [
    {
     "name": "stdout",
     "output_type": "stream",
     "text": [
      "Occurrences of 3 in the tuple: 1\n"
     ]
    }
   ],
   "source": [
    "# Count the occurrences of an element in the tuple using the count() method\n",
    "element_count = my_tuple.count(3)\n",
    "\n",
    "# Print the count of occurrences\n",
    "print(\"Occurrences of 3 in the tuple:\", element_count)\n"
   ]
  },
  {
   "cell_type": "markdown",
   "id": "27fa6663-59b9-4eb9-861c-bce908b4c7b6",
   "metadata": {},
   "source": [
    "5. Find the index of the first occurrence of an element in a tuple."
   ]
  },
  {
   "cell_type": "code",
   "execution_count": 29,
   "id": "6f0ecc55-2e08-4e31-89a4-8100491c8d96",
   "metadata": {},
   "outputs": [
    {
     "name": "stdout",
     "output_type": "stream",
     "text": [
      "Index of the first occurrence of 4: 3\n"
     ]
    }
   ],
   "source": [
    "# Find the index of the first occurrence of an element using the index() method\n",
    "element_index = my_tuple.index(4)\n",
    "\n",
    "# Print the index of the first occurrence\n",
    "print(\"Index of the first occurrence of 4:\", element_index)\n"
   ]
  },
  {
   "cell_type": "markdown",
   "id": "5aad56dd-2d5c-4fea-95f7-582b9f1811d4",
   "metadata": {},
   "source": [
    "6. Check if an element exists in a tuple."
   ]
  },
  {
   "cell_type": "code",
   "execution_count": 30,
   "id": "a6d18cdf-6044-4c81-8b79-5ead0c5bd100",
   "metadata": {},
   "outputs": [
    {
     "name": "stdout",
     "output_type": "stream",
     "text": [
      "Does 3 exist in the tuple? True\n"
     ]
    }
   ],
   "source": [
    "# Element to check\n",
    "element_to_check = 3\n",
    "\n",
    "# Check if the element exists in the tuple\n",
    "element_exists = element_to_check in my_tuple\n",
    "\n",
    "# Print the result\n",
    "print(\"Does\", element_to_check, \"exist in the tuple?\", element_exists)\n"
   ]
  },
  {
   "cell_type": "markdown",
   "id": "c8c51f2e-7bf3-4970-96f4-d17c26bd8eb7",
   "metadata": {},
   "source": [
    "7. Convert a tuple to a list."
   ]
  },
  {
   "cell_type": "code",
   "execution_count": 31,
   "id": "be30a104-83e2-41bb-9f0b-a6f7384d5c08",
   "metadata": {},
   "outputs": [
    {
     "name": "stdout",
     "output_type": "stream",
     "text": [
      "Converted tuple to list: [1, 2, 3, 4, 5]\n"
     ]
    }
   ],
   "source": [
    "# Convert the tuple to a list using the list() constructor\n",
    "tuple_to_list = list(my_tuple)\n",
    "\n",
    "# Print the converted list\n",
    "print(\"Converted tuple to list:\", tuple_to_list)\n"
   ]
  },
  {
   "cell_type": "markdown",
   "id": "875f4a51-e708-42c0-8711-d303852ce04d",
   "metadata": {},
   "source": [
    "8. Convert a list to a tuple."
   ]
  },
  {
   "cell_type": "code",
   "execution_count": 32,
   "id": "548b84c4-d6cb-40fc-b32c-4fc21dd3a9d2",
   "metadata": {},
   "outputs": [
    {
     "name": "stdout",
     "output_type": "stream",
     "text": [
      "Converted list to tuple: (1, 2, 3, 4, 5)\n"
     ]
    }
   ],
   "source": [
    "# List to convert to a tuple\n",
    "my_list = [1, 2, 3, 4, 5]\n",
    "\n",
    "# Convert the list to a tuple using the tuple() constructor\n",
    "list_to_tuple = tuple(my_list)\n",
    "\n",
    "# Print the converted tuple\n",
    "print(\"Converted list to tuple:\", list_to_tuple)\n"
   ]
  },
  {
   "cell_type": "markdown",
   "id": "45420306-a37c-4281-b0ca-9a795eef575f",
   "metadata": {},
   "source": [
    "9. Unpack the elements of a tuple into variables."
   ]
  },
  {
   "cell_type": "code",
   "execution_count": 33,
   "id": "73ca579b-fcbf-4738-8b7d-de78bddc5b44",
   "metadata": {},
   "outputs": [
    {
     "name": "stdout",
     "output_type": "stream",
     "text": [
      "Unpacked variables from tuple: 1 2 3 4 5\n"
     ]
    }
   ],
   "source": [
    "# Unpack the tuple into variables\n",
    "a, b, c, d, e = my_tuple\n",
    "\n",
    "# Print the unpacked variables\n",
    "print(\"Unpacked variables from tuple:\", a, b, c, d, e)\n"
   ]
  },
  {
   "cell_type": "markdown",
   "id": "a6204648-da3d-415d-b53d-6128de420075",
   "metadata": {},
   "source": [
    "10. Create a tuple of even numbers from 1 to 10."
   ]
  },
  {
   "cell_type": "code",
   "execution_count": 34,
   "id": "bb85a053-955b-4aef-b79b-06a01892f65f",
   "metadata": {},
   "outputs": [
    {
     "name": "stdout",
     "output_type": "stream",
     "text": [
      "Tuple of even numbers from 1 to 10: (2, 4, 6, 8, 10)\n"
     ]
    }
   ],
   "source": [
    "# Create a tuple of even numbers from 1 to 10 using tuple comprehension\n",
    "even_numbers_tuple = tuple(num for num in range(1, 11) if num % 2 == 0)\n",
    "\n",
    "# Print the tuple of even numbers\n",
    "print(\"Tuple of even numbers from 1 to 10:\", even_numbers_tuple)\n"
   ]
  },
  {
   "cell_type": "markdown",
   "id": "fc5bff03-77ce-4b44-83fc-e835307cffdc",
   "metadata": {},
   "source": [
    "11. Create a tuple of odd numbers from 1 to 10."
   ]
  },
  {
   "cell_type": "code",
   "execution_count": 35,
   "id": "28348815-f7e9-4876-bd2e-58556696a733",
   "metadata": {},
   "outputs": [
    {
     "name": "stdout",
     "output_type": "stream",
     "text": [
      "Tuple of odd numbers from 1 to 10: (1, 3, 5, 7, 9)\n"
     ]
    }
   ],
   "source": [
    "# Create a tuple of odd numbers from 1 to 10 using tuple comprehension\n",
    "odd_numbers_tuple = tuple(num for num in range(1, 11) if num % 2 != 0)\n",
    "\n",
    "# Print the tuple of odd numbers\n",
    "print(\"Tuple of odd numbers from 1 to 10:\", odd_numbers_tuple)\n"
   ]
  },
  {
   "cell_type": "markdown",
   "id": "fdb9227c-d682-4967-aab9-5dfa083fd765",
   "metadata": {},
   "source": [
    "12. Concatenate two tuples."
   ]
  },
  {
   "cell_type": "code",
   "execution_count": 36,
   "id": "3d0a28ed-1194-4dc0-9ec0-9714ed8aff4d",
   "metadata": {},
   "outputs": [
    {
     "name": "stdout",
     "output_type": "stream",
     "text": [
      "Concatenated tuple: (1, 2, 3, 4, 5, 6)\n"
     ]
    }
   ],
   "source": [
    "# Two tuples to concatenate\n",
    "tuple1 = (1, 2, 3)\n",
    "tuple2 = (4, 5, 6)\n",
    "\n",
    "# Concatenate the two tuples using the + operator\n",
    "concatenated_tuple = tuple1 + tuple2\n",
    "\n",
    "# Print the concatenated tuple\n",
    "print(\"Concatenated tuple:\", concatenated_tuple)\n"
   ]
  },
  {
   "cell_type": "markdown",
   "id": "8c901189-fd5d-4659-80ee-07505f60f7a1",
   "metadata": {},
   "source": [
    "13. Repeat a tuple three times."
   ]
  },
  {
   "cell_type": "code",
   "execution_count": 37,
   "id": "2f57627f-c7d3-40e1-8605-a921a7425d6a",
   "metadata": {},
   "outputs": [
    {
     "name": "stdout",
     "output_type": "stream",
     "text": [
      "Repeated tuple three times: (1, 2, 3, 1, 2, 3, 1, 2, 3)\n"
     ]
    }
   ],
   "source": [
    "# Tuple to repeat\n",
    "original_tuple = (1, 2, 3)\n",
    "\n",
    "# Repeat the tuple three times using the * operator\n",
    "repeated_tuple = original_tuple * 3\n",
    "\n",
    "# Print the repeated tuple\n",
    "print(\"Repeated tuple three times:\", repeated_tuple)\n"
   ]
  },
  {
   "cell_type": "markdown",
   "id": "dde9233b-c784-4115-a663-eedae0c737ac",
   "metadata": {},
   "source": [
    "14. Check if a tuple is empty."
   ]
  },
  {
   "cell_type": "code",
   "execution_count": 38,
   "id": "ab4012df-5c86-4e2e-9026-6b5f1e97a256",
   "metadata": {},
   "outputs": [
    {
     "name": "stdout",
     "output_type": "stream",
     "text": [
      "Is the tuple empty? True\n"
     ]
    }
   ],
   "source": [
    "# Empty tuple\n",
    "empty_tuple = ()\n",
    "\n",
    "# Check if the tuple is empty\n",
    "is_empty = not bool(empty_tuple)\n",
    "\n",
    "# Print the result\n",
    "print(\"Is the tuple empty?\", is_empty)\n"
   ]
  },
  {
   "cell_type": "markdown",
   "id": "59d4c58a-fc64-4fa7-856a-132c1183cdc7",
   "metadata": {},
   "source": [
    "15. Create a nested tuple."
   ]
  },
  {
   "cell_type": "code",
   "execution_count": 39,
   "id": "d58cd12c-c9ca-4f5a-95fd-5ae922410a6b",
   "metadata": {},
   "outputs": [
    {
     "name": "stdout",
     "output_type": "stream",
     "text": [
      "Nested tuple: ((1, 2), (3, 4), (5, 6))\n"
     ]
    }
   ],
   "source": [
    "# Create a nested tuple\n",
    "nested_tuple = ((1, 2), (3, 4), (5, 6))\n",
    "\n",
    "# Print the nested tuple\n",
    "print(\"Nested tuple:\", nested_tuple)\n"
   ]
  },
  {
   "cell_type": "markdown",
   "id": "fe27c8dc-afe2-41fe-a05a-764dbb6b6205",
   "metadata": {},
   "source": [
    "16. Access the first element of a nested tuple."
   ]
  },
  {
   "cell_type": "code",
   "execution_count": 40,
   "id": "9dc81afb-cd6f-406d-8646-cd8848de3a99",
   "metadata": {},
   "outputs": [
    {
     "name": "stdout",
     "output_type": "stream",
     "text": [
      "First element of the nested tuple: (1, 2)\n"
     ]
    }
   ],
   "source": [
    "# Nested tuple\n",
    "nested_tuple = ((1, 2), (3, 4), (5, 6))\n",
    "\n",
    "# Access the first element of the nested tuple\n",
    "first_element = nested_tuple[0]\n",
    "\n",
    "# Print the first element\n",
    "print(\"First element of the nested tuple:\", first_element)\n"
   ]
  },
  {
   "cell_type": "markdown",
   "id": "191c4db1-4d93-4aff-9c5d-4218628a5bd1",
   "metadata": {},
   "source": [
    "17. Create a tuple with a single element."
   ]
  },
  {
   "cell_type": "code",
   "execution_count": 41,
   "id": "11cf7c38-41c9-4dce-a92c-5711afa17a50",
   "metadata": {},
   "outputs": [
    {
     "name": "stdout",
     "output_type": "stream",
     "text": [
      "Single-element tuple: (1,)\n"
     ]
    }
   ],
   "source": [
    "# Create a tuple with a single element using a trailing comma\n",
    "single_element_tuple = (1,)\n",
    "\n",
    "# Print the single-element tuple\n",
    "print(\"Single-element tuple:\", single_element_tuple)\n"
   ]
  },
  {
   "cell_type": "markdown",
   "id": "f6fd0e37-56b2-4072-a4d8-84e9e3b11c86",
   "metadata": {},
   "source": [
    "18. Compare two tuples."
   ]
  },
  {
   "cell_type": "code",
   "execution_count": 42,
   "id": "b230ad09-af25-48ba-ac88-8a70de99780e",
   "metadata": {},
   "outputs": [
    {
     "name": "stdout",
     "output_type": "stream",
     "text": [
      "Are the tuples equal? False\n"
     ]
    }
   ],
   "source": [
    "# Two tuples to compare\n",
    "tuple1 = (1, 2, 3)\n",
    "tuple2 = (1, 2, 4)\n",
    "\n",
    "# Compare the tuples using the comparison operators\n",
    "comparison_result = tuple1 == tuple2\n",
    "\n",
    "# Print the comparison result\n",
    "print(\"Are the tuples equal?\", comparison_result)\n"
   ]
  },
  {
   "cell_type": "markdown",
   "id": "c1af0e23-7e28-4246-87d2-c13ecfb3e402",
   "metadata": {},
   "source": [
    "19. Delete a tuple."
   ]
  },
  {
   "cell_type": "code",
   "execution_count": 43,
   "id": "274c2acf-d31e-4142-9902-3956da275748",
   "metadata": {},
   "outputs": [],
   "source": [
    "# Tuple to delete\n",
    "tuple_to_delete = (1, 2, 3)\n",
    "\n",
    "# Delete the tuple using the del statement\n",
    "del tuple_to_delete\n",
    "\n",
    "# Attempting to access the deleted tuple will raise a NameError\n",
    "# print(tuple_to_delete)  # Uncomment this line to see the NameError\n"
   ]
  },
  {
   "cell_type": "markdown",
   "id": "bd2879fc-db89-41bc-bd06-be3e08577430",
   "metadata": {},
   "source": [
    "20. Slice a tuple."
   ]
  },
  {
   "cell_type": "code",
   "execution_count": 44,
   "id": "18e224a6-f93c-4fd9-abde-bca9e27c49bc",
   "metadata": {},
   "outputs": [
    {
     "name": "stdout",
     "output_type": "stream",
     "text": [
      "Subtuple: (2, 3, 4)\n"
     ]
    }
   ],
   "source": [
    "# Original tuple\n",
    "original_tuple = (1, 2, 3, 4, 5)\n",
    "\n",
    "# Slice the tuple to get a subtuple\n",
    "subtuple = original_tuple[1:4]\n",
    "\n",
    "# Print the subtuple\n",
    "print(\"Subtuple:\", subtuple)\n"
   ]
  },
  {
   "cell_type": "markdown",
   "id": "3b2d0a5a-05eb-425c-9231-f201f4f520fe",
   "metadata": {},
   "source": [
    "21. Find the maximum value in a tuple."
   ]
  },
  {
   "cell_type": "code",
   "execution_count": 45,
   "id": "d5a0fd4f-07b7-45b4-a587-15cc4fef2c7e",
   "metadata": {},
   "outputs": [
    {
     "name": "stdout",
     "output_type": "stream",
     "text": [
      "Maximum value in the tuple: 20\n"
     ]
    }
   ],
   "source": [
    "# Tuple with values\n",
    "my_tuple = (10, 5, 20, 8, 15)\n",
    "\n",
    "# Find the maximum value in the tuple using the max() function\n",
    "max_value = max(my_tuple)\n",
    "\n",
    "# Print the maximum value\n",
    "print(\"Maximum value in the tuple:\", max_value)\n"
   ]
  },
  {
   "cell_type": "markdown",
   "id": "7e1ffd2c-186d-413a-aa89-dc70e5d3abdd",
   "metadata": {},
   "source": [
    "22. Find the minimum value in a tuple."
   ]
  },
  {
   "cell_type": "code",
   "execution_count": 46,
   "id": "4c59aa15-f312-4b8d-af02-60d0b31e0e76",
   "metadata": {},
   "outputs": [
    {
     "name": "stdout",
     "output_type": "stream",
     "text": [
      "Minimum value in the tuple: 5\n"
     ]
    }
   ],
   "source": [
    "# Tuple with values\n",
    "my_tuple = (10, 5, 20, 8, 15)\n",
    "\n",
    "# Find the minimum value in the tuple using the min() function\n",
    "min_value = min(my_tuple)\n",
    "\n",
    "# Print the minimum value\n",
    "print(\"Minimum value in the tuple:\", min_value)\n"
   ]
  },
  {
   "cell_type": "markdown",
   "id": "73f39d82-9cfb-4837-b11b-19a829b1e37d",
   "metadata": {},
   "source": [
    "23. Convert a string to a tuple of characters."
   ]
  },
  {
   "cell_type": "code",
   "execution_count": 47,
   "id": "21dbb93d-2e28-4b9e-941c-8478cedd058d",
   "metadata": {},
   "outputs": [
    {
     "name": "stdout",
     "output_type": "stream",
     "text": [
      "Tuple of characters from the string: ('h', 'e', 'l', 'l', 'o')\n"
     ]
    }
   ],
   "source": [
    "# String to convert\n",
    "my_string = \"hello\"\n",
    "\n",
    "# Convert the string to a tuple of characters using tuple()\n",
    "char_tuple = tuple(my_string)\n",
    "\n",
    "# Print the tuple of characters\n",
    "print(\"Tuple of characters from the string:\", char_tuple)\n"
   ]
  },
  {
   "cell_type": "markdown",
   "id": "3f672115-6f31-490c-b1c9-9ea4d06142e8",
   "metadata": {},
   "source": [
    "24. Convert a tuple of characters to a string."
   ]
  },
  {
   "cell_type": "code",
   "execution_count": 48,
   "id": "5eca2099-0e38-44b5-b54c-8cdcffb34ab1",
   "metadata": {},
   "outputs": [
    {
     "name": "stdout",
     "output_type": "stream",
     "text": [
      "String from the tuple of characters: hello\n"
     ]
    }
   ],
   "source": [
    "# Tuple of characters\n",
    "char_tuple = ('h', 'e', 'l', 'l', 'o')\n",
    "\n",
    "# Convert the tuple of characters to a string using join() and an empty string\n",
    "my_string = ''.join(char_tuple)\n",
    "\n",
    "# Print the string\n",
    "print(\"String from the tuple of characters:\", my_string)\n"
   ]
  },
  {
   "cell_type": "markdown",
   "id": "ae167e53-4dbf-44d4-8d46-f14d44ae095f",
   "metadata": {},
   "source": [
    "25. Create a tuple from multiple data types."
   ]
  },
  {
   "cell_type": "code",
   "execution_count": 49,
   "id": "0079cc2c-cd81-413e-9c91-66d4d128942f",
   "metadata": {},
   "outputs": [
    {
     "name": "stdout",
     "output_type": "stream",
     "text": [
      "Tuple with multiple data types: (1, 'hello', 3.14, True)\n"
     ]
    }
   ],
   "source": [
    "# Create a tuple with elements of different data types\n",
    "mixed_tuple = (1, 'hello', 3.14, True)\n",
    "\n",
    "# Print the tuple with multiple data types\n",
    "print(\"Tuple with multiple data types:\", mixed_tuple)\n"
   ]
  },
  {
   "cell_type": "markdown",
   "id": "c4a9969e-63cc-49fe-a7df-ee145e9e15bf",
   "metadata": {},
   "source": [
    "26. Check if two tuples are identical."
   ]
  },
  {
   "cell_type": "code",
   "execution_count": 50,
   "id": "48c49947-ac72-4e0f-900b-be91f7bc76ae",
   "metadata": {},
   "outputs": [
    {
     "name": "stdout",
     "output_type": "stream",
     "text": [
      "Are the tuples identical? True\n"
     ]
    }
   ],
   "source": [
    "# Two tuples to compare\n",
    "tuple1 = (1, 2, 3)\n",
    "tuple2 = (1, 2, 3)\n",
    "\n",
    "# Check if the tuples are identical\n",
    "are_identical = tuple1 == tuple2\n",
    "\n",
    "# Print the result\n",
    "print(\"Are the tuples identical?\", are_identical)\n"
   ]
  },
  {
   "cell_type": "markdown",
   "id": "9787a1eb-555e-43e0-9e91-5ddbb22a1ab3",
   "metadata": {},
   "source": [
    "27. Sort the elements of a tuple."
   ]
  },
  {
   "cell_type": "code",
   "execution_count": 51,
   "id": "5b77d467-4de9-4c1d-9ffa-3a9d33821742",
   "metadata": {},
   "outputs": [
    {
     "name": "stdout",
     "output_type": "stream",
     "text": [
      "Sorted tuple: (1, 1, 3, 4, 5, 9)\n"
     ]
    }
   ],
   "source": [
    "# Tuple with unsorted elements\n",
    "unsorted_tuple = (3, 1, 4, 1, 5, 9)\n",
    "\n",
    "# Sort the elements of the tuple using sorted() function\n",
    "sorted_tuple = tuple(sorted(unsorted_tuple))\n",
    "\n",
    "# Print the sorted tuple\n",
    "print(\"Sorted tuple:\", sorted_tuple)\n"
   ]
  },
  {
   "cell_type": "markdown",
   "id": "5f218887-7004-481c-abd1-e95db1af74a8",
   "metadata": {},
   "source": [
    "28. Convert a tuple of integers to a tuple of strings."
   ]
  },
  {
   "cell_type": "code",
   "execution_count": 52,
   "id": "f18d1544-d218-468f-b870-b1912abd3c5a",
   "metadata": {},
   "outputs": [
    {
     "name": "stdout",
     "output_type": "stream",
     "text": [
      "Tuple of strings from tuple of integers: ('1', '2', '3', '4', '5')\n"
     ]
    }
   ],
   "source": [
    "# Tuple of integers\n",
    "int_tuple = (1, 2, 3, 4, 5)\n",
    "\n",
    "# Convert the tuple of integers to a tuple of strings using tuple comprehension\n",
    "str_tuple = tuple(str(num) for num in int_tuple)\n",
    "\n",
    "# Print the tuple of strings\n",
    "print(\"Tuple of strings from tuple of integers:\", str_tuple)\n"
   ]
  },
  {
   "cell_type": "markdown",
   "id": "9d85977d-b142-4394-a48a-3c1847c3d113",
   "metadata": {},
   "source": [
    "29. Convert a tuple of strings to a tuple of integers."
   ]
  },
  {
   "cell_type": "code",
   "execution_count": 53,
   "id": "4228949a-4f2f-4f0b-82b0-005915e4f552",
   "metadata": {},
   "outputs": [
    {
     "name": "stdout",
     "output_type": "stream",
     "text": [
      "Tuple of integers from tuple of strings: (1, 2, 3, 4, 5)\n"
     ]
    }
   ],
   "source": [
    "# Tuple of strings\n",
    "str_tuple = ('1', '2', '3', '4', '5')\n",
    "\n",
    "# Convert the tuple of strings to a tuple of integers using tuple comprehension\n",
    "int_tuple = tuple(int(num) for num in str_tuple)\n",
    "\n",
    "# Print the tuple of integers\n",
    "print(\"Tuple of integers from tuple of strings:\", int_tuple)\n"
   ]
  },
  {
   "cell_type": "markdown",
   "id": "25108e4d-af50-4348-b62a-ec4c28d376f0",
   "metadata": {},
   "source": [
    "30. Merge two tuples."
   ]
  },
  {
   "cell_type": "code",
   "execution_count": 54,
   "id": "8fb58682-c10c-487e-bdba-301d4b194dbb",
   "metadata": {},
   "outputs": [
    {
     "name": "stdout",
     "output_type": "stream",
     "text": [
      "Merged tuple: (1, 2, 3, 4, 5, 6)\n"
     ]
    }
   ],
   "source": [
    "# Two tuples to merge\n",
    "tuple1 = (1, 2, 3)\n",
    "tuple2 = (4, 5, 6)\n",
    "\n",
    "# Merge the two tuples using the + operator\n",
    "merged_tuple = tuple1 + tuple2\n",
    "\n",
    "# Print the merged tuple\n",
    "print(\"Merged tuple:\", merged_tuple)\n"
   ]
  },
  {
   "cell_type": "markdown",
   "id": "d869f3ff-5ef0-44cf-80a4-8b406dea025a",
   "metadata": {},
   "source": [
    "31. Flatten a nested tuple."
   ]
  },
  {
   "cell_type": "code",
   "execution_count": 55,
   "id": "feeb919a-cea3-4f3e-934f-fcbb48865ff6",
   "metadata": {},
   "outputs": [
    {
     "name": "stdout",
     "output_type": "stream",
     "text": [
      "Flattened tuple: (1, 2, 3, 4, 5, 6)\n"
     ]
    }
   ],
   "source": [
    "# Nested tuple\n",
    "nested_tuple = ((1, 2), (3, 4), (5, 6))\n",
    "\n",
    "# Flatten the nested tuple using tuple comprehension and the join() function\n",
    "flattened_tuple = tuple(item for sublist in nested_tuple for item in sublist)\n",
    "\n",
    "# Print the flattened tuple\n",
    "print(\"Flattened tuple:\", flattened_tuple)\n"
   ]
  },
  {
   "cell_type": "markdown",
   "id": "98b40c8a-182d-436e-8746-0873bbfbc0d9",
   "metadata": {},
   "source": [
    "32. Create a tuple of the first 5 prime numbers."
   ]
  },
  {
   "cell_type": "code",
   "execution_count": 56,
   "id": "c3d35e4b-e567-4e43-a851-17b61a144420",
   "metadata": {},
   "outputs": [
    {
     "name": "stdout",
     "output_type": "stream",
     "text": [
      "Tuple of the first 5 prime numbers: (2, 3, 5, 7, 11)\n"
     ]
    }
   ],
   "source": [
    "# Function to check if a number is prime\n",
    "def is_prime(number):\n",
    "    if number <= 1:\n",
    "        return False\n",
    "    for i in range(2, int(number ** 0.5) + 1):\n",
    "        if number % i == 0:\n",
    "            return False\n",
    "    return True\n",
    "\n",
    "# Create a tuple of the first 5 prime numbers using tuple comprehension and is_prime function\n",
    "prime_numbers_tuple = tuple(num for num in range(2, 20) if is_prime(num))[:5]\n",
    "\n",
    "# Print the tuple of prime numbers\n",
    "print(\"Tuple of the first 5 prime numbers:\", prime_numbers_tuple)\n"
   ]
  },
  {
   "cell_type": "markdown",
   "id": "76d346bc-0d26-4911-9d3e-56b134c53a49",
   "metadata": {},
   "source": [
    "33. Check if a tuple is a palindrome."
   ]
  },
  {
   "cell_type": "code",
   "execution_count": 57,
   "id": "9a11eedb-1615-4049-9614-55b1d7d18cbf",
   "metadata": {},
   "outputs": [
    {
     "name": "stdout",
     "output_type": "stream",
     "text": [
      "Is the tuple a palindrome? True\n"
     ]
    }
   ],
   "source": [
    "# Tuple to check\n",
    "palindrome_tuple = (1, 2, 3, 2, 1)\n",
    "\n",
    "# Check if the tuple is a palindrome\n",
    "is_palindrome = palindrome_tuple == palindrome_tuple[::-1]\n",
    "\n",
    "# Print the result\n",
    "print(\"Is the tuple a palindrome?\", is_palindrome)\n"
   ]
  },
  {
   "cell_type": "markdown",
   "id": "de8bbffc-4c42-45c7-bdfe-d1193a94e87d",
   "metadata": {},
   "source": [
    "34. Create a tuple of squares of numbers from 1 to 5."
   ]
  },
  {
   "cell_type": "code",
   "execution_count": 58,
   "id": "7a915688-c250-462d-9cb7-e5f04c556bb3",
   "metadata": {},
   "outputs": [
    {
     "name": "stdout",
     "output_type": "stream",
     "text": [
      "Tuple of squares of numbers from 1 to 5: (1, 4, 9, 16, 25)\n"
     ]
    }
   ],
   "source": [
    "# Create a tuple of squares of numbers from 1 to 5 using tuple comprehension\n",
    "squares_tuple = tuple(num ** 2 for num in range(1, 6))\n",
    "\n",
    "# Print the tuple of squares\n",
    "print(\"Tuple of squares of numbers from 1 to 5:\", squares_tuple)\n"
   ]
  },
  {
   "cell_type": "markdown",
   "id": "828c63d1-9f99-447e-8e0b-33ad4ad25a5b",
   "metadata": {},
   "source": [
    "35. Filter out all even numbers from a tuple."
   ]
  },
  {
   "cell_type": "code",
   "execution_count": 59,
   "id": "4e333573-edb1-4ec1-a431-19e17ddc0c57",
   "metadata": {},
   "outputs": [
    {
     "name": "stdout",
     "output_type": "stream",
     "text": [
      "Tuple with even numbers filtered out: (1, 3, 5, 7, 9)\n"
     ]
    }
   ],
   "source": [
    "# Tuple with numbers\n",
    "numbers_tuple = (1, 2, 3, 4, 5, 6, 7, 8, 9, 10)\n",
    "\n",
    "# Filter out even numbers from the tuple using tuple comprehension\n",
    "odd_numbers_tuple = tuple(num for num in numbers_tuple if num % 2 != 0)\n",
    "\n",
    "# Print the tuple of odd numbers\n",
    "print(\"Tuple with even numbers filtered out:\", odd_numbers_tuple)\n"
   ]
  },
  {
   "cell_type": "markdown",
   "id": "9536ae51-dcdf-4e03-b353-9d22ec07a862",
   "metadata": {},
   "source": [
    "36. Multiply all elements in a tuple by 2."
   ]
  },
  {
   "cell_type": "code",
   "execution_count": 60,
   "id": "a26124a5-22f6-43dd-bd07-d61ee56ca329",
   "metadata": {},
   "outputs": [
    {
     "name": "stdout",
     "output_type": "stream",
     "text": [
      "Multiplied tuple by 2: (2, 4, 6, 8, 10)\n"
     ]
    }
   ],
   "source": [
    "# Original tuple\n",
    "original_tuple = (1, 2, 3, 4, 5)\n",
    "\n",
    "# Multiply all elements in the tuple by 2 using tuple comprehension\n",
    "multiplied_tuple = tuple(num * 2 for num in original_tuple)\n",
    "\n",
    "# Print the multiplied tuple\n",
    "print(\"Multiplied tuple by 2:\", multiplied_tuple)\n"
   ]
  },
  {
   "cell_type": "markdown",
   "id": "9189f854-1557-4952-8dc2-68b8795529b2",
   "metadata": {},
   "source": [
    "37. Create a tuple of random numbers."
   ]
  },
  {
   "cell_type": "code",
   "execution_count": 61,
   "id": "79a8f042-d29c-4222-b0a1-acbc8f44dbfc",
   "metadata": {},
   "outputs": [
    {
     "name": "stdout",
     "output_type": "stream",
     "text": [
      "Tuple of random numbers: (4, 1, 3, 7, 3)\n"
     ]
    }
   ],
   "source": [
    "import random\n",
    "\n",
    "# Generate a tuple of 5 random numbers between 1 and 10\n",
    "random_tuple = tuple(random.randint(1, 10) for _ in range(5))\n",
    "\n",
    "# Print the tuple of random numbers\n",
    "print(\"Tuple of random numbers:\", random_tuple)\n"
   ]
  },
  {
   "cell_type": "markdown",
   "id": "52eafd82-e136-4a93-87c5-535ca29c8b3e",
   "metadata": {},
   "source": [
    "38. Check if a tuple is sorted."
   ]
  },
  {
   "cell_type": "code",
   "execution_count": 62,
   "id": "4255b1d5-4b1c-4dcb-bc42-fb7918718d59",
   "metadata": {},
   "outputs": [
    {
     "name": "stdout",
     "output_type": "stream",
     "text": [
      "Is the tuple sorted? True\n"
     ]
    }
   ],
   "source": [
    "# Sorted tuple\n",
    "sorted_tuple = (1, 2, 3, 4, 5)\n",
    "\n",
    "# Check if the tuple is sorted using the sorted() function and comparison\n",
    "is_sorted = sorted_tuple == tuple(sorted(sorted_tuple))\n",
    "\n",
    "# Print the result\n",
    "print(\"Is the tuple sorted?\", is_sorted)\n"
   ]
  },
  {
   "cell_type": "markdown",
   "id": "05a2a5d8-8a7d-4026-bf3f-7e86f3517279",
   "metadata": {},
   "source": [
    "39. Rotate a tuple to the left by `n` positions."
   ]
  },
  {
   "cell_type": "code",
   "execution_count": 63,
   "id": "876b352e-c668-4fc3-a2be-8898a5df5836",
   "metadata": {},
   "outputs": [
    {
     "name": "stdout",
     "output_type": "stream",
     "text": [
      "Tuple rotated to the left by 2 positions: (3, 4, 5, 1, 2)\n"
     ]
    }
   ],
   "source": [
    "# Original tuple\n",
    "original_tuple = (1, 2, 3, 4, 5)\n",
    "\n",
    "# Number of positions to rotate\n",
    "n = 2\n",
    "\n",
    "# Rotate the tuple to the left by n positions using slicing and concatenation\n",
    "rotated_tuple = original_tuple[n:] + original_tuple[:n]\n",
    "\n",
    "# Print the rotated tuple\n",
    "print(f\"Tuple rotated to the left by {n} positions:\", rotated_tuple)\n"
   ]
  },
  {
   "cell_type": "markdown",
   "id": "0c741206-471a-4724-8361-95eb1a3995a6",
   "metadata": {},
   "source": [
    "40. Rotate a tuple to the right by `n` positions."
   ]
  },
  {
   "cell_type": "code",
   "execution_count": 64,
   "id": "bb139484-2d8e-499c-846f-cc5e4e0af16b",
   "metadata": {},
   "outputs": [
    {
     "name": "stdout",
     "output_type": "stream",
     "text": [
      "Tuple rotated to the right by 2 positions: (4, 5, 1, 2, 3)\n"
     ]
    }
   ],
   "source": [
    "# Original tuple\n",
    "original_tuple = (1, 2, 3, 4, 5)\n",
    "\n",
    "# Number of positions to rotate\n",
    "n = 2\n",
    "\n",
    "# Rotate the tuple to the right by n positions using slicing and concatenation\n",
    "rotated_tuple = original_tuple[-n:] + original_tuple[:-n]\n",
    "\n",
    "# Print the rotated tuple\n",
    "print(f\"Tuple rotated to the right by {n} positions:\", rotated_tuple)\n"
   ]
  },
  {
   "cell_type": "markdown",
   "id": "91054660-c654-4577-b0aa-dc341da8773e",
   "metadata": {},
   "source": [
    "41. Create a tuple of the first 5 Fibonacci numbers."
   ]
  },
  {
   "cell_type": "code",
   "execution_count": 65,
   "id": "250ea6e7-e0ea-4edb-af0d-8b74640936ff",
   "metadata": {},
   "outputs": [
    {
     "name": "stdout",
     "output_type": "stream",
     "text": [
      "Tuple of the first 5 Fibonacci numbers: (0, 1, 1, 2, 3)\n"
     ]
    }
   ],
   "source": [
    "# Function to generate Fibonacci numbers\n",
    "def generate_fibonacci(n):\n",
    "    fibonacci = [0, 1]\n",
    "    while len(fibonacci) < n:\n",
    "        fibonacci.append(fibonacci[-1] + fibonacci[-2])\n",
    "    return tuple(fibonacci[:n])\n",
    "\n",
    "# Create a tuple of the first 5 Fibonacci numbers\n",
    "fibonacci_tuple = generate_fibonacci(5)\n",
    "\n",
    "# Print the tuple of Fibonacci numbers\n",
    "print(\"Tuple of the first 5 Fibonacci numbers:\", fibonacci_tuple)\n"
   ]
  },
  {
   "cell_type": "markdown",
   "id": "6b3ca8b0-7fc2-4204-81e5-cd6fabfd45cf",
   "metadata": {},
   "source": [
    "42. Create a tuple from user input."
   ]
  },
  {
   "cell_type": "code",
   "execution_count": 66,
   "id": "1e982375-1a01-4565-8870-f287894aea01",
   "metadata": {},
   "outputs": [
    {
     "name": "stdin",
     "output_type": "stream",
     "text": [
      "Enter values separated by commas:  1,2,3\n"
     ]
    },
    {
     "name": "stdout",
     "output_type": "stream",
     "text": [
      "Tuple from user input: ('1', '2', '3')\n"
     ]
    }
   ],
   "source": [
    "# Get user input as comma-separated values\n",
    "user_input = input(\"Enter values separated by commas: \")\n",
    "\n",
    "# Split the input string into a list and convert it to a tuple\n",
    "input_tuple = tuple(user_input.split(','))\n",
    "\n",
    "# Print the tuple created from user input\n",
    "print(\"Tuple from user input:\", input_tuple)\n"
   ]
  },
  {
   "cell_type": "markdown",
   "id": "d7405d3c-3f7b-477e-a90d-82fe8ac54900",
   "metadata": {},
   "source": [
    "43. Swap two elements in a tuple."
   ]
  },
  {
   "cell_type": "code",
   "execution_count": 67,
   "id": "19e98c25-cfc9-44ff-8483-c2edae824ec8",
   "metadata": {},
   "outputs": [
    {
     "name": "stdout",
     "output_type": "stream",
     "text": [
      "Tuple with swapped elements: (1, 3, 2, 4)\n"
     ]
    }
   ],
   "source": [
    "# Original tuple\n",
    "original_tuple = (1, 2, 3, 4)\n",
    "\n",
    "# Convert the tuple to a list to swap elements\n",
    "temp_list = list(original_tuple)\n",
    "\n",
    "# Swap elements at indices 1 and 2\n",
    "temp_list[1], temp_list[2] = temp_list[2], temp_list[1]\n",
    "\n",
    "# Convert the list back to a tuple\n",
    "swapped_tuple = tuple(temp_list)\n",
    "\n",
    "# Print the tuple with swapped elements\n",
    "print(\"Tuple with swapped elements:\", swapped_tuple)\n"
   ]
  },
  {
   "cell_type": "markdown",
   "id": "b9c0e4fc-8aa3-44f9-b797-65fd31994ab1",
   "metadata": {},
   "source": [
    "44. Reverse the elements of a tuple."
   ]
  },
  {
   "cell_type": "code",
   "execution_count": 68,
   "id": "06d06b4c-7c3c-49df-a559-ba58d54d57f7",
   "metadata": {},
   "outputs": [
    {
     "name": "stdout",
     "output_type": "stream",
     "text": [
      "Reversed tuple: (5, 4, 3, 2, 1)\n"
     ]
    }
   ],
   "source": [
    "# Original tuple\n",
    "original_tuple = (1, 2, 3, 4, 5)\n",
    "\n",
    "# Reverse the elements of the tuple using slicing\n",
    "reversed_tuple = original_tuple[::-1]\n",
    "\n",
    "# Print the reversed tuple\n",
    "print(\"Reversed tuple:\", reversed_tuple)\n"
   ]
  },
  {
   "cell_type": "markdown",
   "id": "2ac06d40-1624-4e02-ae22-27a0b9765755",
   "metadata": {},
   "source": [
    "45. Create a tuple of the first `n` powers of 2."
   ]
  },
  {
   "cell_type": "code",
   "execution_count": 69,
   "id": "3e79ed74-54b0-4945-aa32-39779f6446f4",
   "metadata": {},
   "outputs": [
    {
     "name": "stdout",
     "output_type": "stream",
     "text": [
      "Tuple of the first 5 powers of 2: (1, 2, 4, 8, 16)\n"
     ]
    }
   ],
   "source": [
    "# Number of powers of 2\n",
    "n = 5\n",
    "\n",
    "# Create a tuple of the first n powers of 2 using tuple comprehension\n",
    "powers_of_2_tuple = tuple(2 ** i for i in range(n))\n",
    "\n",
    "# Print the tuple of powers of 2\n",
    "print(f\"Tuple of the first {n} powers of 2:\", powers_of_2_tuple)\n"
   ]
  },
  {
   "cell_type": "markdown",
   "id": "678716ce-e365-4bd1-b118-52c1f5921d9f",
   "metadata": {},
   "source": [
    "46. Find the longest string in a tuple of strings."
   ]
  },
  {
   "cell_type": "code",
   "execution_count": 70,
   "id": "abb952ad-2e3c-4ce7-9e05-b68dc26d9d76",
   "metadata": {},
   "outputs": [
    {
     "name": "stdout",
     "output_type": "stream",
     "text": [
      "Longest string in the tuple: banana\n"
     ]
    }
   ],
   "source": [
    "# Tuple of strings\n",
    "strings_tuple = ('apple', 'banana', 'orange', 'kiwi')\n",
    "\n",
    "# Find the longest string in the tuple using max() function with key=len\n",
    "longest_string = max(strings_tuple, key=len)\n",
    "\n",
    "# Print the longest string\n",
    "print(\"Longest string in the tuple:\", longest_string)\n"
   ]
  },
  {
   "cell_type": "markdown",
   "id": "8ff6eb94-62cc-4daa-9fbc-8a8104a3f409",
   "metadata": {},
   "source": [
    "47. Find the shortest string in a tuple of strings."
   ]
  },
  {
   "cell_type": "code",
   "execution_count": 71,
   "id": "29977211-9f0f-468d-93f2-1398591e5cec",
   "metadata": {},
   "outputs": [
    {
     "name": "stdout",
     "output_type": "stream",
     "text": [
      "Shortest string in the tuple: kiwi\n"
     ]
    }
   ],
   "source": [
    "# Tuple of strings\n",
    "strings_tuple = ('apple', 'banana', 'orange', 'kiwi')\n",
    "\n",
    "# Find the shortest string in the tuple using min() function with key=len\n",
    "shortest_string = min(strings_tuple, key=len)\n",
    "\n",
    "# Print the shortest string\n",
    "print(\"Shortest string in the tuple:\", shortest_string)\n"
   ]
  },
  {
   "cell_type": "markdown",
   "id": "a8d7b4f3-833d-4c65-915c-fadcbc361e70",
   "metadata": {},
   "source": [
    "48. Create a tuple of the first `n` triangular numbers."
   ]
  },
  {
   "cell_type": "code",
   "execution_count": 72,
   "id": "de1f6721-0c61-4baf-9bd0-ed4b7eaa8348",
   "metadata": {},
   "outputs": [
    {
     "name": "stdout",
     "output_type": "stream",
     "text": [
      "Tuple of the first 5 triangular numbers: (1, 3, 6, 10, 15)\n"
     ]
    }
   ],
   "source": [
    "# Function to generate triangular numbers\n",
    "def generate_triangular_numbers(n):\n",
    "    triangular_numbers = []\n",
    "    total = 0\n",
    "    for i in range(1, n + 1):\n",
    "        total += i\n",
    "        triangular_numbers.append(total)\n",
    "    return tuple(triangular_numbers)\n",
    "\n",
    "# Create a tuple of the first 5 triangular numbers\n",
    "triangular_numbers_tuple = generate_triangular_numbers(5)\n",
    "\n",
    "# Print the tuple of triangular numbers\n",
    "print(\"Tuple of the first 5 triangular numbers:\", triangular_numbers_tuple)\n"
   ]
  },
  {
   "cell_type": "markdown",
   "id": "bf28f425-09e4-4678-9aa8-b587ca8bbe41",
   "metadata": {},
   "source": [
    "49. Check if a tuple contains another tuple as a subsequence."
   ]
  },
  {
   "cell_type": "code",
   "execution_count": 73,
   "id": "381dffdb-ebf2-4b5f-8012-8968917abfe3",
   "metadata": {},
   "outputs": [
    {
     "name": "stdout",
     "output_type": "stream",
     "text": [
      "Does the tuple contain the subtuple as a subsequence? True\n"
     ]
    }
   ],
   "source": [
    "# Tuple to check\n",
    "main_tuple = (1, 2, 3, (4, 5), 6, 7)\n",
    "\n",
    "# Subtuple to check for\n",
    "sub_tuple = (4, 5)\n",
    "\n",
    "# Check if the subtuple is a subsequence of the main tuple\n",
    "is_subsequence = sub_tuple in main_tuple\n",
    "\n",
    "# Print the result\n",
    "print(\"Does the tuple contain the subtuple as a subsequence?\", is_subsequence)\n"
   ]
  },
  {
   "cell_type": "markdown",
   "id": "186b3117-f770-4d91-b343-1ab6fca22562",
   "metadata": {},
   "source": [
    "50. Create a tuple of alternating 1s and 0s of length `n`."
   ]
  },
  {
   "cell_type": "code",
   "execution_count": 74,
   "id": "72fddc4b-76b6-4564-ad8d-5ad15fb04d25",
   "metadata": {},
   "outputs": [
    {
     "name": "stdout",
     "output_type": "stream",
     "text": [
      "Tuple of alternating 1s and 0s of length 6: (1, 0, 1, 0, 1, 0)\n"
     ]
    }
   ],
   "source": [
    "# Length of the tuple\n",
    "n = 6\n",
    "\n",
    "# Create a tuple of alternating 1s and 0s using tuple comprehension\n",
    "alternating_tuple = tuple(1 if i % 2 == 0 else 0 for i in range(n))\n",
    "\n",
    "# Print the tuple of alternating 1s and 0s\n",
    "print(f\"Tuple of alternating 1s and 0s of length {n}:\", alternating_tuple)\n"
   ]
  },
  {
   "cell_type": "markdown",
   "id": "0b06c06f-87ef-4e80-a9b4-56053e43ca37",
   "metadata": {},
   "source": [
    "1. Create a set with integers from 1 to 5."
   ]
  },
  {
   "cell_type": "code",
   "execution_count": 75,
   "id": "15886a62-f70a-4c33-a567-d980c6a7b483",
   "metadata": {},
   "outputs": [
    {
     "name": "stdout",
     "output_type": "stream",
     "text": [
      "Set with integers from 1 to 5: {1, 2, 3, 4, 5}\n"
     ]
    }
   ],
   "source": [
    "# Create a set with integers from 1 to 5 using curly braces {}\n",
    "my_set = {1, 2, 3, 4, 5}\n",
    "\n",
    "# Print the set\n",
    "print(\"Set with integers from 1 to 5:\", my_set)\n"
   ]
  },
  {
   "cell_type": "markdown",
   "id": "732bd5a2-bbce-4425-b7aa-2290aed9850c",
   "metadata": {},
   "source": [
    "2. Add an element to a set."
   ]
  },
  {
   "cell_type": "code",
   "execution_count": 76,
   "id": "7b6df801-59f1-47f6-b93e-cd32817e2922",
   "metadata": {},
   "outputs": [
    {
     "name": "stdout",
     "output_type": "stream",
     "text": [
      "Set after adding element 5: {1, 2, 3, 4, 5}\n"
     ]
    }
   ],
   "source": [
    "# Original set\n",
    "my_set = {1, 2, 3, 4}\n",
    "\n",
    "# Add element 5 to the set using the add() method\n",
    "my_set.add(5)\n",
    "\n",
    "# Print the updated set\n",
    "print(\"Set after adding element 5:\", my_set)\n"
   ]
  },
  {
   "cell_type": "markdown",
   "id": "170362b0-b6ed-40ce-85cd-7c01494f4aee",
   "metadata": {},
   "source": [
    "3. Remove an element from a set."
   ]
  },
  {
   "cell_type": "code",
   "execution_count": 77,
   "id": "b7fbe5c5-3f1d-4e14-8b5b-e3fb26431ab9",
   "metadata": {},
   "outputs": [
    {
     "name": "stdout",
     "output_type": "stream",
     "text": [
      "Set after removing element 3: {1, 2, 4, 5}\n"
     ]
    }
   ],
   "source": [
    "# Original set\n",
    "my_set = {1, 2, 3, 4, 5}\n",
    "\n",
    "# Remove element 3 from the set using the remove() method\n",
    "my_set.remove(3)\n",
    "\n",
    "# Print the updated set\n",
    "print(\"Set after removing element 3:\", my_set)\n"
   ]
  },
  {
   "cell_type": "markdown",
   "id": "86fe67d0-3bec-458e-a7bd-373fe570826c",
   "metadata": {},
   "source": [
    "4. Check if an element exists in a set."
   ]
  },
  {
   "cell_type": "code",
   "execution_count": 78,
   "id": "92070fe0-4463-4832-8cd1-477ecb519cb3",
   "metadata": {},
   "outputs": [
    {
     "name": "stdout",
     "output_type": "stream",
     "text": [
      "Does element 3 exist in the set? True\n"
     ]
    }
   ],
   "source": [
    "# Set to check\n",
    "my_set = {1, 2, 3, 4, 5}\n",
    "\n",
    "# Check if element 3 exists in the set using the 'in' keyword\n",
    "element_exists = 3 in my_set\n",
    "\n",
    "# Print the result\n",
    "print(\"Does element 3 exist in the set?\", element_exists)\n"
   ]
  },
  {
   "cell_type": "markdown",
   "id": "96f094d3-7ea3-49c7-b56c-aec1f9da51c7",
   "metadata": {},
   "source": [
    "5. Find the length of a set without using the `len()` function."
   ]
  },
  {
   "cell_type": "code",
   "execution_count": 79,
   "id": "299469b5-850c-4b2d-95f8-0ee4d41d0bf2",
   "metadata": {},
   "outputs": [
    {
     "name": "stdout",
     "output_type": "stream",
     "text": [
      "Length of the set: 5\n"
     ]
    }
   ],
   "source": [
    "# Set to find the length of\n",
    "my_set = {1, 2, 3, 4, 5}\n",
    "\n",
    "# Initialize a counter variable\n",
    "length = 0\n",
    "\n",
    "# Iterate through the set and increment the counter for each element\n",
    "for _ in my_set:\n",
    "    length += 1\n",
    "\n",
    "# Print the length of the set\n",
    "print(\"Length of the set:\", length)\n"
   ]
  },
  {
   "cell_type": "markdown",
   "id": "eb55e8bb-dc90-49bf-b67c-2b925e6e0f50",
   "metadata": {},
   "source": [
    "6. Clear all elements from a set."
   ]
  },
  {
   "cell_type": "code",
   "execution_count": 80,
   "id": "956afde7-2ff9-4c03-9cb8-cd3639872133",
   "metadata": {},
   "outputs": [
    {
     "name": "stdout",
     "output_type": "stream",
     "text": [
      "Set after clearing all elements: set()\n"
     ]
    }
   ],
   "source": [
    "# Original set\n",
    "my_set = {1, 2, 3, 4, 5}\n",
    "\n",
    "# Clear all elements from the set using the clear() method\n",
    "my_set.clear()\n",
    "\n",
    "# Print the set after clearing it\n",
    "print(\"Set after clearing all elements:\", my_set)\n"
   ]
  },
  {
   "cell_type": "markdown",
   "id": "6061cac4-3334-429b-8faa-dc1332d0af08",
   "metadata": {},
   "source": [
    "7. Create a set of even numbers from 1 to 10."
   ]
  },
  {
   "cell_type": "code",
   "execution_count": 81,
   "id": "94754a80-cf20-43fd-ab2c-f5cf5622f7d9",
   "metadata": {},
   "outputs": [
    {
     "name": "stdout",
     "output_type": "stream",
     "text": [
      "Set of even numbers from 1 to 10: {2, 4, 6, 8, 10}\n"
     ]
    }
   ],
   "source": [
    "# Create a set of even numbers from 1 to 10 using a set comprehension\n",
    "even_numbers_set = {num for num in range(1, 11) if num % 2 == 0}\n",
    "\n",
    "# Print the set of even numbers\n",
    "print(\"Set of even numbers from 1 to 10:\", even_numbers_set)\n"
   ]
  },
  {
   "cell_type": "markdown",
   "id": "b1868dad-a152-4b47-916f-44e27172e090",
   "metadata": {},
   "source": [
    "8. Create a set of odd numbers from 1 to 10."
   ]
  },
  {
   "cell_type": "code",
   "execution_count": 82,
   "id": "e8f3ea9f-8ccb-4206-889f-dc30dc34e170",
   "metadata": {},
   "outputs": [
    {
     "name": "stdout",
     "output_type": "stream",
     "text": [
      "Set of odd numbers from 1 to 10: {1, 3, 5, 7, 9}\n"
     ]
    }
   ],
   "source": [
    "# Create a set of odd numbers from 1 to 10 using a set comprehension\n",
    "odd_numbers_set = {num for num in range(1, 11) if num % 2 != 0}\n",
    "\n",
    "# Print the set of odd numbers\n",
    "print(\"Set of odd numbers from 1 to 10:\", odd_numbers_set)\n"
   ]
  },
  {
   "cell_type": "markdown",
   "id": "178f3a9d-21d8-43b2-9744-ea6dd8fc6452",
   "metadata": {},
   "source": [
    "9. Find the union of two sets."
   ]
  },
  {
   "cell_type": "code",
   "execution_count": 83,
   "id": "568721fe-d156-4ac7-8ecc-8e4d0e04c2f8",
   "metadata": {},
   "outputs": [
    {
     "name": "stdout",
     "output_type": "stream",
     "text": [
      "Union of set1 and set2: {1, 2, 3, 4, 5}\n"
     ]
    }
   ],
   "source": [
    "# Two sets for union operation\n",
    "set1 = {1, 2, 3}\n",
    "set2 = {3, 4, 5}\n",
    "\n",
    "# Find the union of set1 and set2 using the union() method or the | operator\n",
    "union_set = set1.union(set2)  # Alternatively, union_set = set1 | set2\n",
    "\n",
    "# Print the union set\n",
    "print(\"Union of set1 and set2:\", union_set)\n"
   ]
  },
  {
   "cell_type": "markdown",
   "id": "a59e5296-ba02-4c66-9190-cd94fa99ded5",
   "metadata": {},
   "source": [
    "10. Find the intersection of two sets."
   ]
  },
  {
   "cell_type": "code",
   "execution_count": 84,
   "id": "997d2adf-30f2-45e2-a605-3ad0e9ca9304",
   "metadata": {},
   "outputs": [
    {
     "name": "stdout",
     "output_type": "stream",
     "text": [
      "Intersection of set1 and set2: {3}\n"
     ]
    }
   ],
   "source": [
    "# Two sets for intersection operation\n",
    "set1 = {1, 2, 3}\n",
    "set2 = {3, 4, 5}\n",
    "\n",
    "# Find the intersection of set1 and set2 using the intersection() method or the & operator\n",
    "intersection_set = set1.intersection(set2)  # Alternatively, intersection_set = set1 & set2\n",
    "\n",
    "# Print the intersection set\n",
    "print(\"Intersection of set1 and set2:\", intersection_set)\n"
   ]
  },
  {
   "cell_type": "markdown",
   "id": "da9423d1-8f2a-4d1b-9d50-388a93de3846",
   "metadata": {},
   "source": [
    "11. Find the difference between two sets."
   ]
  },
  {
   "cell_type": "code",
   "execution_count": 85,
   "id": "f5a4a73f-2867-4f62-a388-980f17a8567e",
   "metadata": {},
   "outputs": [
    {
     "name": "stdout",
     "output_type": "stream",
     "text": [
      "Difference between set1 and set2: {1, 2, 3}\n"
     ]
    }
   ],
   "source": [
    "# Two sets for difference operation\n",
    "set1 = {1, 2, 3, 4, 5}\n",
    "set2 = {4, 5, 6, 7, 8}\n",
    "\n",
    "# Find the difference between set1 and set2 using the difference() method or the - operator\n",
    "difference_set = set1.difference(set2)  # Alternatively, difference_set = set1 - set2\n",
    "\n",
    "# Print the difference set (elements in set1 but not in set2)\n",
    "print(\"Difference between set1 and set2:\", difference_set)\n"
   ]
  },
  {
   "cell_type": "markdown",
   "id": "d3fb08db-deda-4929-aefc-d05f3c03dfc4",
   "metadata": {},
   "source": [
    "12. Check if a set is a subset of another set."
   ]
  },
  {
   "cell_type": "code",
   "execution_count": 86,
   "id": "67879e61-6642-4535-8c6a-e3f958f4943f",
   "metadata": {},
   "outputs": [
    {
     "name": "stdout",
     "output_type": "stream",
     "text": [
      "Is set1 a subset of set2? True\n"
     ]
    }
   ],
   "source": [
    "# Two sets for subset check\n",
    "set1 = {1, 2, 3}\n",
    "set2 = {1, 2, 3, 4, 5}\n",
    "\n",
    "# Check if set1 is a subset of set2 using the issubset() method or the <= operator\n",
    "is_subset = set1.issubset(set2)  # Alternatively, is_subset = set1 <= set2\n",
    "\n",
    "# Print the result\n",
    "print(\"Is set1 a subset of set2?\", is_subset)\n"
   ]
  },
  {
   "cell_type": "markdown",
   "id": "742ce424-d2b0-4365-99af-17a01d6de416",
   "metadata": {},
   "source": [
    "13. Check if a set is a superset of another set."
   ]
  },
  {
   "cell_type": "code",
   "execution_count": 87,
   "id": "0b0b642e-966b-4927-90cc-cd6b1f5fe256",
   "metadata": {},
   "outputs": [
    {
     "name": "stdout",
     "output_type": "stream",
     "text": [
      "Is set1 a superset of set2? True\n"
     ]
    }
   ],
   "source": [
    "# Two sets for superset check\n",
    "set1 = {1, 2, 3, 4, 5}\n",
    "set2 = {1, 2, 3}\n",
    "\n",
    "# Check if set1 is a superset of set2 using the issuperset() method or the >= operator\n",
    "is_superset = set1.issuperset(set2)  # Alternatively, is_superset = set1 >= set2\n",
    "\n",
    "# Print the result\n",
    "print(\"Is set1 a superset of set2?\", is_superset)\n"
   ]
  },
  {
   "cell_type": "markdown",
   "id": "f7de7f7d-a5c2-4344-9de1-1a658638c43e",
   "metadata": {},
   "source": [
    "14. Create a set from a list."
   ]
  },
  {
   "cell_type": "code",
   "execution_count": 88,
   "id": "3ce59eee-061f-45d6-af28-c6fb7cd3a792",
   "metadata": {},
   "outputs": [
    {
     "name": "stdout",
     "output_type": "stream",
     "text": [
      "Set from list: {1, 2, 3, 4, 5}\n"
     ]
    }
   ],
   "source": [
    "# Original list\n",
    "my_list = [1, 2, 3, 4, 5]\n",
    "\n",
    "# Create a set from the list using the set() function\n",
    "my_set = set(my_list)\n",
    "\n",
    "# Print the set created from the list\n",
    "print(\"Set from list:\", my_set)\n"
   ]
  },
  {
   "cell_type": "markdown",
   "id": "b48f7442-316e-4767-9f9b-6979169cd317",
   "metadata": {},
   "source": [
    "15. Convert a set to a list.\n"
   ]
  },
  {
   "cell_type": "code",
   "execution_count": 89,
   "id": "6a0c42e7-9d57-487a-8c82-298f310628c1",
   "metadata": {},
   "outputs": [
    {
     "name": "stdout",
     "output_type": "stream",
     "text": [
      "List from set: [1, 2, 3, 4, 5]\n"
     ]
    }
   ],
   "source": [
    "# Original set\n",
    "my_set = {1, 2, 3, 4, 5}\n",
    "\n",
    "# Convert the set to a list using the list() function\n",
    "my_list = list(my_set)\n",
    "\n",
    "# Print the list converted from the set\n",
    "print(\"List from set:\", my_list)\n"
   ]
  },
  {
   "cell_type": "markdown",
   "id": "51411f7a-cb5b-498c-84cb-356f6d1d658e",
   "metadata": {},
   "source": [
    "16. Remove a random element from a set."
   ]
  },
  {
   "cell_type": "code",
   "execution_count": 90,
   "id": "6720c004-d0b8-4833-9ac4-61fc993c8426",
   "metadata": {},
   "outputs": [
    {
     "name": "stdout",
     "output_type": "stream",
     "text": [
      "Removed element: 1\n",
      "Updated set after removing a random element: {2, 3, 4, 5}\n"
     ]
    }
   ],
   "source": [
    "import random\n",
    "\n",
    "# Original set\n",
    "my_set = {1, 2, 3, 4, 5}\n",
    "\n",
    "# Remove a random element from the set using the pop() method\n",
    "removed_element = my_set.pop()\n",
    "\n",
    "# Print the removed element and the updated set\n",
    "print(\"Removed element:\", removed_element)\n",
    "print(\"Updated set after removing a random element:\", my_set)\n"
   ]
  },
  {
   "cell_type": "markdown",
   "id": "5f7708c4-290d-41ca-8a06-7fd197d78d5f",
   "metadata": {},
   "source": [
    "17. Pop an element from a set."
   ]
  },
  {
   "cell_type": "code",
   "execution_count": 91,
   "id": "46eac73b-8ae3-4e07-b5b4-0c4c2a9d335b",
   "metadata": {},
   "outputs": [
    {
     "name": "stdout",
     "output_type": "stream",
     "text": [
      "Popped element: 1\n",
      "Updated set after popping an element: {2, 3, 4, 5}\n"
     ]
    }
   ],
   "source": [
    "# Original set\n",
    "my_set = {1, 2, 3, 4, 5}\n",
    "\n",
    "# Pop an element from the set using the pop() method\n",
    "popped_element = my_set.pop()\n",
    "\n",
    "# Print the popped element and the updated set\n",
    "print(\"Popped element:\", popped_element)\n",
    "print(\"Updated set after popping an element:\", my_set)\n"
   ]
  },
  {
   "cell_type": "markdown",
   "id": "f01de082-a0d6-4d1e-8b3a-3692fe82d423",
   "metadata": {},
   "source": [
    "18. Check if two sets have no elements in common."
   ]
  },
  {
   "cell_type": "code",
   "execution_count": 92,
   "id": "f00fb129-a05f-4803-9bff-c94d63b22477",
   "metadata": {},
   "outputs": [
    {
     "name": "stdout",
     "output_type": "stream",
     "text": [
      "Do set1 and set2 have no common elements? True\n"
     ]
    }
   ],
   "source": [
    "# Two sets for no common elements check\n",
    "set1 = {1, 2, 3}\n",
    "set2 = {4, 5, 6}\n",
    "\n",
    "# Check if set1 and set2 have no common elements using the isdisjoint() method\n",
    "no_common_elements = set1.isdisjoint(set2)\n",
    "\n",
    "# Print the result\n",
    "print(\"Do set1 and set2 have no common elements?\", no_common_elements)\n"
   ]
  },
  {
   "cell_type": "markdown",
   "id": "e0d64137-f247-4c2e-834f-eb07bc2b279a",
   "metadata": {},
   "source": [
    "19. Find the symmetric difference between two sets."
   ]
  },
  {
   "cell_type": "code",
   "execution_count": 93,
   "id": "24b4f3be-a8b9-4ab8-aab9-4ceb6623f208",
   "metadata": {},
   "outputs": [
    {
     "name": "stdout",
     "output_type": "stream",
     "text": [
      "Symmetric difference between set1 and set2: {1, 2, 3, 6, 7, 8}\n"
     ]
    }
   ],
   "source": [
    "# Two sets for symmetric difference operation\n",
    "set1 = {1, 2, 3, 4, 5}\n",
    "set2 = {4, 5, 6, 7, 8}\n",
    "\n",
    "# Find the symmetric difference between set1 and set2 using the symmetric_difference() method or the ^ operator\n",
    "symmetric_difference_set = set1.symmetric_difference(set2)  # Alternatively, symmetric_difference_set = set1 ^ set2\n",
    "\n",
    "# Print the symmetric difference set\n",
    "print(\"Symmetric difference between set1 and set2:\", symmetric_difference_set)\n"
   ]
  },
  {
   "cell_type": "markdown",
   "id": "e3da7b39-3236-45d3-b337-ea5c57093edd",
   "metadata": {},
   "source": [
    "20. Update a set with elements from another set."
   ]
  },
  {
   "cell_type": "code",
   "execution_count": 94,
   "id": "559350b8-58a8-4b22-b57e-5508c54b9fd5",
   "metadata": {},
   "outputs": [
    {
     "name": "stdout",
     "output_type": "stream",
     "text": [
      "Updated set after updating with another set: {1, 2, 3, 4, 5}\n"
     ]
    }
   ],
   "source": [
    "# Original set and another set for update operation\n",
    "my_set = {1, 2, 3}\n",
    "update_set = {3, 4, 5}\n",
    "\n",
    "# Update my_set with elements from update_set using the update() method\n",
    "my_set.update(update_set)\n",
    "\n",
    "# Print the updated set\n",
    "print(\"Updated set after updating with another set:\", my_set)\n"
   ]
  },
  {
   "cell_type": "markdown",
   "id": "d274803d-c0ef-4132-a896-24f624ce9b46",
   "metadata": {},
   "source": [
    "21. Create a set of the first 5 prime numbers."
   ]
  },
  {
   "cell_type": "code",
   "execution_count": 95,
   "id": "804ce553-9e7d-4dde-b026-d62d766c173e",
   "metadata": {},
   "outputs": [
    {
     "name": "stdout",
     "output_type": "stream",
     "text": [
      "Set of the first 5 prime numbers: {2, 3, 5, 7, 11, 13, 17, 19}\n"
     ]
    }
   ],
   "source": [
    "# Function to check if a number is prime\n",
    "def is_prime(num):\n",
    "    if num <= 1:\n",
    "        return False\n",
    "    for i in range(2, int(num ** 0.5) + 1):\n",
    "        if num % i == 0:\n",
    "            return False\n",
    "    return True\n",
    "\n",
    "# Create a set of the first 5 prime numbers using a set comprehension\n",
    "prime_numbers_set = {num for num in range(2, 20) if is_prime(num)}\n",
    "\n",
    "# Print the set of prime numbers\n",
    "print(\"Set of the first 5 prime numbers:\", prime_numbers_set)\n"
   ]
  },
  {
   "cell_type": "markdown",
   "id": "a96e5a96-2fba-4597-aca6-2aaea69eb03a",
   "metadata": {},
   "source": [
    "22. Check if two sets are identical."
   ]
  },
  {
   "cell_type": "code",
   "execution_count": 96,
   "id": "e5a3cd2c-6fbd-423a-a375-0a38db368cbc",
   "metadata": {},
   "outputs": [
    {
     "name": "stdout",
     "output_type": "stream",
     "text": [
      "Are set1 and set2 identical? True\n"
     ]
    }
   ],
   "source": [
    "# Two sets for identity check\n",
    "set1 = {1, 2, 3}\n",
    "set2 = {3, 2, 1}\n",
    "\n",
    "# Check if set1 and set2 are identical using the == operator\n",
    "are_identical = set1 == set2\n",
    "\n",
    "# Print the result\n",
    "print(\"Are set1 and set2 identical?\", are_identical)\n"
   ]
  },
  {
   "cell_type": "markdown",
   "id": "9130a9e3-8228-4c9a-8ed4-01b792a198d2",
   "metadata": {},
   "source": [
    "23. Create a frozen set."
   ]
  },
  {
   "cell_type": "code",
   "execution_count": 97,
   "id": "ce97ffc9-8b1d-4c6b-bd03-f8c8fc02080f",
   "metadata": {},
   "outputs": [
    {
     "name": "stdout",
     "output_type": "stream",
     "text": [
      "Frozen set: frozenset({1, 2, 3, 4, 5})\n"
     ]
    }
   ],
   "source": [
    "# Original set\n",
    "my_set = {1, 2, 3, 4, 5}\n",
    "\n",
    "# Create a frozen set from the original set using the frozenset() function\n",
    "frozen_set = frozenset(my_set)\n",
    "\n",
    "# Print the frozen set\n",
    "print(\"Frozen set:\", frozen_set)\n"
   ]
  },
  {
   "cell_type": "markdown",
   "id": "443acde7-1397-43fc-8310-ea208703c703",
   "metadata": {},
   "source": [
    "24. Check if a set is disjoint with another set."
   ]
  },
  {
   "cell_type": "code",
   "execution_count": 98,
   "id": "5719aa37-3c38-4032-bdcd-b4a4a4733724",
   "metadata": {},
   "outputs": [
    {
     "name": "stdout",
     "output_type": "stream",
     "text": [
      "Are set1 and set2 disjoint? True\n"
     ]
    }
   ],
   "source": [
    "# Two sets for disjoint check\n",
    "set1 = {1, 2, 3}\n",
    "set2 = {4, 5, 6}\n",
    "\n",
    "# Check if set1 and set2 are disjoint using the isdisjoint() method\n",
    "are_disjoint = set1.isdisjoint(set2)\n",
    "\n",
    "# Print the result\n",
    "print(\"Are set1 and set2 disjoint?\", are_disjoint)\n"
   ]
  },
  {
   "cell_type": "markdown",
   "id": "b80c4103-a85b-435b-b1ce-d22513644d96",
   "metadata": {},
   "source": [
    "25. Create a set of squares of numbers from 1 to 5."
   ]
  },
  {
   "cell_type": "code",
   "execution_count": 100,
   "id": "505e2a7a-5537-4166-a66d-693c31f797e1",
   "metadata": {},
   "outputs": [
    {
     "name": "stdout",
     "output_type": "stream",
     "text": [
      "Set of squares of numbers from 1 to 5: {1, 4, 9, 16, 25}\n"
     ]
    }
   ],
   "source": [
    "# Create a set of squares of numbers from 1 to 5 using a set comprehension\n",
    "squares_set = {num ** 2 for num in range(1, 6)}\n",
    "\n",
    "# Print the set of squares\n",
    "print(\"Set of squares of numbers from 1 to 5:\", squares_set)\n"
   ]
  },
  {
   "cell_type": "markdown",
   "id": "dea0a420-1f88-49e1-a415-39cd32f852d0",
   "metadata": {},
   "source": [
    "26. Filter out all even numbers from a set."
   ]
  },
  {
   "cell_type": "code",
   "execution_count": 101,
   "id": "cd2cee4b-8ee3-47ed-ae4b-6ddd291c376a",
   "metadata": {},
   "outputs": [
    {
     "name": "stdout",
     "output_type": "stream",
     "text": [
      "Filtered set with odd numbers: {1, 3, 5, 7, 9}\n"
     ]
    }
   ],
   "source": [
    "# Original set\n",
    "my_set = {1, 2, 3, 4, 5, 6, 7, 8, 9, 10}\n",
    "\n",
    "# Filter out even numbers from the set using a set comprehension\n",
    "filtered_set = {num for num in my_set if num % 2 != 0}\n",
    "\n",
    "# Print the filtered set (containing only odd numbers)\n",
    "print(\"Filtered set with odd numbers:\", filtered_set)\n"
   ]
  },
  {
   "cell_type": "markdown",
   "id": "7e8f25c3-9a01-4b98-a810-c0f84376b5de",
   "metadata": {},
   "source": [
    "27. Multiply all elements in a set by 2."
   ]
  },
  {
   "cell_type": "code",
   "execution_count": 102,
   "id": "9670424c-44b1-423d-bd0f-5e7901396ecd",
   "metadata": {},
   "outputs": [
    {
     "name": "stdout",
     "output_type": "stream",
     "text": [
      "Multiplied set by 2: {2, 4, 6, 8, 10}\n"
     ]
    }
   ],
   "source": [
    "# Original set\n",
    "my_set = {1, 2, 3, 4, 5}\n",
    "\n",
    "# Multiply all elements in the set by 2 using a set comprehension\n",
    "multiplied_set = {num * 2 for num in my_set}\n",
    "\n",
    "# Print the multiplied set\n",
    "print(\"Multiplied set by 2:\", multiplied_set)\n"
   ]
  },
  {
   "cell_type": "markdown",
   "id": "19955359-1d6a-4c9f-9787-e7f85bf2754e",
   "metadata": {},
   "source": [
    "28. Create a set of random numbers."
   ]
  },
  {
   "cell_type": "code",
   "execution_count": 103,
   "id": "606d7722-ce61-4129-9705-5b28587aa757",
   "metadata": {},
   "outputs": [
    {
     "name": "stdout",
     "output_type": "stream",
     "text": [
      "Set of random numbers: {98, 4, 6, 74, 19, 25, 58, 60, 93}\n"
     ]
    }
   ],
   "source": [
    "import random\n",
    "\n",
    "# Create a set of random numbers using a set comprehension\n",
    "random_set = {random.randint(1, 100) for _ in range(10)}  # Generating 10 random numbers between 1 and 100\n",
    "\n",
    "# Print the set of random numbers\n",
    "print(\"Set of random numbers:\", random_set)\n"
   ]
  },
  {
   "cell_type": "markdown",
   "id": "ae68b8c2-2ae2-4d3f-8bbd-46453caa98e2",
   "metadata": {},
   "source": [
    "29. Check if a set is empty."
   ]
  },
  {
   "cell_type": "code",
   "execution_count": 104,
   "id": "3796864f-33db-4e79-9b66-a0a23f3f88c0",
   "metadata": {},
   "outputs": [
    {
     "name": "stdout",
     "output_type": "stream",
     "text": [
      "Is the set empty? True\n"
     ]
    }
   ],
   "source": [
    "# Empty set\n",
    "empty_set = set()\n",
    "\n",
    "# Check if the set is empty using the bool() function or len()\n",
    "is_empty = not bool(empty_set)  # Alternatively, is_empty = len(empty_set) == 0\n",
    "\n",
    "# Print the result\n",
    "print(\"Is the set empty?\", is_empty)\n"
   ]
  },
  {
   "cell_type": "markdown",
   "id": "ce5350dc-a261-4160-ae51-83cd3736508f",
   "metadata": {},
   "source": [
    "30. Create a nested set (hint: use frozenset)."
   ]
  },
  {
   "cell_type": "code",
   "execution_count": 105,
   "id": "d3f8f2d2-9bad-4aa8-9128-ac9f5098c469",
   "metadata": {},
   "outputs": [
    {
     "name": "stdout",
     "output_type": "stream",
     "text": [
      "Nested set: {frozenset({3, 4}), frozenset({1, 2})}\n"
     ]
    }
   ],
   "source": [
    "# Nested set using frozenset\n",
    "nested_set = {frozenset({1, 2}), frozenset({3, 4})}\n",
    "\n",
    "# Print the nested set\n",
    "print(\"Nested set:\", nested_set)\n"
   ]
  },
  {
   "cell_type": "markdown",
   "id": "14d67ec8-2f6d-46ea-acbf-c6a2b111b4e5",
   "metadata": {},
   "source": [
    "31. Remove an element from a set using the discard method."
   ]
  },
  {
   "cell_type": "code",
   "execution_count": 106,
   "id": "e8936ddd-85f2-443f-ae7c-01970d8b885a",
   "metadata": {},
   "outputs": [
    {
     "name": "stdout",
     "output_type": "stream",
     "text": [
      "Updated set after removing element using discard: {1, 2, 4, 5}\n"
     ]
    }
   ],
   "source": [
    "# Original set\n",
    "my_set = {1, 2, 3, 4, 5}\n",
    "\n",
    "# Remove an element from the set using the discard() method\n",
    "my_set.discard(3)\n",
    "\n",
    "# Print the updated set\n",
    "print(\"Updated set after removing element using discard:\", my_set)\n"
   ]
  },
  {
   "cell_type": "markdown",
   "id": "cd9c0e66-ff90-4689-98d6-5960c49cbe7a",
   "metadata": {},
   "source": [
    "32. Compare two sets."
   ]
  },
  {
   "cell_type": "code",
   "execution_count": 107,
   "id": "2459210a-bc7c-4068-89ad-1715b28413a5",
   "metadata": {},
   "outputs": [
    {
     "name": "stdout",
     "output_type": "stream",
     "text": [
      "Is set1 a proper subset of set2? False\n",
      "Is set2 a superset of set1? False\n"
     ]
    }
   ],
   "source": [
    "# Two sets for comparison\n",
    "set1 = {1, 2, 3}\n",
    "set2 = {3, 4, 5}\n",
    "\n",
    "# Compare set1 and set2 using comparison operators\n",
    "is_subset = set1 < set2  # set1 is a proper subset of set2\n",
    "is_superset = set2 >= set1  # set2 is a superset of set1\n",
    "\n",
    "# Print the comparison results\n",
    "print(\"Is set1 a proper subset of set2?\", is_subset)\n",
    "print(\"Is set2 a superset of set1?\", is_superset)\n"
   ]
  },
  {
   "cell_type": "markdown",
   "id": "6f9b3767-e3d8-4d67-8763-f2174c7f5c21",
   "metadata": {},
   "source": [
    "33. Create a set from a string."
   ]
  },
  {
   "cell_type": "code",
   "execution_count": 108,
   "id": "15d16cc6-51af-4c58-bf1b-d987ab4fe54c",
   "metadata": {},
   "outputs": [
    {
     "name": "stdout",
     "output_type": "stream",
     "text": [
      "Set created from the string: {'h', 'l', 'e', 'o'}\n"
     ]
    }
   ],
   "source": [
    "# String to create a set from\n",
    "my_string = \"hello\"\n",
    "\n",
    "# Create a set from the string using the set() constructor\n",
    "string_set = set(my_string)\n",
    "\n",
    "# Print the set created from the string\n",
    "print(\"Set created from the string:\", string_set)\n"
   ]
  },
  {
   "cell_type": "markdown",
   "id": "e647ce5f-ea38-4860-9314-ee6796d4c5d0",
   "metadata": {},
   "source": [
    "34. Convert a set of strings to a set of integers."
   ]
  },
  {
   "cell_type": "code",
   "execution_count": 109,
   "id": "cac71e15-cbeb-479c-8630-5de17edddde5",
   "metadata": {},
   "outputs": [
    {
     "name": "stdout",
     "output_type": "stream",
     "text": [
      "Set of integers from a set of strings: {1, 2, 3, 4, 5}\n"
     ]
    }
   ],
   "source": [
    "# Set of strings\n",
    "string_set = {\"1\", \"2\", \"3\", \"4\", \"5\"}\n",
    "\n",
    "# Convert the set of strings to a set of integers using set comprehension and the int() function\n",
    "integer_set = {int(num) for num in string_set}\n",
    "\n",
    "# Print the set of integers\n",
    "print(\"Set of integers from a set of strings:\", integer_set)\n"
   ]
  },
  {
   "cell_type": "markdown",
   "id": "35865964-a88b-402e-9ee0-f2e733fe104d",
   "metadata": {},
   "source": [
    "35. Convert a set of integers to a set of strings."
   ]
  },
  {
   "cell_type": "code",
   "execution_count": 110,
   "id": "88ae0ae3-71b6-470f-b35e-b7ccdd37dd3e",
   "metadata": {},
   "outputs": [
    {
     "name": "stdout",
     "output_type": "stream",
     "text": [
      "Set of strings from a set of integers: {'2', '5', '4', '1', '3'}\n"
     ]
    }
   ],
   "source": [
    "# Set of integers\n",
    "integer_set = {1, 2, 3, 4, 5}\n",
    "\n",
    "# Convert the set of integers to a set of strings using set comprehension and the str() function\n",
    "string_set = {str(num) for num in integer_set}\n",
    "\n",
    "# Print the set of strings\n",
    "print(\"Set of strings from a set of integers:\", string_set)\n"
   ]
  },
  {
   "cell_type": "markdown",
   "id": "ff961d84-eecb-492b-b945-0d9b4630a2cc",
   "metadata": {},
   "source": [
    "36. Create a set from a tuple."
   ]
  },
  {
   "cell_type": "code",
   "execution_count": 111,
   "id": "8992ec0c-f377-4634-948a-5334021dee6f",
   "metadata": {},
   "outputs": [
    {
     "name": "stdout",
     "output_type": "stream",
     "text": [
      "Set created from the tuple: {1, 2, 3, 4, 5}\n"
     ]
    }
   ],
   "source": [
    "# Tuple to create a set from\n",
    "my_tuple = (1, 2, 3, 4, 5)\n",
    "\n",
    "# Create a set from the tuple using the set() constructor\n",
    "tuple_set = set(my_tuple)\n",
    "\n",
    "# Print the set created from the tuple\n",
    "print(\"Set created from the tuple:\", tuple_set)\n"
   ]
  },
  {
   "cell_type": "markdown",
   "id": "4f33ab30-6f88-4f6a-9f4b-1a10741773e5",
   "metadata": {},
   "source": [
    "37. Convert a set to a tuple."
   ]
  },
  {
   "cell_type": "code",
   "execution_count": 112,
   "id": "289b1296-8ea6-47a5-a8e9-6bdb208299e8",
   "metadata": {},
   "outputs": [
    {
     "name": "stdout",
     "output_type": "stream",
     "text": [
      "Tuple converted from the set: (1, 2, 3, 4, 5)\n"
     ]
    }
   ],
   "source": [
    "# Set to convert to a tuple\n",
    "my_set = {1, 2, 3, 4, 5}\n",
    "\n",
    "# Convert the set to a tuple using the tuple() constructor\n",
    "set_tuple = tuple(my_set)\n",
    "\n",
    "# Print the tuple converted from the set\n",
    "print(\"Tuple converted from the set:\", set_tuple)\n"
   ]
  },
  {
   "cell_type": "markdown",
   "id": "576ef05c-edb0-430e-8130-9814ef3f191d",
   "metadata": {},
   "source": [
    "38. Find the maximum value in a set."
   ]
  },
  {
   "cell_type": "code",
   "execution_count": 113,
   "id": "6ece972f-dccc-4448-9d34-59379f00bcb7",
   "metadata": {},
   "outputs": [
    {
     "name": "stdout",
     "output_type": "stream",
     "text": [
      "Maximum value in the set: 10\n"
     ]
    }
   ],
   "source": [
    "# Set of numbers\n",
    "number_set = {5, 10, 3, 8, 1}\n",
    "\n",
    "# Find the maximum value in the set using the max() function\n",
    "max_value = max(number_set)\n",
    "\n",
    "# Print the maximum value in the set\n",
    "print(\"Maximum value in the set:\", max_value)\n"
   ]
  },
  {
   "cell_type": "markdown",
   "id": "8248f62c-c87b-47a1-9889-86eb5d72565d",
   "metadata": {},
   "source": [
    "39. Find the minimum value in a set."
   ]
  },
  {
   "cell_type": "code",
   "execution_count": 114,
   "id": "50d9fe88-ebce-41ec-a56b-3eebc99d11b9",
   "metadata": {},
   "outputs": [
    {
     "name": "stdout",
     "output_type": "stream",
     "text": [
      "Minimum value in the set: 1\n"
     ]
    }
   ],
   "source": [
    "# Set of numbers\n",
    "number_set = {5, 10, 3, 8, 1}\n",
    "\n",
    "# Find the minimum value in the set using the min() function\n",
    "min_value = min(number_set)\n",
    "\n",
    "# Print the minimum value in the set\n",
    "print(\"Minimum value in the set:\", min_value)\n"
   ]
  },
  {
   "cell_type": "markdown",
   "id": "87ee7221-fbfd-4512-b734-241171fa1eb2",
   "metadata": {},
   "source": [
    "40. Create a set from user input."
   ]
  },
  {
   "cell_type": "code",
   "execution_count": 116,
   "id": "e9aefc73-0995-4460-a748-09d8520cc6a7",
   "metadata": {},
   "outputs": [
    {
     "name": "stdin",
     "output_type": "stream",
     "text": [
      "Enter elements separated by spaces:  1,2,3\n"
     ]
    },
    {
     "name": "stdout",
     "output_type": "stream",
     "text": [
      "Set created from user input: {'1,2,3'}\n"
     ]
    }
   ],
   "source": [
    "# Take user input as a string separated by spaces\n",
    "input_string = input(\"Enter elements separated by spaces: \")\n",
    "\n",
    "# Split the input string into individual elements\n",
    "elements = input_string.split()\n",
    "\n",
    "# Create a set from the elements using the set() constructor\n",
    "user_set = set(elements)\n",
    "\n",
    "# Print the set created from user input\n",
    "print(\"Set created from user input:\", user_set)\n"
   ]
  },
  {
   "cell_type": "markdown",
   "id": "e567ba07-eebc-4b4d-9415-3552ae9efed1",
   "metadata": {},
   "source": [
    "41. Check if the intersection of two sets is empty."
   ]
  },
  {
   "cell_type": "code",
   "execution_count": 117,
   "id": "fd813057-aaf1-468e-95be-0e9b4014d7ba",
   "metadata": {},
   "outputs": [
    {
     "name": "stdout",
     "output_type": "stream",
     "text": [
      "Is the intersection empty? True\n"
     ]
    }
   ],
   "source": [
    "# Two sets for intersection check\n",
    "set1 = {1, 2, 3, 4}\n",
    "set2 = {5, 6, 7, 8}\n",
    "\n",
    "# Check if the intersection of set1 and set2 is empty\n",
    "is_intersection_empty = len(set1 & set2) == 0\n",
    "\n",
    "# Print the result\n",
    "print(\"Is the intersection empty?\", is_intersection_empty)\n"
   ]
  },
  {
   "cell_type": "markdown",
   "id": "bf78592f-e4e1-4fa2-9e2d-b848cfbe6833",
   "metadata": {},
   "source": [
    "42. Create a set of the first 5 Fibonacci numbers."
   ]
  },
  {
   "cell_type": "code",
   "execution_count": 118,
   "id": "e6787c7a-4686-4c6d-9bbf-ac2d676333b2",
   "metadata": {},
   "outputs": [
    {
     "name": "stdout",
     "output_type": "stream",
     "text": [
      "Set of the first 5 Fibonacci numbers: {0, 1, 2, 3}\n"
     ]
    }
   ],
   "source": [
    "# Function to generate Fibonacci numbers\n",
    "def generate_fibonacci(n):\n",
    "    fibonacci_set = set()\n",
    "    a, b = 0, 1\n",
    "    for _ in range(n):\n",
    "        fibonacci_set.add(a)\n",
    "        a, b = b, a + b\n",
    "    return fibonacci_set\n",
    "\n",
    "# Create a set of the first 5 Fibonacci numbers\n",
    "fibonacci_set = generate_fibonacci(5)\n",
    "\n",
    "# Print the set of Fibonacci numbers\n",
    "print(\"Set of the first 5 Fibonacci numbers:\", fibonacci_set)\n"
   ]
  },
  {
   "cell_type": "markdown",
   "id": "858aa66c-8ddb-4459-a529-8045570ba30e",
   "metadata": {},
   "source": [
    "43. Remove duplicates from a list using sets."
   ]
  },
  {
   "cell_type": "code",
   "execution_count": 119,
   "id": "a3c20c1b-a2e4-4965-a1a0-b20b6787b87a",
   "metadata": {},
   "outputs": [
    {
     "name": "stdout",
     "output_type": "stream",
     "text": [
      "List with duplicates removed: [1, 2, 3, 4, 5]\n"
     ]
    }
   ],
   "source": [
    "# List with duplicates\n",
    "my_list = [1, 2, 2, 3, 4, 4, 5]\n",
    "\n",
    "# Remove duplicates from the list using set conversion\n",
    "unique_list = list(set(my_list))\n",
    "\n",
    "# Print the list with duplicates removed\n",
    "print(\"List with duplicates removed:\", unique_list)\n"
   ]
  },
  {
   "cell_type": "markdown",
   "id": "747e95fd-9df0-4a2e-a488-ea8d99a4825c",
   "metadata": {},
   "source": [
    "44. Check if two sets have the same elements, regardless of their count."
   ]
  },
  {
   "cell_type": "code",
   "execution_count": 120,
   "id": "28a1c2c0-b598-4842-8443-1c39de1ebb67",
   "metadata": {},
   "outputs": [
    {
     "name": "stdout",
     "output_type": "stream",
     "text": [
      "Do the sets have the same elements (regardless of count)? True\n"
     ]
    }
   ],
   "source": [
    "# Two sets for comparison\n",
    "set1 = {1, 2, 3}\n",
    "set2 = {3, 2, 1, 1}\n",
    "\n",
    "# Check if the sets have the same elements regardless of count\n",
    "are_equal = set1 == set2\n",
    "\n",
    "# Print the result\n",
    "print(\"Do the sets have the same elements (regardless of count)?\", are_equal)\n"
   ]
  },
  {
   "cell_type": "markdown",
   "id": "e8a003b5-e964-4af0-98d0-9ddae784983e",
   "metadata": {},
   "source": [
    "45. Create a set of the first `n` powers of 2."
   ]
  },
  {
   "cell_type": "code",
   "execution_count": 121,
   "id": "04516bb7-ea91-4c29-856f-44988dfc9a50",
   "metadata": {},
   "outputs": [
    {
     "name": "stdout",
     "output_type": "stream",
     "text": [
      "Set of the first n powers of 2: {1, 2, 4, 8, 16}\n"
     ]
    }
   ],
   "source": [
    "# Function to generate powers of 2\n",
    "def generate_powers_of_2(n):\n",
    "    powers_of_2_set = {2 ** i for i in range(n)}\n",
    "    return powers_of_2_set\n",
    "\n",
    "# Create a set of the first n powers of 2\n",
    "powers_of_2_set = generate_powers_of_2(5)  # Example for n = 5\n",
    "\n",
    "# Print the set of powers of 2\n",
    "print(\"Set of the first n powers of 2:\", powers_of_2_set)\n"
   ]
  },
  {
   "cell_type": "markdown",
   "id": "0f663acb-0626-44ac-a4a4-2bd678bbce3f",
   "metadata": {},
   "source": [
    "46. Find the common elements between a set and a list."
   ]
  },
  {
   "cell_type": "code",
   "execution_count": 122,
   "id": "c31e57fc-0fe5-4937-acfc-85a4e1c0de5c",
   "metadata": {},
   "outputs": [
    {
     "name": "stdout",
     "output_type": "stream",
     "text": [
      "Common elements between set and list: {3, 4, 5}\n"
     ]
    }
   ],
   "source": [
    "# Set and list for finding common elements\n",
    "my_set = {1, 2, 3, 4, 5}\n",
    "my_list = [3, 4, 5, 6, 7]\n",
    "\n",
    "# Find the common elements between the set and list using intersection\n",
    "common_elements = my_set.intersection(my_list)\n",
    "\n",
    "# Print the common elements\n",
    "print(\"Common elements between set and list:\", common_elements)\n"
   ]
  },
  {
   "cell_type": "markdown",
   "id": "6e1ac6f9-89d0-467a-8c4b-0b6fc9693151",
   "metadata": {},
   "source": [
    "\n",
    "\n",
    "47. Create a set of the first `n` triangular numbers."
   ]
  },
  {
   "cell_type": "code",
   "execution_count": 123,
   "id": "eac3ef4d-dce4-47d5-819b-f92ddc4f0fe9",
   "metadata": {},
   "outputs": [
    {
     "name": "stdout",
     "output_type": "stream",
     "text": [
      "Set of the first n triangular numbers: {1, 3, 6, 10, 15}\n"
     ]
    }
   ],
   "source": [
    "# Function to generate triangular numbers\n",
    "def generate_triangular_numbers(n):\n",
    "    triangular_set = {i * (i + 1) // 2 for i in range(1, n + 1)}\n",
    "    return triangular_set\n",
    "\n",
    "# Create a set of the first n triangular numbers\n",
    "triangular_set = generate_triangular_numbers(5)  # Example for n = 5\n",
    "\n",
    "# Print the set of triangular numbers\n",
    "print(\"Set of the first n triangular numbers:\", triangular_set)\n"
   ]
  },
  {
   "cell_type": "markdown",
   "id": "e632301e-69ac-4646-966b-3173b941d01a",
   "metadata": {},
   "source": [
    "48. Check if a set contains another set as a subset."
   ]
  },
  {
   "cell_type": "code",
   "execution_count": 124,
   "id": "dc7b4fa9-fa70-4e1a-821c-651285dc7d58",
   "metadata": {},
   "outputs": [
    {
     "name": "stdout",
     "output_type": "stream",
     "text": [
      "Is set2 a subset of set1? True\n"
     ]
    }
   ],
   "source": [
    "# Sets for subset check\n",
    "set1 = {1, 2, 3, 4, 5}\n",
    "set2 = {2, 3}\n",
    "\n",
    "# Check if set2 is a subset of set1\n",
    "is_subset = set2.issubset(set1)\n",
    "\n",
    "# Print the result\n",
    "print(\"Is set2 a subset of set1?\", is_subset)\n"
   ]
  },
  {
   "cell_type": "markdown",
   "id": "e5ee5f9f-4122-4441-8da5-9061aba94fdc",
   "metadata": {},
   "source": [
    "49. Create a set of alternating 1s and 0s of length `n`."
   ]
  },
  {
   "cell_type": "code",
   "execution_count": 125,
   "id": "13d87efa-aff3-4b90-aeaf-2f6546e94a71",
   "metadata": {},
   "outputs": [
    {
     "name": "stdout",
     "output_type": "stream",
     "text": [
      "Set of alternating 1s and 0s: {0, 1}\n"
     ]
    }
   ],
   "source": [
    "# Function to generate alternating 1s and 0s\n",
    "def generate_alternating_set(n):\n",
    "    alternating_set = {1 - i % 2 for i in range(n)}\n",
    "    return alternating_set\n",
    "\n",
    "# Create a set of alternating 1s and 0s of length n\n",
    "alternating_set = generate_alternating_set(5)  # Example for n = 5\n",
    "\n",
    "# Print the alternating set\n",
    "print(\"Set of alternating 1s and 0s:\", alternating_set)\n"
   ]
  },
  {
   "cell_type": "markdown",
   "id": "03b66e65-b949-4887-bc9e-fde67dc36170",
   "metadata": {},
   "source": [
    "50. Merge multiple sets into one."
   ]
  },
  {
   "cell_type": "code",
   "execution_count": 126,
   "id": "6fc300b3-40c8-4715-835c-133312823dd0",
   "metadata": {},
   "outputs": [
    {
     "name": "stdout",
     "output_type": "stream",
     "text": [
      "Merged set: {1, 2, 3, 4, 5, 6, 7}\n"
     ]
    }
   ],
   "source": [
    "# Sets to merge\n",
    "set1 = {1, 2, 3}\n",
    "set2 = {3, 4, 5}\n",
    "set3 = {5, 6, 7}\n",
    "\n",
    "# Merge the sets using the union operator |\n",
    "merged_set = set1 | set2 | set3\n",
    "\n",
    "# Print the merged set\n",
    "print(\"Merged set:\", merged_set)\n"
   ]
  },
  {
   "cell_type": "code",
   "execution_count": null,
   "id": "d3761b09-72b1-4e5d-9150-da3bfba12bbe",
   "metadata": {},
   "outputs": [],
   "source": []
  }
 ],
 "metadata": {
  "kernelspec": {
   "display_name": "Python 3 (ipykernel)",
   "language": "python",
   "name": "python3"
  },
  "language_info": {
   "codemirror_mode": {
    "name": "ipython",
    "version": 3
   },
   "file_extension": ".py",
   "mimetype": "text/x-python",
   "name": "python",
   "nbconvert_exporter": "python",
   "pygments_lexer": "ipython3",
   "version": "3.10.8"
  }
 },
 "nbformat": 4,
 "nbformat_minor": 5
}
