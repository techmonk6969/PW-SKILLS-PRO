{
 "cells": [
  {
   "cell_type": "markdown",
   "id": "4f883114-3ae1-4fbb-b88c-430a3afd99eb",
   "metadata": {},
   "source": [
    "1. What is a constructor in Python? Explain its purpose and usage.\n",
    "2. Differentiate between a parameterless constructor and a parameterized constructor in Python.\n",
    "3. How do you define a constructor in a Python class? Provide an example.\n",
    "4. Explain the `__init__` method in Python and its role in constructors.\n",
    "5. In a class named `Person`, create a constructor that initializes the `name` and `age` attributes. Provide an\n",
    "example of creating an object of this class.\n",
    "6. How can you call a constructor explicitly in Python? Give an example.\n",
    "7. What is the significance of the `self` parameter in Python constructors? Explain with an example.\n",
    "8. Discuss the concept of default constructors in Python. When are they used?\n",
    "9. Create a Python class called `Rectangle` with a constructor that initializes the `width` and `height`\n",
    "attributes. Provide a method to calculate the area of the rectangle.\n",
    "10. How can you have multiple constructors in a Python class? Explain with an example."
   ]
  },
  {
   "cell_type": "markdown",
   "id": "d4edec35-bcb8-43a4-8269-c68890633298",
   "metadata": {},
   "source": [
    "A constructor in Python is a special method that is automatically called when a new instance of a class is created. Its purpose is to initialize the attributes or properties of the newly created object. The constructor is typically used to set initial values for instance variables or perform any necessary setup tasks when an object is instantiated.\n"
   ]
  },
  {
   "cell_type": "markdown",
   "id": "901cd1ce-bcfc-4a99-9177-78642e6121e6",
   "metadata": {},
   "source": [
    "Parameterless Constructor: A parameterless constructor in Python is a constructor that does not take any parameters. It is used to initialize default values or perform basic setup tasks when an object is created.\n",
    "Parameterized Constructor: A parameterized constructor in Python is a constructor that accepts parameters. It is used to initialize object attributes with specific values provided during object creation."
   ]
  },
  {
   "cell_type": "code",
   "execution_count": 1,
   "id": "fd6270d4-5bdc-4dcf-b07d-10e039dac5c0",
   "metadata": {},
   "outputs": [],
   "source": [
    "class MyClass:\n",
    "    def __init__(self, param1, param2):\n",
    "        self.param1 = param1\n",
    "        self.param2 = param2\n"
   ]
  },
  {
   "cell_type": "markdown",
   "id": "bf7ab8d6-f5d4-40a7-b92c-13666bc73f8b",
   "metadata": {},
   "source": [
    "The __init__ method in Python is a special method that serves as the constructor for a class. It is called automatically when a new instance of the class is created. The role of the __init__ method is to initialize the object's attributes or perform any setup tasks required for the object's initialization."
   ]
  },
  {
   "cell_type": "code",
   "execution_count": 3,
   "id": "7222f58a-ad99-4149-90e1-2a9cc42c1a91",
   "metadata": {},
   "outputs": [],
   "source": [
    "class Person:\n",
    "    def __init__(self, name, age):\n",
    "        self.name = name\n",
    "        self.age = age\n",
    "\n",
    "# Creating an object of the Person class\n",
    "person1 = Person(\"Alice\", 30)\n"
   ]
  },
  {
   "cell_type": "markdown",
   "id": "a4fc7c33-ec3d-4a96-9c73-19379595427d",
   "metadata": {},
   "source": [
    "You can call a constructor explicitly in Python by using the class name followed by parentheses and passing the required arguments. However, it's more common to let Python automatically call the constructor when you create a new instance of a class."
   ]
  },
  {
   "cell_type": "markdown",
   "id": "6d12ff04-c9d3-4014-9914-e75bb3de6833",
   "metadata": {},
   "source": [
    "The self parameter in Python constructors (and methods) refers to the instance of the class itself. It is used to access and modify instance variables within the class. In the context of constructors, self is used to initialize instance variables with values passed as arguments during object creation."
   ]
  },
  {
   "cell_type": "code",
   "execution_count": 4,
   "id": "93a5f9b9-b899-45f9-95ab-06a304b1d544",
   "metadata": {},
   "outputs": [],
   "source": [
    "class Person:\n",
    "    def __init__(self, name, age):\n",
    "        self.name = name\n",
    "        self.age = age\n",
    "\n",
    "# Creating an object of the Person class\n",
    "person1 = Person(\"Alice\", 30)\n"
   ]
  },
  {
   "cell_type": "code",
   "execution_count": 5,
   "id": "1c2679ff-5c23-4efa-bf9a-0c01bd076431",
   "metadata": {},
   "outputs": [],
   "source": [
    "class MyClass:\n",
    "    def __init__(self, param1, param2):\n",
    "        self.param1 = param1\n",
    "        self.param2 = param2\n",
    "\n",
    "# Explicitly calling the constructor\n",
    "obj = MyClass(\"value1\", \"value2\")\n"
   ]
  },
  {
   "cell_type": "code",
   "execution_count": 6,
   "id": "0c2a3266-6ef5-4696-be12-9d7f92c30789",
   "metadata": {},
   "outputs": [
    {
     "name": "stdout",
     "output_type": "stream",
     "text": [
      "Alice\n",
      "30\n"
     ]
    }
   ],
   "source": [
    "class Person:\n",
    "    def __init__(self, name, age):\n",
    "        self.name = name\n",
    "        self.age = age\n",
    "\n",
    "# Creating an object of the Person class\n",
    "person1 = Person(\"Alice\", 30)\n",
    "\n",
    "# Accessing attributes using self\n",
    "print(person1.name)  # Output: Alice\n",
    "print(person1.age)   # Output: 30\n"
   ]
  },
  {
   "cell_type": "markdown",
   "id": "59ca2dc2-257f-4842-bc32-be8be14fc807",
   "metadata": {},
   "source": [
    "Default constructors in Python are constructors that are automatically provided by Python if no explicit constructor is defined in a class. They initialize instance variables to default values (e.g., None, 0, empty string) if no initialization is specified. Default constructors are used when you don't need to perform any specific initialization tasks or set default values for attributes."
   ]
  },
  {
   "cell_type": "code",
   "execution_count": 7,
   "id": "fb4a04a2-02fb-4089-843d-5d098c76e3d0",
   "metadata": {},
   "outputs": [
    {
     "name": "stdout",
     "output_type": "stream",
     "text": [
      "Area of the rectangle: 50\n"
     ]
    }
   ],
   "source": [
    "class Rectangle:\n",
    "    def __init__(self, width, height):\n",
    "        self.width = width\n",
    "        self.height = height\n",
    "\n",
    "    def calculate_area(self):\n",
    "        return self.width * self.height\n",
    "\n",
    "# Creating an object of the Rectangle class\n",
    "rectangle1 = Rectangle(5, 10)\n",
    "area = rectangle1.calculate_area()\n",
    "print(\"Area of the rectangle:\", area)  # Output: Area of the rectangle: 50\n"
   ]
  },
  {
   "cell_type": "code",
   "execution_count": 8,
   "id": "94e381e7-bf54-45d5-9149-91564fb2ac23",
   "metadata": {},
   "outputs": [
    {
     "name": "stdout",
     "output_type": "stream",
     "text": [
      "default1 default2\n",
      "value1 value2\n"
     ]
    }
   ],
   "source": [
    "class MyClass:\n",
    "    def __init__(self, param1=None, param2=None):\n",
    "        if param1 is not None and param2 is not None:\n",
    "            self.param1 = param1\n",
    "            self.param2 = param2\n",
    "        else:\n",
    "            self.param1 = \"default1\"\n",
    "            self.param2 = \"default2\"\n",
    "\n",
    "# Creating an object with default values\n",
    "obj1 = MyClass()\n",
    "print(obj1.param1, obj1.param2)  # Output: default1 default2\n",
    "\n",
    "# Creating an object with custom values\n",
    "obj2 = MyClass(\"value1\", \"value2\")\n",
    "print(obj2.param1, obj2.param2)  # Output: value1 value2\n"
   ]
  },
  {
   "cell_type": "markdown",
   "id": "b89937be-a808-4bf5-a186-d195934301be",
   "metadata": {},
   "source": [
    "11. What is method overloading, and how is it related to constructors in Python?\n",
    "12. Explain the use of the `super()` function in Python constructors. Provide an example.\n",
    "13. Create a class called `Book` with a constructor that initializes the `title`, `author`, and `published_year`\n",
    "attributes. Provide a method to display book details.\n",
    "14. Discuss the differences between constructors and regular methods in Python classes.\n",
    "15. Explain the role of the `self` parameter in instance variable initialization within a constructor.\n",
    "16. How do you prevent a class from having multiple instances by using constructors in Python? Provide an\n",
    "example.\n",
    "17. Create a Python class called `Student` with a constructor that takes a list of subjects as a parameter and\n",
    "initializes the `subjects` attribute.\n",
    "18. What is the purpose of the `__del__` method in Python classes, and how does it relate to constructors?\n",
    "19. Explain the use of constructor chaining in Python. Provide a practical example.\n",
    "20. Create a Python class called `Car` with a default constructor that initializes the `make` and `model`\n",
    "attributes. Provide a method to display car information."
   ]
  },
  {
   "cell_type": "markdown",
   "id": "bfd12a34-6cf4-4237-a146-2ca9854da32b",
   "metadata": {},
   "source": [
    "Method overloading in Python refers to the ability to define multiple methods in a class with the same name but different parameters. However, Python does not support method overloading directly like some other languages (e.g., Java). Instead, Python uses default arguments or variable-length arguments (*args or **kwargs) to achieve similar functionality.\n",
    "Method overloading in Python is related to constructors because constructors are essentially special methods (__init__ method) used for object initialization. While Python does not have traditional method overloading, you can use default arguments or variable-length arguments in constructors to handle different initialization scenarios."
   ]
  },
  {
   "cell_type": "markdown",
   "id": "58a44849-17aa-40f0-a508-ec483f4430df",
   "metadata": {},
   "source": [
    "The super() function in Python is used to call the constructor of the superclass (parent class) within the constructor of a subclass (child class). It is commonly used in constructor chaining to ensure that the initialization tasks of both the subclass and superclass are performed."
   ]
  },
  {
   "cell_type": "code",
   "execution_count": 9,
   "id": "454e68a1-9611-4aa3-b395-c18b9d3128b4",
   "metadata": {},
   "outputs": [
    {
     "name": "stdout",
     "output_type": "stream",
     "text": [
      "Parent constructor\n",
      "Child constructor\n"
     ]
    }
   ],
   "source": [
    "class Parent:\n",
    "    def __init__(self):\n",
    "        print(\"Parent constructor\")\n",
    "\n",
    "class Child(Parent):\n",
    "    def __init__(self):\n",
    "        super().__init__()\n",
    "        print(\"Child constructor\")\n",
    "\n",
    "# Creating an object of the Child class\n",
    "child = Child()\n"
   ]
  },
  {
   "cell_type": "code",
   "execution_count": 10,
   "id": "2a1e772c-a0aa-4861-9b24-6e0f3bf7545d",
   "metadata": {},
   "outputs": [
    {
     "name": "stdout",
     "output_type": "stream",
     "text": [
      "Title: Python Programming\n",
      "Author: John Doe\n",
      "Published Year: 2022\n"
     ]
    }
   ],
   "source": [
    "class Book:\n",
    "    def __init__(self, title, author, published_year):\n",
    "        self.title = title\n",
    "        self.author = author\n",
    "        self.published_year = published_year\n",
    "\n",
    "    def display_details(self):\n",
    "        print(f\"Title: {self.title}\")\n",
    "        print(f\"Author: {self.author}\")\n",
    "        print(f\"Published Year: {self.published_year}\")\n",
    "\n",
    "# Creating an object of the Book class\n",
    "book1 = Book(\"Python Programming\", \"John Doe\", 2022)\n",
    "book1.display_details()\n"
   ]
  },
  {
   "cell_type": "markdown",
   "id": "3b8bc2fb-383a-4156-b466-9fd0a17fdcb7",
   "metadata": {},
   "source": [
    "Constructors (__init__ method) are special methods used for initializing object attributes during object creation. They are automatically called when an object is instantiated.\n",
    "Regular methods are defined using normal method syntax and can perform various operations or tasks on objects after they have been created.\n",
    "Constructors do not have a return type and are used specifically for initialization, whereas regular methods can have return types and perform a wide range of operations."
   ]
  },
  {
   "cell_type": "markdown",
   "id": "c2f1efed-6f17-4c63-b466-6db09ca41bf4",
   "metadata": {},
   "source": [
    "The self parameter in instance variable initialization within a constructor refers to the instance of the class itself. It is used to access and modify instance variables within the class. In the context of constructors, self is used to set initial values for instance variables based on the arguments passed during object creation"
   ]
  },
  {
   "cell_type": "code",
   "execution_count": 11,
   "id": "f7c140f4-90db-4db1-8abd-1af56fdaa5bc",
   "metadata": {},
   "outputs": [
    {
     "name": "stdout",
     "output_type": "stream",
     "text": [
      "True\n"
     ]
    }
   ],
   "source": [
    "class Singleton:\n",
    "    instance = None\n",
    "\n",
    "    def __new__(cls):\n",
    "        if cls.instance is None:\n",
    "            cls.instance = super().__new__(cls)\n",
    "        return cls.instance\n",
    "\n",
    "# Creating instances of the Singleton class\n",
    "obj1 = Singleton()\n",
    "obj2 = Singleton()\n",
    "\n",
    "print(obj1 is obj2)  # Output: True\n"
   ]
  },
  {
   "cell_type": "code",
   "execution_count": 12,
   "id": "b0f0b84f-7f64-43ac-ba72-d6a7aea8b32a",
   "metadata": {},
   "outputs": [
    {
     "name": "stdout",
     "output_type": "stream",
     "text": [
      "['Math', 'Science', 'History']\n"
     ]
    }
   ],
   "source": [
    "class Student:\n",
    "    def __init__(self, subjects):\n",
    "        self.subjects = subjects\n",
    "\n",
    "# Creating an object of the Student class\n",
    "student = Student([\"Math\", \"Science\", \"History\"])\n",
    "print(student.subjects)  # Output: ['Math', 'Science', 'History']\n"
   ]
  },
  {
   "cell_type": "markdown",
   "id": "42063f41-1026-43f4-a863-2113ea49c565",
   "metadata": {},
   "source": [
    "The __del__ method in Python classes, also known as the destructor, is called when an object is about to be destroyed or garbage collected. It is the opposite of the constructor (__init__ method), which is called when an object is created. The __del__ method can be used to perform cleanup tasks or release resources associated with the object before it is deleted."
   ]
  },
  {
   "cell_type": "markdown",
   "id": "87e3c9b2-cabf-4151-aff0-6be6a2a3e947",
   "metadata": {},
   "source": [
    "Constructor chaining in Python refers to calling the constructor of the superclass (parent class) from the constructor of the subclass (child class) using the super() function. This ensures that both the initialization tasks of the subclass and superclass are performed."
   ]
  },
  {
   "cell_type": "code",
   "execution_count": 13,
   "id": "16a822f0-2e65-4f3e-9a6b-6b260502b8c9",
   "metadata": {},
   "outputs": [
    {
     "name": "stdout",
     "output_type": "stream",
     "text": [
      "Make: Toyota, Model: Camry, Year: 2022\n"
     ]
    }
   ],
   "source": [
    "class Vehicle:\n",
    "    def __init__(self, make, model):\n",
    "        self.make = make\n",
    "        self.model = model\n",
    "\n",
    "class Car(Vehicle):\n",
    "    def __init__(self, make, model, year):\n",
    "        super().__init__(make, model)\n",
    "        self.year = year\n",
    "\n",
    "    def display_info(self):\n",
    "        print(f\"Make: {self.make}, Model: {self.model}, Year: {self.year}\")\n",
    "\n",
    "# Creating an object of the Car class\n",
    "car = Car(\"Toyota\", \"Camry\", 2022)\n",
    "car.display_info()\n"
   ]
  },
  {
   "cell_type": "code",
   "execution_count": 14,
   "id": "42624a40-bf90-44a5-9b84-65a90cd0270d",
   "metadata": {},
   "outputs": [
    {
     "name": "stdout",
     "output_type": "stream",
     "text": [
      "Car: Toyota Camry\n"
     ]
    }
   ],
   "source": [
    "class Car:\n",
    "    def __init__(self, make, model):\n",
    "        self.make = make\n",
    "        self.model = model\n",
    "\n",
    "    def display_info(self):\n",
    "        print(f\"Car: {self.make} {self.model}\")\n",
    "\n",
    "# Creating an object of the Car class\n",
    "car1 = Car(\"Toyota\", \"Camry\")\n",
    "car1.display_info()  # Output: Car: Toyota Camry\n"
   ]
  },
  {
   "cell_type": "markdown",
   "id": "550d10b5-96c2-4e70-b128-6156dbc6df3a",
   "metadata": {},
   "source": [
    "1. What is inheritance in Python? Explain its significance in object-oriented programming.\n",
    "2. Differentiate between single inheritance and multiple inheritance in Python. Provide examples for each.\n",
    "3. Create a Python class called `Vehicle` with attributes `color` and `speed`. Then, create a child class called\n",
    "`Car` that inherits from `Vehicle` and adds a `brand` attribute. Provide an example of creating a `Car` object.\n",
    "4. Explain the concept of method overriding in inheritance. Provide a practical example.\n",
    "5. How can you access the methods and attributes of a parent class from a child class in Python? Give an\n",
    "example.\n",
    "6. Discuss the use of the `super()` function in Python inheritance. When and why is it used? Provide an\n",
    "example.\n",
    "7. Create a Python class called `Animal` with a method `speak()`. Then, create child classes `Dog` and `Cat` that inherit from `Animal` and override the `speak()` method. Provide an example of using these classes.\n",
    "8. Explain the role of the `isinstance()` function in Python and how it relates to inheritance.\n",
    "9. What is the purpose of the `issubclass()` function in Python? Provide an example.\n",
    "10. Discuss the concept of constructor inheritance in Python. How are constructors inherited in child classes?"
   ]
  },
  {
   "cell_type": "markdown",
   "id": "ea830843-29f3-4feb-9251-5586d6d5f4e7",
   "metadata": {},
   "source": [
    "Inheritance in Python is a mechanism where a new class, known as a derived class or subclass, inherits properties and behaviors (methods and attributes) from an existing class, known as a base class or superclass. The significance of inheritance in object-oriented programming lies in code reusability, organization, and the ability to create a hierarchy of classes with specialized features."
   ]
  },
  {
   "cell_type": "code",
   "execution_count": 15,
   "id": "e7ee988a-73a4-46d6-a7ac-abbc4ad1455c",
   "metadata": {},
   "outputs": [
    {
     "name": "stdout",
     "output_type": "stream",
     "text": [
      "Eating\n",
      "Barking\n"
     ]
    }
   ],
   "source": [
    "class Animal:\n",
    "    def eat(self):\n",
    "        print(\"Eating\")\n",
    "\n",
    "class Dog(Animal):  # Single inheritance\n",
    "    def bark(self):\n",
    "        print(\"Barking\")\n",
    "\n",
    "# Creating an object of the Dog class\n",
    "dog = Dog()\n",
    "dog.eat()  # Output: Eating\n",
    "dog.bark()  # Output: Barking\n"
   ]
  },
  {
   "cell_type": "code",
   "execution_count": 16,
   "id": "0b77bd0b-9c59-4909-a828-f04cb5109d33",
   "metadata": {},
   "outputs": [
    {
     "name": "stdout",
     "output_type": "stream",
     "text": [
      "Method A\n",
      "Method B\n",
      "Method C\n"
     ]
    }
   ],
   "source": [
    "class A:\n",
    "    def method_a(self):\n",
    "        print(\"Method A\")\n",
    "\n",
    "class B:\n",
    "    def method_b(self):\n",
    "        print(\"Method B\")\n",
    "\n",
    "class C(A, B):  # Multiple inheritance\n",
    "    def method_c(self):\n",
    "        print(\"Method C\")\n",
    "\n",
    "# Creating an object of the C class\n",
    "obj = C()\n",
    "obj.method_a()  # Output: Method A\n",
    "obj.method_b()  # Output: Method B\n",
    "obj.method_c()  # Output: Method C\n"
   ]
  },
  {
   "cell_type": "code",
   "execution_count": 17,
   "id": "0b5031e9-571b-49b7-8928-a02765f46e58",
   "metadata": {},
   "outputs": [
    {
     "name": "stdout",
     "output_type": "stream",
     "text": [
      "Red\n",
      "120\n",
      "Toyota\n"
     ]
    }
   ],
   "source": [
    "class Vehicle:\n",
    "    def __init__(self, color, speed):\n",
    "        self.color = color\n",
    "        self.speed = speed\n",
    "\n",
    "class Car(Vehicle):\n",
    "    def __init__(self, color, speed, brand):\n",
    "        super().__init__(color, speed)\n",
    "        self.brand = brand\n",
    "\n",
    "# Creating a Car object\n",
    "car = Car(\"Red\", 120, \"Toyota\")\n",
    "print(car.color)  # Output: Red\n",
    "print(car.speed)  # Output: 120\n",
    "print(car.brand)  # Output: Toyota\n"
   ]
  },
  {
   "cell_type": "code",
   "execution_count": 18,
   "id": "1071d38b-18d7-4633-965a-9628226ea1c0",
   "metadata": {},
   "outputs": [
    {
     "name": "stdout",
     "output_type": "stream",
     "text": [
      "Dog barks\n"
     ]
    }
   ],
   "source": [
    "class Animal:\n",
    "    def speak(self):\n",
    "        print(\"Animal speaks\")\n",
    "\n",
    "class Dog(Animal):\n",
    "    def speak(self):  # Method overriding\n",
    "        print(\"Dog barks\")\n",
    "\n",
    "# Creating a Dog object\n",
    "dog = Dog()\n",
    "dog.speak()  # Output: Dog barks\n"
   ]
  },
  {
   "cell_type": "code",
   "execution_count": 19,
   "id": "f8bd98b5-e99e-47f2-9dd8-5b9fc091a43c",
   "metadata": {},
   "outputs": [
    {
     "name": "stdout",
     "output_type": "stream",
     "text": [
      "Parent method\n",
      "Child method\n"
     ]
    }
   ],
   "source": [
    "class Parent:\n",
    "    def parent_method(self):\n",
    "        print(\"Parent method\")\n",
    "\n",
    "class Child(Parent):\n",
    "    def child_method(self):\n",
    "        super().parent_method()  # Accessing parent method using super()\n",
    "        print(\"Child method\")\n",
    "\n",
    "# Creating a Child object\n",
    "child = Child()\n",
    "child.child_method()  # Output: Parent method \\n Child method\n"
   ]
  },
  {
   "cell_type": "code",
   "execution_count": 20,
   "id": "543251e3-3f2b-40d8-9546-c0d036c8cd6d",
   "metadata": {},
   "outputs": [
    {
     "name": "stdout",
     "output_type": "stream",
     "text": [
      "Parent constructor\n",
      "Child constructor\n"
     ]
    }
   ],
   "source": [
    "class Parent:\n",
    "    def __init__(self):\n",
    "        print(\"Parent constructor\")\n",
    "\n",
    "class Child(Parent):\n",
    "    def __init__(self):\n",
    "        super().__init__()  # Calling superclass constructor using super()\n",
    "        print(\"Child constructor\")\n",
    "\n",
    "# Creating a Child object\n",
    "child = Child()\n"
   ]
  },
  {
   "cell_type": "code",
   "execution_count": 21,
   "id": "72b8f90c-c12b-4955-a99f-378447953957",
   "metadata": {},
   "outputs": [
    {
     "name": "stdout",
     "output_type": "stream",
     "text": [
      "Dog barks\n",
      "Cat meows\n"
     ]
    }
   ],
   "source": [
    "class Animal:\n",
    "    def speak(self):\n",
    "        print(\"Animal speaks\")\n",
    "\n",
    "class Dog(Animal):\n",
    "    def speak(self):  # Method overriding\n",
    "        print(\"Dog barks\")\n",
    "\n",
    "class Cat(Animal):\n",
    "    def speak(self):  # Method overriding\n",
    "        print(\"Cat meows\")\n",
    "\n",
    "# Creating Dog and Cat objects\n",
    "dog = Dog()\n",
    "cat = Cat()\n",
    "dog.speak()  # Output: Dog barks\n",
    "cat.speak()  # Output: Cat meows\n"
   ]
  },
  {
   "cell_type": "code",
   "execution_count": 22,
   "id": "cfcd8ab1-4e45-4a13-99b7-9b447dfd203d",
   "metadata": {},
   "outputs": [
    {
     "name": "stdout",
     "output_type": "stream",
     "text": [
      "True\n",
      "True\n"
     ]
    }
   ],
   "source": [
    "class Animal:\n",
    "    pass\n",
    "\n",
    "class Dog(Animal):\n",
    "    pass\n",
    "\n",
    "dog = Dog()\n",
    "print(isinstance(dog, Dog))  # Output: True\n",
    "print(isinstance(dog, Animal))  # Output: True\n"
   ]
  },
  {
   "cell_type": "code",
   "execution_count": 23,
   "id": "8d1540b4-326d-4b2c-bc21-003df1eda7e0",
   "metadata": {},
   "outputs": [
    {
     "name": "stdout",
     "output_type": "stream",
     "text": [
      "True\n"
     ]
    }
   ],
   "source": [
    "class Animal:\n",
    "    pass\n",
    "\n",
    "class Dog(Animal):\n",
    "    pass\n",
    "\n",
    "print(issubclass(Dog, Animal))  # Output: True\n"
   ]
  },
  {
   "cell_type": "code",
   "execution_count": 24,
   "id": "631bb4a8-e2e8-4fa3-b3d7-7756242639c9",
   "metadata": {},
   "outputs": [
    {
     "name": "stdout",
     "output_type": "stream",
     "text": [
      "Alice\n",
      "30\n"
     ]
    }
   ],
   "source": [
    "class Parent:\n",
    "    def __init__(self, name):\n",
    "        self.name = name\n",
    "\n",
    "class Child(Parent):\n",
    "    def __init__(self, name, age):\n",
    "        super().__init__(name)  # Calling superclass constructor\n",
    "        self.age = age\n",
    "\n",
    "# Creating a Child object\n",
    "child = Child(\"Alice\", 30)\n",
    "print(child.name)  # Output: Alice\n",
    "print(child.age)   # Output: 30\n"
   ]
  },
  {
   "cell_type": "markdown",
   "id": "36e99560-3136-4e85-be87-e6a75e3b0348",
   "metadata": {},
   "source": [
    "11. Create a Python class called `Shape` with a method `area()` that calculates the area of a shape. Then, create child classes `Circle` and `Rectangle` that inherit from `Shape` and implement the `area()` method\n",
    "accordingly. Provide an example.\n",
    "12. Explain the use of abstract base classes (ABCs) in Python and how they relate to inheritance. Provide an\n",
    "example using the `abc` module.\n",
    "13. How can you prevent a child class from modifying certain attributes or methods inherited from a parent\n",
    "class in Python?\n",
    "14. Create a Python class called `Employee` with attributes `name` and `salary`. Then, create a child class\n",
    "`Manager` that inherits from `Employee` and adds an attribute `department`. Provide an example.\n",
    "15. Discuss the concept of method overloading in Python inheritance. How does it differ from method\n",
    "overriding?\n",
    "16. Explain the purpose of the `__init__()` method in Python inheritance and how it is utilized in child classes.\n",
    "17. Create a Python class called `Bird` with a method `fly()`. Then, create child classes `Eagle` and `Sparrow` that inherit from `Bird` and implement the `fly()` method differently. Provide an example of using these\n",
    "classes.\n",
    "18. What is the \"diamond problem\" in multiple inheritance, and how does Python address it?\n",
    "19. Discuss the concept of \"is-a\" and \"has-a\" relationships in inheritance, and provide examples of each.\n",
    "20. Create a Python class hierarchy for a university system. Start with a base class `Person` and create child\n",
    "classes `Student` and `Professor`, each with their own attributes and methods. Provide an example of using\n",
    "these classes in a university context."
   ]
  },
  {
   "cell_type": "code",
   "execution_count": 25,
   "id": "6a74c4a8-dcee-4e0f-9fb6-8b9d9e0a8e8a",
   "metadata": {},
   "outputs": [
    {
     "name": "stdout",
     "output_type": "stream",
     "text": [
      "Area of Circle: 78.53981633974483\n",
      "Area of Rectangle: 12\n"
     ]
    }
   ],
   "source": [
    "import math\n",
    "\n",
    "class Shape:\n",
    "    def area(self):\n",
    "        pass  # Placeholder method, to be overridden in child classes\n",
    "\n",
    "class Circle(Shape):\n",
    "    def __init__(self, radius):\n",
    "        self.radius = radius\n",
    "\n",
    "    def area(self):\n",
    "        return math.pi * self.radius ** 2\n",
    "\n",
    "class Rectangle(Shape):\n",
    "    def __init__(self, width, height):\n",
    "        self.width = width\n",
    "        self.height = height\n",
    "\n",
    "    def area(self):\n",
    "        return self.width * self.height\n",
    "\n",
    "# Creating objects of Circle and Rectangle\n",
    "circle = Circle(5)\n",
    "rectangle = Rectangle(3, 4)\n",
    "\n",
    "print(\"Area of Circle:\", circle.area())  # Output: Area of Circle: 78.53981633974483\n",
    "print(\"Area of Rectangle:\", rectangle.area())  # Output: Area of Rectangle: 12\n"
   ]
  },
  {
   "cell_type": "code",
   "execution_count": 26,
   "id": "32b30638-00b3-463e-aabd-84de5bc0fe02",
   "metadata": {},
   "outputs": [
    {
     "name": "stdout",
     "output_type": "stream",
     "text": [
      "Area of Circle: 78.53981633974483\n"
     ]
    }
   ],
   "source": [
    "from abc import ABC, abstractmethod\n",
    "\n",
    "class Shape(ABC):  # Abstract base class\n",
    "    @abstractmethod\n",
    "    def area(self):\n",
    "        pass\n",
    "\n",
    "class Circle(Shape):\n",
    "    def __init__(self, radius):\n",
    "        self.radius = radius\n",
    "\n",
    "    def area(self):\n",
    "        return math.pi * self.radius ** 2\n",
    "\n",
    "# Creating an object of Circle class\n",
    "circle = Circle(5)\n",
    "print(\"Area of Circle:\", circle.area())  # Output: Area of Circle: 78.53981633974483\n"
   ]
  },
  {
   "cell_type": "code",
   "execution_count": 27,
   "id": "9a1d0e4f-045b-411e-a066-5915de05eb74",
   "metadata": {},
   "outputs": [
    {
     "name": "stdout",
     "output_type": "stream",
     "text": [
      "10\n",
      "10\n"
     ]
    }
   ],
   "source": [
    "class Parent:\n",
    "    def __init__(self):\n",
    "        self.__private_var = 10  # Private variable\n",
    "\n",
    "class Child(Parent):\n",
    "    def __init__(self):\n",
    "        super().__init__()\n",
    "        self.__private_var = 20  # This creates a new private variable, not modifying the parent's private variable\n",
    "\n",
    "# Creating objects of Parent and Child classes\n",
    "parent = Parent()\n",
    "child = Child()\n",
    "\n",
    "print(parent._Parent__private_var)  # Output: 10\n",
    "print(child._Parent__private_var)  # Output: 20\n"
   ]
  },
  {
   "cell_type": "code",
   "execution_count": 28,
   "id": "032015ce-7721-45cf-adb0-22d369d9a7ba",
   "metadata": {},
   "outputs": [
    {
     "name": "stdout",
     "output_type": "stream",
     "text": [
      "Alice\n",
      "50000\n",
      "Finance\n"
     ]
    }
   ],
   "source": [
    "class Employee:\n",
    "    def __init__(self, name, salary):\n",
    "        self.name = name\n",
    "        self.salary = salary\n",
    "\n",
    "class Manager(Employee):\n",
    "    def __init__(self, name, salary, department):\n",
    "        super().__init__(name, salary)\n",
    "        self.department = department\n",
    "\n",
    "# Creating a Manager object\n",
    "manager = Manager(\"Alice\", 50000, \"Finance\")\n",
    "print(manager.name)  # Output: Alice\n",
    "print(manager.salary)  # Output: 50000\n",
    "print(manager.department)  # Output: Finance\n"
   ]
  },
  {
   "cell_type": "markdown",
   "id": "b9c32832-9095-4cda-9cc1-90a123701bb3",
   "metadata": {},
   "source": [
    "Method overloading in Python refers to defining multiple methods in a class with the same name but different parameters. However, Python does not support method overloading directly like some other languages (e.g., Java). Instead, you can achieve similar functionality using default arguments or variable-length arguments (*args or **kwargs).\n",
    "Method overriding, on the other hand, occurs when a subclass provides its own implementation of a method that is already defined in its superclass. This allows the subclass to modify or extend the behavior of the method inherited from the superclass."
   ]
  },
  {
   "cell_type": "markdown",
   "id": "40e67cb4-8570-4934-bdc4-e648f2f2f575",
   "metadata": {},
   "source": [
    "The __init__() method in Python inheritance is used as a constructor in classes. It is automatically called when an object is created from a class and is responsible for initializing the attributes of the object. In child classes, the super().__init__() method is commonly used to call the constructor of the parent class and initialize its attributes."
   ]
  },
  {
   "cell_type": "code",
   "execution_count": 29,
   "id": "5fd16c83-d3f3-4310-af25-85ea30a00c5d",
   "metadata": {},
   "outputs": [
    {
     "name": "stdout",
     "output_type": "stream",
     "text": [
      "Eagle flies high\n",
      "Sparrow flies low\n"
     ]
    }
   ],
   "source": [
    "class Bird:\n",
    "    def fly(self):\n",
    "        pass  # Placeholder method, to be overridden in child classes\n",
    "\n",
    "class Eagle(Bird):\n",
    "    def fly(self):\n",
    "        print(\"Eagle flies high\")\n",
    "\n",
    "class Sparrow(Bird):\n",
    "    def fly(self):\n",
    "        print(\"Sparrow flies low\")\n",
    "\n",
    "# Creating objects of Eagle and Sparrow\n",
    "eagle = Eagle()\n",
    "sparrow = Sparrow()\n",
    "\n",
    "eagle.fly()  # Output: Eagle flies high\n",
    "sparrow.fly()  # Output: Sparrow flies low\n"
   ]
  },
  {
   "cell_type": "markdown",
   "id": "cbd45d22-2460-472b-8b74-101ce9aba8c4",
   "metadata": {},
   "source": [
    "The \"diamond problem\" in multiple inheritance occurs when a subclass inherits from two classes that have a common superclass. This leads to ambiguity in method resolution and can cause issues in the inheritance hierarchy.\n",
    "Python addresses the diamond problem by using the Method Resolution Order (MRO) and the C3 linearization algorithm. The MRO defines the order in which methods are searched for and resolved in the inheritance hierarchy, ensuring that method resolution is consistent and unambiguous."
   ]
  },
  {
   "cell_type": "markdown",
   "id": "603c6a8a-600a-47e8-8b0a-dbbd0ed1df71",
   "metadata": {},
   "source": [
    "nheritance relationships in Python can be categorized as \"is-a\" and \"has-a\" relationships:\n",
    "\"Is-a\" relationship: This represents inheritance, where a subclass \"is a\" type of its superclass. For example, a Car is-a type of Vehicle.\n",
    "\"Has-a\" relationship: This represents composition, where a class \"has a\" relationship with another class by containing an instance of that class as an attribute. For example, a Car has-a Engine."
   ]
  },
  {
   "cell_type": "code",
   "execution_count": 30,
   "id": "b9d70df7-786f-46a2-8f1a-8495b1dc0836",
   "metadata": {},
   "outputs": [
    {
     "name": "stdout",
     "output_type": "stream",
     "text": [
      "True\n",
      "True\n"
     ]
    }
   ],
   "source": [
    "class Animal:\n",
    "    pass\n",
    "\n",
    "class Dog(Animal):\n",
    "    pass\n",
    "\n",
    "# Dog is-a type of Animal\n",
    "dog = Dog()\n",
    "print(isinstance(dog, Dog))  # Output: True\n",
    "print(isinstance(dog, Animal))  # Output: True\n"
   ]
  },
  {
   "cell_type": "code",
   "execution_count": 31,
   "id": "0cfbe548-170b-4b50-9623-c65491ba9d4d",
   "metadata": {},
   "outputs": [
    {
     "name": "stdout",
     "output_type": "stream",
     "text": [
      "Engine started\n"
     ]
    }
   ],
   "source": [
    "class Engine:\n",
    "    def start(self):\n",
    "        print(\"Engine started\")\n",
    "\n",
    "class Car:\n",
    "    def __init__(self):\n",
    "        self.engine = Engine()  # Car has-a Engine\n",
    "\n",
    "# Creating a Car object\n",
    "car = Car()\n",
    "car.engine.start()  # Output: Engine started\n"
   ]
  },
  {
   "cell_type": "code",
   "execution_count": 32,
   "id": "287ffa26-2ea8-4271-966f-6786a1ae9f85",
   "metadata": {},
   "outputs": [
    {
     "name": "stdout",
     "output_type": "stream",
     "text": [
      "Name: Alice, Age: 20, Student ID: ST1234\n",
      "Name: Dr. Smith, Age: 40, Department: Computer Science\n"
     ]
    }
   ],
   "source": [
    "class Person:\n",
    "    def __init__(self, name, age):\n",
    "        self.name = name\n",
    "        self.age = age\n",
    "\n",
    "class Student(Person):\n",
    "    def __init__(self, name, age, student_id):\n",
    "        super().__init__(name, age)\n",
    "        self.student_id = student_id\n",
    "\n",
    "    def display_details(self):\n",
    "        print(f\"Name: {self.name}, Age: {self.age}, Student ID: {self.student_id}\")\n",
    "\n",
    "class Professor(Person):\n",
    "    def __init__(self, name, age, department):\n",
    "        super().__init__(name, age)\n",
    "        self.department = department\n",
    "\n",
    "    def display_details(self):\n",
    "        print(f\"Name: {self.name}, Age: {self.age}, Department: {self.department}\")\n",
    "\n",
    "# Creating Student and Professor objects\n",
    "student = Student(\"Alice\", 20, \"ST1234\")\n",
    "professor = Professor(\"Dr. Smith\", 40, \"Computer Science\")\n",
    "\n",
    "student.display_details()  # Output: Name: Alice, Age: 20, Student ID: ST1234\n",
    "professor.display_details()  # Output: Name: Dr. Smith, Age: 40, Department: Computer Science\n"
   ]
  },
  {
   "cell_type": "markdown",
   "id": "5b6c6175-a3ab-4a8d-b309-14e23deed8da",
   "metadata": {},
   "source": [
    "1. Explain the concept of encapsulation in Python. What is its role in object-oriented programming?\n",
    "2. Describe the key principles of encapsulation, including access control and data hiding.\n",
    "3. How can you achieve encapsulation in Python classes? Provide an example.\n",
    "4. Discuss the difference between public, private, and protected access modifiers in Python.\n",
    "5. Create a Python class called `Person` with a private attribute `__name`. Provide methods to get and set the\n",
    "name attribute.\n",
    "6. Explain the purpose of getter and setter methods in encapsulation. Provide examples.\n",
    "7. What is name mangling in Python, and how does it affect encapsulation?\n",
    "8. Create a Python class called `BankAccount` with private attributes for the account balance (`__balance`) and account number (`__account_number`). Provide methods for depositing and withdrawing money.\n",
    "9. Discuss the advantages of encapsulation in terms of code maintainability and security.\n",
    "10. How can you access private attributes in Python? Provide an example demonstrating the use of name\n",
    "mangling."
   ]
  },
  {
   "cell_type": "markdown",
   "id": "e1f7cabc-5c3a-4cf9-8ca2-92858c6821ae",
   "metadata": {},
   "source": [
    "Encapsulation in Python is the concept of bundling data (attributes) and methods (functions) that operate on that data into a single unit, called a class. It helps in hiding the internal state and implementation details of an object from the outside world. Encapsulation is a fundamental principle of object-oriented programming (OOP) that promotes data abstraction, code organization, and modularity."
   ]
  },
  {
   "cell_type": "markdown",
   "id": "ae74ca6b-d018-45ec-8b9a-ffc32cdebd76",
   "metadata": {},
   "source": [
    "The key principles of encapsulation include:\n",
    "Access Control: Encapsulation allows you to control the access to the internal state of an object by defining access levels (public, private, protected) for attributes and methods.\n",
    "Data Hiding: Encapsulation enables data hiding, where the internal details of an object's implementation are hidden from external code, reducing dependencies and improving security."
   ]
  },
  {
   "cell_type": "code",
   "execution_count": 33,
   "id": "d3556973-ce04-4093-ad11-2d797ad3c676",
   "metadata": {},
   "outputs": [
    {
     "name": "stdout",
     "output_type": "stream",
     "text": [
      "Alice\n",
      "Bob\n"
     ]
    }
   ],
   "source": [
    "class Person:\n",
    "    def __init__(self, name):\n",
    "        self.__name = name  # Private attribute\n",
    "\n",
    "    def get_name(self):\n",
    "        return self.__name  # Getter method\n",
    "\n",
    "    def set_name(self, name):\n",
    "        self.__name = name  # Setter method\n",
    "\n",
    "# Creating a Person object\n",
    "person = Person(\"Alice\")\n",
    "print(person.get_name())  # Output: Alice\n",
    "person.set_name(\"Bob\")\n",
    "print(person.get_name())  # Output: Bob\n"
   ]
  },
  {
   "cell_type": "markdown",
   "id": "894619e1-7701-4459-bb1b-38f4a6c276e9",
   "metadata": {},
   "source": [
    "Public Access Modifier: Attributes and methods with no leading underscore are considered public and can be accessed from outside the class.\n",
    "Private Access Modifier: Attributes and methods with double leading underscores (__) are considered private and can only be accessed within the class itself. Python performs name mangling to make them pseudo-private.\n",
    "Protected Access Modifier: Attributes and methods with a single leading underscore (_) are considered protected, but it is more of a convention to indicate that they should not be accessed directly from outside the class."
   ]
  },
  {
   "cell_type": "code",
   "execution_count": 34,
   "id": "9ffeaa92-9904-4977-b616-33584fca5310",
   "metadata": {},
   "outputs": [
    {
     "name": "stdout",
     "output_type": "stream",
     "text": [
      "Alice\n",
      "Bob\n"
     ]
    }
   ],
   "source": [
    "class Person:\n",
    "    def __init__(self, name):\n",
    "        self.__name = name  # Private attribute\n",
    "\n",
    "    def get_name(self):\n",
    "        return self.__name  # Getter method\n",
    "\n",
    "    def set_name(self, name):\n",
    "        self.__name = name  # Setter method\n",
    "\n",
    "# Creating a Person object\n",
    "person = Person(\"Alice\")\n",
    "print(person.get_name())  # Output: Alice\n",
    "person.set_name(\"Bob\")\n",
    "print(person.get_name())  # Output: Bob\n"
   ]
  },
  {
   "cell_type": "markdown",
   "id": "d1b7cec9-140d-426d-b49b-8343d9f145f2",
   "metadata": {},
   "source": [
    "Getter and setter methods in encapsulation are used to access and modify private attributes of a class, respectively. They provide controlled access to private attributes, allowing validation and encapsulation of internal logic."
   ]
  },
  {
   "cell_type": "code",
   "execution_count": 35,
   "id": "a1c3e4e4-ef7c-4869-8f41-f1b207a0edfa",
   "metadata": {},
   "outputs": [
    {
     "name": "stdout",
     "output_type": "stream",
     "text": [
      "0\n",
      "100\n",
      "50\n"
     ]
    }
   ],
   "source": [
    "class BankAccount:\n",
    "    def __init__(self, account_number, balance=0):\n",
    "        self.__account_number = account_number\n",
    "        self.__balance = balance\n",
    "\n",
    "    def get_balance(self):\n",
    "        return self.__balance\n",
    "\n",
    "    def deposit(self, amount):\n",
    "        if amount > 0:\n",
    "            self.__balance += amount\n",
    "        else:\n",
    "            print(\"Invalid amount for deposit.\")\n",
    "\n",
    "    def withdraw(self, amount):\n",
    "        if 0 < amount <= self.__balance:\n",
    "            self.__balance -= amount\n",
    "        else:\n",
    "            print(\"Invalid amount for withdrawal or insufficient balance.\")\n",
    "\n",
    "# Creating a BankAccount object\n",
    "account = BankAccount(\"12345\")\n",
    "print(account.get_balance())  # Output: 0\n",
    "account.deposit(100)\n",
    "print(account.get_balance())  # Output: 100\n",
    "account.withdraw(50)\n",
    "print(account.get_balance())  # Output: 50\n"
   ]
  },
  {
   "cell_type": "markdown",
   "id": "e57a2e0d-26a1-46e5-b3ee-4b647fa56a66",
   "metadata": {},
   "source": [
    "Name mangling in Python is a mechanism that makes private attributes pseudo-private by internally changing their names to include the class name. This affects encapsulation by making it more difficult for external code to access private attributes directly."
   ]
  },
  {
   "cell_type": "code",
   "execution_count": 36,
   "id": "db50f815-0dc4-4dfb-b72a-58854899ea76",
   "metadata": {},
   "outputs": [
    {
     "ename": "AttributeError",
     "evalue": "'MyClass' object has no attribute '__private_var'",
     "output_type": "error",
     "traceback": [
      "\u001b[0;31m---------------------------------------------------------------------------\u001b[0m",
      "\u001b[0;31mAttributeError\u001b[0m                            Traceback (most recent call last)",
      "Cell \u001b[0;32mIn[36], line 6\u001b[0m\n\u001b[1;32m      3\u001b[0m         \u001b[38;5;28mself\u001b[39m\u001b[38;5;241m.\u001b[39m__private_var \u001b[38;5;241m=\u001b[39m \u001b[38;5;241m10\u001b[39m  \u001b[38;5;66;03m# Private variable\u001b[39;00m\n\u001b[1;32m      5\u001b[0m obj \u001b[38;5;241m=\u001b[39m MyClass()\n\u001b[0;32m----> 6\u001b[0m \u001b[38;5;28mprint\u001b[39m(\u001b[43mobj\u001b[49m\u001b[38;5;241;43m.\u001b[39;49m\u001b[43m__private_var\u001b[49m)  \u001b[38;5;66;03m# AttributeError: 'MyClass' object has no attribute '__private_var'\u001b[39;00m\n\u001b[1;32m      7\u001b[0m \u001b[38;5;28mprint\u001b[39m(obj\u001b[38;5;241m.\u001b[39m_MyClass__private_var)  \u001b[38;5;66;03m# Output: 10 (using name mangling)\u001b[39;00m\n",
      "\u001b[0;31mAttributeError\u001b[0m: 'MyClass' object has no attribute '__private_var'"
     ]
    }
   ],
   "source": [
    "class MyClass:\n",
    "    def __init__(self):\n",
    "        self.__private_var = 10  # Private variable\n",
    "\n",
    "obj = MyClass()\n",
    "print(obj.__private_var)  # AttributeError: 'MyClass' object has no attribute '__private_var'\n",
    "print(obj._MyClass__private_var)  # Output: 10 (using name mangling)\n"
   ]
  },
  {
   "cell_type": "code",
   "execution_count": 37,
   "id": "6f05c0f5-d173-474a-af8b-7d9c8ea6ca30",
   "metadata": {},
   "outputs": [
    {
     "name": "stdout",
     "output_type": "stream",
     "text": [
      "100\n",
      "50\n"
     ]
    }
   ],
   "source": [
    "class BankAccount:\n",
    "    def __init__(self, account_number, balance=0):\n",
    "        self.__account_number = account_number\n",
    "        self.__balance = balance\n",
    "\n",
    "    def deposit(self, amount):\n",
    "        if amount > 0:\n",
    "            self.__balance += amount\n",
    "        else:\n",
    "            print(\"Invalid amount for deposit.\")\n",
    "\n",
    "    def withdraw(self, amount):\n",
    "        if 0 < amount <= self.__balance:\n",
    "            self.__balance -= amount\n",
    "        else:\n",
    "            print(\"Invalid amount for withdrawal or insufficient balance.\")\n",
    "\n",
    "    def get_balance(self):\n",
    "        return self.__balance\n",
    "\n",
    "# Creating a BankAccount object\n",
    "account = BankAccount(\"12345\")\n",
    "account.deposit(100)\n",
    "print(account.get_balance())  # Output: 100\n",
    "account.withdraw(50)\n",
    "print(account.get_balance())  # Output: 50\n"
   ]
  },
  {
   "cell_type": "markdown",
   "id": "1cca28b2-0ddb-464d-9865-6ae1c3324111",
   "metadata": {},
   "source": [
    "Encapsulation provides several advantages:\n",
    "Code Maintainability: Encapsulation helps in organizing and structuring code, making it easier to maintain and modify.\n",
    "Data Security: Private attributes and methods prevent direct access and manipulation of sensitive data, enhancing security.\n",
    "Code Reusability: Encapsulation promotes code reusability by encapsulating logic into reusable components.\n",
    "Encapsulation also supports the principle of information hiding, where implementation details are hidden from external code."
   ]
  },
  {
   "cell_type": "code",
   "execution_count": 38,
   "id": "c41c070f-73e8-4063-8196-a2e9ab1e84e2",
   "metadata": {},
   "outputs": [
    {
     "ename": "AttributeError",
     "evalue": "'MyClass' object has no attribute '__private_var'",
     "output_type": "error",
     "traceback": [
      "\u001b[0;31m---------------------------------------------------------------------------\u001b[0m",
      "\u001b[0;31mAttributeError\u001b[0m                            Traceback (most recent call last)",
      "Cell \u001b[0;32mIn[38], line 6\u001b[0m\n\u001b[1;32m      3\u001b[0m         \u001b[38;5;28mself\u001b[39m\u001b[38;5;241m.\u001b[39m__private_var \u001b[38;5;241m=\u001b[39m \u001b[38;5;241m10\u001b[39m  \u001b[38;5;66;03m# Private variable\u001b[39;00m\n\u001b[1;32m      5\u001b[0m obj \u001b[38;5;241m=\u001b[39m MyClass()\n\u001b[0;32m----> 6\u001b[0m \u001b[38;5;28mprint\u001b[39m(\u001b[43mobj\u001b[49m\u001b[38;5;241;43m.\u001b[39;49m\u001b[43m__private_var\u001b[49m)  \u001b[38;5;66;03m# AttributeError: 'MyClass' object has no attribute '__private_var'\u001b[39;00m\n\u001b[1;32m      7\u001b[0m \u001b[38;5;28mprint\u001b[39m(obj\u001b[38;5;241m.\u001b[39m_MyClass__private_var)  \u001b[38;5;66;03m# Output: 10 (using name mangling)\u001b[39;00m\n",
      "\u001b[0;31mAttributeError\u001b[0m: 'MyClass' object has no attribute '__private_var'"
     ]
    }
   ],
   "source": [
    "class MyClass:\n",
    "    def __init__(self):\n",
    "        self.__private_var = 10  # Private variable\n",
    "\n",
    "obj = MyClass()\n",
    "print(obj.__private_var)  # AttributeError: 'MyClass' object has no attribute '__private_var'\n",
    "print(obj._MyClass__private_var)  # Output: 10 (using name mangling)\n"
   ]
  },
  {
   "cell_type": "markdown",
   "id": "494fbd79-28b9-4932-b941-518fe0d207b5",
   "metadata": {},
   "source": [
    "11. Create a Python class hierarchy for a school system, including classes for students, teachers, and courses,\n",
    "and implement encapsulation principles to protect sensitive information.\n",
    "12. Explain the concept of property decorators in Python and how they relate to encapsulation.\n",
    "13. What is data hiding, and why is it important in encapsulation? Provide examples.\n",
    "14. Create a Python class called `Employee` with private attributes for salary (`__salary`) and employee ID (`__employee_id`). Provide a method to calculate yearly bonuses.\n",
    "15. Discuss the use of accessors and mutators in encapsulation. How do they help maintain control over\n",
    "attribute access?\n",
    "16. What are the potential drawbacks or disadvantages of using encapsulation in Python?\n",
    "17. Create a Python class for a library system that encapsulates book information, including titles, authors,\n",
    "and availability status.\n",
    "18. Explain how encapsulation enhances code reusability and modularity in Python programs.\n",
    "19. Describe the concept of information hiding in encapsulation. Why is it essential in software development?\n",
    "20. Create a Python class called `Customer` with private attributes for customer details like name, address,\n",
    "and contact information. Implement encapsulation to ensure data integrity and security."
   ]
  },
  {
   "cell_type": "code",
   "execution_count": 40,
   "id": "7b58ea18-50bc-4b47-8097-b4d6fe5211a1",
   "metadata": {},
   "outputs": [],
   "source": [
    "class Student:\n",
    "    def __init__(self, student_id, name, grade):\n",
    "        self.__student_id = student_id  # Private attribute\n",
    "        self.__name = name  # Private attribute\n",
    "        self.__grade = grade  # Private attribute\n",
    "\n",
    "    def get_student_id(self):\n",
    "        return self.__student_id\n",
    "\n",
    "    def get_name(self):\n",
    "        return self.__name\n",
    "\n",
    "    def get_grade(self):\n",
    "        return self.__grade\n",
    "\n",
    "class Teacher:\n",
    "    def __init__(self, teacher_id, name, subject):\n",
    "        self.__teacher_id = teacher_id  # Private attribute\n",
    "        self.__name = name  # Private attribute\n",
    "        self.__subject = subject  # Private attribute\n",
    "\n",
    "    def get_teacher_id(self):\n",
    "        return self.__teacher_id\n",
    "\n",
    "    def get_name(self):\n",
    "        return self.__name\n",
    "\n",
    "    def get_subject(self):\n",
    "        return self.__subject\n",
    "\n",
    "class Course:\n",
    "    def __init__(self, course_id, name, teacher):\n",
    "        self.__course_id = course_id  # Private attribute\n",
    "        self.__name = name  # Private attribute\n",
    "        self.__teacher = teacher  # Private attribute\n",
    "\n",
    "    def get_course_id(self):\n",
    "        return self.__course_id\n",
    "\n",
    "    def get_name(self):\n",
    "        return self.__name\n",
    "\n",
    "    def get_teacher(self):\n",
    "        return self.__teacher\n"
   ]
  },
  {
   "cell_type": "markdown",
   "id": "302583be-949d-464e-a6cf-2269f8590c5d",
   "metadata": {},
   "source": [
    "Property decorators in Python, such as @property, @property.setter, and @property.deleter, are used to define getter, setter, and deleter methods for class attributes. They provide a way to encapsulate attribute access and modify behavior when getting, setting, or deleting attributes."
   ]
  },
  {
   "cell_type": "markdown",
   "id": "e2a54df7-6888-4308-88e4-66cda800152a",
   "metadata": {},
   "source": [
    "Data hiding in encapsulation refers to the practice of making attributes private to prevent direct access from outside the class. It is important in encapsulation to protect sensitive information and maintain data integrity. Here's an example:"
   ]
  },
  {
   "cell_type": "code",
   "execution_count": 41,
   "id": "d6fda3b2-9b5c-445c-9370-ee97a345f6ea",
   "metadata": {},
   "outputs": [
    {
     "name": "stdout",
     "output_type": "stream",
     "text": [
      "5000.0\n"
     ]
    }
   ],
   "source": [
    "class Employee:\n",
    "    def __init__(self, employee_id, salary):\n",
    "        self.__employee_id = employee_id  # Private attribute\n",
    "        self.__salary = salary  # Private attribute\n",
    "\n",
    "    def calculate_bonus(self, percentage):\n",
    "        return self.__salary * percentage\n",
    "\n",
    "# Creating an Employee object\n",
    "employee = Employee(\"E123\", 50000)\n",
    "print(employee.calculate_bonus(0.1))  # Output: 5000\n"
   ]
  },
  {
   "cell_type": "markdown",
   "id": "9c8541ce-e515-4d53-b15c-9c62b8de0405",
   "metadata": {},
   "source": [
    "Accessors (getter methods) and mutators (setter methods) in encapsulation help maintain control over attribute access by providing controlled ways to get and set attribute values. They allow validation and encapsulation of internal logic related to attribute manipulation."
   ]
  },
  {
   "cell_type": "markdown",
   "id": "d948711c-ff4d-4b50-a8d3-04e80d62288b",
   "metadata": {},
   "source": [
    "The potential drawbacks or disadvantages of using encapsulation in Python include:\n",
    "Increased complexity: Encapsulation can lead to more complex code structures, especially when dealing with a large number of attributes and methods.\n",
    "Performance overhead: Accessing private attributes through getter and setter methods may incur a slight performance overhead compared to direct attribute access."
   ]
  },
  {
   "cell_type": "code",
   "execution_count": 42,
   "id": "7230a659-8837-4ded-87eb-1eec29fb26b3",
   "metadata": {},
   "outputs": [
    {
     "name": "stdout",
     "output_type": "stream",
     "text": [
      "Python Programming\n",
      "True\n",
      "False\n"
     ]
    }
   ],
   "source": [
    "class Book:\n",
    "    def __init__(self, title, author):\n",
    "        self.__title = title  # Private attribute\n",
    "        self.__author = author  # Private attribute\n",
    "        self.__available = True  # Private attribute\n",
    "\n",
    "    def get_title(self):\n",
    "        return self.__title\n",
    "\n",
    "    def get_author(self):\n",
    "        return self.__author\n",
    "\n",
    "    def is_available(self):\n",
    "        return self.__available\n",
    "\n",
    "    def set_available(self, available):\n",
    "        self.__available = available\n",
    "\n",
    "# Creating a Book object\n",
    "book = Book(\"Python Programming\", \"John Doe\")\n",
    "print(book.get_title())  # Output: Python Programming\n",
    "print(book.is_available())  # Output: True\n",
    "book.set_available(False)\n",
    "print(book.is_available())  # Output: False\n"
   ]
  },
  {
   "cell_type": "markdown",
   "id": "dbd9f0f6-a20c-4b8e-a829-eb96f34ee631",
   "metadata": {},
   "source": [
    "Encapsulation enhances code reusability and modularity by encapsulating logic into reusable components (classes) with well-defined interfaces (methods). This allows for easier maintenance, debugging, and extension of code."
   ]
  },
  {
   "cell_type": "markdown",
   "id": "94755b34-c2ca-4890-a51c-1b00ae2861fd",
   "metadata": {},
   "source": [
    "nformation hiding in encapsulation is essential in software development to hide implementation details and internal complexities from external code. It helps reduce dependencies, improve security, and promote code maintainability."
   ]
  },
  {
   "cell_type": "code",
   "execution_count": 43,
   "id": "c8bc468d-0997-4d28-ad67-13c441e45b38",
   "metadata": {},
   "outputs": [],
   "source": [
    "class Customer:\n",
    "    def __init__(self, name, address, contact_info):\n",
    "        self.__name = name  # Private attribute\n",
    "        self.__address = address  # Private attribute\n",
    "        self.__contact_info = contact_info  # Private attribute\n",
    "\n",
    "    def get_name(self):\n",
    "        return self.__name\n",
    "\n",
    "    def get_address(self):\n",
    "        return self.__address\n",
    "\n",
    "    def get_contact_info(self):\n",
    "        return self.__contact_info\n"
   ]
  },
  {
   "cell_type": "markdown",
   "id": "3adcb0ee-f11a-4a2e-96ce-077186bcc3ec",
   "metadata": {},
   "source": [
    "What is polymorphism in Python? Explain how it is related to object-oriented programming.\n",
    "2. Describe the difference between compile-time polymorphism and runtime polymorphism in Python.\n",
    "3. Create a Python class hierarchy for shapes (e.g., circle, square, triangle) and demonstrate polymorphism\n",
    "through a common method, such as `calculate_area()`.\n",
    "4. Explain the concept of method overriding in polymorphism. Provide an example.\n",
    "5. How is polymorphism different from method overloading in Python? Provide examples for both.\n",
    "6. Create a Python class called `Animal` with a method `speak()`. Then, create child classes like `Dog`, `Cat`, and `Bird`, each with their own `speak()` method. Demonstrate polymorphism by calling the `speak()` method\n",
    "on objects of different subclasses.\n",
    "7. Discuss the use of abstract methods and classes in achieving polymorphism in Python. Provide an example\n",
    "using the `abc` module.\n",
    "8. Create a Python class hierarchy for a vehicle system (e.g., car, bicycle, boat) and implement a polymorphic `start()` method that prints a message specific to each vehicle type.\n",
    "9. Explain the significance of the `isinstance()` and `issubclass()` functions in Python polymorphism.\n",
    "10. What is the role of the `@abstractmethod` decorator in achieving polymorphism in Python? Provide an\n",
    "example."
   ]
  },
  {
   "cell_type": "markdown",
   "id": "fabe31f5-e064-4f8e-a346-345d51199934",
   "metadata": {},
   "source": [
    "Polymorphism in Python is the ability of different objects to respond to the same message (method call) in different ways. It is a key concept in object-oriented programming (OOP) that allows objects of different classes to be treated uniformly through a common interface."
   ]
  },
  {
   "cell_type": "markdown",
   "id": "24adc41e-fd61-4b0a-9f03-44f0404bb240",
   "metadata": {},
   "source": [
    "Compile-time polymorphism (also known as method overloading) occurs at compile time, where the appropriate method to call is determined based on the number and types of arguments passed to it. Runtime polymorphism (also known as method overriding) occurs at runtime, where the appropriate method to call is determined based on the object's type."
   ]
  },
  {
   "cell_type": "code",
   "execution_count": 44,
   "id": "91bf6a95-53c3-4e26-9252-71b1ba781280",
   "metadata": {},
   "outputs": [
    {
     "name": "stdout",
     "output_type": "stream",
     "text": [
      "Circle Area: 78.5\n",
      "Square Area: 16\n",
      "Triangle Area: 9.0\n"
     ]
    }
   ],
   "source": [
    "class Shape:\n",
    "    def calculate_area(self):\n",
    "        pass  # Abstract method\n",
    "\n",
    "class Circle(Shape):\n",
    "    def __init__(self, radius):\n",
    "        self.radius = radius\n",
    "\n",
    "    def calculate_area(self):\n",
    "        return 3.14 * self.radius ** 2\n",
    "\n",
    "class Square(Shape):\n",
    "    def __init__(self, side_length):\n",
    "        self.side_length = side_length\n",
    "\n",
    "    def calculate_area(self):\n",
    "        return self.side_length ** 2\n",
    "\n",
    "class Triangle(Shape):\n",
    "    def __init__(self, base, height):\n",
    "        self.base = base\n",
    "        self.height = height\n",
    "\n",
    "    def calculate_area(self):\n",
    "        return 0.5 * self.base * self.height\n",
    "\n",
    "# Creating objects and demonstrating polymorphism\n",
    "circle = Circle(5)\n",
    "square = Square(4)\n",
    "triangle = Triangle(3, 6)\n",
    "\n",
    "print(\"Circle Area:\", circle.calculate_area())  # Output: Circle Area: 78.5\n",
    "print(\"Square Area:\", square.calculate_area())  # Output: Square Area: 16\n",
    "print(\"Triangle Area:\", triangle.calculate_area())  # Output: Triangle Area: 9\n"
   ]
  },
  {
   "cell_type": "code",
   "execution_count": 45,
   "id": "002ba2a5-e59f-44a8-baee-4b0bdb238c72",
   "metadata": {},
   "outputs": [
    {
     "name": "stdout",
     "output_type": "stream",
     "text": [
      "Animal speaks\n",
      "Dog barks\n",
      "Cat meows\n"
     ]
    }
   ],
   "source": [
    "class Animal:\n",
    "    def speak(self):\n",
    "        print(\"Animal speaks\")\n",
    "\n",
    "class Dog(Animal):\n",
    "    def speak(self):\n",
    "        print(\"Dog barks\")\n",
    "\n",
    "class Cat(Animal):\n",
    "    def speak(self):\n",
    "        print(\"Cat meows\")\n",
    "\n",
    "# Demonstrating method overriding and polymorphism\n",
    "animal = Animal()\n",
    "dog = Dog()\n",
    "cat = Cat()\n",
    "\n",
    "animal.speak()  # Output: Animal speaks\n",
    "dog.speak()  # Output: Dog barks\n",
    "cat.speak()  # Output: Cat meows\n"
   ]
  },
  {
   "cell_type": "code",
   "execution_count": 46,
   "id": "9cbb70b8-3a5d-49d3-a968-73aec667dd47",
   "metadata": {},
   "outputs": [
    {
     "name": "stdout",
     "output_type": "stream",
     "text": [
      "Animal speaks\n",
      "Dog barks\n"
     ]
    }
   ],
   "source": [
    "class Animal:\n",
    "    def speak(self):\n",
    "        print(\"Animal speaks\")\n",
    "\n",
    "class Dog(Animal):\n",
    "    def speak(self):\n",
    "        print(\"Dog barks\")\n",
    "\n",
    "# Demonstrating polymorphism\n",
    "animal = Animal()\n",
    "dog = Dog()\n",
    "\n",
    "animal.speak()  # Output: Animal speaks\n",
    "dog.speak()  # Output: Dog barks\n"
   ]
  },
  {
   "cell_type": "code",
   "execution_count": 48,
   "id": "476e038d-2746-45e7-bd3d-b8da234fa377",
   "metadata": {},
   "outputs": [
    {
     "ename": "SyntaxError",
     "evalue": "invalid syntax (2884807281.py, line 9)",
     "output_type": "error",
     "traceback": [
      "\u001b[0;36m  Cell \u001b[0;32mIn[48], line 9\u001b[0;36m\u001b[0m\n\u001b[0;31m    math_ops = MathOperations():\u001b[0m\n\u001b[0m                               ^\u001b[0m\n\u001b[0;31mSyntaxError\u001b[0m\u001b[0;31m:\u001b[0m invalid syntax\n"
     ]
    }
   ],
   "source": [
    "class MathOperations:\n",
    "    def add(self, a, b):\n",
    "        return a + b\n",
    "\n",
    "    def add(self, a, b, c):\n",
    "        return a + b + c\n",
    "\n",
    "# Method overloading\n",
    "math_ops = MathOperations():\n",
    "print(math_ops.add(1, 2))  # Output: TypeError: add() missing 1 required positional argument: 'c'\n",
    "print(math_ops.add(1, 2, 3))  # Output: 6\n"
   ]
  },
  {
   "cell_type": "code",
   "execution_count": 49,
   "id": "422eadb3-a496-4b97-a68a-1f2f03949559",
   "metadata": {},
   "outputs": [
    {
     "name": "stdout",
     "output_type": "stream",
     "text": [
      "Dog barks\n",
      "Cat meows\n",
      "Bird chirps\n"
     ]
    }
   ],
   "source": [
    "class Animal:\n",
    "    def speak(self):\n",
    "        pass  # Abstract method\n",
    "\n",
    "class Dog(Animal):\n",
    "    def speak(self):\n",
    "        print(\"Dog barks\")\n",
    "\n",
    "class Cat(Animal):\n",
    "    def speak(self):\n",
    "        print(\"Cat meows\")\n",
    "\n",
    "class Bird(Animal):\n",
    "    def speak(self):\n",
    "        print(\"Bird chirps\")\n",
    "\n",
    "# Creating objects and demonstrating polymorphism\n",
    "animals = [Dog(), Cat(), Bird()]\n",
    "\n",
    "for animal in animals:\n",
    "    animal.speak()\n"
   ]
  },
  {
   "cell_type": "code",
   "execution_count": 50,
   "id": "5544f93c-6dec-4a41-bdb1-5756e490045d",
   "metadata": {},
   "outputs": [
    {
     "name": "stdout",
     "output_type": "stream",
     "text": [
      "Circle Area: 78.5\n"
     ]
    }
   ],
   "source": [
    "from abc import ABC, abstractmethod\n",
    "\n",
    "class Shape(ABC):\n",
    "    @abstractmethod\n",
    "    def calculate_area(self):\n",
    "        pass\n",
    "\n",
    "class Circle(Shape):\n",
    "    def __init__(self, radius):\n",
    "        self.radius = radius\n",
    "\n",
    "    def calculate_area(self):\n",
    "        return 3.14 * self.radius ** 2\n",
    "\n",
    "# Creating an object and demonstrating polymorphism\n",
    "circle = Circle(5)\n",
    "print(\"Circle Area:\", circle.calculate_area())  # Output: Circle Area: 78.5\n"
   ]
  },
  {
   "cell_type": "code",
   "execution_count": 51,
   "id": "92fb6b7c-ff27-4a1d-ab4f-3f9faaf00ed1",
   "metadata": {},
   "outputs": [
    {
     "name": "stdout",
     "output_type": "stream",
     "text": [
      "Car started\n",
      "Bicycle started\n",
      "Boat started\n"
     ]
    }
   ],
   "source": [
    "class Vehicle:\n",
    "    def start(self):\n",
    "        pass  # Abstract method\n",
    "\n",
    "class Car(Vehicle):\n",
    "    def start(self):\n",
    "        print(\"Car started\")\n",
    "\n",
    "class Bicycle(Vehicle):\n",
    "    def start(self):\n",
    "        print(\"Bicycle started\")\n",
    "\n",
    "class Boat(Vehicle):\n",
    "    def start(self):\n",
    "        print(\"Boat started\")\n",
    "\n",
    "# Creating objects and demonstrating polymorphism\n",
    "vehicles = [Car(), Bicycle(), Boat()]\n",
    "\n",
    "for vehicle in vehicles:\n",
    "    vehicle.start()\n"
   ]
  },
  {
   "cell_type": "markdown",
   "id": "3985178f-b5b1-4163-bd6a-6b351ed469db",
   "metadata": {},
   "source": [
    "The isinstance() function is used in Python to check if an object is an instance of a particular class or its subclasses, which is useful in polymorphism for type checking. The issubclass() function checks if a class is a subclass of another class, aiding in polymorphic behavior determination."
   ]
  },
  {
   "cell_type": "code",
   "execution_count": 52,
   "id": "1fb02220-26ea-4ae7-b9cf-e5ff4ff787f3",
   "metadata": {},
   "outputs": [
    {
     "name": "stdout",
     "output_type": "stream",
     "text": [
      "Circle Area: 78.5\n"
     ]
    }
   ],
   "source": [
    "from abc import ABC, abstractmethod\n",
    "\n",
    "class Shape(ABC):\n",
    "    @abstractmethod\n",
    "    def calculate_area(self):\n",
    "        pass\n",
    "\n",
    "class Circle(Shape):\n",
    "    def __init__(self, radius):\n",
    "        self.radius = radius\n",
    "\n",
    "    def calculate_area(self):\n",
    "        return 3.14 * self.radius ** 2\n",
    "\n",
    "# Creating an object and demonstrating polymorphism\n",
    "circle = Circle(5)\n",
    "print(\"Circle Area:\", circle.calculate_area())  # Output: Circle Area: 78.5\n"
   ]
  },
  {
   "cell_type": "markdown",
   "id": "8e398dbc-9f2d-4af2-96c9-5fd13173f55c",
   "metadata": {},
   "source": [
    "11. Create a Python class called `Shape` with a polymorphic method `area()` that calculates the area of different shapes (e.g., circle, rectangle, triangle).\n",
    "12. Discuss the benefits of polymorphism in terms of code reusability and flexibility in Python programs.\n",
    "13. Explain the use of the `super()` function in Python polymorphism. How does it help call methods of parent\n",
    "classes?\n",
    "14. Create a Python class hierarchy for a banking system with various account types (e.g., savings, checking, credit card) and demonstrate polymorphism by implementing a common `withdraw()` method.\n",
    "15. Describe the concept of operator overloading in Python and how it relates to polymorphism. Provide\n",
    "examples using operators like `+` and `*`.\n",
    "16. What is dynamic polymorphism, and how is it achieved in Python?\n",
    "17. Create a Python class hierarchy for employees in a company (e.g., manager, developer, designer) and implement polymorphism through a common `calculate_salary()` method.\n",
    "18. Discuss the concept of function pointers and how they can be used to achieve polymorphism in Python.\n",
    "19. Explain the role of interfaces and abstract classes in polymorphism, drawing comparisons between them.\n",
    "20. Create a Python class for a zoo simulation, demonstrating polymorphism with different animal types (e.g., mammals, birds, reptiles) and their behavior (e.g., eating, sleeping, making sounds)."
   ]
  },
  {
   "cell_type": "code",
   "execution_count": 53,
   "id": "38c6f677-82ac-4929-9bc2-8177285c11ac",
   "metadata": {},
   "outputs": [
    {
     "name": "stdout",
     "output_type": "stream",
     "text": [
      "Circle Area: 78.5\n",
      "Rectangle Area: 24\n",
      "Triangle Area: 12.0\n"
     ]
    }
   ],
   "source": [
    "class Shape:\n",
    "    def area(self):\n",
    "        pass  # Abstract method\n",
    "\n",
    "class Circle(Shape):\n",
    "    def __init__(self, radius):\n",
    "        self.radius = radius\n",
    "\n",
    "    def area(self):\n",
    "        return 3.14 * self.radius ** 2\n",
    "\n",
    "class Rectangle(Shape):\n",
    "    def __init__(self, length, width):\n",
    "        self.length = length\n",
    "        self.width = width\n",
    "\n",
    "    def area(self):\n",
    "        return self.length * self.width\n",
    "\n",
    "class Triangle(Shape):\n",
    "    def __init__(self, base, height):\n",
    "        self.base = base\n",
    "        self.height = height\n",
    "\n",
    "    def area(self):\n",
    "        return 0.5 * self.base * self.height\n",
    "\n",
    "# Creating objects and demonstrating polymorphism\n",
    "circle = Circle(5)\n",
    "rectangle = Rectangle(4, 6)\n",
    "triangle = Triangle(3, 8)\n",
    "\n",
    "print(\"Circle Area:\", circle.area())  # Output: Circle Area: 78.5\n",
    "print(\"Rectangle Area:\", rectangle.area())  # Output: Rectangle Area: 24\n",
    "print(\"Triangle Area:\", triangle.area())  # Output: Triangle Area: 12\n"
   ]
  },
  {
   "cell_type": "markdown",
   "id": "0605cb87-15ae-4f8f-a65c-cd26f9080003",
   "metadata": {},
   "source": [
    "Benefits of polymorphism in Python include code reusability and flexibility. It allows for the creation of generic code that can work with different types of objects, promoting modular and maintainable codebases."
   ]
  },
  {
   "cell_type": "code",
   "execution_count": 54,
   "id": "d8fd3055-00be-4fc7-884b-3ec8422946df",
   "metadata": {},
   "outputs": [
    {
     "name": "stdout",
     "output_type": "stream",
     "text": [
      "Parent method\n",
      "Child method\n"
     ]
    }
   ],
   "source": [
    "class Parent:\n",
    "    def show(self):\n",
    "        print(\"Parent method\")\n",
    "\n",
    "class Child(Parent):\n",
    "    def show(self):\n",
    "        super().show()  # Calling parent method\n",
    "        print(\"Child method\")\n",
    "\n",
    "# Creating object and demonstrating polymorphism with super()\n",
    "obj = Child()\n",
    "obj.show()\n"
   ]
  },
  {
   "cell_type": "code",
   "execution_count": 55,
   "id": "cccfd010-ba61-40fb-888a-e11c335e93d9",
   "metadata": {},
   "outputs": [
    {
     "name": "stdout",
     "output_type": "stream",
     "text": [
      "Withdrawing $100 from Savings Account\n",
      "Withdrawing $200 from Checking Account\n",
      "Withdrawing $300 from Credit Card Account\n"
     ]
    }
   ],
   "source": [
    "class Account:\n",
    "    def withdraw(self, amount):\n",
    "        pass  # Abstract method\n",
    "\n",
    "class SavingsAccount(Account):\n",
    "    def withdraw(self, amount):\n",
    "        print(f\"Withdrawing ${amount} from Savings Account\")\n",
    "\n",
    "class CheckingAccount(Account):\n",
    "    def withdraw(self, amount):\n",
    "        print(f\"Withdrawing ${amount} from Checking Account\")\n",
    "\n",
    "class CreditCardAccount(Account):\n",
    "    def withdraw(self, amount):\n",
    "        print(f\"Withdrawing ${amount} from Credit Card Account\")\n",
    "\n",
    "# Creating objects and demonstrating polymorphism\n",
    "savings_account = SavingsAccount()\n",
    "checking_account = CheckingAccount()\n",
    "credit_card_account = CreditCardAccount()\n",
    "\n",
    "savings_account.withdraw(100)  # Output: Withdrawing $100 from Savings Account\n",
    "checking_account.withdraw(200)  # Output: Withdrawing $200 from Checking Account\n",
    "credit_card_account.withdraw(300)  # Output: Withdrawing $300 from Credit Card Account\n"
   ]
  },
  {
   "cell_type": "code",
   "execution_count": 56,
   "id": "4c05619d-87a5-4bd5-ae16-2ac218e9efbf",
   "metadata": {},
   "outputs": [
    {
     "name": "stdout",
     "output_type": "stream",
     "text": [
      "Result: 4 6\n"
     ]
    }
   ],
   "source": [
    "class Point:\n",
    "    def __init__(self, x, y):\n",
    "        self.x = x\n",
    "        self.y = y\n",
    "\n",
    "    def __add__(self, other):\n",
    "        return Point(self.x + other.x, self.y + other.y)\n",
    "\n",
    "# Creating objects and demonstrating operator overloading\n",
    "point1 = Point(1, 2)\n",
    "point2 = Point(3, 4)\n",
    "\n",
    "result = point1 + point2\n",
    "print(\"Result:\", result.x, result.y)  # Output: Result: 4 6\n"
   ]
  },
  {
   "cell_type": "markdown",
   "id": "a9390826-381a-4b65-b739-9ac83a3702b4",
   "metadata": {},
   "source": [
    "Dynamic polymorphism in Python refers to the ability of objects to exhibit different behaviors based on their types at runtime. It is achieved through method overriding and allows for flexible and extensible code."
   ]
  },
  {
   "cell_type": "code",
   "execution_count": 57,
   "id": "21fc7d7a-4343-4d45-8b7e-689250f58323",
   "metadata": {},
   "outputs": [
    {
     "name": "stdout",
     "output_type": "stream",
     "text": [
      "Manager's Salary: 10000\n",
      "Developer's Salary: 8000\n",
      "Designer's Salary: 7000\n"
     ]
    }
   ],
   "source": [
    "class Employee:\n",
    "    def calculate_salary(self):\n",
    "        pass  # Abstract method\n",
    "\n",
    "class Manager(Employee):\n",
    "    def calculate_salary(self):\n",
    "        return 10000  # Placeholder value for manager's salary\n",
    "\n",
    "class Developer(Employee):\n",
    "    def calculate_salary(self):\n",
    "        return 8000  # Placeholder value for developer's salary\n",
    "\n",
    "class Designer(Employee):\n",
    "    def calculate_salary(self):\n",
    "        return 7000  # Placeholder value for designer's salary\n",
    "\n",
    "# Creating objects and demonstrating polymorphism\n",
    "manager = Manager()\n",
    "developer = Developer()\n",
    "designer = Designer()\n",
    "\n",
    "print(\"Manager's Salary:\", manager.calculate_salary())  # Output: Manager's Salary: 10000\n",
    "print(\"Developer's Salary:\", developer.calculate_salary())  # Output: Developer's Salary: 8000\n",
    "print(\"Designer's Salary:\", designer.calculate_salary())  # Output: Designer's Salary: 7000\n"
   ]
  },
  {
   "cell_type": "markdown",
   "id": "592a6dd9-9a60-4fed-9992-346c1f170dba",
   "metadata": {},
   "source": [
    "Function pointers are not directly used in Python like in some other languages, but the concept of function pointers relates to polymorphism through the ability to pass functions as arguments, which is commonly used in Python for achieving polymorphic behavior."
   ]
  },
  {
   "cell_type": "markdown",
   "id": "10b92204-d4b5-4bd4-9adf-09253db87f63",
   "metadata": {},
   "source": [
    "Interfaces and abstract classes play a role in polymorphism by providing a blueprint for implementing common behavior across different classes. Interfaces define methods that must be implemented by classes that implement the interface, while abstract classes can have both abstract and concrete methods, allowing for partial implementation."
   ]
  },
  {
   "cell_type": "code",
   "execution_count": 58,
   "id": "b57880ff-f1e2-4c29-ba15-4af9d8745daa",
   "metadata": {},
   "outputs": [
    {
     "name": "stdout",
     "output_type": "stream",
     "text": [
      "Mammal makes a sound\n",
      "Bird chirps\n",
      "Reptile hisses\n"
     ]
    }
   ],
   "source": [
    "class Animal:\n",
    "    def speak(self):\n",
    "        pass  # Abstract method\n",
    "\n",
    "class Mammal(Animal):\n",
    "    def speak(self):\n",
    "        print(\"Mammal makes a sound\")\n",
    "\n",
    "class Bird(Animal):\n",
    "    def speak(self):\n",
    "        print(\"Bird chirps\")\n",
    "\n",
    "class Reptile(Animal):\n",
    "    def speak(self):\n",
    "        print(\"Reptile hisses\")\n",
    "\n",
    "# Creating objects and demonstrating polymorphism\n",
    "mammal = Mammal()\n",
    "bird = Bird()\n",
    "reptile = Reptile()\n",
    "\n",
    "mammal.speak()  # Output: Mammal makes a sound\n",
    "bird.speak()  # Output: Bird chirps\n",
    "reptile.speak()  # Output: Reptile hisses\n"
   ]
  },
  {
   "cell_type": "markdown",
   "id": "5b17e885-af64-4145-b7ec-94644e1c7df3",
   "metadata": {},
   "source": [
    "1. What is abstraction in Python, and how does it relate to object-oriented programming?\n",
    "2. Describe the benefits of abstraction in terms of code organization and complexity reduction.\n",
    "3. Create a Python class called `Shape` with an abstract method `calculate_area()`. Then, create child classes (e.g., `Circle`, `Rectangle`) that implement the `calculate_area()` method. Provide an example of\n",
    "using these classes.\n",
    "4. Explain the concept of abstract classes in Python and how they are defined using the `abc` module. Provide\n",
    "an example.\n",
    "5. How do abstract classes differ from regular classes in Python? Discuss their use cases.\n",
    "6. Create a Python class for a bank account and demonstrate abstraction by hiding the account balance and\n",
    "providing methods to deposit and withdraw funds.\n",
    "7. Discuss the concept of interface classes in Python and their role in achieving abstraction.\n",
    "8. Create a Python class hierarchy for animals and implement abstraction by defining common methods (e.g., `eat()`, `sleep()`) in an abstract base class.\n",
    "9. Explain the significance of encapsulation in achieving abstraction. Provide examples.\n",
    "10. What is the purpose of abstract methods, and how do they enforce abstraction in Python classes?"
   ]
  },
  {
   "cell_type": "markdown",
   "id": "9cd38533-016d-4d1e-b2ba-5ae7507c5ebd",
   "metadata": {},
   "source": [
    "Abstraction in Python refers to the concept of hiding the complex implementation details of a system while exposing only the necessary parts to the user. It is closely related to object-oriented programming as it allows programmers to create abstract data types that can be used as building blocks for larger systems."
   ]
  },
  {
   "cell_type": "markdown",
   "id": "d0aa4bc8-66ea-4942-b94f-4ada85a2d86a",
   "metadata": {},
   "source": [
    "The benefits of abstraction include:\n",
    "Code organization: Abstraction helps organize code by separating the interface from the implementation details, making it easier to understand and maintain.\n",
    "Complexity reduction: By abstracting away complex implementation details, abstraction reduces the complexity of the code, making it more manageable and scalable."
   ]
  },
  {
   "cell_type": "code",
   "execution_count": 1,
   "id": "227d5836-bbd0-411a-ac36-194085e02228",
   "metadata": {},
   "outputs": [
    {
     "name": "stdout",
     "output_type": "stream",
     "text": [
      "Circle Area: 78.5\n",
      "Rectangle Area: 24\n"
     ]
    }
   ],
   "source": [
    "from abc import ABC, abstractmethod\n",
    "\n",
    "class Shape(ABC):\n",
    "    @abstractmethod\n",
    "    def calculate_area(self):\n",
    "        pass\n",
    "\n",
    "class Circle(Shape):\n",
    "    def __init__(self, radius):\n",
    "        self.radius = radius\n",
    "\n",
    "    def calculate_area(self):\n",
    "        return 3.14 * self.radius ** 2\n",
    "\n",
    "class Rectangle(Shape):\n",
    "    def __init__(self, length, width):\n",
    "        self.length = length\n",
    "        self.width = width\n",
    "\n",
    "    def calculate_area(self):\n",
    "        return self.length * self.width\n",
    "\n",
    "# Using the Shape class hierarchy\n",
    "circle = Circle(5)\n",
    "rectangle = Rectangle(4, 6)\n",
    "\n",
    "print(\"Circle Area:\", circle.calculate_area())  # Output: Circle Area: 78.5\n",
    "print(\"Rectangle Area:\", rectangle.calculate_area())  # Output: Rectangle Area: 24\n"
   ]
  },
  {
   "cell_type": "code",
   "execution_count": 2,
   "id": "fb2a5b12-f40f-4c8b-89af-ccb98e2e580a",
   "metadata": {},
   "outputs": [],
   "source": [
    "from abc import ABC, abstractmethod\n",
    "\n",
    "class MyAbstractClass(ABC):\n",
    "    @abstractmethod\n",
    "    def my_abstract_method(self):\n",
    "        pass\n"
   ]
  },
  {
   "cell_type": "markdown",
   "id": "2c32ef44-57f7-4b92-a3f1-5d5fe49cd15c",
   "metadata": {},
   "source": [
    "Abstract classes differ from regular classes in Python in that they cannot be instantiated directly; they serve as blueprints for other classes to inherit from. Abstract classes are used when you want to define a common interface for a group of related classes but do not want to provide implementations for all methods."
   ]
  },
  {
   "cell_type": "code",
   "execution_count": 3,
   "id": "574189dc-3e74-4eee-bb7d-b223a4095579",
   "metadata": {},
   "outputs": [
    {
     "name": "stdout",
     "output_type": "stream",
     "text": [
      "Balance: 50\n"
     ]
    }
   ],
   "source": [
    "class BankAccount:\n",
    "    def __init__(self):\n",
    "        self._balance = 0  # Hidden attribute\n",
    "\n",
    "    def deposit(self, amount):\n",
    "        self._balance += amount\n",
    "\n",
    "    def withdraw(self, amount):\n",
    "        if self._balance >= amount:\n",
    "            self._balance -= amount\n",
    "        else:\n",
    "            print(\"Insufficient balance\")\n",
    "\n",
    "# Using the BankAccount class\n",
    "account = BankAccount()\n",
    "account.deposit(100)\n",
    "account.withdraw(50)\n",
    "print(\"Balance:\", account._balance)  # Output: Balance: 50\n"
   ]
  },
  {
   "cell_type": "markdown",
   "id": "08e34205-2e71-461e-95ba-a421fa2d9f10",
   "metadata": {},
   "source": [
    "Interface classes in Python are similar to abstract classes but contain only abstract methods and no implementation. They define a contract for classes that implement them, enforcing specific behaviors without providing implementations. Interface classes play a role in achieving abstraction by defining a common interface that multiple classes can adhere to."
   ]
  },
  {
   "cell_type": "code",
   "execution_count": 4,
   "id": "ebb8341b-badc-4ab1-bc24-e5d05d347a6e",
   "metadata": {},
   "outputs": [
    {
     "name": "stdout",
     "output_type": "stream",
     "text": [
      "Dog eats\n",
      "Dog sleeps\n"
     ]
    }
   ],
   "source": [
    "from abc import ABC, abstractmethod\n",
    "\n",
    "class Animal(ABC):\n",
    "    @abstractmethod\n",
    "    def eat(self):\n",
    "        pass\n",
    "\n",
    "    @abstractmethod\n",
    "    def sleep(self):\n",
    "        pass\n",
    "\n",
    "class Dog(Animal):\n",
    "    def eat(self):\n",
    "        print(\"Dog eats\")\n",
    "\n",
    "    def sleep(self):\n",
    "        print(\"Dog sleeps\")\n",
    "\n",
    "# Using the Animal class hierarchy\n",
    "dog = Dog()\n",
    "dog.eat()  # Output: Dog eats\n",
    "dog.sleep()  # Output: Dog sleeps\n"
   ]
  },
  {
   "cell_type": "markdown",
   "id": "5d1613d2-0ae7-4ba9-b572-4fd6e7e551da",
   "metadata": {},
   "source": [
    "Encapsulation plays a significant role in achieving abstraction by hiding the internal state of objects and exposing only the necessary interfaces. Encapsulation ensures that the implementation details are not directly accessible, enhancing abstraction and information hiding."
   ]
  },
  {
   "cell_type": "markdown",
   "id": "27aeafdd-3884-4e1f-900e-6f8b29580aaf",
   "metadata": {},
   "source": [
    "Abstract methods in Python enforce abstraction by providing a way to define methods without implementations in abstract classes. Subclasses inheriting from abstract classes must implement all abstract methods, thus enforcing the abstraction contract."
   ]
  },
  {
   "cell_type": "markdown",
   "id": "f1dbc6ff-00a3-40cb-b345-78bc363d2f2c",
   "metadata": {},
   "source": [
    "11. Create a Python class for a vehicle system and demonstrate abstraction by defining common methods (e.g., `start()`, `stop()`) in an abstract base class.\n",
    "12. Describe the use of abstract properties in Python and how they can be employed in abstract classes.\n",
    "13. Create a Python class hierarchy for employees in a company (e.g., manager, developer, designer) and implement abstraction by defining a common `get_salary()` method.\n",
    "14. Discuss the differences between abstract classes and concrete classes in Python, including their\n",
    "instantiation.\n",
    "15. Explain the concept of abstract data types (ADTs) and their role in achieving abstraction in Python.\n",
    "16. Create a Python class for a computer system, demonstrating abstraction by defining common methods (e.g., `power_on()`, `shutdown()`) in an abstract base class.\n",
    "17. Discuss the benefits of using abstraction in large-scale software development projects.\n",
    "18. Explain how abstraction enhances code reusability and modularity in Python programs.\n",
    "19. Create a Python class for a library system, implementing abstraction by defining common methods (e.g., `add_book()`, `borrow_book()`) in an abstract base class.\n",
    "20. Describe the concept of method abstraction in Python and how it relates to polymorphism."
   ]
  },
  {
   "cell_type": "code",
   "execution_count": 5,
   "id": "27d913a4-96aa-48d4-a6ff-d2069e860fc8",
   "metadata": {},
   "outputs": [
    {
     "name": "stdout",
     "output_type": "stream",
     "text": [
      "Car starting...\n",
      "Car stopping...\n",
      "Bike starting...\n",
      "Bike stopping...\n"
     ]
    }
   ],
   "source": [
    "from abc import ABC, abstractmethod\n",
    "\n",
    "class Vehicle(ABC):\n",
    "    @abstractmethod\n",
    "    def start(self):\n",
    "        pass\n",
    "\n",
    "    @abstractmethod\n",
    "    def stop(self):\n",
    "        pass\n",
    "\n",
    "class Car(Vehicle):\n",
    "    def start(self):\n",
    "        print(\"Car starting...\")\n",
    "\n",
    "    def stop(self):\n",
    "        print(\"Car stopping...\")\n",
    "\n",
    "class Bike(Vehicle):\n",
    "    def start(self):\n",
    "        print(\"Bike starting...\")\n",
    "\n",
    "    def stop(self):\n",
    "        print(\"Bike stopping...\")\n",
    "\n",
    "# Using the Vehicle class hierarchy\n",
    "car = Car()\n",
    "car.start()  # Output: Car starting...\n",
    "car.stop()   # Output: Car stopping...\n",
    "\n",
    "bike = Bike()\n",
    "bike.start()  # Output: Bike starting...\n",
    "bike.stop()   # Output: Bike stopping...\n"
   ]
  },
  {
   "cell_type": "code",
   "execution_count": 6,
   "id": "bd3ce335-c97c-47df-a03b-425094ff5d9c",
   "metadata": {},
   "outputs": [
    {
     "name": "stdout",
     "output_type": "stream",
     "text": [
      "Car fuel type: Gasoline\n",
      "Electric Car fuel type: Electric\n"
     ]
    }
   ],
   "source": [
    "from abc import ABC, abstractmethod\n",
    "\n",
    "class Vehicle(ABC):\n",
    "    @property\n",
    "    @abstractmethod\n",
    "    def fuel_type(self):\n",
    "        pass\n",
    "\n",
    "class Car(Vehicle):\n",
    "    @property\n",
    "    def fuel_type(self):\n",
    "        return \"Gasoline\"\n",
    "\n",
    "class ElectricCar(Vehicle):\n",
    "    @property\n",
    "    def fuel_type(self):\n",
    "        return \"Electric\"\n",
    "\n",
    "# Using the Vehicle class hierarchy\n",
    "car = Car()\n",
    "print(\"Car fuel type:\", car.fuel_type)  # Output: Car fuel type: Gasoline\n",
    "\n",
    "e_car = ElectricCar()\n",
    "print(\"Electric Car fuel type:\", e_car.fuel_type)  # Output: Electric Car fuel type: Electric\n"
   ]
  },
  {
   "cell_type": "code",
   "execution_count": 7,
   "id": "c24a49c8-846b-40bf-b2ec-07cecf32fbfa",
   "metadata": {},
   "outputs": [
    {
     "name": "stdout",
     "output_type": "stream",
     "text": [
      "Manager's salary: 10000\n",
      "Developer's salary: 8000\n",
      "Designer's salary: 7000\n"
     ]
    }
   ],
   "source": [
    "from abc import ABC, abstractmethod\n",
    "\n",
    "class Employee(ABC):\n",
    "    @abstractmethod\n",
    "    def get_salary(self):\n",
    "        pass\n",
    "\n",
    "class Manager(Employee):\n",
    "    def get_salary(self):\n",
    "        return 10000\n",
    "\n",
    "class Developer(Employee):\n",
    "    def get_salary(self):\n",
    "        return 8000\n",
    "\n",
    "class Designer(Employee):\n",
    "    def get_salary(self):\n",
    "        return 7000\n",
    "\n",
    "# Using the Employee class hierarchy\n",
    "manager = Manager()\n",
    "print(\"Manager's salary:\", manager.get_salary())  # Output: Manager's salary: 10000\n",
    "\n",
    "developer = Developer()\n",
    "print(\"Developer's salary:\", developer.get_salary())  # Output: Developer's salary: 8000\n",
    "\n",
    "designer = Designer()\n",
    "print(\"Designer's salary:\", designer.get_salary())  # Output: Designer's salary: 7000\n"
   ]
  },
  {
   "cell_type": "markdown",
   "id": "a61de1cf-706f-4a89-9d48-454d702653df",
   "metadata": {},
   "source": [
    "Abstract classes cannot be instantiated directly and serve as blueprints for other classes. Concrete classes, on the other hand, can be instantiated directly and provide implementations for all abstract methods. Abstract classes enforce structure and contracts, while concrete classes provide specific functionalities."
   ]
  },
  {
   "cell_type": "markdown",
   "id": "f72ebc02-5b45-441f-bd8f-640cf8359832",
   "metadata": {},
   "source": [
    "Abstract Data Types (ADTs) in Python refer to data types that abstractly define the behavior and operations that can be performed on data, without specifying the implementation details. They play a crucial role in achieving abstraction by providing a clear interface for interacting with data structures."
   ]
  },
  {
   "cell_type": "code",
   "execution_count": 8,
   "id": "adae7272-65ff-4951-999f-6e4a8055d7a6",
   "metadata": {},
   "outputs": [
    {
     "name": "stdout",
     "output_type": "stream",
     "text": [
      "Laptop powering on...\n",
      "Laptop shutting down...\n",
      "Desktop powering on...\n",
      "Desktop shutting down...\n"
     ]
    }
   ],
   "source": [
    "from abc import ABC, abstractmethod\n",
    "\n",
    "class Computer(ABC):\n",
    "    @abstractmethod\n",
    "    def power_on(self):\n",
    "        pass\n",
    "\n",
    "    @abstractmethod\n",
    "    def shutdown(self):\n",
    "        pass\n",
    "\n",
    "class Laptop(Computer):\n",
    "    def power_on(self):\n",
    "        print(\"Laptop powering on...\")\n",
    "\n",
    "    def shutdown(self):\n",
    "        print(\"Laptop shutting down...\")\n",
    "\n",
    "class Desktop(Computer):\n",
    "    def power_on(self):\n",
    "        print(\"Desktop powering on...\")\n",
    "\n",
    "    def shutdown(self):\n",
    "        print(\"Desktop shutting down...\")\n",
    "\n",
    "# Using the Computer class hierarchy\n",
    "laptop = Laptop()\n",
    "laptop.power_on()  # Output: Laptop powering on...\n",
    "laptop.shutdown()  # Output: Laptop shutting down...\n",
    "\n",
    "desktop = Desktop()\n",
    "desktop.power_on()  # Output: Desktop powering on...\n",
    "desktop.shutdown()  # Output: Desktop shutting down...\n"
   ]
  },
  {
   "cell_type": "markdown",
   "id": "650cdef6-c9fe-4696-b0f8-db70d779017c",
   "metadata": {},
   "source": [
    "Abstraction in large-scale software development projects helps in managing complexity by hiding implementation details and providing clear interfaces. It promotes code reusability, modularity, and maintainability, making it easier to work with and extend the codebase over time."
   ]
  },
  {
   "cell_type": "markdown",
   "id": "553be5b4-64c0-4ac8-aac4-e371623483d3",
   "metadata": {},
   "source": [
    "Abstraction enhances code reusability by providing well-defined interfaces that can be implemented by multiple classes. It promotes modularity by breaking down complex systems into manageable components with clear boundaries and responsibilities."
   ]
  },
  {
   "cell_type": "code",
   "execution_count": 9,
   "id": "22ef4703-09ed-4940-a2b9-332e9c2a05a2",
   "metadata": {},
   "outputs": [
    {
     "name": "stdout",
     "output_type": "stream",
     "text": [
      "Book added to library\n",
      "Book borrowed from library\n",
      "DVD added to library\n",
      "DVD borrowed from library\n"
     ]
    }
   ],
   "source": [
    "from abc import ABC, abstractmethod\n",
    "\n",
    "class LibraryItem(ABC):\n",
    "    @abstractmethod\n",
    "    def add_item(self):\n",
    "        pass\n",
    "\n",
    "    @abstractmethod\n",
    "    def borrow_item(self):\n",
    "        pass\n",
    "\n",
    "class Book(LibraryItem):\n",
    "    def add_item(self):\n",
    "        print(\"Book added to library\")\n",
    "\n",
    "    def borrow_item(self):\n",
    "        print(\"Book borrowed from library\")\n",
    "\n",
    "class DVD(LibraryItem):\n",
    "    def add_item(self):\n",
    "        print(\"DVD added to library\")\n",
    "\n",
    "    def borrow_item(self):\n",
    "        print(\"DVD borrowed from library\")\n",
    "\n",
    "# Using the LibraryItem class hierarchy\n",
    "book = Book()\n",
    "book.add_item()  # Output: Book added to library\n",
    "book.borrow_item()  # Output: Book borrowed from library\n",
    "\n",
    "dvd = DVD()\n",
    "dvd.add_item()  # Output: DVD added to library\n",
    "dvd.borrow_item()  # Output: DVD borrowed from library\n"
   ]
  },
  {
   "cell_type": "markdown",
   "id": "cea68a7d-69b0-46ec-93c1-81772336aec1",
   "metadata": {},
   "source": [
    "Method abstraction in Python involves defining methods in an abstract base class without providing implementations. Subclasses must implement these methods, allowing for different behaviors while adhering to a common interface. This relates to polymorphism as different subclasses can provide different implementations for the same abstract methods, achieving flexibility and extensibility in the codebase.\n",
    "\n",
    "\n",
    "\n",
    "\n",
    "\n"
   ]
  },
  {
   "cell_type": "markdown",
   "id": "ae3fedfe-f348-4674-a0cf-e4610fffd16c",
   "metadata": {},
   "source": [
    "1. Explain the concept of composition in Python and how it is used to build complex objects from simpler ones.\n",
    "2. Describe the difference between composition and inheritance in object-oriented programming.\n",
    "3. Create a Python class called `Author` with attributes for name and birthdate. Then, create a `Book` class\n",
    "that contains an instance of `Author` as a composition. Provide an example of creating a `Book` object.\n",
    "4. Discuss the benefits of using composition over inheritance in Python, especially in terms of code flexibility\n",
    "and reusability.\n",
    "5. How can you implement composition in Python classes? Provide examples of using composition to create\n",
    "complex objects.\n",
    "6. Create a Python class hierarchy for a music player system, using composition to represent playlists and\n",
    "songs.\n",
    "7. Explain the concept of \"has-a\" relationships in composition and how it helps design software systems.\n",
    "8. Create a Python class for a computer system, using composition to represent components like CPU, RAM,\n",
    "and storage devices.\n",
    "9. Describe the concept of \"delegation\" in composition and how it simplifies the design of complex systems.\n",
    "10. Create a Python class for a car, using composition to represent components like the engine, wheels, and\n",
    "transmission.\n",
    "11. How can you encapsulate and hide the details of composed objects in Python classes to maintain\n",
    "abstraction?\n",
    "12. Create a Python class for a university course, using composition to represent students, instructors, and\n",
    "course materials.\n",
    "13. Discuss the challenges and drawbacks of composition, such as increased complexity and potential for\n",
    "tight coupling between objects.\n",
    "14. Create a Python class hierarchy for a restaurant system, using composition to represent menus, dishes,\n",
    "and ingredients.\n",
    "15. Explain how composition enhances code maintainability and modularity in Python programs.\n",
    "16. Create a Python class for a computer game character, using composition to represent attributes like\n",
    "weapons, armor, and inventory.\n",
    "17. Describe the concept of \"aggregation\" in composition and how it differs from simple composition.\n",
    "18. Create a Python class for a house, using composition to represent rooms, furniture, and appliances.\n",
    "19. How can you achieve flexibility in composed objects by allowing them to be replaced or modified\n",
    "dynamically at runtime?\n",
    "20. Create a Python class for a social media application, using composition to represent users, posts, and\n",
    "comments."
   ]
  },
  {
   "cell_type": "markdown",
   "id": "c54eede3-3215-4239-8a8e-eeea65678b43",
   "metadata": {},
   "source": [
    "Composition in Python involves building complex objects by combining simpler objects. It allows one class to contain instances of other classes as attributes, creating relationships between objects to achieve functionality."
   ]
  },
  {
   "cell_type": "markdown",
   "id": "e5bdf684-91df-4bdd-a14b-7e3bbffd5f62",
   "metadata": {},
   "source": [
    "The main difference between composition and inheritance is in their approach to code reuse. Inheritance involves deriving new classes from existing ones, inheriting their attributes and methods. Composition, on the other hand, involves creating instances of other classes within a class to reuse functionality."
   ]
  },
  {
   "cell_type": "code",
   "execution_count": 10,
   "id": "ad48c1ec-2607-492b-ab5a-0f6223cb639f",
   "metadata": {},
   "outputs": [
    {
     "name": "stdout",
     "output_type": "stream",
     "text": [
      "Harry Potter\n",
      "J.K. Rowling\n"
     ]
    }
   ],
   "source": [
    "class Author:\n",
    "    def __init__(self, name, birthdate):\n",
    "        self.name = name\n",
    "        self.birthdate = birthdate\n",
    "\n",
    "class Book:\n",
    "    def __init__(self, title, author):\n",
    "        self.title = title\n",
    "        self.author = author\n",
    "\n",
    "# Creating a Book object with an Author instance\n",
    "author1 = Author(\"J.K. Rowling\", \"July 31, 1965\")\n",
    "book1 = Book(\"Harry Potter\", author1)\n",
    "print(book1.title)\n",
    "print(book1.author.name)\n"
   ]
  },
  {
   "cell_type": "markdown",
   "id": "cde23c82-0753-4cbe-b4c6-908d1740b319",
   "metadata": {},
   "source": [
    "Composition offers benefits such as enhanced flexibility and reusability. It allows for more dynamic relationships between objects compared to the rigid hierarchy of inheritance. With composition, objects can be composed and recomposed easily, leading to more maintainable and scalable code."
   ]
  },
  {
   "cell_type": "code",
   "execution_count": 11,
   "id": "b690955f-69f4-47bf-8a46-9f2eeb7c396f",
   "metadata": {},
   "outputs": [
    {
     "name": "stdout",
     "output_type": "stream",
     "text": [
      "Engine started\n"
     ]
    }
   ],
   "source": [
    "class Engine:\n",
    "    def start(self):\n",
    "        print(\"Engine started\")\n",
    "\n",
    "class Car:\n",
    "    def __init__(self):\n",
    "        self.engine = Engine()\n",
    "\n",
    "    def start(self):\n",
    "        self.engine.start()\n",
    "\n",
    "# Creating a Car object with an Engine instance\n",
    "car = Car()\n",
    "car.start()  # Output: Engine started\n"
   ]
  },
  {
   "cell_type": "code",
   "execution_count": 12,
   "id": "a5d32f39-17eb-4dc2-8b36-d1d2ee10d147",
   "metadata": {},
   "outputs": [],
   "source": [
    "class Song:\n",
    "    def __init__(self, title, artist):\n",
    "        self.title = title\n",
    "        self.artist = artist\n",
    "\n",
    "class Playlist:\n",
    "    def __init__(self):\n",
    "        self.songs = []\n",
    "\n",
    "    def add_song(self, song):\n",
    "        self.songs.append(song)\n",
    "\n",
    "# Creating a Playlist object with Song instances\n",
    "song1 = Song(\"Shape of You\", \"Ed Sheeran\")\n",
    "song2 = Song(\"Hello\", \"Adele\")\n",
    "playlist = Playlist()\n",
    "playlist.add_song(song1)\n",
    "playlist.add_song(song2)\n"
   ]
  },
  {
   "cell_type": "markdown",
   "id": "fa9f8572-c450-44bf-9744-0f46a8c70086",
   "metadata": {},
   "source": [
    "Has-a\" relationships in composition signify that one object has another object as a component or part. It helps in designing software systems by allowing objects to collaborate and provide functionalities that are composed of smaller, modular components."
   ]
  },
  {
   "cell_type": "code",
   "execution_count": 13,
   "id": "05b370d9-4cec-4d0b-b8ae-641b6c49713b",
   "metadata": {},
   "outputs": [
    {
     "name": "stdout",
     "output_type": "stream",
     "text": [
      "CPU processing\n",
      "RAM loading\n"
     ]
    }
   ],
   "source": [
    "class CPU:\n",
    "    def process(self):\n",
    "        print(\"CPU processing\")\n",
    "\n",
    "class RAM:\n",
    "    def load(self):\n",
    "        print(\"RAM loading\")\n",
    "\n",
    "class Computer:\n",
    "    def __init__(self):\n",
    "        self.cpu = CPU()\n",
    "        self.ram = RAM()\n",
    "\n",
    "    def boot(self):\n",
    "        self.cpu.process()\n",
    "        self.ram.load()\n",
    "\n",
    "# Creating a Computer object with CPU and RAM instances\n",
    "computer = Computer()\n",
    "computer.boot()  # Output: CPU processing, RAM loading\n"
   ]
  },
  {
   "cell_type": "markdown",
   "id": "64fdd002-7c74-4f13-b8a7-e3d72eef25f8",
   "metadata": {},
   "source": [
    "Delegation in composition involves delegating tasks or responsibilities to other objects. It simplifies complex systems by breaking them down into smaller, manageable components with specific functionalities."
   ]
  },
  {
   "cell_type": "code",
   "execution_count": 14,
   "id": "3afd5939-54b9-4cd9-81b8-f06baa1745d1",
   "metadata": {},
   "outputs": [
    {
     "name": "stdout",
     "output_type": "stream",
     "text": [
      "Engine started\n"
     ]
    }
   ],
   "source": [
    "class Engine:\n",
    "    def start(self):\n",
    "        print(\"Engine started\")\n",
    "\n",
    "class Car:\n",
    "    def __init__(self):\n",
    "        self.engine = Engine()\n",
    "\n",
    "    def start(self):\n",
    "        self.engine.start()\n",
    "\n",
    "# Creating a Car object with an Engine instance\n",
    "car = Car()\n",
    "car.start()  # Output: Engine started\n"
   ]
  },
  {
   "cell_type": "markdown",
   "id": "2ff93749-6e22-4ec0-a372-f299740f8820",
   "metadata": {},
   "source": [
    "Encapsulation in composed objects involves defining private attributes and providing methods to access and modify them, ensuring data integrity and abstraction of implementation details."
   ]
  },
  {
   "cell_type": "code",
   "execution_count": 15,
   "id": "140d22c1-4f89-4bdc-a7bd-18d3dfa81f9b",
   "metadata": {},
   "outputs": [],
   "source": [
    "class Student:\n",
    "    def __init__(self, name):\n",
    "        self.name = name\n",
    "\n",
    "class Instructor:\n",
    "    def __init__(self, name):\n",
    "        self.name = name\n",
    "\n",
    "class Course:\n",
    "    def __init__(self, name, instructor, students):\n",
    "        self.name = name\n",
    "        self.instructor = instructor\n",
    "        self.students = students\n",
    "\n",
    "# Creating a Course object with Student and Instructor instances\n",
    "student1 = Student(\"Alice\")\n",
    "student2 = Student(\"Bob\")\n",
    "instructor = Instructor(\"Dr. Smith\")\n",
    "course = Course(\"Python Programming\", instructor, [student1, student2])\n"
   ]
  },
  {
   "cell_type": "markdown",
   "id": "cacb68d2-82c1-4123-ad48-f796a694005b",
   "metadata": {},
   "source": [
    "Challenges and drawbacks of composition include increased complexity when managing relationships between objects and the potential for tight coupling between components, which can lead to maintenance issues."
   ]
  },
  {
   "cell_type": "code",
   "execution_count": 16,
   "id": "817441c1-222b-4e46-a4bd-273089d580ba",
   "metadata": {},
   "outputs": [],
   "source": [
    "class Dish:\n",
    "    def __init__(self, name, ingredients):\n",
    "        self.name = name\n",
    "        self.ingredients = ingredients\n",
    "\n",
    "class Menu:\n",
    "    def __init__(self, dishes):\n",
    "        self.dishes = dishes\n",
    "\n",
    "# Creating a Menu object with Dish instances\n",
    "dish1 = Dish(\"Pasta Carbonara\", [\"pasta\", \"egg\", \"bacon\"])\n",
    "dish2 = Dish(\"Caesar Salad\", [\"lettuce\", \"croutons\", \"parmesan\"])\n",
    "menu = Menu([dish1, dish2])\n"
   ]
  },
  {
   "cell_type": "markdown",
   "id": "f6465e54-0a2a-4242-a985-6e06a5821c44",
   "metadata": {},
   "source": [
    "Composition enhances code maintainability by promoting modular design, where each component focuses on a specific responsibility. It also improves modularity by allowing components to be replaced or modified independently."
   ]
  },
  {
   "cell_type": "code",
   "execution_count": 17,
   "id": "eb895841-b01f-433c-afc4-e7cc4ef74176",
   "metadata": {},
   "outputs": [],
   "source": [
    "class Weapon:\n",
    "    def __init__(self, name):\n",
    "        self.name = name\n",
    "\n",
    "class Armor:\n",
    "    def __init__(self, armor_type):\n",
    "        self.armor_type = armor_type\n",
    "\n",
    "class Character:\n",
    "    def __init__(self, weapon, armor):\n",
    "        self.weapon = weapon\n",
    "        self.armor = armor\n",
    "\n",
    "# Creating a Character object with Weapon and Armor instances\n",
    "weapon = Weapon(\"Sword\")\n",
    "armor = Armor(\"Heavy Armor\")\n",
    "character = Character(weapon, armor)\n"
   ]
  },
  {
   "cell_type": "markdown",
   "id": "75e44334-7d99-4e8d-a701-b099a6be21c3",
   "metadata": {},
   "source": [
    "Aggregation in composition refers to a \"whole-part\" relationship where objects can exist independently of each other. It differs from simple composition in that the composed objects can be shared among multiple entities."
   ]
  },
  {
   "cell_type": "code",
   "execution_count": 18,
   "id": "249d1a83-1d42-4422-a987-83044a8671b3",
   "metadata": {},
   "outputs": [],
   "source": [
    "class Room:\n",
    "    def __init__(self, name, furniture):\n",
    "        self.name = name\n",
    "        self.furniture = furniture\n",
    "\n",
    "class House:\n",
    "    def __init__(self, rooms):\n",
    "        self.rooms = rooms\n",
    "\n",
    "# Creating a House object with Room instances\n",
    "room1 = Room(\"Living Room\", [\"Sofa\", \"TV\"])\n",
    "room2 = Room(\"Bedroom\", [\"Bed\", \"Wardrobe\"])\n",
    "house = House([room1, room2])\n"
   ]
  },
  {
   "cell_type": "markdown",
   "id": "8e696e31-26cf-449d-94cc-0139bad5c960",
   "metadata": {},
   "source": [
    "Flexibility in composed objects can be achieved by designing classes with interchangeable components and providing methods to modify or replace these components dynamically at runtime."
   ]
  },
  {
   "cell_type": "code",
   "execution_count": 19,
   "id": "c4bfad92-f4c6-4a40-967f-344509585840",
   "metadata": {},
   "outputs": [],
   "source": [
    "class Post:\n",
    "    def __init__(self, content):\n",
    "        self.content = content\n",
    "\n",
    "class Comment:\n",
    "    def __init__(self, user, text):\n",
    "        self.user = user\n",
    "        self.text = text\n",
    "\n",
    "class User:\n",
    "    def __init__(self, name):\n",
    "        self.name = name\n",
    "        self.posts = []\n",
    "        self.comments = []\n",
    "\n",
    "    def add_post(self, post):\n",
    "        self.posts.append(post)\n",
    "\n",
    "    def add_comment(self, comment):\n",
    "        self.comments.append(comment)\n",
    "\n",
    "# Creating a User object with Post and Comment instances\n",
    "user1 = User(\"Alice\")\n",
    "user2 = User(\"Bob\")\n",
    "post = Post(\"Hello, world!\")\n",
    "comment = Comment(user2, \"Nice post!\")\n",
    "user1.add_post(post)\n",
    "user1.add_comment(comment)\n"
   ]
  },
  {
   "cell_type": "code",
   "execution_count": null,
   "id": "b375044d-ceeb-460a-a6d9-0a06f88a6325",
   "metadata": {},
   "outputs": [],
   "source": []
  }
 ],
 "metadata": {
  "kernelspec": {
   "display_name": "Python 3 (ipykernel)",
   "language": "python",
   "name": "python3"
  },
  "language_info": {
   "codemirror_mode": {
    "name": "ipython",
    "version": 3
   },
   "file_extension": ".py",
   "mimetype": "text/x-python",
   "name": "python",
   "nbconvert_exporter": "python",
   "pygments_lexer": "ipython3",
   "version": "3.10.8"
  }
 },
 "nbformat": 4,
 "nbformat_minor": 5
}
