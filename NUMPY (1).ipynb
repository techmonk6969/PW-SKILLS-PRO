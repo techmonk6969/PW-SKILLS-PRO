{
 "cells": [
  {
   "cell_type": "markdown",
   "id": "d6d68e45-f271-45c6-8a4d-4a662cc2a816",
   "metadata": {},
   "source": [
    "1. What is a Python library? Why ^o we use Python libraries?\n",
    "2. What is the ^ifference between Numpy array an^ List?\n",
    "3. Fin^ the shape, size an^ ^imension of the following array?\n",
    "[[1, 2, 3, 4]\n",
    "[5, 6, 7, 8],\n",
    "[9, 10, 11, 12]]\n",
    "4. Write python co^e to access the first row of the following array?\n",
    "[[1, 2, 3, 4]\n",
    "[5, 6, 7, 8],\n",
    "[9, 10, 11, 12]]\n",
    "5. How ^o you access the element at the thir^ row an^ fourth column from the given numpy array?\n",
    "[[1, 2, 3, 4]\n",
    "[5, 6, 7, 8],\n",
    "[9, 10, 11, 12]]\n",
    "6. Write co^e to extract all o^^-in^exe^ elements from the given numpy array?\n",
    "[[1, 2, 3, 4]\n",
    "[5, 6, 7, 8],\n",
    "[9, 10, 11, 12]]\n",
    "7. How can you generate a ran^om 3x3 matrix with values between 0 an^ 1?\n",
    "8. Describe the ^ifference between np.ran^om.ran^ an^ np.ran^om.ran^n?\n",
    "9. Write co^e to increase the ^imension of the following array?\n",
    "[[1, 2, 3, 4]\n",
    "[5, 6, 7, 8],\n",
    "[9, 10, 11, 12]]\n",
    "10. How to transpose the following array in NumPy?\n",
    "[[1, 2, 3, 4]\n",
    "[5, 6, 7, 8],\n",
    "[9, 10, 11, 12]]\n",
    "11. Consi^er the following matrix:\n",
    "Matrix A2 [[1, 2, 3, 4] [5, 6, 7, 8],[9, 10, 11, 12]]\n",
    "Matrix B2 [[1, 2, 3, 4] [5, 6, 7, 8],[9, 10, 11, 12]]\n",
    "Perform the following operation using Python1\n",
    ",+ I(dex wiLe multiplicatio'\n",
    "]+ Matix multiplicatio'\n",
    "+ Add both the maticK\n",
    "-+ Subtact matix B om \n",
    "+ Diide Matix B by A\n",
    "12. Which function in Numpy can be use^ to swap the byte or^er of an array?\n",
    "13. What is the significance of the np.linalg.inv function?\n",
    "14. What ^oes the np.reshape function ^o, an^ how is it use^?\n",
    "15. What is broa^casting in Numpy?"
   ]
  },
  {
   "cell_type": "markdown",
   "id": "55da621d-a8b2-4a10-8814-0cd744588408",
   "metadata": {},
   "source": [
    "A Python library is a collection of pre-written code and functionalities that can be imported and used in your Python programs. Libraries provide ready-to-use functions and classes that help you perform specific tasks without having to write the code from scratch. We use Python libraries to save time, improve code readability, and leverage the expertise of other developers who have written efficient and tested code."
   ]
  },
  {
   "cell_type": "markdown",
   "id": "9811f1ea-ce6d-4f91-942d-5d0946282128",
   "metadata": {},
   "source": [
    "NumPy arrays are similar to Python lists but have some key differences:\n",
    "NumPy arrays are homogeneous, meaning they can only store elements of the same data type, whereas lists can store elements of different data types.\n",
    "NumPy arrays offer more efficient storage and operations for numerical computations compared to lists.\n",
    "NumPy arrays support vectorized operations, which can significantly speed up computations compared to using loops with lists.\n",
    "NumPy arrays have attributes like shape, size, and dimension, which provide information about the array structure."
   ]
  },
  {
   "cell_type": "code",
   "execution_count": 1,
   "id": "717fb265-2332-47a9-8920-0a030a862bb2",
   "metadata": {},
   "outputs": [
    {
     "name": "stdout",
     "output_type": "stream",
     "text": [
      "Shape: (3, 4)\n",
      "Size: 12\n",
      "Dimension: 2\n"
     ]
    }
   ],
   "source": [
    "import numpy as np\n",
    "\n",
    "arr = np.array([[1, 2, 3, 4], [5, 6, 7, 8], [9, 10, 11, 12]])\n",
    "print(\"Shape:\", arr.shape)\n",
    "print(\"Size:\", arr.size)\n",
    "print(\"Dimension:\", arr.ndim)\n"
   ]
  },
  {
   "cell_type": "code",
   "execution_count": 2,
   "id": "73c3b390-9ed3-4db4-b736-bc8ceeead705",
   "metadata": {},
   "outputs": [
    {
     "name": "stdout",
     "output_type": "stream",
     "text": [
      "[1 2 3 4]\n"
     ]
    }
   ],
   "source": [
    "first_row = arr[0]\n",
    "print(first_row)\n"
   ]
  },
  {
   "cell_type": "code",
   "execution_count": 3,
   "id": "999ec7ae-1483-4714-b027-4e662c8f7b79",
   "metadata": {},
   "outputs": [
    {
     "name": "stdout",
     "output_type": "stream",
     "text": [
      "12\n"
     ]
    }
   ],
   "source": [
    "element = arr[2, 3]\n",
    "print(element)\n"
   ]
  },
  {
   "cell_type": "code",
   "execution_count": 4,
   "id": "2a021afa-8ea5-4e64-9abb-59897ecabd2a",
   "metadata": {},
   "outputs": [
    {
     "name": "stdout",
     "output_type": "stream",
     "text": [
      "[[ 2  4]\n",
      " [ 6  8]\n",
      " [10 12]]\n"
     ]
    }
   ],
   "source": [
    "odd_indexed_elements = arr[:, 1::2]  # Start from index 1 and take every second element\n",
    "print(odd_indexed_elements)\n"
   ]
  },
  {
   "cell_type": "code",
   "execution_count": 5,
   "id": "cbca586d-04ae-47ca-b5b7-811d4c21c8d7",
   "metadata": {},
   "outputs": [
    {
     "name": "stdout",
     "output_type": "stream",
     "text": [
      "[[0.25654687 0.09144552 0.91419229]\n",
      " [0.70669042 0.56913804 0.17261207]\n",
      " [0.39501275 0.26456864 0.72182551]]\n"
     ]
    }
   ],
   "source": [
    "random_matrix = np.random.rand(3, 3)\n",
    "print(random_matrix)\n"
   ]
  },
  {
   "cell_type": "markdown",
   "id": "080f28a9-fc62-4f75-a3cc-21cc67dbbb14",
   "metadata": {},
   "source": [
    "np.random.rand generates random numbers from a uniform distribution between 0 and 1.\n",
    "np.random.randn generates random numbers from a standard normal distribution (mean 0, standard deviation 1)."
   ]
  },
  {
   "cell_type": "code",
   "execution_count": 6,
   "id": "8ec4af5e-42db-4f2c-98cd-2dfc7c45b6ef",
   "metadata": {},
   "outputs": [
    {
     "name": "stdout",
     "output_type": "stream",
     "text": [
      "(1, 3, 4)\n"
     ]
    }
   ],
   "source": [
    "increased_dimension = np.expand_dims(arr, axis=0)\n",
    "print(increased_dimension.shape)\n"
   ]
  },
  {
   "cell_type": "code",
   "execution_count": 7,
   "id": "448cb400-a5ae-40af-8fa3-e333c353cbe5",
   "metadata": {},
   "outputs": [
    {
     "name": "stdout",
     "output_type": "stream",
     "text": [
      "[[ 1  5  9]\n",
      " [ 2  6 10]\n",
      " [ 3  7 11]\n",
      " [ 4  8 12]]\n"
     ]
    }
   ],
   "source": [
    "transposed_array = arr.T\n",
    "print(transposed_array)\n"
   ]
  },
  {
   "cell_type": "code",
   "execution_count": null,
   "id": "dc740b4d-6b03-4af5-b5c4-a96fe5021367",
   "metadata": {},
   "outputs": [],
   "source": [
    "index_wise_multiplication = arr * arr  # Element-wise multiplication\n",
    "matrix_multiplication = np.dot(arr, arr.T)  # Matrix multiplication\n",
    "additionsubtraction = arr - arr\n",
    " = arr + arr\n",
    "division = arr / arr\n",
    "    \n"
   ]
  },
  {
   "cell_type": "markdown",
   "id": "5c72aabe-a45d-4559-83fb-34dbe25a792c",
   "metadata": {},
   "source": [
    "The np.ndarray.byteswap() function can be used to swap the byte order of an array in NumPy."
   ]
  },
  {
   "cell_type": "markdown",
   "id": "fb09847e-e15f-4848-ace2-420ebe7b87a7",
   "metadata": {},
   "source": [
    "The np.linalg.inv function in NumPy is used to compute the inverse of a square matrix. It is particularly useful in linear algebra and solving systems of linear equations."
   ]
  },
  {
   "cell_type": "markdown",
   "id": "d9c36965-9b5e-471a-bea6-14952588d901",
   "metadata": {},
   "source": [
    "reshaped_array = np.reshape(arr, (2, 6))  # Reshape to a 2x6 array\n"
   ]
  },
  {
   "cell_type": "markdown",
   "id": "009f338d-76d0-44e4-8304-73ecb149b384",
   "metadata": {},
   "source": [
    "Broadcasting in NumPy refers to the ability of NumPy to perform element-wise operations between arrays of different shapes and sizes. NumPy automatically adjusts the dimensions of the arrays to make the operation valid, which simplifies code and improves performance."
   ]
  }
 ],
 "metadata": {
  "kernelspec": {
   "display_name": "Python 3 (ipykernel)",
   "language": "python",
   "name": "python3"
  },
  "language_info": {
   "codemirror_mode": {
    "name": "ipython",
    "version": 3
   },
   "file_extension": ".py",
   "mimetype": "text/x-python",
   "name": "python",
   "nbconvert_exporter": "python",
   "pygments_lexer": "ipython3",
   "version": "3.10.8"
  }
 },
 "nbformat": 4,
 "nbformat_minor": 5
}
