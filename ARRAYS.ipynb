{
 "cells": [
  {
   "cell_type": "markdown",
   "id": "22137996-13ca-4a58-82fd-09cc1e28f7ac",
   "metadata": {},
   "source": [
    "1. Given an array, check if it contains any duplicates or not.\n",
    "arr = [1, 2, 4, 2, 5, 9]\n",
    "Output = True\n",
    "\n",
    "2. Given an array and an integer k, rotate the array to the right by k steps.\n",
    "arr = [1, 2, 3, 4, 5, 6, 7] k = 3\n",
    "Output = [5, 6, 7, 1, 2, 3, 4]\n",
    "\n",
    "3. Reverse the given array in-place, means without using any extra data structure.\n",
    "arr = [2, 4, 5, 7, 9, 12]\n",
    "Output = [12, 9, 7, 5, 4, 2]\n",
    "\n",
    "4. Given an array of integers, find the maximum element in an array\n",
    "arr = [10, 5, 20, 8, 15]\n",
    "Output = 20\n",
    "\n",
    "5. Given a sorted array, remove the duplicate element without using any extra data structure.\n",
    "arr = [1, 1, 2, 2, 2, 3, 3, 4, 4, 4, 5, 5]\n",
    "Output = [1, 2, 3, 4, 5]"
   ]
  },
  {
   "cell_type": "code",
   "execution_count": 1,
   "id": "60b194da-01cd-43df-82e7-74945a127a22",
   "metadata": {},
   "outputs": [
    {
     "name": "stdout",
     "output_type": "stream",
     "text": [
      "True\n"
     ]
    }
   ],
   "source": [
    "def contains_duplicate(arr):\n",
    "    seen = set()\n",
    "    for num in arr:\n",
    "        if num in seen:\n",
    "            return True\n",
    "        seen.add(num)\n",
    "    return False\n",
    "\n",
    "arr = [1, 2, 4, 2, 5, 9]\n",
    "print(contains_duplicate(arr))  # Output: True\n"
   ]
  },
  {
   "cell_type": "code",
   "execution_count": 2,
   "id": "025b89a6-0c0d-494a-9e39-1121e152d7eb",
   "metadata": {},
   "outputs": [
    {
     "name": "stdout",
     "output_type": "stream",
     "text": [
      "[5, 6, 7, 1, 2, 3, 4]\n"
     ]
    }
   ],
   "source": [
    "def rotate_array(arr, k):\n",
    "    n = len(arr)\n",
    "    k %= n  # Handle k greater than array length\n",
    "    arr[:] = arr[-k:] + arr[:-k]\n",
    "\n",
    "arr = [1, 2, 3, 4, 5, 6, 7]\n",
    "k = 3\n",
    "rotate_array(arr, k)\n",
    "print(arr)  # Output: [5, 6, 7, 1, 2, 3, 4]\n"
   ]
  },
  {
   "cell_type": "code",
   "execution_count": 3,
   "id": "daed059c-cc14-4edd-b698-8dc84a0947a4",
   "metadata": {},
   "outputs": [
    {
     "name": "stdout",
     "output_type": "stream",
     "text": [
      "[12, 9, 7, 5, 4, 2]\n"
     ]
    }
   ],
   "source": [
    "def reverse_array(arr):\n",
    "    left, right = 0, len(arr) - 1\n",
    "    while left < right:\n",
    "        arr[left], arr[right] = arr[right], arr[left]\n",
    "        left += 1\n",
    "        right -= 1\n",
    "\n",
    "arr = [2, 4, 5, 7, 9, 12]\n",
    "reverse_array(arr)\n",
    "print(arr)  # Output: [12, 9, 7, 5, 4, 2]\n"
   ]
  },
  {
   "cell_type": "code",
   "execution_count": 4,
   "id": "9521d095-e165-4ed2-8738-2b8a46dcf975",
   "metadata": {},
   "outputs": [
    {
     "name": "stdout",
     "output_type": "stream",
     "text": [
      "20\n"
     ]
    }
   ],
   "source": [
    "def find_max_element(arr):\n",
    "    return max(arr)\n",
    "\n",
    "arr = [10, 5, 20, 8, 15]\n",
    "print(find_max_element(arr))  # Output: 20\n"
   ]
  },
  {
   "cell_type": "code",
   "execution_count": 5,
   "id": "70845a5c-4d18-4618-a8e7-5691a0873a03",
   "metadata": {},
   "outputs": [
    {
     "name": "stdout",
     "output_type": "stream",
     "text": [
      "[1, 2, 3, 4, 5]\n"
     ]
    }
   ],
   "source": [
    "def remove_duplicates(arr):\n",
    "    if not arr:\n",
    "        return []\n",
    "    write_index = 1\n",
    "    for i in range(1, len(arr)):\n",
    "        if arr[i] != arr[i - 1]:\n",
    "            arr[write_index] = arr[i]\n",
    "            write_index += 1\n",
    "    return arr[:write_index]\n",
    "\n",
    "arr = [1, 1, 2, 2, 2, 3, 3, 4, 4, 4, 5, 5]\n",
    "print(remove_duplicates(arr))  # Output: [1, 2, 3, 4, 5]\n"
   ]
  },
  {
   "cell_type": "code",
   "execution_count": null,
   "id": "c17bf365-2f1d-45ea-8e35-2b3a86de72da",
   "metadata": {},
   "outputs": [],
   "source": []
  }
 ],
 "metadata": {
  "kernelspec": {
   "display_name": "Python 3 (ipykernel)",
   "language": "python",
   "name": "python3"
  },
  "language_info": {
   "codemirror_mode": {
    "name": "ipython",
    "version": 3
   },
   "file_extension": ".py",
   "mimetype": "text/x-python",
   "name": "python",
   "nbconvert_exporter": "python",
   "pygments_lexer": "ipython3",
   "version": "3.10.8"
  }
 },
 "nbformat": 4,
 "nbformat_minor": 5
}
