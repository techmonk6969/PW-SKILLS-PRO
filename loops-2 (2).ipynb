{
 "cells": [
  {
   "cell_type": "markdown",
   "id": "b869a750-38bc-4830-9d0d-8897ef3bdb8b",
   "metadata": {},
   "source": [
    "1. Write a Python program to check if a given number is positive or negative.\n",
    "2. Create a program that determines if a person is eligible to vote based on their age.\n",
    "3. Develop a program to find the maximum of two numbers using if-else statements.\n",
    "4. Write a Python script to classify a given year as a leap year or not.\n",
    "5. Create a program that checks whether a character is a vowel or a consonant.\n",
    "6. Implement a program to determine whether a given number is even or odd.\n",
    "7. Write a Python function to calculate the absolute value of a number without using the `abs()` function.\n",
    "8. Develop a program that determines the largest of three given numbers using if-else statements.\n",
    "9. Create a program that checks if a given string is a palindrome.\n",
    "10. Write a Python program to calculate the grade based on a student's score."
   ]
  },
  {
   "cell_type": "code",
   "execution_count": 1,
   "id": "54a6c968-ef46-4a32-90e0-df043b1706cf",
   "metadata": {},
   "outputs": [
    {
     "name": "stdout",
     "output_type": "stream",
     "text": [
      "Positive\n",
      "Negative\n",
      "Zero\n"
     ]
    }
   ],
   "source": [
    "def check_positive_negative(num):\n",
    "    if num > 0:\n",
    "        print(\"Positive\")\n",
    "    elif num < 0:\n",
    "        print(\"Negative\")\n",
    "    else:\n",
    "        print(\"Zero\")\n",
    "\n",
    "check_positive_negative(5)\n",
    "check_positive_negative(-3)\n",
    "check_positive_negative(0)\n"
   ]
  },
  {
   "cell_type": "code",
   "execution_count": 2,
   "id": "e7130c90-eb9c-4cd5-9ffc-aa25604c37b4",
   "metadata": {},
   "outputs": [
    {
     "name": "stdout",
     "output_type": "stream",
     "text": [
      "Eligible to Vote\n",
      "Not Eligible to Vote\n"
     ]
    }
   ],
   "source": [
    "def check_voter_eligibility(age):\n",
    "    if age >= 18:\n",
    "        print(\"Eligible to Vote\")\n",
    "    else:\n",
    "        print(\"Not Eligible to Vote\")\n",
    "\n",
    "check_voter_eligibility(20)\n",
    "check_voter_eligibility(15)\n"
   ]
  },
  {
   "cell_type": "code",
   "execution_count": 3,
   "id": "9c1084bb-5719-49ca-bccb-1153574f8b38",
   "metadata": {},
   "outputs": [
    {
     "name": "stdout",
     "output_type": "stream",
     "text": [
      "Maximum Number: 15\n"
     ]
    }
   ],
   "source": [
    "def find_maximum(num1, num2):\n",
    "    if num1 > num2:\n",
    "        return num1\n",
    "    else:\n",
    "        return num2\n",
    "\n",
    "result = find_maximum(10, 15)\n",
    "print(\"Maximum Number:\", result)\n"
   ]
  },
  {
   "cell_type": "code",
   "execution_count": 4,
   "id": "5154264a-f27d-433b-9066-d6e91007168b",
   "metadata": {},
   "outputs": [
    {
     "name": "stdout",
     "output_type": "stream",
     "text": [
      "Leap Year\n",
      "Not a Leap Year\n"
     ]
    }
   ],
   "source": [
    "def check_leap_year(year):\n",
    "    if (year % 4 == 0 and year % 100 != 0) or (year % 400 == 0):\n",
    "        print(\"Leap Year\")\n",
    "    else:\n",
    "        print(\"Not a Leap Year\")\n",
    "\n",
    "check_leap_year(2020)\n",
    "check_leap_year(2021)\n"
   ]
  },
  {
   "cell_type": "code",
   "execution_count": 5,
   "id": "fc48b131-2ac2-4354-81bd-52d6b12f671a",
   "metadata": {},
   "outputs": [
    {
     "name": "stdout",
     "output_type": "stream",
     "text": [
      "Vowel\n",
      "Consonant\n"
     ]
    }
   ],
   "source": [
    "def check_vowel_consonant(char):\n",
    "    vowels = \"aeiouAEIOU\"\n",
    "    if char in vowels:\n",
    "        print(\"Vowel\")\n",
    "    else:\n",
    "        print(\"Consonant\")\n",
    "\n",
    "check_vowel_consonant('a')\n",
    "check_vowel_consonant('b')\n"
   ]
  },
  {
   "cell_type": "code",
   "execution_count": 6,
   "id": "c1e4a00c-d4be-4eb2-8320-c1de60be38ec",
   "metadata": {},
   "outputs": [
    {
     "name": "stdout",
     "output_type": "stream",
     "text": [
      "Even\n",
      "Odd\n"
     ]
    }
   ],
   "source": [
    "def check_even_odd(num):\n",
    "    if num % 2 == 0:\n",
    "        print(\"Even\")\n",
    "    else:\n",
    "        print(\"Odd\")\n",
    "\n",
    "check_even_odd(10)\n",
    "check_even_odd(15)\n"
   ]
  },
  {
   "cell_type": "code",
   "execution_count": 7,
   "id": "c5263f8f-98e8-4e56-91d8-4930fbf8bf6d",
   "metadata": {},
   "outputs": [
    {
     "name": "stdout",
     "output_type": "stream",
     "text": [
      "Absolute Value: 5\n"
     ]
    }
   ],
   "source": [
    "def absolute_value(num):\n",
    "    if num < 0:\n",
    "        return -num\n",
    "    else:\n",
    "        return num\n",
    "\n",
    "result = absolute_value(-5)\n",
    "print(\"Absolute Value:\", result)\n"
   ]
  },
  {
   "cell_type": "code",
   "execution_count": 8,
   "id": "b69c2366-6205-45f9-bc8f-fd710a7c7fc2",
   "metadata": {},
   "outputs": [
    {
     "name": "stdout",
     "output_type": "stream",
     "text": [
      "Largest Number: 20\n"
     ]
    }
   ],
   "source": [
    "def find_largest(num1, num2, num3):\n",
    "    if num1 >= num2 and num1 >= num3:\n",
    "        return num1\n",
    "    elif num2 >= num1 and num2 >= num3:\n",
    "        return num2\n",
    "    else:\n",
    "        return num3\n",
    "\n",
    "result = find_largest(10, 20, 15)\n",
    "print(\"Largest Number:\", result)\n"
   ]
  },
  {
   "cell_type": "code",
   "execution_count": 9,
   "id": "9f36c761-0daf-49c7-a030-0e586858bf09",
   "metadata": {},
   "outputs": [
    {
     "name": "stdout",
     "output_type": "stream",
     "text": [
      "Palindrome\n",
      "Not a Palindrome\n"
     ]
    }
   ],
   "source": [
    "def check_palindrome(string):\n",
    "    if string == string[::-1]:\n",
    "        print(\"Palindrome\")\n",
    "    else:\n",
    "        print(\"Not a Palindrome\")\n",
    "\n",
    "check_palindrome(\"radar\")\n",
    "check_palindrome(\"hello\")\n"
   ]
  },
  {
   "cell_type": "code",
   "execution_count": 10,
   "id": "06dee4b3-85ba-49cc-988c-92bee51ace7b",
   "metadata": {},
   "outputs": [
    {
     "name": "stdout",
     "output_type": "stream",
     "text": [
      "Grade: B\n"
     ]
    }
   ],
   "source": [
    "def calculate_grade(score):\n",
    "    if score >= 90:\n",
    "        return \"A\"\n",
    "    elif score >= 80:\n",
    "        return \"B\"\n",
    "    elif score >= 70:\n",
    "        return \"C\"\n",
    "    elif score >= 60:\n",
    "        return \"D\"\n",
    "    else:\n",
    "        return \"F\"\n",
    "\n",
    "student_score = 85\n",
    "grade = calculate_grade(student_score)\n",
    "print(\"Grade:\", grade)\n"
   ]
  },
  {
   "cell_type": "markdown",
   "id": "ec3b6d82-f8b8-414c-8dc2-ffda4db3c673",
   "metadata": {},
   "source": [
    "11. Write a program to find the largest among three numbers using nested if-else statements.\n",
    "12. Implement a program to determine if a triangle is equilateral, isosceles, or scalene.\n",
    "13. Develop a program that checks if a year is a leap year and also if it is a century year.\n",
    "14. Write a Python script to determine if a number is positive, negative, or zero.\n",
    "15. Create a program to check if a person is a teenager (between 13 and 19 years old).\n",
    "16. Develop a program that determines the type of angle based on its measure (acute, obtuse, or right).\n",
    "17. Write a Python program to calculate the roots of a quadratic equation.\n",
    "18. Implement a program to determine the day of the week based on a user-provided number (1 for Monday, 2\n",
    "for Tuesday, etc.).\n",
    "19. Create a program that determines if a year is a leap year and also if it is evenly divisible by 400.\n",
    "20. Develop a program that checks if a given number is prime or not using nested if-else statements."
   ]
  },
  {
   "cell_type": "code",
   "execution_count": 11,
   "id": "64cf9a50-d35a-4928-a20c-a66ee413f68f",
   "metadata": {},
   "outputs": [
    {
     "name": "stdout",
     "output_type": "stream",
     "text": [
      "Largest Number: 20\n"
     ]
    }
   ],
   "source": [
    "def find_largest(num1, num2, num3):\n",
    "    if num1 >= num2:\n",
    "        if num1 >= num3:\n",
    "            return num1\n",
    "        else:\n",
    "            return num3\n",
    "    else:\n",
    "        if num2 >= num3:\n",
    "            return num2\n",
    "        else:\n",
    "            return num3\n",
    "\n",
    "result = find_largest(10, 20, 15)\n",
    "print(\"Largest Number:\", result)\n"
   ]
  },
  {
   "cell_type": "code",
   "execution_count": 12,
   "id": "676a53ca-b947-48c8-9d05-d8f0c1884619",
   "metadata": {},
   "outputs": [
    {
     "name": "stdout",
     "output_type": "stream",
     "text": [
      "Triangle Type: Equilateral Triangle\n"
     ]
    }
   ],
   "source": [
    "def triangle_type(side1, side2, side3):\n",
    "    if side1 == side2 == side3:\n",
    "        return \"Equilateral Triangle\"\n",
    "    elif side1 == side2 or side1 == side3 or side2 == side3:\n",
    "        return \"Isosceles Triangle\"\n",
    "    else:\n",
    "        return \"Scalene Triangle\"\n",
    "\n",
    "triangle = triangle_type(5, 5, 5)\n",
    "print(\"Triangle Type:\", triangle)\n"
   ]
  },
  {
   "cell_type": "code",
   "execution_count": 13,
   "id": "011a090b-d4f1-4c4d-a29e-9bcaa425590b",
   "metadata": {},
   "outputs": [
    {
     "name": "stdout",
     "output_type": "stream",
     "text": [
      "Year Type: Leap Century Year\n"
     ]
    }
   ],
   "source": [
    "def check_leap_century(year):\n",
    "    if (year % 4 == 0 and year % 100 != 0) or (year % 400 == 0):\n",
    "        if year % 100 == 0:\n",
    "            return \"Leap Century Year\"\n",
    "        else:\n",
    "            return \"Leap Year\"\n",
    "    else:\n",
    "        return \"Not a Leap Year\"\n",
    "\n",
    "year = 2000\n",
    "result = check_leap_century(year)\n",
    "print(\"Year Type:\", result)\n"
   ]
  },
  {
   "cell_type": "code",
   "execution_count": 14,
   "id": "dcf0552d-148a-4ef6-a2e5-bc373b33c879",
   "metadata": {},
   "outputs": [
    {
     "name": "stdout",
     "output_type": "stream",
     "text": [
      "Number Type: Positive\n"
     ]
    }
   ],
   "source": [
    "def check_number(num):\n",
    "    if num > 0:\n",
    "        return \"Positive\"\n",
    "    elif num < 0:\n",
    "        return \"Negative\"\n",
    "    else:\n",
    "        return \"Zero\"\n",
    "\n",
    "result = check_number(5)\n",
    "print(\"Number Type:\", result)\n"
   ]
  },
  {
   "cell_type": "code",
   "execution_count": 15,
   "id": "05caee49-21dc-473e-9b2e-50ea20fe833b",
   "metadata": {},
   "outputs": [
    {
     "name": "stdout",
     "output_type": "stream",
     "text": [
      "Age Type: Teenager\n"
     ]
    }
   ],
   "source": [
    "def check_teenager(age):\n",
    "    if age >= 13 and age <= 19:\n",
    "        return \"Teenager\"\n",
    "    else:\n",
    "        return \"Not a Teenager\"\n",
    "\n",
    "person_age = 16\n",
    "result = check_teenager(person_age)\n",
    "print(\"Age Type:\", result)\n"
   ]
  },
  {
   "cell_type": "code",
   "execution_count": 16,
   "id": "e2f19e40-b447-4ab4-b90d-b5c9118a1b2d",
   "metadata": {},
   "outputs": [
    {
     "name": "stdout",
     "output_type": "stream",
     "text": [
      "Angle Type: Obtuse Angle\n"
     ]
    }
   ],
   "source": [
    "def angle_type(angle):\n",
    "    if angle < 90:\n",
    "        return \"Acute Angle\"\n",
    "    elif angle == 90:\n",
    "        return \"Right Angle\"\n",
    "    else:\n",
    "        return \"Obtuse Angle\"\n",
    "\n",
    "angle_measure = 110\n",
    "result = angle_type(angle_measure)\n",
    "print(\"Angle Type:\", result)\n"
   ]
  },
  {
   "cell_type": "code",
   "execution_count": 17,
   "id": "8e754861-dc38-4c8e-b90f-8d35c60052af",
   "metadata": {},
   "outputs": [
    {
     "name": "stdout",
     "output_type": "stream",
     "text": [
      "Quadratic Roots: (2.0, 1.0)\n"
     ]
    }
   ],
   "source": [
    "import math\n",
    "\n",
    "def quadratic_roots(a, b, c):\n",
    "    discriminant = b**2 - 4*a*c\n",
    "    if discriminant > 0:\n",
    "        root1 = (-b + math.sqrt(discriminant)) / (2*a)\n",
    "        root2 = (-b - math.sqrt(discriminant)) / (2*a)\n",
    "        return root1, root2\n",
    "    elif discriminant == 0:\n",
    "        root = -b / (2*a)\n",
    "        return root, root\n",
    "    else:\n",
    "        return \"Complex Roots\"\n",
    "\n",
    "a_coefficient = 1\n",
    "b_coefficient = -3\n",
    "c_constant = 2\n",
    "roots = quadratic_roots(a_coefficient, b_coefficient, c_constant)\n",
    "print(\"Quadratic Roots:\", roots)\n"
   ]
  },
  {
   "cell_type": "code",
   "execution_count": 18,
   "id": "f0d27a9a-4c6b-4dca-8b8e-69700da10a8c",
   "metadata": {},
   "outputs": [
    {
     "name": "stdout",
     "output_type": "stream",
     "text": [
      "Day of the Week: Wednesday\n"
     ]
    }
   ],
   "source": [
    "def day_of_week(number):\n",
    "    days = [\"Monday\", \"Tuesday\", \"Wednesday\", \"Thursday\", \"Friday\", \"Saturday\", \"Sunday\"]\n",
    "    if number >= 1 and number <= 7:\n",
    "        return days[number-1]\n",
    "    else:\n",
    "        return \"Invalid Day\"\n",
    "\n",
    "day_number = 3\n",
    "result = day_of_week(day_number)\n",
    "print(\"Day of the Week:\", result)\n"
   ]
  },
  {
   "cell_type": "code",
   "execution_count": 19,
   "id": "a88d0d6e-f907-409f-8490-d2a4a42a28df",
   "metadata": {},
   "outputs": [
    {
     "name": "stdout",
     "output_type": "stream",
     "text": [
      "Year Type: Leap Year\n"
     ]
    }
   ],
   "source": [
    "def check_leap_year(year):\n",
    "    if (year % 4 == 0 and year % 100 != 0) or (year % 400 == 0):\n",
    "        return \"Leap Year\"\n",
    "    else:\n",
    "        return \"Not a Leap Year\"\n",
    "\n",
    "year = 2000\n",
    "result = check_leap_year(year)\n",
    "print(\"Year Type:\", result)\n"
   ]
  },
  {
   "cell_type": "code",
   "execution_count": 20,
   "id": "c009fcf7-7c04-4f03-b167-23a4807b61ae",
   "metadata": {},
   "outputs": [
    {
     "name": "stdout",
     "output_type": "stream",
     "text": [
      "Prime Status: Prime\n"
     ]
    }
   ],
   "source": [
    "def check_prime(number):\n",
    "    if number <= 1:\n",
    "        return \"Not Prime\"\n",
    "    elif number <= 3:\n",
    "        return \"Prime\"\n",
    "    elif number % 2 == 0 or number % 3 == 0:\n",
    "        return \"Not Prime\"\n",
    "    else:\n",
    "        i = 5\n",
    "        while i * i <= number:\n",
    "            if number % i == 0 or number % (i + 2) == 0:\n",
    "                return \"Not Prime\"\n",
    "            i += 6\n",
    "        return \"Prime\"\n",
    "\n",
    "num = 17\n",
    "result = check_prime(num)\n",
    "print(\"Prime Status:\", result)\n"
   ]
  },
  {
   "cell_type": "markdown",
   "id": "bddf8818-b37a-4cae-8d6b-fb8eb98c66fc",
   "metadata": {},
   "source": [
    "21. Write a Python program to assign grades based on different ranges of scores using elif statements.\n",
    "22. Implement a program to determine the type of a triangle based on its angles.\n",
    "23. Develop a program to categorize a given person's BMI into underweight, normal, overweight, or obese using\n",
    "elif statements.\n",
    "24. Create a program that determines whether a given number is positive, negative, or zero using elif\n",
    "statements.\n",
    "25. Write a Python script to determine the type of a character (uppercase, lowercase, or special) using elif\n",
    "statements.\n",
    "26. Implement a program to calculate the discounted price based on different purchase amounts using elif\n",
    "statements.\n",
    "27. Develop a program to calculate the electricity bill based on different consumption slabs using elif\n",
    "statements.\n",
    "28. Create a program to determine the type of quadrilateral based on its angles and sides using elif\n",
    "statements.\n",
    "29. Write a Python script to determine the season based on a user-provided month using elif statements.\n",
    "30. Implement a program to determine the type of a year (leap or common) and month (30 or 31 days) using\n",
    "elif statements."
   ]
  },
  {
   "cell_type": "code",
   "execution_count": 21,
   "id": "543eb8a9-987f-494e-916c-54329395bfbb",
   "metadata": {},
   "outputs": [
    {
     "name": "stdout",
     "output_type": "stream",
     "text": [
      "Grade: B\n"
     ]
    }
   ],
   "source": [
    "def assign_grade(score):\n",
    "    if score >= 90:\n",
    "        return \"A\"\n",
    "    elif score >= 80:\n",
    "        return \"B\"\n",
    "    elif score >= 70:\n",
    "        return \"C\"\n",
    "    elif score >= 60:\n",
    "        return \"D\"\n",
    "    else:\n",
    "        return \"F\"\n",
    "\n",
    "student_score = 85\n",
    "grade = assign_grade(student_score)\n",
    "print(\"Grade:\", grade)\n"
   ]
  },
  {
   "cell_type": "code",
   "execution_count": 22,
   "id": "17f94f6b-63f5-422f-8749-6d21fa0f0a0a",
   "metadata": {},
   "outputs": [
    {
     "name": "stdout",
     "output_type": "stream",
     "text": [
      "Triangle Type: Equilateral Triangle\n"
     ]
    }
   ],
   "source": [
    "def triangle_type(angle1, angle2, angle3):\n",
    "    if angle1 + angle2 + angle3 == 180:\n",
    "        if angle1 == angle2 == angle3:\n",
    "            return \"Equilateral Triangle\"\n",
    "        elif angle1 != angle2 != angle3:\n",
    "            return \"Scalene Triangle\"\n",
    "        else:\n",
    "            return \"Isosceles Triangle\"\n",
    "    else:\n",
    "        return \"Invalid Triangle\"\n",
    "\n",
    "angle_a = 60\n",
    "angle_b = 60\n",
    "angle_c = 60\n",
    "result = triangle_type(angle_a, angle_b, angle_c)\n",
    "print(\"Triangle Type:\", result)\n"
   ]
  },
  {
   "cell_type": "code",
   "execution_count": 23,
   "id": "2cbe3c6c-dbd0-42fb-97ac-3283aa12df04",
   "metadata": {},
   "outputs": [
    {
     "name": "stdout",
     "output_type": "stream",
     "text": [
      "BMI Category: Overweight\n"
     ]
    }
   ],
   "source": [
    "def bmi_category(bmi):\n",
    "    if bmi < 18.5:\n",
    "        return \"Underweight\"\n",
    "    elif bmi < 25:\n",
    "        return \"Normal\"\n",
    "    elif bmi < 30:\n",
    "        return \"Overweight\"\n",
    "    else:\n",
    "        return \"Obese\"\n",
    "\n",
    "person_bmi = 26.5\n",
    "category = bmi_category(person_bmi)\n",
    "print(\"BMI Category:\", category)\n"
   ]
  },
  {
   "cell_type": "code",
   "execution_count": 24,
   "id": "e03769fc-64aa-4210-a498-2bdced96eb52",
   "metadata": {},
   "outputs": [
    {
     "name": "stdout",
     "output_type": "stream",
     "text": [
      "Number Type: Negative\n"
     ]
    }
   ],
   "source": [
    "def check_number(num):\n",
    "    if num > 0:\n",
    "        return \"Positive\"\n",
    "    elif num < 0:\n",
    "        return \"Negative\"\n",
    "    else:\n",
    "        return \"Zero\"\n",
    "\n",
    "number = -5\n",
    "result = check_number(number)\n",
    "print(\"Number Type:\", result)\n"
   ]
  },
  {
   "cell_type": "code",
   "execution_count": 25,
   "id": "f7c1d8d7-a354-4eb1-9dcf-66fa17d86823",
   "metadata": {},
   "outputs": [
    {
     "name": "stdout",
     "output_type": "stream",
     "text": [
      "Character Type: Special Character\n"
     ]
    }
   ],
   "source": [
    "def char_type(char):\n",
    "    if char.isupper():\n",
    "        return \"Uppercase\"\n",
    "    elif char.islower():\n",
    "        return \"Lowercase\"\n",
    "    else:\n",
    "        return \"Special Character\"\n",
    "\n",
    "character = '!'\n",
    "char_category = char_type(character)\n",
    "print(\"Character Type:\", char_category)\n"
   ]
  },
  {
   "cell_type": "code",
   "execution_count": 26,
   "id": "9dc7f78f-34a6-4433-b123-30d22029bbd2",
   "metadata": {},
   "outputs": [
    {
     "name": "stdout",
     "output_type": "stream",
     "text": [
      "Discounted Price: 1080.0\n"
     ]
    }
   ],
   "source": [
    "def calculate_discount(price):\n",
    "    if price >= 1000:\n",
    "        discount = 0.1 * price\n",
    "    elif price >= 500:\n",
    "        discount = 0.05 * price\n",
    "    else:\n",
    "        discount = 0\n",
    "    return price - discount\n",
    "\n",
    "purchase_amount = 1200\n",
    "final_price = calculate_discount(purchase_amount)\n",
    "print(\"Discounted Price:\", final_price)\n"
   ]
  },
  {
   "cell_type": "code",
   "execution_count": 27,
   "id": "2b59f788-7bc2-4a80-998c-010035c71b9d",
   "metadata": {},
   "outputs": [
    {
     "name": "stdout",
     "output_type": "stream",
     "text": [
      "Electricity Bill: 450.0\n"
     ]
    }
   ],
   "source": [
    "def calculate_bill(units):\n",
    "    if units <= 100:\n",
    "        bill = units * 2.5\n",
    "    elif units <= 200:\n",
    "        bill = 100 * 2.5 + (units - 100) * 4\n",
    "    else:\n",
    "        bill = 100 * 2.5 + 100 * 4 + (units - 200) * 6\n",
    "    return bill\n",
    "\n",
    "consumed_units = 150\n",
    "total_bill = calculate_bill(consumed_units)\n",
    "print(\"Electricity Bill:\", total_bill)\n"
   ]
  },
  {
   "cell_type": "code",
   "execution_count": 28,
   "id": "c0893590-2751-4b20-8e03-c5197e4a8180",
   "metadata": {},
   "outputs": [
    {
     "name": "stdout",
     "output_type": "stream",
     "text": [
      "Quadrilateral Type: Square\n"
     ]
    }
   ],
   "source": [
    "def quadrilateral_type(side1, side2, side3, side4, angle1, angle2, angle3, angle4):\n",
    "    if side1 == side2 == side3 == side4:\n",
    "        return \"Square\"\n",
    "    elif side1 == side3 and side2 == side4:\n",
    "        if angle1 == angle2 == angle3 == angle4 == 90:\n",
    "            return \"Rectangle\"\n",
    "        else:\n",
    "            return \"Rhombus\"\n",
    "    else:\n",
    "        return \"Quadrilateral\"\n",
    "\n",
    "result = quadrilateral_type(5, 5, 5, 5, 90, 90, 90, 90)\n",
    "print(\"Quadrilateral Type:\", result)\n"
   ]
  },
  {
   "cell_type": "code",
   "execution_count": 29,
   "id": "5e62e47e-139d-46c2-8a0d-01abee036bdb",
   "metadata": {},
   "outputs": [
    {
     "name": "stdout",
     "output_type": "stream",
     "text": [
      "Season: Autumn\n"
     ]
    }
   ],
   "source": [
    "def get_season(month):\n",
    "    if month in [12, 1, 2]:\n",
    "        return \"Winter\"\n",
    "    elif month in [3, 4, 5]:\n",
    "        return \"Spring\"\n",
    "    elif month in [6, 7, 8]:\n",
    "        return \"Summer\"\n",
    "    elif month in [9, 10, 11]:\n",
    "        return \"Autumn\"\n",
    "    else:\n",
    "        return \"Invalid Month\"\n",
    "\n",
    "input_month = 9\n",
    "season = get_season(input_month)\n",
    "print(\"Season:\", season)\n"
   ]
  },
  {
   "cell_type": "code",
   "execution_count": 30,
   "id": "b74c9d83-c42d-48df-b709-35d98a49ceb2",
   "metadata": {},
   "outputs": [
    {
     "name": "stdout",
     "output_type": "stream",
     "text": [
      "Year Type: Leap Year\n",
      "Days in Month: 29\n"
     ]
    }
   ],
   "source": [
    "def check_year_month(year, month):\n",
    "    if (year % 4 == 0 and year % 100 != 0) or (year % 400 == 0):\n",
    "        year_type = \"Leap Year\"\n",
    "    else:\n",
    "        year_type = \"Common Year\"\n",
    "\n",
    "    if month in [1, 3, 5, 7, 8, 10, 12]:\n",
    "        days = 31\n",
    "    elif month in [4, 6, 9, 11]:\n",
    "        days = 30\n",
    "    else:\n",
    "        days = 28 if year_type == \"Common Year\" else 29\n",
    "\n",
    "    return year_type, days\n",
    "\n",
    "input_year = 2024\n",
    "input_month = 2\n",
    "year_category, days_in_month = check_year_month(input_year, input_month)\n",
    "print(\"Year Type:\", year_category)\n",
    "print(\"Days in Month:\", days_in_month)\n"
   ]
  },
  {
   "cell_type": "markdown",
   "id": "0f670e34-73bf-4744-8af5-0800cce38bfe",
   "metadata": {},
   "source": [
    "1. Write a Python program that checks if a given number is positive, negative, or zero.\n",
    "2. Create a program to determine if a person is eligible to vote based on their age.\n",
    "3. Write a program to find the maximum of two given numbers using conditional statements.\n",
    "4. Develop a program that calculates the grade of a student based on their exam score.\n",
    "5. Create a program that checks if a year is a leap year or not.\n",
    "6. Write a program to classify a triangle based on its sides' lengths.\n",
    "7. Build a program that determines the largest of three given numbers.\n",
    "8. Develop a program that checks whether a character is a vowel or a consonant.\n",
    "9. Create a program to calculate the total cost of a shopping cart based on discounts.\n",
    "10. Write a program that checks if a given number is even or odd."
   ]
  },
  {
   "cell_type": "code",
   "execution_count": 31,
   "id": "4b1084ff-21b6-4aff-9fe6-15de14d43614",
   "metadata": {},
   "outputs": [
    {
     "name": "stdin",
     "output_type": "stream",
     "text": [
      "Enter a number:  13\n"
     ]
    },
    {
     "name": "stdout",
     "output_type": "stream",
     "text": [
      "Number Type: Positive\n"
     ]
    }
   ],
   "source": [
    "def check_number(num):\n",
    "    if num > 0:\n",
    "        return \"Positive\"\n",
    "    elif num < 0:\n",
    "        return \"Negative\"\n",
    "    else:\n",
    "        return \"Zero\"\n",
    "\n",
    "number = float(input(\"Enter a number: \"))\n",
    "result = check_number(number)\n",
    "print(\"Number Type:\", result)\n"
   ]
  },
  {
   "cell_type": "code",
   "execution_count": 32,
   "id": "69a8ec83-2980-4c3f-9867-703c92fef86d",
   "metadata": {},
   "outputs": [
    {
     "name": "stdin",
     "output_type": "stream",
     "text": [
      "Enter your age:  19\n"
     ]
    },
    {
     "name": "stdout",
     "output_type": "stream",
     "text": [
      "Voting Status: Eligible to Vote\n"
     ]
    }
   ],
   "source": [
    "def check_voting_age(age):\n",
    "    if age >= 18:\n",
    "        return \"Eligible to Vote\"\n",
    "    else:\n",
    "        return \"Not Eligible to Vote\"\n",
    "\n",
    "person_age = int(input(\"Enter your age: \"))\n",
    "status = check_voting_age(person_age)\n",
    "print(\"Voting Status:\", status)\n"
   ]
  },
  {
   "cell_type": "code",
   "execution_count": 33,
   "id": "220be913-db29-4e88-b8fe-7c2880bb190e",
   "metadata": {},
   "outputs": [
    {
     "name": "stdin",
     "output_type": "stream",
     "text": [
      "Enter first number:  19\n",
      "Enter second number:  13\n"
     ]
    },
    {
     "name": "stdout",
     "output_type": "stream",
     "text": [
      "Maximum Number: 19.0\n"
     ]
    }
   ],
   "source": [
    "def find_max(num1, num2):\n",
    "    if num1 > num2:\n",
    "        return num1\n",
    "    else:\n",
    "        return num2\n",
    "\n",
    "number1 = float(input(\"Enter first number: \"))\n",
    "number2 = float(input(\"Enter second number: \"))\n",
    "maximum = find_max(number1, number2)\n",
    "print(\"Maximum Number:\", maximum)\n"
   ]
  },
  {
   "cell_type": "code",
   "execution_count": 34,
   "id": "82477683-bff3-4831-a737-cba2dee71887",
   "metadata": {},
   "outputs": [
    {
     "name": "stdin",
     "output_type": "stream",
     "text": [
      "Enter student's score:  100\n"
     ]
    },
    {
     "name": "stdout",
     "output_type": "stream",
     "text": [
      "Grade: A\n"
     ]
    }
   ],
   "source": [
    "def calculate_grade(score):\n",
    "    if score >= 90:\n",
    "        return \"A\"\n",
    "    elif score >= 80:\n",
    "        return \"B\"\n",
    "    elif score >= 70:\n",
    "        return \"C\"\n",
    "    elif score >= 60:\n",
    "        return \"D\"\n",
    "    else:\n",
    "        return \"F\"\n",
    "\n",
    "student_score = float(input(\"Enter student's score: \"))\n",
    "grade = calculate_grade(student_score)\n",
    "print(\"Grade:\", grade)\n"
   ]
  },
  {
   "cell_type": "code",
   "execution_count": 35,
   "id": "3c7063e6-b585-42f0-a939-d9921ca9e4b0",
   "metadata": {},
   "outputs": [
    {
     "name": "stdin",
     "output_type": "stream",
     "text": [
      "Enter a year:  2024\n"
     ]
    },
    {
     "name": "stdout",
     "output_type": "stream",
     "text": [
      "Leap Year Status: Leap Year\n"
     ]
    }
   ],
   "source": [
    "def check_leap_year(year):\n",
    "    if (year % 4 == 0 and year % 100 != 0) or (year % 400 == 0):\n",
    "        return \"Leap Year\"\n",
    "    else:\n",
    "        return \"Not a Leap Year\"\n",
    "\n",
    "input_year = int(input(\"Enter a year: \"))\n",
    "leap_status = check_leap_year(input_year)\n",
    "print(\"Leap Year Status:\", leap_status)\n"
   ]
  },
  {
   "cell_type": "code",
   "execution_count": 36,
   "id": "88614a48-4764-499c-be12-becf6c67fa18",
   "metadata": {},
   "outputs": [
    {
     "name": "stdin",
     "output_type": "stream",
     "text": [
      "Enter length of side A:  16\n",
      "Enter length of side B:  50\n",
      "Enter length of side C:  58\n"
     ]
    },
    {
     "name": "stdout",
     "output_type": "stream",
     "text": [
      "Triangle Type: Scalene Triangle\n"
     ]
    }
   ],
   "source": [
    "def triangle_type(side1, side2, side3):\n",
    "    if side1 == side2 == side3:\n",
    "        return \"Equilateral Triangle\"\n",
    "    elif side1 != side2 != side3:\n",
    "        return \"Scalene Triangle\"\n",
    "    else:\n",
    "        return \"Isosceles Triangle\"\n",
    "\n",
    "a = float(input(\"Enter length of side A: \"))\n",
    "b = float(input(\"Enter length of side B: \"))\n",
    "c = float(input(\"Enter length of side C: \"))\n",
    "triangle = triangle_type(a, b, c)\n",
    "print(\"Triangle Type:\", triangle)\n"
   ]
  },
  {
   "cell_type": "code",
   "execution_count": 37,
   "id": "4fdf84fd-21c6-4d65-8f86-1a8e458e8b39",
   "metadata": {},
   "outputs": [
    {
     "name": "stdin",
     "output_type": "stream",
     "text": [
      "Enter first number:  56\n",
      "Enter second number:  51\n",
      "Enter third number:  78\n"
     ]
    },
    {
     "name": "stdout",
     "output_type": "stream",
     "text": [
      "Largest Number: 78.0\n"
     ]
    }
   ],
   "source": [
    "def find_largest(num1, num2, num3):\n",
    "    if num1 >= num2 and num1 >= num3:\n",
    "        return num1\n",
    "    elif num2 >= num1 and num2 >= num3:\n",
    "        return num2\n",
    "    else:\n",
    "        return num3\n",
    "\n",
    "number1 = float(input(\"Enter first number: \"))\n",
    "number2 = float(input(\"Enter second number: \"))\n",
    "number3 = float(input(\"Enter third number: \"))\n",
    "largest = find_largest(number1, number2, number3)\n",
    "print(\"Largest Number:\", largest)\n"
   ]
  },
  {
   "cell_type": "code",
   "execution_count": 38,
   "id": "a176ade4-6d9e-498b-8084-263c355f8d6d",
   "metadata": {},
   "outputs": [
    {
     "name": "stdin",
     "output_type": "stream",
     "text": [
      "Enter a character:  lavanya\n"
     ]
    },
    {
     "name": "stdout",
     "output_type": "stream",
     "text": [
      "Character Type: Consonant\n"
     ]
    }
   ],
   "source": [
    "def check_character_type(char):\n",
    "    if char.isalpha():\n",
    "        if char.lower() in ['a', 'e', 'i', 'o', 'u']:\n",
    "            return \"Vowel\"\n",
    "        else:\n",
    "            return \"Consonant\"\n",
    "    else:\n",
    "        return \"Not a Letter\"\n",
    "\n",
    "character = input(\"Enter a character: \")\n",
    "char_type = check_character_type(character)\n",
    "print(\"Character Type:\", char_type)\n"
   ]
  },
  {
   "cell_type": "code",
   "execution_count": 39,
   "id": "527f3d38-aaf5-4058-990c-e5d79d5f7d2d",
   "metadata": {},
   "outputs": [
    {
     "name": "stdin",
     "output_type": "stream",
     "text": [
      "Enter item price:  100\n",
      "Enter item quantity:  2\n"
     ]
    },
    {
     "name": "stdout",
     "output_type": "stream",
     "text": [
      "Total Cost: 200.0\n"
     ]
    }
   ],
   "source": [
    "def calculate_total_cost(price, quantity):\n",
    "    if quantity >= 10:\n",
    "        discount = 0.1 * price * quantity\n",
    "    else:\n",
    "        discount = 0\n",
    "    return price * quantity - discount\n",
    "\n",
    "item_price = float(input(\"Enter item price: \"))\n",
    "item_quantity = int(input(\"Enter item quantity: \"))\n",
    "total_cost = calculate_total_cost(item_price, item_quantity)\n",
    "print(\"Total Cost:\", total_cost)\n"
   ]
  },
  {
   "cell_type": "code",
   "execution_count": 40,
   "id": "aa28e9e3-7266-44f9-ada0-aca919b5191d",
   "metadata": {},
   "outputs": [
    {
     "name": "stdin",
     "output_type": "stream",
     "text": [
      "Enter a number:  45\n"
     ]
    },
    {
     "name": "stdout",
     "output_type": "stream",
     "text": [
      "Number Type: Odd\n"
     ]
    }
   ],
   "source": [
    "def check_even_odd(num):\n",
    "    if num % 2 == 0:\n",
    "        return \"Even\"\n",
    "    else:\n",
    "        return \"Odd\"\n",
    "\n",
    "number = int(input(\"Enter a number: \"))\n",
    "result = check_even_odd(number)\n",
    "print(\"Number Type:\", result)\n"
   ]
  },
  {
   "cell_type": "markdown",
   "id": "4fc09c1c-0827-4a51-aec8-a9d261852a6d",
   "metadata": {},
   "source": [
    "11. Write a program that calculates the roots of a quadratic equation .\n",
    "12. Create a program that determines the day of the week based on the day number (1-7).\n",
    "13. Develop a program that calculates the factorial of a given number using recursion.\n",
    "14. Write a program to find the largest among three numbers without using the `max()` function.\n",
    "15. Create a program that simulates a basic ATM transaction menu.\n",
    "16. Build a program that checks if a given string is a palindrome or not.\n",
    "17. Write a program that calculates the average of a list of numbers, excluding the smallest and largest values.\n",
    "18. Develop a program that converts a given temperature from Celsius to Fahrenheit.\n",
    "19. Create a program that simulates a basic calculator for addition, subtraction, multiplication, and division.\n",
    "20. Write a program that determines the roots of a cubic equation using the Cardano formula."
   ]
  },
  {
   "cell_type": "code",
   "execution_count": 41,
   "id": "33d325d6-8820-4e48-9ffc-abb6ea8d30be",
   "metadata": {},
   "outputs": [
    {
     "name": "stdin",
     "output_type": "stream",
     "text": [
      "Enter coefficient a:  45\n",
      "Enter coefficient b:  45\n",
      "Enter coefficient c:  45\n"
     ]
    },
    {
     "name": "stdout",
     "output_type": "stream",
     "text": [
      "Roots: ('-0.5 + 0.8660254037844387i', '-0.5 - 0.8660254037844387i')\n"
     ]
    }
   ],
   "source": [
    "import math\n",
    "\n",
    "def quadratic_roots(a, b, c):\n",
    "    discriminant = b**2 - 4*a*c\n",
    "    if discriminant > 0:\n",
    "        root1 = (-b + math.sqrt(discriminant)) / (2*a)\n",
    "        root2 = (-b - math.sqrt(discriminant)) / (2*a)\n",
    "        return root1, root2\n",
    "    elif discriminant == 0:\n",
    "        root = -b / (2*a)\n",
    "        return root, root\n",
    "    else:\n",
    "        real_part = -b / (2*a)\n",
    "        imaginary_part = math.sqrt(abs(discriminant)) / (2*a)\n",
    "        return f\"{real_part} + {imaginary_part}i\", f\"{real_part} - {imaginary_part}i\"\n",
    "\n",
    "a = float(input(\"Enter coefficient a: \"))\n",
    "b = float(input(\"Enter coefficient b: \"))\n",
    "c = float(input(\"Enter coefficient c: \"))\n",
    "roots = quadratic_roots(a, b, c)\n",
    "print(\"Roots:\", roots)\n"
   ]
  },
  {
   "cell_type": "code",
   "execution_count": 42,
   "id": "201a9214-73e7-4812-9fe7-6ed374c1147c",
   "metadata": {},
   "outputs": [
    {
     "name": "stdin",
     "output_type": "stream",
     "text": [
      "Enter day number (1-7):  5\n"
     ]
    },
    {
     "name": "stdout",
     "output_type": "stream",
     "text": [
      "Day of the Week: Friday\n"
     ]
    }
   ],
   "source": [
    "def day_of_week(day_number):\n",
    "    days = [\"Monday\", \"Tuesday\", \"Wednesday\", \"Thursday\", \"Friday\", \"Saturday\", \"Sunday\"]\n",
    "    if 1 <= day_number <= 7:\n",
    "        return days[day_number - 1]\n",
    "    else:\n",
    "        return \"Invalid Day Number\"\n",
    "\n",
    "day_num = int(input(\"Enter day number (1-7): \"))\n",
    "day = day_of_week(day_num)\n",
    "print(\"Day of the Week:\", day)\n"
   ]
  },
  {
   "cell_type": "code",
   "execution_count": 43,
   "id": "e1f9c553-47f9-4d17-ae2f-af7d5400e91f",
   "metadata": {},
   "outputs": [
    {
     "name": "stdin",
     "output_type": "stream",
     "text": [
      "Enter a number:  485\n"
     ]
    },
    {
     "name": "stdout",
     "output_type": "stream",
     "text": [
      "Factorial: 49425938395896911464971977094913528360118823862112456967362016914907452083372100786643522596116183599525566181824243317224327841897209172946469264394066137988808596090671398455412443463548332825353051329756837450364865423098609046525801271832369233383167696643926591777101015846199112025381419727759359828849328532747330864134227027973930544194921608501517797773964485399829622822962822026587945255772603474546393701028683854760989120238000580671504597230922420467329944009602502151706706111402184217477314982571540693972662290813957050543539109221834408319525490924138386530148011645004771562616681252799079960523096449667729231161586754970829295139973189925335159399829626095120409686690838166390015953994575174136063355506394163644518214983600101070047217890593279343004362534028615495675502772898328979786646334551737264442318832561940358935236243383287514611094510676475211314051577839822379286744368992819737650553962087436115991273648357474200317041477888045916513894400000000000000000000000000000000000000000000000000000000000000000000000000000000000000000000000000000000000000000000000\n"
     ]
    }
   ],
   "source": [
    "def factorial(n):\n",
    "    if n == 0 or n == 1:\n",
    "        return 1\n",
    "    else:\n",
    "        return n * factorial(n-1)\n",
    "\n",
    "number = int(input(\"Enter a number: \"))\n",
    "result = factorial(number)\n",
    "print(\"Factorial:\", result)\n"
   ]
  },
  {
   "cell_type": "code",
   "execution_count": 44,
   "id": "8f150764-bf9e-4ecc-88b2-3ada714d43ee",
   "metadata": {},
   "outputs": [
    {
     "name": "stdin",
     "output_type": "stream",
     "text": [
      "Enter first number:  45\n",
      "Enter second number:  45\n",
      "Enter third number:  45\n"
     ]
    },
    {
     "name": "stdout",
     "output_type": "stream",
     "text": [
      "Largest Number: 45.0\n"
     ]
    }
   ],
   "source": [
    "def find_largest(num1, num2, num3):\n",
    "    largest = num1\n",
    "    if num2 > largest:\n",
    "        largest = num2\n",
    "    if num3 > largest:\n",
    "        largest = num3\n",
    "    return largest\n",
    "\n",
    "number1 = float(input(\"Enter first number: \"))\n",
    "number2 = float(input(\"Enter second number: \"))\n",
    "number3 = float(input(\"Enter third number: \"))\n",
    "largest_num = find_largest(number1, number2, number3)\n",
    "print(\"Largest Number:\", largest_num)\n"
   ]
  },
  {
   "cell_type": "code",
   "execution_count": null,
   "id": "24016c9b-3e4b-4ce8-a3ef-668de6ac9640",
   "metadata": {},
   "outputs": [],
   "source": [
    "def is_palindrome(string):\n",
    "    cleaned_string = string.replace(\" \", \"\").lower()\n",
    "    return cleaned_string == cleaned_string[::-1]\n",
    "\n",
    "input_string = input(\"Enter a string: \")\n",
    "if is_palindrome(input_string):\n",
    "    print(\"Palindrome\")\n",
    "else:\n",
    "    print(\"Not a Palindrome\")\n"
   ]
  },
  {
   "cell_type": "code",
   "execution_count": null,
   "id": "953b5f86-8fe4-43ca-9cbc-d40689fcd846",
   "metadata": {},
   "outputs": [],
   "source": [
    "def average_without_extremes(numbers):\n",
    "    if len(numbers) < 3:\n",
    "        return \"Insufficient Data\"\n",
    "    else:\n",
    "        sorted_numbers = sorted(numbers)\n",
    "        return sum(sorted_numbers[1:-1]) / (len(sorted_numbers) - 2)\n",
    "\n",
    "num_list = [float(x) for x in input(\"Enter numbers separated by space: \").split()]\n",
    "average = average_without_extremes(num_list)\n",
    "print(\"Average (Excluding Smallest and Largest):\", average)\n"
   ]
  },
  {
   "cell_type": "code",
   "execution_count": null,
   "id": "7bf547e4-c712-4b78-adcf-c07af07e7bd9",
   "metadata": {},
   "outputs": [],
   "source": [
    "def celsius_to_fahrenheit(celsius):\n",
    "    return (celsius * 9/5) + 32\n",
    "\n",
    "temp_celsius = float(input(\"Enter temperature in Celsius: \"))\n",
    "temp_fahrenheit = celsius_to_fahrenheit(temp_celsius)\n",
    "print(\"Temperature in Fahrenheit:\", temp_fahrenheit)\n"
   ]
  },
  {
   "cell_type": "code",
   "execution_count": null,
   "id": "d36b423c-17b4-40ef-ae13-276e0227a1d7",
   "metadata": {},
   "outputs": [],
   "source": [
    "def calculator():\n",
    "    print(\"1. Addition\")\n",
    "    print(\"2. Subtraction\")\n",
    "    print(\"3. Multiplication\")\n",
    "    print(\"4. Division\")\n",
    "\n",
    "calculator()\n",
    "operation = input(\"Enter operation number (1-4): \")\n",
    "num1 = float(input(\"Enter first number: \"))\n",
    "num2 = float(input(\"Enter second number: \"))\n",
    "\n",
    "if operation == \"1\":\n",
    "    result = num1 + num2\n",
    "elif operation == \"2\":\n",
    "    result = num1 - num2\n",
    "elif operation == \"3\":\n",
    "    result = num1 * num2\n",
    "elif operation == \"4\":\n",
    "    if num2 != 0:\n",
    "        result = num1 / num2\n",
    "    else:\n",
    "        result = \"Division by zero not allowed\"\n",
    "else:\n",
    "    result = \"Invalid Operation\"\n",
    "\n",
    "print(\"Result:\", result)\n"
   ]
  },
  {
   "cell_type": "markdown",
   "id": "3e27607c-bb4f-4f67-a4fc-9de27e1f9943",
   "metadata": {},
   "source": [
    "21. Create a program that calculates the income tax based on the user's income and tax brackets.\n",
    "22. Write a program that simulates a rock-paper-scissors game against the computer.\n",
    "23. Develop a program that generates a random password based on user preferences (length, complexity).\n",
    "24. Create a program that implements a simple text-based adventure game with branching scenarios.\n",
    "25. Build a program that solves a linear equation for x, considering different cases.\n",
    "26. Write a program that simulates a basic quiz game with multiple-choice questions and scoring.\n",
    "27. Develop a program that determines whether a given year is a prime number or not.\n",
    "28. Create a program that sorts three numbers in ascending order using conditional statements.\n",
    "29. Build a program that determines the roots of a quartic equation using numerical methods.\n",
    "30. Write a program that calculates the BMI (Body Mass Index) and provides health recommendations based\n",
    "on the user's input."
   ]
  },
  {
   "cell_type": "code",
   "execution_count": null,
   "id": "613afff1-8cf9-41d5-81ab-290c55013164",
   "metadata": {},
   "outputs": [],
   "source": [
    "def calculate_income_tax(income):\n",
    "    if income <= 0:\n",
    "        return \"Invalid Income\"\n",
    "    elif income <= 18200:\n",
    "        tax = 0\n",
    "    elif income <= 45000:\n",
    "        tax = (income - 18200) * 0.19\n",
    "    elif income <= 120000:\n",
    "        tax = 5092 + (income - 45000) * 0.32\n",
    "    else:\n",
    "        tax = 29467 + (income - 120000) * 0.37\n",
    "    return tax\n",
    "\n",
    "income_amount = float(input(\"Enter your annual income: \"))\n",
    "income_tax = calculate_income_tax(income_amount)\n",
    "print(\"Income Tax:\", income_tax)\n"
   ]
  },
  {
   "cell_type": "code",
   "execution_count": null,
   "id": "e784f699-8a0f-400f-a861-dbb8559515ec",
   "metadata": {},
   "outputs": [],
   "source": [
    "import random\n",
    "\n",
    "def play_game(player_choice, computer_choice):\n",
    "    if player_choice == computer_choice:\n",
    "        return \"It's a tie!\"\n",
    "    elif (player_choice == \"rock\" and computer_choice == \"scissors\") or \\\n",
    "         (player_choice == \"paper\" and computer_choice == \"rock\") or \\\n",
    "         (player_choice == \"scissors\" and computer_choice == \"paper\"):\n",
    "        return \"You win!\"\n",
    "    else:\n",
    "        return \"Computer wins!\"\n",
    "\n",
    "choices = [\"rock\", \"paper\", \"scissors\"]\n",
    "computer_choice = random.choice(choices)\n",
    "player_choice = input(\"Enter your choice (rock, paper, scissors): \").lower()\n",
    "result = play_game(player_choice, computer_choice)\n",
    "print(f\"Computer's choice: {computer_choice}\")\n",
    "print(result)\n"
   ]
  },
  {
   "cell_type": "code",
   "execution_count": null,
   "id": "63345b3d-46f5-40e9-9f95-94b7d8525857",
   "metadata": {},
   "outputs": [],
   "source": [
    "import string\n",
    "import random\n",
    "\n",
    "def generate_password(length, complexity):\n",
    "    if complexity == \"low\":\n",
    "        characters = string.ascii_letters + string.digits\n",
    "    elif complexity == \"medium\":\n",
    "        characters = string.ascii_letters + string.digits + string.punctuation\n",
    "    else:\n",
    "        characters = string.ascii_letters + string.digits + string.punctuation + string.whitespace\n",
    "    password = ''.join(random.choice(characters) for _ in range(length))\n",
    "    return password\n",
    "\n",
    "password_length = int(input(\"Enter password length: \"))\n",
    "password_complexity = input(\"Enter password complexity (low, medium, high): \").lower()\n",
    "password = generate_password(password_length, password_complexity)\n",
    "print(\"Generated Password:\", password)\n"
   ]
  },
  {
   "cell_type": "code",
   "execution_count": null,
   "id": "341031c5-53c5-4c02-8517-bf105761d696",
   "metadata": {},
   "outputs": [],
   "source": [
    "def adventure_game():\n",
    "    print(\"Welcome to the Adventure Game!\")\n",
    "    print(\"You are in a dark forest.\")\n",
    "    choice = input(\"Do you go left or right? \").lower()\n",
    "    if choice == \"left\":\n",
    "        print(\"You encounter a bear. Run or fight?\")\n",
    "        action = input(\"Run or fight? \").lower()\n",
    "        if action == \"run\":\n",
    "            print(\"You escaped!\")\n",
    "        else:\n",
    "            print(\"The bear defeated you. Game Over!\")\n",
    "    elif choice == \"right\":\n",
    "        print(\"You find a treasure chest. Open it or leave?\")\n",
    "        action = input(\"Open or leave? \").lower()\n",
    "        if action == \"open\":\n",
    "            print(\"You found a treasure! Congratulations!\")\n",
    "        else:\n",
    "            print(\"You missed out on a treasure.\")\n",
    "    else:\n",
    "        print(\"Invalid choice. Game Over!\")\n",
    "\n",
    "adventure_game()\n"
   ]
  },
  {
   "cell_type": "code",
   "execution_count": null,
   "id": "1d10b494-813a-47ec-878d-1ea1edcb15d9",
   "metadata": {},
   "outputs": [],
   "source": [
    "def solve_linear_equation(a, b):\n",
    "    if a == 0:\n",
    "        if b == 0:\n",
    "            return \"Infinite solutions (Identity Equation)\"\n",
    "        else:\n",
    "            return \"No solution (Impossible Equation)\"\n",
    "    else:\n",
    "        x = -b / a\n",
    "        return x\n",
    "\n",
    "coeff_a = float(input(\"Enter coefficient a: \"))\n",
    "coeff_b = float(input(\"Enter coefficient b: \"))\n",
    "solution = solve_linear_equation(coeff_a, coeff_b)\n",
    "print(\"Solution for x:\", solution)\n"
   ]
  },
  {
   "cell_type": "code",
   "execution_count": null,
   "id": "f0a84d4a-cb0e-4359-be6c-1fd031b8f5a4",
   "metadata": {},
   "outputs": [],
   "source": [
    "def quiz_game(questions, answers):\n",
    "    score = 0\n",
    "    for i, question in enumerate(questions):\n",
    "        print(f\"Question {i+1}: {question}\")\n",
    "        user_answer = input(\"Your answer: \").lower()\n",
    "        if user_answer == answers[i]:\n",
    "            score += 1\n",
    "            print(\"Correct!\")\n",
    "        else:\n",
    "            print(\"Incorrect!\")\n",
    "    return score\n",
    "\n",
    "questions_list = [\"What is the capital of France?\", \"What is 2 + 2?\", \"Who wrote Hamlet?\"]\n",
    "answers_list = [\"paris\", \"4\", \"shakespeare\"]\n",
    "total_score = quiz_game(questions_list, answers_list)\n",
    "print(\"Total Score:\", total_score)\n"
   ]
  },
  {
   "cell_type": "code",
   "execution_count": null,
   "id": "a2b12d99-09d5-4aa7-9552-6edc79c316d0",
   "metadata": {},
   "outputs": [],
   "source": [
    "def is_prime(year):\n",
    "    if year <= 1:\n",
    "        return False\n",
    "    for i in range(2, int(year**0.5) + 1):\n",
    "        if year % i == 0:\n",
    "            return False\n",
    "    return True\n",
    "\n",
    "input_year = int(input(\"Enter a year to check if it's prime: \"))\n",
    "if is_prime(input_year):\n",
    "    print(f\"{input_year} is a prime year.\")\n",
    "else:\n",
    "    print(f\"{input_year} is not a prime year.\")\n"
   ]
  },
  {
   "cell_type": "code",
   "execution_count": null,
   "id": "76768edd-27ec-413c-8179-3b2ae79f1990",
   "metadata": {},
   "outputs": [],
   "source": [
    "def sort_numbers(a, b, c):\n",
    "    if a <= b <= c:\n",
    "        return a, b, c\n",
    "    elif a <= c <= b:\n",
    "        return a, c, b\n",
    "    elif b <= a <= c:\n",
    "        return b, a, c\n",
    "    elif b <= c <= a:\n",
    "        return b, c, a\n",
    "    elif c <= a <= b:\n",
    "        return c, a, b\n",
    "    else:\n",
    "        return c, b, a\n",
    "\n",
    "num1 = float(input(\"Enter first number: \"))\n",
    "num2 = float(input(\"Enter second number: \"))\n",
    "num3 = float(input(\"Enter third number: \"))\n",
    "sorted_numbers = sort_numbers(num1, num2, num3)\n",
    "print(\"Sorted Numbers:\", sorted_numbers)\n"
   ]
  },
  {
   "cell_type": "code",
   "execution_count": null,
   "id": "87226f4f-3f59-4aa2-91e4-f1e8126b5d08",
   "metadata": {},
   "outputs": [],
   "source": [
    "def calculate_bmi(weight, height):\n",
    "    bmi = weight / (height ** 2)\n",
    "    return bmi\n",
    "\n",
    "def bmi_recommendations(bmi):\n",
    "    if bmi < 18.5:\n",
    "        return \"Underweight - You may need to gain weight.\"\n",
    "    elif 18.5 <= bmi < 24.9:\n",
    "        return \"Normal Weight - Maintain a healthy lifestyle.\"\n",
    "    elif 25.0 <= bmi < 29.9:\n",
    "        return \"Overweight - Consider weight loss strategies.\"\n",
    "    else:\n",
    "        return \"Obese - Consult a healthcare professional.\"\n",
    "\n",
    "weight_input = float(input(\"Enter your weight in kilograms: \"))\n",
    "height_input = float(input(\"Enter your height in meters: \"))\n",
    "user_bmi = calculate_bmi(weight_input, height_input)\n",
    "recommendations = bmi_recommendations(user_bmi)\n",
    "print(f\"Your BMI is {user_bmi:.2f}. {recommendations}\")\n"
   ]
  },
  {
   "cell_type": "markdown",
   "id": "76ad08e8-a6a2-40fb-af64-06f7dfac0738",
   "metadata": {},
   "source": [
    "31. Create a program that validates a password based on complexity rules (length, characters, etc.).\n",
    "32. Develop a program that performs matrix addition and subtraction based on user input.\n",
    "33. Write a program that calculates the greatest common divisor (GCD) of two numbers using the Euclidean\n",
    "algorithm.\n",
    "34. Build a program that performs matrix multiplication using nested loops and conditional statements.\n",
    "35. Create a program that simulates a basic text-based tic-tac-toe game against the computer.\n",
    "36. Write a program that generates Fibonacci numbers up to a specified term using iterative methods.\n",
    "37. Develop a program that calculates the nth term of the Fibonacci sequence using memoization.\n",
    "38. Create a program that generates a calendar for a given month and year using conditional statements.\n",
    "39. Build a program that simulates a basic text-based blackjack game against the computer.\n",
    "40. Write a program that generates the prime factors of a given number using trial division."
   ]
  },
  {
   "cell_type": "code",
   "execution_count": null,
   "id": "d2733808-2981-43b4-a310-14d3ee13efd8",
   "metadata": {},
   "outputs": [],
   "source": [
    "def validate_password(password):\n",
    "    if len(password) < 8:\n",
    "        return \"Password should be at least 8 characters long.\"\n",
    "    if not any(char.isdigit() for char in password):\n",
    "        return \"Password should contain at least one digit.\"\n",
    "    if not any(char.isalpha() for char in password):\n",
    "        return \"Password should contain at least one letter.\"\n",
    "    return \"Password is valid.\"\n",
    "\n",
    "user_password = input(\"Enter your password: \")\n",
    "validation_result = validate_password(user_password)\n",
    "print(validation_result)\n"
   ]
  },
  {
   "cell_type": "code",
   "execution_count": null,
   "id": "8652ca8f-bfd8-425b-bd21-4c3f6cdf6e30",
   "metadata": {},
   "outputs": [],
   "source": [
    "def matrix_addition(matrix1, matrix2):\n",
    "    result = [[matrix1[i][j] + matrix2[i][j] for j in range(len(matrix1[0]))] for i in range(len(matrix1))]\n",
    "    return result\n",
    "\n",
    "def matrix_subtraction(matrix1, matrix2):\n",
    "    result = [[matrix1[i][j] - matrix2[i][j] for j in range(len(matrix1[0]))] for i in range(len(matrix1))]\n",
    "    return result\n",
    "\n",
    "matrix1 = [[1, 2], [3, 4]]\n",
    "matrix2 = [[5, 6], [7, 8]]\n",
    "print(\"Matrix Addition:\", matrix_addition(matrix1, matrix2))\n",
    "print(\"Matrix Subtraction:\", matrix_subtraction(matrix1, matrix2))\n"
   ]
  },
  {
   "cell_type": "code",
   "execution_count": null,
   "id": "6438ef28-7dc8-42b2-ab8a-b15a7753e272",
   "metadata": {},
   "outputs": [],
   "source": [
    "def gcd_euclidean(a, b):\n",
    "    while b:\n",
    "        a, b = b, a % b\n",
    "    return a\n",
    "\n",
    "num1 = int(input(\"Enter the first number: \"))\n",
    "num2 = int(input(\"Enter the second number: \"))\n",
    "gcd_result = gcd_euclidean(num1, num2)\n",
    "print(\"Greatest Common Divisor (GCD):\", gcd_result)\n"
   ]
  },
  {
   "cell_type": "code",
   "execution_count": null,
   "id": "2e45bc54-d59a-46cc-959d-b894de8a5e03",
   "metadata": {},
   "outputs": [],
   "source": [
    "def matrix_multiplication(matrix1, matrix2):\n",
    "    result = [[sum(matrix1[i][k] * matrix2[k][j] for k in range(len(matrix2))) for j in range(len(matrix2[0]))] for i in range(len(matrix1))]\n",
    "    return result\n",
    "\n",
    "matrix1 = [[1, 2], [3, 4]]\n",
    "matrix2 = [[5, 6], [7, 8]]\n",
    "print(\"Matrix Multiplication:\", matrix_multiplication(matrix1, matrix2))\n"
   ]
  },
  {
   "cell_type": "code",
   "execution_count": null,
   "id": "53c80e58-5468-4c7a-9c6d-cc32f6cf2f27",
   "metadata": {},
   "outputs": [],
   "source": [
    "import random\n",
    "\n",
    "def print_board(board):\n",
    "    for row in board:\n",
    "        print(\" | \".join(row))\n",
    "        print(\"-\" * 9)\n",
    "\n",
    "def check_winner(board):\n",
    "    for row in board:\n",
    "        if row.count(row[0]) == 3 and row[0] != \" \":\n",
    "            return True\n",
    "    for col in range(3):\n",
    "        if board[0][col] == board[1][col] == board[2][col] != \" \":\n",
    "            return True\n",
    "    if board[0][0] == board[1][1] == board[2][2] != \" \" or board[0][2] == board[1][1] == board[2][0] != \" \":\n",
    "        return True\n",
    "    return False\n",
    "\n",
    "def tic_tac_toe():\n",
    "    board = [[\" \" for _ in range(3)] for _ in range(3)]\n",
    "    print_board(board)\n",
    "    player = \"X\"\n",
    "    while True:\n",
    "        row = int(input(\"Enter row number (0-2): \"))\n",
    "        col = int(input(\"Enter column number (0-2): \"))\n",
    "        if board[row][col] == \" \":\n",
    "            board[row][col] = player\n",
    "            print_board(board)\n",
    "            if check_winner(board):\n",
    "                print(f\"{player} wins!\")\n",
    "                break\n",
    "            player = \"O\" if player == \"X\" else \"X\"\n",
    "        else:\n",
    "            print(\"Invalid move. Try again.\")\n",
    "\n",
    "tic_tac_toe()\n"
   ]
  },
  {
   "cell_type": "code",
   "execution_count": null,
   "id": "1f1c7fea-e3b5-4a04-b3be-eaba691f3ca5",
   "metadata": {},
   "outputs": [],
   "source": [
    "def generate_fibonacci(n):\n",
    "    fib_list = [0, 1]\n",
    "    while len(fib_list) < n:\n",
    "        fib_list.append(fib_list[-1] + fib_list[-2])\n",
    "    return fib_list[:n]\n",
    "\n",
    "terms = int(input(\"Enter the number of Fibonacci terms to generate: \"))\n",
    "fibonacci_sequence = generate_fibonacci(terms)\n",
    "print(\"Fibonacci Sequence:\", fibonacci_sequence)\n"
   ]
  },
  {
   "cell_type": "code",
   "execution_count": null,
   "id": "a4df3fe0-81e8-4e5e-a3f4-b70a485b9ada",
   "metadata": {},
   "outputs": [],
   "source": [
    "def fibonacci_memoization(n, memo={}):\n",
    "    if n in memo:\n",
    "        return memo[n]\n",
    "    if n <= 1:\n",
    "        return n\n",
    "    memo[n] = fibonacci_memoization(n - 1, memo) + fibonacci_memoization(n - 2, memo)\n",
    "    return memo[n]\n",
    "\n",
    "term = int(input(\"Enter the term of the Fibonacci sequence to calculate: \"))\n",
    "fibonacci_term = fibonacci_memoization(term)\n",
    "print(f\"The {term}th Fibonacci term is:\", fibonacci_term)\n"
   ]
  },
  {
   "cell_type": "code",
   "execution_count": null,
   "id": "64f24bbe-64fc-494f-8965-28a6f6d2eb45",
   "metadata": {},
   "outputs": [],
   "source": [
    "import calendar\n",
    "\n",
    "month = int(input(\"Enter the month (1-12): \"))\n",
    "year = int(input(\"Enter the year: \"))\n",
    "print(calendar.month(year, month))\n"
   ]
  },
  {
   "cell_type": "code",
   "execution_count": null,
   "id": "f11d3cb3-bd10-4d31-b4c2-4f75a7d5dc6f",
   "metadata": {},
   "outputs": [],
   "source": [
    "import random\n",
    "\n",
    "def deal_card():\n",
    "    cards = [2, 3, 4, 5, 6, 7, 8, 9, 10, 10, 10, 10, 11]  # Cards with values from 2 to 11 (Ace)\n",
    "    return random.choice(cards)\n",
    "\n",
    "def calculate_score(cards):\n",
    "    if sum(cards) == 21 and len(cards) == 2:\n",
    "        return 0  # Blackjack\n",
    "    if 11 in cards and sum(cards) > 21:\n",
    "        cards.remove(11)\n",
    "        cards.append(1)  # Ace value adjustment\n",
    "    return sum(cards)\n",
    "\n",
    "def play_blackjack():\n",
    "    user_cards = [deal_card(), deal_card()]\n",
    "    computer_cards = [deal_card(), deal_card()]\n",
    "\n",
    "    while True:\n",
    "        user_score = calculate_score(user_cards)\n",
    "        computer_score = calculate_score(computer_cards)\n",
    "        print(f\"Your cards: {user_cards}, current score: {user_score}\")\n",
    "        print(f\"Computer's first card: {computer_cards[0]}\")\n",
    "\n",
    "        if user_score == 0 or computer_score == 0 or user_score > 21:\n",
    "            break\n",
    "\n",
    "        user_decision = input(\"Type 'hit' to get another card, or 'stand' to pass: \")\n",
    "        if user_decision == \"hit\":\n",
    "            user_cards.append(deal_card())\n",
    "        else:\n",
    "            break\n",
    "\n",
    "    while computer_score != 0 and computer_score < 17:\n",
    "        computer_cards.append(deal_card())\n",
    "        computer_score = calculate_score(computer_cards)\n",
    "\n",
    "    print(f\"Your final hand: {user_cards}, final score: {user_score}\")\n",
    "    print(f\"Computer's final hand: {computer_cards}, final score: {computer_score}\")\n",
    "\n",
    "    if user_score > 21:\n",
    "        return \"You went over. You lose.\"\n",
    "    elif computer_score > 21 or user_score > computer_score:\n",
    "        return \"You win!\"\n",
    "    elif user_score < computer_score:\n",
    "        return \"You lose.\"\n",
    "    else:\n",
    "        return \"It's a draw.\"\n",
    "\n",
    "print(play_blackjack())\n"
   ]
  },
  {
   "cell_type": "code",
   "execution_count": 1,
   "id": "0da79438-ca11-445d-91f4-cc2c189d25fa",
   "metadata": {},
   "outputs": [
    {
     "name": "stdin",
     "output_type": "stream",
     "text": [
      "Enter a number to find its prime factors:  4\n"
     ]
    },
    {
     "name": "stdout",
     "output_type": "stream",
     "text": [
      "Prime Factors: [2, 2]\n"
     ]
    }
   ],
   "source": [
    "def prime_factors(n):\n",
    "    factors = []\n",
    "    divisor = 2\n",
    "    while n > 1:\n",
    "        if n % divisor == 0:\n",
    "            factors.append(divisor)\n",
    "            n //= divisor\n",
    "        else:\n",
    "            divisor += 1\n",
    "    return factors\n",
    "\n",
    "number = int(input(\"Enter a number to find its prime factors: \"))\n",
    "factors_list = prime_factors(number)\n",
    "print(\"Prime Factors:\", factors_list)\n"
   ]
  },
  {
   "cell_type": "markdown",
   "id": "74af4ab9-4e6d-4189-991d-d8783ad7738c",
   "metadata": {},
   "source": [
    "Write a Python program to print numbers from 1 to 10 using a for loop.\n",
    "Explain the difference between a for loop and a while loop in Python.\n",
    "Write a Python program to calculate the sum of all numbers from 1 to 100 using a for loop.\n",
    "How do you iterate through a list using a for loop in Python?\n",
    "Write a Python program to find the product of all elements in a list using a for loop.\n",
    "Create a Python program that prints all even numbers from 1 to 20 using a for loop.\n",
    "Write a Python program that calculates the factorial of a number using a for loop.\n",
    "How can you iterate through the characters of a string using a for loop in Python?\n",
    "Write a Python program to find the largest number in a list using a for loop.\n",
    "Create a Python program that prints the Fibonacci sequence up to a specified limit using a for loop.\n"
   ]
  },
  {
   "cell_type": "code",
   "execution_count": 2,
   "id": "4daad1d1-ef29-4a69-a314-6cda9733a584",
   "metadata": {},
   "outputs": [
    {
     "name": "stdout",
     "output_type": "stream",
     "text": [
      "1\n",
      "2\n",
      "3\n",
      "4\n",
      "5\n",
      "6\n",
      "7\n",
      "8\n",
      "9\n",
      "10\n"
     ]
    }
   ],
   "source": [
    "# Program to print numbers from 1 to 10 using a for loop\n",
    "for i in range(1, 11):\n",
    "    print(i)\n"
   ]
  },
  {
   "cell_type": "code",
   "execution_count": 3,
   "id": "dffec5a8-a5a3-40d5-b712-5da69a99c253",
   "metadata": {},
   "outputs": [
    {
     "name": "stdout",
     "output_type": "stream",
     "text": [
      "Sum of numbers from 1 to 100: 5050\n"
     ]
    }
   ],
   "source": [
    "# Program to calculate the sum of numbers from 1 to 100 using a for loop\n",
    "total_sum = 0\n",
    "for num in range(1, 101):\n",
    "    total_sum += num\n",
    "print(\"Sum of numbers from 1 to 100:\", total_sum)\n"
   ]
  },
  {
   "cell_type": "code",
   "execution_count": 4,
   "id": "355646cf-653d-49ab-aef2-6e4848492d0b",
   "metadata": {},
   "outputs": [
    {
     "name": "stdout",
     "output_type": "stream",
     "text": [
      "1\n",
      "2\n",
      "3\n",
      "4\n",
      "5\n"
     ]
    }
   ],
   "source": [
    "# Program to iterate through a list using a for loop\n",
    "my_list = [1, 2, 3, 4, 5]\n",
    "for item in my_list:\n",
    "    print(item)\n"
   ]
  },
  {
   "cell_type": "code",
   "execution_count": 5,
   "id": "2f73d138-be5a-4c31-9315-a95525716308",
   "metadata": {},
   "outputs": [
    {
     "name": "stdout",
     "output_type": "stream",
     "text": [
      "Product of elements in the list: 120\n"
     ]
    }
   ],
   "source": [
    "# Program to find the product of all elements in a list using a for loop\n",
    "my_list = [1, 2, 3, 4, 5]\n",
    "product = 1\n",
    "for num in my_list:\n",
    "    product *= num\n",
    "print(\"Product of elements in the list:\", product)\n"
   ]
  },
  {
   "cell_type": "code",
   "execution_count": 6,
   "id": "2ea6626c-6a01-4ae0-ad40-602d6bd2e7e1",
   "metadata": {},
   "outputs": [
    {
     "name": "stdout",
     "output_type": "stream",
     "text": [
      "2\n",
      "4\n",
      "6\n",
      "8\n",
      "10\n",
      "12\n",
      "14\n",
      "16\n",
      "18\n",
      "20\n"
     ]
    }
   ],
   "source": [
    "# Program to print all even numbers from 1 to 20 using a for loop\n",
    "for num in range(2, 21, 2):\n",
    "    print(num)\n"
   ]
  },
  {
   "cell_type": "code",
   "execution_count": 7,
   "id": "fcad0d66-0a04-4e74-ad4d-640fe52f548c",
   "metadata": {},
   "outputs": [
    {
     "name": "stdin",
     "output_type": "stream",
     "text": [
      "Enter a number:  5\n"
     ]
    },
    {
     "name": "stdout",
     "output_type": "stream",
     "text": [
      "Factorial of 5 is 120\n"
     ]
    }
   ],
   "source": [
    "# Program to calculate the factorial of a number using a for loop\n",
    "num = int(input(\"Enter a number: \"))\n",
    "factorial = 1\n",
    "for i in range(1, num + 1):\n",
    "    factorial *= i\n",
    "print(\"Factorial of\", num, \"is\", factorial)\n"
   ]
  },
  {
   "cell_type": "code",
   "execution_count": 8,
   "id": "d30c0c9d-d7a5-4ad0-bba0-6f31d3b15e83",
   "metadata": {},
   "outputs": [
    {
     "name": "stdout",
     "output_type": "stream",
     "text": [
      "H\n",
      "e\n",
      "l\n",
      "l\n",
      "o\n",
      ",\n",
      " \n",
      "w\n",
      "o\n",
      "r\n",
      "l\n",
      "d\n",
      "!\n"
     ]
    }
   ],
   "source": [
    "# Program to iterate through the characters of a string using a for loop\n",
    "my_string = \"Hello, world!\"\n",
    "for char in my_string:\n",
    "    print(char)\n"
   ]
  },
  {
   "cell_type": "code",
   "execution_count": 9,
   "id": "b288057a-63cb-47cf-b06e-ab01c8dc0ea6",
   "metadata": {},
   "outputs": [
    {
     "name": "stdout",
     "output_type": "stream",
     "text": [
      "Largest number in the list: 50\n"
     ]
    }
   ],
   "source": [
    "# Program to find the largest number in a list using a for loop\n",
    "my_list = [10, 30, 20, 50, 40]\n",
    "largest = my_list[0]\n",
    "for num in my_list:\n",
    "    if num > largest:\n",
    "        largest = num\n",
    "print(\"Largest number in the list:\", largest)\n"
   ]
  },
  {
   "cell_type": "code",
   "execution_count": 10,
   "id": "f7be7ce4-0b81-4588-b71e-c1eefc7f7b26",
   "metadata": {},
   "outputs": [
    {
     "name": "stdin",
     "output_type": "stream",
     "text": [
      "Enter the limit for Fibonacci sequence:  45\n"
     ]
    },
    {
     "name": "stdout",
     "output_type": "stream",
     "text": [
      "Fibonacci sequence up to 45 : [0, 1, 1, 2, 3, 5, 8, 13, 21, 34]\n"
     ]
    }
   ],
   "source": [
    "# Program to print the Fibonacci sequence up to a specified limit using a for loop\n",
    "limit = int(input(\"Enter the limit for Fibonacci sequence: \"))\n",
    "fibonacci_sequence = [0, 1]\n",
    "while fibonacci_sequence[-1] + fibonacci_sequence[-2] <= limit:\n",
    "    fibonacci_sequence.append(fibonacci_sequence[-1] + fibonacci_sequence[-2])\n",
    "print(\"Fibonacci sequence up to\", limit, \":\", fibonacci_sequence)\n"
   ]
  },
  {
   "cell_type": "markdown",
   "id": "30b95ba5-8737-4042-920c-731a7240d666",
   "metadata": {},
   "source": [
    "Write a Python program to count the number of vowels in a given string using a for loop.\n",
    "Create a Python program that generates a multiplication table for a given number using a for loop.\n",
    "Write a Python program to reverse a list using a for loop.\n",
    "Write a Python program to find the common elements between two lists using a for loop.\n",
    "Explain how to use a for loop to iterate through the keys and values of a dictionary in Python.\n",
    "Write a Python program to find the GCD (Greatest Common Divisor) of two numbers using a for loop.\n",
    "Create a Python program that checks if a string is a palindrome using a for loop.\n",
    "Write a Python program to remove duplicates from a list using a for loop.\n",
    "Create a Python program that counts the number of words in a sentence using a for loop.\n",
    "Write a Python program to find the sum of all odd numbers from 1 to 50 using a for loop.\n",
    "Write a Python program that checks if a given year is a leap year using a for loop.\n",
    "Create a Python program that calculates the square root of a number using a for loop.\n",
    "Write a Python program to find the LCM (Least Common Multiple) of two numbers using a for loop.\n"
   ]
  },
  {
   "cell_type": "code",
   "execution_count": 11,
   "id": "7350d461-803b-4ba9-8e1c-14fe39af6994",
   "metadata": {},
   "outputs": [
    {
     "name": "stdin",
     "output_type": "stream",
     "text": [
      "Enter a string:  i love coding\n"
     ]
    },
    {
     "name": "stdout",
     "output_type": "stream",
     "text": [
      "Number of vowels in the string: 5\n"
     ]
    }
   ],
   "source": [
    "# Program to count the number of vowels in a given string using a for loop\n",
    "def count_vowels(s):\n",
    "    vowels = \"aeiouAEIOU\"\n",
    "    count = 0\n",
    "    for char in s:\n",
    "        if char in vowels:\n",
    "            count += 1\n",
    "    return count\n",
    "\n",
    "input_string = input(\"Enter a string: \")\n",
    "num_vowels = count_vowels(input_string)\n",
    "print(\"Number of vowels in the string:\", num_vowels)\n"
   ]
  },
  {
   "cell_type": "code",
   "execution_count": 12,
   "id": "26de20d7-de40-45c9-bb5c-6f21f050e986",
   "metadata": {},
   "outputs": [
    {
     "name": "stdin",
     "output_type": "stream",
     "text": [
      "Enter a number:  45\n"
     ]
    },
    {
     "name": "stdout",
     "output_type": "stream",
     "text": [
      "45 x 1 = 45\n",
      "45 x 2 = 90\n",
      "45 x 3 = 135\n",
      "45 x 4 = 180\n",
      "45 x 5 = 225\n",
      "45 x 6 = 270\n",
      "45 x 7 = 315\n",
      "45 x 8 = 360\n",
      "45 x 9 = 405\n",
      "45 x 10 = 450\n"
     ]
    }
   ],
   "source": [
    "# Program to generate a multiplication table for a given number using a for loop\n",
    "num = int(input(\"Enter a number: \"))\n",
    "for i in range(1, 11):\n",
    "    print(num, \"x\", i, \"=\", num * i)\n"
   ]
  },
  {
   "cell_type": "code",
   "execution_count": 13,
   "id": "d503ae91-25f9-4f9f-a6f8-0ba423a96d3c",
   "metadata": {},
   "outputs": [
    {
     "name": "stdout",
     "output_type": "stream",
     "text": [
      "Original list: [1, 2, 3, 4, 5]\n",
      "Reversed list: [5, 4, 3, 2, 1]\n"
     ]
    }
   ],
   "source": [
    "# Program to reverse a list using a for loop\n",
    "my_list = [1, 2, 3, 4, 5]\n",
    "reversed_list = []\n",
    "for i in range(len(my_list) - 1, -1, -1):\n",
    "    reversed_list.append(my_list[i])\n",
    "print(\"Original list:\", my_list)\n",
    "print(\"Reversed list:\", reversed_list)\n"
   ]
  },
  {
   "cell_type": "code",
   "execution_count": 14,
   "id": "3c9311fb-c083-4835-be4e-f2dcc33184fd",
   "metadata": {},
   "outputs": [
    {
     "name": "stdout",
     "output_type": "stream",
     "text": [
      "Common elements between the lists: [3, 4, 5]\n"
     ]
    }
   ],
   "source": [
    "# Program to find the common elements between two lists using a for loop\n",
    "list1 = [1, 2, 3, 4, 5]\n",
    "list2 = [3, 4, 5, 6, 7]\n",
    "common_elements = []\n",
    "for item in list1:\n",
    "    if item in list2:\n",
    "        common_elements.append(item)\n",
    "print(\"Common elements between the lists:\", common_elements)\n"
   ]
  },
  {
   "cell_type": "code",
   "execution_count": 15,
   "id": "1a63df43-100e-40db-83d4-b0580394aca3",
   "metadata": {},
   "outputs": [
    {
     "name": "stdout",
     "output_type": "stream",
     "text": [
      "Key: a Value: 1\n",
      "Key: b Value: 2\n",
      "Key: c Value: 3\n"
     ]
    }
   ],
   "source": [
    "# Program to iterate through the keys and values of a dictionary using a for loop\n",
    "my_dict = {'a': 1, 'b': 2, 'c': 3}\n",
    "for key, value in my_dict.items():\n",
    "    print(\"Key:\", key, \"Value:\", value)\n"
   ]
  },
  {
   "cell_type": "code",
   "execution_count": 16,
   "id": "f12a833a-b62c-4563-b938-8416bb2d2d70",
   "metadata": {},
   "outputs": [
    {
     "name": "stdin",
     "output_type": "stream",
     "text": [
      "Enter the first number:  45\n",
      "Enter the second number:  89\n"
     ]
    },
    {
     "name": "stdout",
     "output_type": "stream",
     "text": [
      "GCD of 45 and 89 is 1\n"
     ]
    }
   ],
   "source": [
    "# Program to find the GCD (Greatest Common Divisor) of two numbers using a for loop\n",
    "def gcd(a, b):\n",
    "    while b:\n",
    "        a, b = b, a % b\n",
    "    return a\n",
    "\n",
    "num1 = int(input(\"Enter the first number: \"))\n",
    "num2 = int(input(\"Enter the second number: \"))\n",
    "gcd_result = gcd(num1, num2)\n",
    "print(\"GCD of\", num1, \"and\", num2, \"is\", gcd_result)\n"
   ]
  },
  {
   "cell_type": "code",
   "execution_count": 17,
   "id": "7b784929-7cef-4b31-be4b-6e04d6b79def",
   "metadata": {},
   "outputs": [
    {
     "name": "stdin",
     "output_type": "stream",
     "text": [
      "Enter a string:  i love coding\n"
     ]
    },
    {
     "name": "stdout",
     "output_type": "stream",
     "text": [
      "The string is not a palindrome.\n"
     ]
    }
   ],
   "source": [
    "# Program to check if a string is a palindrome using a for loop\n",
    "def is_palindrome(s):\n",
    "    s = s.lower()  # Convert to lowercase for case-insensitive comparison\n",
    "    for i in range(len(s) // 2):\n",
    "        if s[i] != s[len(s) - 1 - i]:\n",
    "            return False\n",
    "    return True\n",
    "\n",
    "input_string = input(\"Enter a string: \")\n",
    "if is_palindrome(input_string):\n",
    "    print(\"The string is a palindrome.\")\n",
    "else:\n",
    "    print(\"The string is not a palindrome.\")\n"
   ]
  },
  {
   "cell_type": "code",
   "execution_count": 18,
   "id": "cf3a3d8e-a95f-4047-951b-d7665903ca6a",
   "metadata": {},
   "outputs": [
    {
     "name": "stdout",
     "output_type": "stream",
     "text": [
      "Original list: [1, 2, 2, 3, 4, 4, 5]\n",
      "List with duplicates removed: [1, 2, 3, 4, 5]\n"
     ]
    }
   ],
   "source": [
    "# Program to remove duplicates from a list using a for loop\n",
    "my_list = [1, 2, 2, 3, 4, 4, 5]\n",
    "unique_list = []\n",
    "for item in my_list:\n",
    "    if item not in unique_list:\n",
    "        unique_list.append(item)\n",
    "print(\"Original list:\", my_list)\n",
    "print(\"List with duplicates removed:\", unique_list)\n"
   ]
  },
  {
   "cell_type": "code",
   "execution_count": 19,
   "id": "54073092-da0c-41b1-85fa-d8ed810ce0e5",
   "metadata": {},
   "outputs": [
    {
     "name": "stdin",
     "output_type": "stream",
     "text": [
      "Enter a sentence:  i love coding\n"
     ]
    },
    {
     "name": "stdout",
     "output_type": "stream",
     "text": [
      "Number of words in the sentence: 3\n"
     ]
    }
   ],
   "source": [
    "# Program to count the number of words in a sentence using a for loop\n",
    "sentence = input(\"Enter a sentence: \")\n",
    "word_count = 0\n",
    "for word in sentence.split():\n",
    "    word_count += 1\n",
    "print(\"Number of words in the sentence:\", word_count)\n"
   ]
  },
  {
   "cell_type": "code",
   "execution_count": 20,
   "id": "42b96211-6d43-410e-9d64-25101e3cc416",
   "metadata": {},
   "outputs": [
    {
     "name": "stdout",
     "output_type": "stream",
     "text": [
      "Sum of odd numbers from 1 to 50: 625\n"
     ]
    }
   ],
   "source": [
    "# Program to find the sum of all odd numbers from 1 to 50 using a for loop\n",
    "odd_sum = 0\n",
    "for num in range(1, 51, 2):\n",
    "    odd_sum += num\n",
    "print(\"Sum of odd numbers from 1 to 50:\", odd_sum)\n"
   ]
  },
  {
   "cell_type": "code",
   "execution_count": 21,
   "id": "6dd64214-5bee-4b7d-8f5d-c9c17d0439d7",
   "metadata": {},
   "outputs": [
    {
     "name": "stdin",
     "output_type": "stream",
     "text": [
      "Enter a year:  2024\n"
     ]
    },
    {
     "name": "stdout",
     "output_type": "stream",
     "text": [
      "2024 is a leap year.\n"
     ]
    }
   ],
   "source": [
    "# Program to check if a given year is a leap year using a for loop\n",
    "def is_leap_year(year):\n",
    "    if (year % 4 == 0 and year % 100 != 0) or (year % 400 == 0):\n",
    "        return True\n",
    "    return False\n",
    "\n",
    "year = int(input(\"Enter a year: \"))\n",
    "if is_leap_year(year):\n",
    "    print(year, \"is a leap year.\")\n",
    "else:\n",
    "    print(year, \"is not a leap year.\")\n"
   ]
  },
  {
   "cell_type": "code",
   "execution_count": 22,
   "id": "1bda9d37-b07f-4b8a-b90b-dbf320c19198",
   "metadata": {},
   "outputs": [
    {
     "name": "stdin",
     "output_type": "stream",
     "text": [
      "Enter a number to find its square root:  5\n"
     ]
    },
    {
     "name": "stdout",
     "output_type": "stream",
     "text": [
      "Square root of 5 : Not a perfect square\n"
     ]
    }
   ],
   "source": [
    "# Program to calculate the square root of a number using a for loop\n",
    "def square_root(n):\n",
    "    if n < 0:\n",
    "        return \"Invalid input (negative number)\"\n",
    "    for i in range(n + 1):\n",
    "        if i * i == n:\n",
    "            return i\n",
    "        elif i * i > n:\n",
    "            return \"Not a perfect square\"\n",
    "\n",
    "num = int(input(\"Enter a number to find its square root: \"))\n",
    "result = square_root(num)\n",
    "print(\"Square root of\", num, \":\", result)\n"
   ]
  },
  {
   "cell_type": "code",
   "execution_count": 23,
   "id": "cbcd2b5c-598d-49d2-8348-e1d1cf9e0abb",
   "metadata": {},
   "outputs": [
    {
     "name": "stdin",
     "output_type": "stream",
     "text": [
      "Enter the first number:  454\n",
      "Enter the second number:  56\n"
     ]
    },
    {
     "name": "stdout",
     "output_type": "stream",
     "text": [
      "LCM of 454 and 56 is 12712\n"
     ]
    }
   ],
   "source": [
    "# Program to find the LCM (Least Common Multiple) of two numbers using a for loop\n",
    "def lcm(a, b):\n",
    "    max_num = max(a, b)\n",
    "    while True:\n",
    "        if max_num % a == 0 and max_num % b == 0:\n",
    "            return max_num\n",
    "        max_num += 1\n",
    "\n",
    "num1 = int(input(\"Enter the first number: \"))\n",
    "num2 = int(input(\"Enter the second number: \"))\n",
    "lcm_result = lcm(num1, num2)\n",
    "print(\"LCM of\", num1, \"and\", num2, \"is\", lcm_result)\n"
   ]
  },
  {
   "cell_type": "markdown",
   "id": "0e5a429a-be5f-462c-b98f-90931c0d0766",
   "metadata": {},
   "source": [
    "Write a Python program to check if a number is positive, negative, or zero using an if-else statement.\n",
    "Create a Python program that checks if a given number is even or odd using an if-else statement.\n",
    "How can you use nested if-else statements in Python, and provide an example?\n",
    "Write a Python program to determine the largest of three numbers using if-else.\n",
    "Write a Python program that calculates the absolute value of a number using if-else.\n",
    "Create a Python program that checks if a given character is a vowel or consonant using if-else.\n",
    "Write a Python program to determine if a user is eligible to vote based on their age using if-else.\n",
    "Create a Python program that calculates the discount amount based on the purchase amount using if-else.\n",
    "Write a Python program to check if a number is within a specified range using if-else.\n",
    "Create a Python program that determines the grade of a student based on their score using if-else.\n"
   ]
  },
  {
   "cell_type": "code",
   "execution_count": 24,
   "id": "52c90cd3-906e-4aa9-9794-32efc220975e",
   "metadata": {},
   "outputs": [
    {
     "name": "stdin",
     "output_type": "stream",
     "text": [
      "Enter a number:  45\n"
     ]
    },
    {
     "name": "stdout",
     "output_type": "stream",
     "text": [
      "The number is positive.\n"
     ]
    }
   ],
   "source": [
    "# Program to check if a number is positive, negative, or zero using if-else\n",
    "num = float(input(\"Enter a number: \"))\n",
    "if num > 0:\n",
    "    print(\"The number is positive.\")\n",
    "elif num < 0:\n",
    "    print(\"The number is negative.\")\n",
    "else:\n",
    "    print(\"The number is zero.\")\n"
   ]
  },
  {
   "cell_type": "code",
   "execution_count": 25,
   "id": "678e630f-f6de-4403-8ec4-5d0de3e18e9a",
   "metadata": {},
   "outputs": [
    {
     "name": "stdin",
     "output_type": "stream",
     "text": [
      "Enter a number:  56\n"
     ]
    },
    {
     "name": "stdout",
     "output_type": "stream",
     "text": [
      "The number is even.\n"
     ]
    }
   ],
   "source": [
    "# Program to check if a given number is even or odd using if-else\n",
    "num = int(input(\"Enter a number: \"))\n",
    "if num % 2 == 0:\n",
    "    print(\"The number is even.\")\n",
    "else:\n",
    "    print(\"The number is odd.\")\n"
   ]
  },
  {
   "cell_type": "code",
   "execution_count": 26,
   "id": "9f8b4413-fb1c-40cf-9202-1909c326a35e",
   "metadata": {},
   "outputs": [
    {
     "name": "stdin",
     "output_type": "stream",
     "text": [
      "Enter a number:  79\n"
     ]
    },
    {
     "name": "stdout",
     "output_type": "stream",
     "text": [
      "The number is positive.\n"
     ]
    }
   ],
   "source": [
    "# Program to check if a number is positive, negative, or zero using nested if-else\n",
    "num = float(input(\"Enter a number: \"))\n",
    "if num >= 0:\n",
    "    if num == 0:\n",
    "        print(\"The number is zero.\")\n",
    "    else:\n",
    "        print(\"The number is positive.\")\n",
    "else:\n",
    "    print(\"The number is negative.\")\n"
   ]
  },
  {
   "cell_type": "code",
   "execution_count": 27,
   "id": "0ba0d58f-23b4-4c88-b362-10875d4bceb5",
   "metadata": {},
   "outputs": [
    {
     "name": "stdin",
     "output_type": "stream",
     "text": [
      "Enter the first number:  13\n",
      "Enter the second number:  45\n",
      "Enter the third number:  56\n"
     ]
    },
    {
     "name": "stdout",
     "output_type": "stream",
     "text": [
      "The largest number is: 56.0\n"
     ]
    }
   ],
   "source": [
    "# Program to determine the largest of three numbers using if-else\n",
    "num1 = float(input(\"Enter the first number: \"))\n",
    "num2 = float(input(\"Enter the second number: \"))\n",
    "num3 = float(input(\"Enter the third number: \"))\n",
    "\n",
    "if num1 >= num2 and num1 >= num3:\n",
    "    print(\"The largest number is:\", num1)\n",
    "elif num2 >= num1 and num2 >= num3:\n",
    "    print(\"The largest number is:\", num2)\n",
    "else:\n",
    "    print(\"The largest number is:\", num3)\n"
   ]
  },
  {
   "cell_type": "code",
   "execution_count": 28,
   "id": "ec386329-157f-4ba6-905e-83217cebfa83",
   "metadata": {},
   "outputs": [
    {
     "name": "stdin",
     "output_type": "stream",
     "text": [
      "Enter a number:  45\n"
     ]
    },
    {
     "name": "stdout",
     "output_type": "stream",
     "text": [
      "The absolute value of 45.0 is 45.0\n"
     ]
    }
   ],
   "source": [
    "# Program to calculate the absolute value of a number using if-else\n",
    "num = float(input(\"Enter a number: \"))\n",
    "if num >= 0:\n",
    "    print(\"The absolute value of\", num, \"is\", num)\n",
    "else:\n",
    "    print(\"The absolute value of\", num, \"is\", -num)\n"
   ]
  },
  {
   "cell_type": "code",
   "execution_count": 29,
   "id": "586f4a02-e841-4854-bdf3-e37c6078dfcf",
   "metadata": {},
   "outputs": [
    {
     "name": "stdin",
     "output_type": "stream",
     "text": [
      "Enter a number:  78\n"
     ]
    },
    {
     "name": "stdout",
     "output_type": "stream",
     "text": [
      "The absolute value of 78.0 is 78.0\n"
     ]
    }
   ],
   "source": [
    "# Program to calculate the absolute value of a number using if-else\n",
    "num = float(input(\"Enter a number: \"))\n",
    "if num >= 0:\n",
    "    print(\"The absolute value of\", num, \"is\", num)\n",
    "else:\n",
    "    print(\"The absolute value of\", num, \"is\", -num)\n"
   ]
  },
  {
   "cell_type": "code",
   "execution_count": 30,
   "id": "a9f4f909-0fd4-49c4-b7c2-fb7f4cf790be",
   "metadata": {},
   "outputs": [
    {
     "name": "stdin",
     "output_type": "stream",
     "text": [
      "Enter a character:  python is great\n"
     ]
    },
    {
     "name": "stdout",
     "output_type": "stream",
     "text": [
      "The character is a consonant.\n"
     ]
    }
   ],
   "source": [
    "# Program to check if a given character is a vowel or consonant using if-else\n",
    "char = input(\"Enter a character: \")\n",
    "if char.lower() in 'aeiou':\n",
    "    print(\"The character is a vowel.\")\n",
    "else:\n",
    "    print(\"The character is a consonant.\")\n"
   ]
  },
  {
   "cell_type": "code",
   "execution_count": 31,
   "id": "0fe885ac-5ded-4ea1-9a8c-50f1140133c5",
   "metadata": {},
   "outputs": [
    {
     "name": "stdin",
     "output_type": "stream",
     "text": [
      "Enter your age:  45\n"
     ]
    },
    {
     "name": "stdout",
     "output_type": "stream",
     "text": [
      "You are eligible to vote.\n"
     ]
    }
   ],
   "source": [
    "# Program to determine if a user is eligible to vote based on their age using if-else\n",
    "age = int(input(\"Enter your age: \"))\n",
    "if age >= 18:\n",
    "    print(\"You are eligible to vote.\")\n",
    "else:\n",
    "    print(\"You are not eligible to vote yet.\")\n"
   ]
  },
  {
   "cell_type": "code",
   "execution_count": 32,
   "id": "faa44ea7-fc66-4bda-a604-5dc31834014e",
   "metadata": {},
   "outputs": [
    {
     "name": "stdin",
     "output_type": "stream",
     "text": [
      "Enter the purchase amount:  455\n"
     ]
    },
    {
     "name": "stdout",
     "output_type": "stream",
     "text": [
      "No discount applied. Final amount: 455.0\n"
     ]
    }
   ],
   "source": [
    "# Program to calculate the discount amount based on the purchase amount using if-else\n",
    "purchase_amount = float(input(\"Enter the purchase amount: \"))\n",
    "if purchase_amount >= 1000:\n",
    "    discount = purchase_amount * 0.1  # 10% discount for purchases over $1000\n",
    "    final_amount = purchase_amount - discount\n",
    "    print(\"Discount applied:\", discount)\n",
    "    print(\"Final amount after discount:\", final_amount)\n",
    "else:\n",
    "    print(\"No discount applied. Final amount:\", purchase_amount)\n"
   ]
  },
  {
   "cell_type": "code",
   "execution_count": 33,
   "id": "97bf332c-fb12-44d4-a2b5-38933f343ed2",
   "metadata": {},
   "outputs": [
    {
     "name": "stdin",
     "output_type": "stream",
     "text": [
      "Enter a number:  45\n"
     ]
    },
    {
     "name": "stdout",
     "output_type": "stream",
     "text": [
      "45 is within the range from 10 to 50\n"
     ]
    }
   ],
   "source": [
    "# Program to check if a number is within a specified range using if-else\n",
    "num = int(input(\"Enter a number: \"))\n",
    "lower_limit = 10\n",
    "upper_limit = 50\n",
    "if num >= lower_limit and num <= upper_limit:\n",
    "    print(num, \"is within the range from\", lower_limit, \"to\", upper_limit)\n",
    "else:\n",
    "    print(num, \"is outside the specified range.\")\n"
   ]
  },
  {
   "cell_type": "code",
   "execution_count": 34,
   "id": "ddd3f54f-830e-44a7-82a1-1578a03a113a",
   "metadata": {},
   "outputs": [
    {
     "name": "stdin",
     "output_type": "stream",
     "text": [
      "Enter the student's score:  45\n"
     ]
    },
    {
     "name": "stdout",
     "output_type": "stream",
     "text": [
      "Student's grade: F\n"
     ]
    }
   ],
   "source": [
    "# Program to determine the grade of a student based on their score using if-else\n",
    "score = float(input(\"Enter the student's score: \"))\n",
    "if score >= 90:\n",
    "    grade = 'A'\n",
    "elif score >= 80:\n",
    "    grade = 'B'\n",
    "elif score >= 70:\n",
    "    grade = 'C'\n",
    "elif score >= 60:\n",
    "    grade = 'D'\n",
    "else:\n",
    "    grade = 'F'\n",
    "print(\"Student's grade:\", grade)\n"
   ]
  },
  {
   "cell_type": "markdown",
   "id": "3cde456b-d39c-4386-a06b-0d49fe2e523a",
   "metadata": {},
   "source": [
    "Write a Python program to check if a string is empty or not using if-else.\n",
    "Create a Python program that identifies the type of a triangle (e.g., equilateral, isosceles, or scalene) based on input values using if-else.\n",
    "Write a Python program to determine the day of the week based on a user-provided number using if-else.\n",
    "Create a Python program that checks if a given year is a leap year using both if-else and a function.\n",
    "How do you use the \"assert\" statement in Python to add debugging checks within if-else blocks?\n",
    "Create a Python program that determines the eligibility of a person for a senior citizen discount based on age using if-else.\n",
    "Write a Python program to categorize a given character as uppercase, lowercase, or neither using if-else.\n",
    "Write a Python program to determine the roots of a quadratic equation using if-else.\n",
    "Create a Python program that checks if a given year is a century year or not using if-else.\n",
    "Write a Python program to determine if a given number is a perfect square using if-else.\n",
    "Explain the purpose of the \"continue\" and \"break\" statements within if-else loops.\n",
    "Create a Python program that calculates the BMI (Body Mass Index) of a person based on their weight and height using if-else.\n",
    "How can you use the \"filter()\" function with if-else statements to filter elements from a list?\n",
    "Write a Python program to determine if a given number is prime or not using if-else.\n"
   ]
  },
  {
   "cell_type": "code",
   "execution_count": 35,
   "id": "2a5d16a9-4a00-4c65-b144-d4912b0771b9",
   "metadata": {},
   "outputs": [
    {
     "name": "stdin",
     "output_type": "stream",
     "text": [
      "Enter a string:  i love coding\n"
     ]
    },
    {
     "name": "stdout",
     "output_type": "stream",
     "text": [
      "The string is not empty.\n"
     ]
    }
   ],
   "source": [
    "# Program to check if a string is empty or not using if-else\n",
    "string = input(\"Enter a string: \")\n",
    "if string:\n",
    "    print(\"The string is not empty.\")\n",
    "else:\n",
    "    print(\"The string is empty.\")\n"
   ]
  },
  {
   "cell_type": "code",
   "execution_count": 36,
   "id": "0ba2e6c2-1312-46b7-a3fa-f40cbe566e7e",
   "metadata": {},
   "outputs": [
    {
     "name": "stdin",
     "output_type": "stream",
     "text": [
      "Enter the length of side A:  45\n",
      "Enter the length of side B:  65\n",
      "Enter the length of side C:  78\n"
     ]
    },
    {
     "name": "stdout",
     "output_type": "stream",
     "text": [
      "Scalene triangle\n"
     ]
    }
   ],
   "source": [
    "# Program to identify the type of a triangle based on input values using if-else\n",
    "a = float(input(\"Enter the length of side A: \"))\n",
    "b = float(input(\"Enter the length of side B: \"))\n",
    "c = float(input(\"Enter the length of side C: \"))\n",
    "\n",
    "if a == b == c:\n",
    "    print(\"Equilateral triangle\")\n",
    "elif a == b or b == c or a == c:\n",
    "    print(\"Isosceles triangle\")\n",
    "else:\n",
    "    print(\"Scalene triangle\")\n"
   ]
  },
  {
   "cell_type": "code",
   "execution_count": 37,
   "id": "8d59070f-c86b-4d5c-9724-93ed18352a60",
   "metadata": {},
   "outputs": [
    {
     "name": "stdin",
     "output_type": "stream",
     "text": [
      "Enter a number (1-7) for the day of the week:  5\n"
     ]
    },
    {
     "name": "stdout",
     "output_type": "stream",
     "text": [
      "Friday\n"
     ]
    }
   ],
   "source": [
    "# Program to determine the day of the week based on a user-provided number using if-else\n",
    "day_number = int(input(\"Enter a number (1-7) for the day of the week: \"))\n",
    "if day_number == 1:\n",
    "    print(\"Monday\")\n",
    "elif day_number == 2:\n",
    "    print(\"Tuesday\")\n",
    "elif day_number == 3:\n",
    "    print(\"Wednesday\")\n",
    "elif day_number == 4:\n",
    "    print(\"Thursday\")\n",
    "elif day_number == 5:\n",
    "    print(\"Friday\")\n",
    "elif day_number == 6:\n",
    "    print(\"Saturday\")\n",
    "elif day_number == 7:\n",
    "    print(\"Sunday\")\n",
    "else:\n",
    "    print(\"Invalid input. Please enter a number from 1 to 7.\")\n"
   ]
  },
  {
   "cell_type": "code",
   "execution_count": 38,
   "id": "c13ff6b3-3fd6-4d6a-9798-1c713abd8b2f",
   "metadata": {},
   "outputs": [
    {
     "name": "stdin",
     "output_type": "stream",
     "text": [
      "Enter a year:  2004\n"
     ]
    },
    {
     "name": "stdout",
     "output_type": "stream",
     "text": [
      "2004 is a leap year.\n"
     ]
    }
   ],
   "source": [
    "# Program to check if a given year is a leap year using both if-else and a function\n",
    "def is_leap_year(year):\n",
    "    if (year % 4 == 0 and year % 100 != 0) or (year % 400 == 0):\n",
    "        return True\n",
    "    else:\n",
    "        return False\n",
    "\n",
    "year = int(input(\"Enter a year: \"))\n",
    "if is_leap_year(year):\n",
    "    print(year, \"is a leap year.\")\n",
    "else:\n",
    "    print(year, \"is not a leap year.\")\n"
   ]
  },
  {
   "cell_type": "code",
   "execution_count": 39,
   "id": "91790990-2345-4418-92ac-59ddea0021a6",
   "metadata": {},
   "outputs": [
    {
     "name": "stdout",
     "output_type": "stream",
     "text": [
      "The number is even.\n"
     ]
    }
   ],
   "source": [
    "# Example of using assert statement for debugging checks within if-else blocks\n",
    "num = 10\n",
    "assert num > 0, \"Number should be positive\"\n",
    "if num % 2 == 0:\n",
    "    print(\"The number is even.\")\n",
    "else:\n",
    "    print(\"The number is odd.\")\n"
   ]
  },
  {
   "cell_type": "code",
   "execution_count": 40,
   "id": "28095b50-2557-4caf-9481-ce150078e5e3",
   "metadata": {},
   "outputs": [
    {
     "name": "stdin",
     "output_type": "stream",
     "text": [
      "Enter your age:  19\n"
     ]
    },
    {
     "name": "stdout",
     "output_type": "stream",
     "text": [
      "You are not eligible for a senior citizen discount.\n"
     ]
    }
   ],
   "source": [
    "# Program to determine the eligibility of a person for a senior citizen discount based on age using if-else\n",
    "age = int(input(\"Enter your age: \"))\n",
    "if age >= 60:\n",
    "    print(\"You are eligible for a senior citizen discount.\")\n",
    "else:\n",
    "    print(\"You are not eligible for a senior citizen discount.\")\n"
   ]
  },
  {
   "cell_type": "code",
   "execution_count": 41,
   "id": "7854b4a9-c3c2-4c73-80a9-9155f5034cab",
   "metadata": {},
   "outputs": [
    {
     "name": "stdin",
     "output_type": "stream",
     "text": [
      "Enter a character:  coding\n"
     ]
    },
    {
     "name": "stdout",
     "output_type": "stream",
     "text": [
      "Lowercase character\n"
     ]
    }
   ],
   "source": [
    "# Program to categorize a given character as uppercase, lowercase, or neither using if-else\n",
    "char = input(\"Enter a character: \")\n",
    "if char.isupper():\n",
    "    print(\"Uppercase character\")\n",
    "elif char.islower():\n",
    "    print(\"Lowercase character\")\n",
    "else:\n",
    "    print(\"Neither uppercase nor lowercase\")\n"
   ]
  },
  {
   "cell_type": "code",
   "execution_count": 43,
   "id": "d53e7616-51ce-4d09-bb80-000e9179b29b",
   "metadata": {},
   "outputs": [
    {
     "name": "stdin",
     "output_type": "stream",
     "text": [
      "Enter the coefficient of x^2 (a):  5\n",
      "Enter the coefficient of x (b):  6\n",
      "Enter the constant term (c):  8\n"
     ]
    },
    {
     "name": "stdout",
     "output_type": "stream",
     "text": [
      "No real roots exist.\n"
     ]
    }
   ],
   "source": [
    "# Program to determine the roots of a quadratic equation using if-else\n",
    "import math\n",
    "\n",
    "a = float(input(\"Enter the coefficient of x^2 (a): \"))\n",
    "b = float(input(\"Enter the coefficient of x (b): \"))\n",
    "c = float(input(\"Enter the constant term (c): \"))\n",
    "\n",
    "discriminant = b**2 - 4*a*c\n",
    "\n",
    "if discriminant > 0:\n",
    "    root1 = (-b + math.sqrt(discriminant)) / (2*a)\n",
    "    root2 = (-b - math.sqrt(discriminant)) / (2*a)\n",
    "    print(\"Root 1:\", root1)\n",
    "    print(\"Root 2:\", root2)\n",
    "elif discriminant == 0:\n",
    "    root = -b / (2*a)\n",
    "    print(\"Single root:\", root)\n",
    "else:\n",
    "    print(\"No real roots exist.\")\n"
   ]
  },
  {
   "cell_type": "code",
   "execution_count": 44,
   "id": "719f3200-39a7-47ae-ad8e-51b30b3e7831",
   "metadata": {},
   "outputs": [
    {
     "name": "stdin",
     "output_type": "stream",
     "text": [
      "Enter a year:  2020\n"
     ]
    },
    {
     "name": "stdout",
     "output_type": "stream",
     "text": [
      "2020 is not a century year.\n"
     ]
    }
   ],
   "source": [
    "# Program to check if a given year is a century year or not using if-else\n",
    "year = int(input(\"Enter a year: \"))\n",
    "if year % 100 == 0:\n",
    "    print(year, \"is a century year.\")\n",
    "else:\n",
    "    print(year, \"is not a century year.\")\n"
   ]
  },
  {
   "cell_type": "code",
   "execution_count": 45,
   "id": "84e16b19-64d3-40a0-b176-eb819e7ca6e3",
   "metadata": {},
   "outputs": [
    {
     "name": "stdin",
     "output_type": "stream",
     "text": [
      "Enter a number:  45\n"
     ]
    },
    {
     "name": "stdout",
     "output_type": "stream",
     "text": [
      "45 is not a perfect square.\n"
     ]
    }
   ],
   "source": [
    "# Program to determine if a given number is a perfect square using if-else\n",
    "import math\n",
    "\n",
    "num = int(input(\"Enter a number: \"))\n",
    "sqrt_num = math.sqrt(num)\n",
    "if sqrt_num.is_integer():\n",
    "    print(num, \"is a perfect square.\")\n",
    "else:\n",
    "    print(num, \"is not a perfect square.\")\n"
   ]
  },
  {
   "cell_type": "code",
   "execution_count": 46,
   "id": "45706346-9ffd-4c11-9caf-9ba0172586e1",
   "metadata": {},
   "outputs": [
    {
     "name": "stdout",
     "output_type": "stream",
     "text": [
      "1\n",
      "2\n",
      "3\n",
      "4\n",
      "6\n",
      "7\n",
      "8\n"
     ]
    }
   ],
   "source": [
    "# Program to demonstrate the use of continue and break statements within if-else loops\n",
    "for i in range(1, 11):\n",
    "    if i == 5:\n",
    "        continue  # Skip the iteration when i is 5\n",
    "    print(i)\n",
    "    if i == 8:\n",
    "        break  # Exit the loop when i is 8\n"
   ]
  },
  {
   "cell_type": "code",
   "execution_count": 47,
   "id": "7c07f73a-835a-42f5-a7c2-2baadadbd95f",
   "metadata": {},
   "outputs": [
    {
     "name": "stdin",
     "output_type": "stream",
     "text": [
      "Enter your weight in kilograms:  92\n",
      "Enter your height in meters:  186\n"
     ]
    },
    {
     "name": "stdout",
     "output_type": "stream",
     "text": [
      "Your BMI is: 0.0026592669672794544\n",
      "Category: Underweight\n"
     ]
    }
   ],
   "source": [
    "# Program to calculate the BMI (Body Mass Index) of a person based on their weight and height using if-else\n",
    "weight = float(input(\"Enter your weight in kilograms: \"))\n",
    "height = float(input(\"Enter your height in meters: \"))\n",
    "\n",
    "bmi = weight / (height ** 2)\n",
    "\n",
    "if bmi < 18.5:\n",
    "    category = \"Underweight\"\n",
    "elif bmi >= 18.5 and bmi < 24.9:\n",
    "    category = \"Normal weight\"\n",
    "elif bmi >= 24.9 and bmi < 29.9:\n",
    "    category = \"Overweight\"\n",
    "else:\n",
    "    category = \"Obese\"\n",
    "\n",
    "print(\"Your BMI is:\", bmi)\n",
    "print(\"Category:\", category)\n"
   ]
  },
  {
   "cell_type": "code",
   "execution_count": 48,
   "id": "4562606d-ef7b-4e8a-b6ff-8be191e7ecec",
   "metadata": {},
   "outputs": [
    {
     "name": "stdout",
     "output_type": "stream",
     "text": [
      "Filtered numbers: [2, 4, 6, 8, 10]\n"
     ]
    }
   ],
   "source": [
    "# Program to filter elements from a list using the filter() function and if-else\n",
    "numbers = [1, 2, 3, 4, 5, 6, 7, 8, 9, 10]\n",
    "filtered_numbers = filter(lambda x: x % 2 == 0, numbers)  # Filter even numbers\n",
    "\n",
    "print(\"Filtered numbers:\", list(filtered_numbers))\n"
   ]
  },
  {
   "cell_type": "code",
   "execution_count": 49,
   "id": "92eed12c-d355-4428-b4db-e343a29e98e3",
   "metadata": {},
   "outputs": [
    {
     "name": "stdin",
     "output_type": "stream",
     "text": [
      "Enter a number:  45\n"
     ]
    },
    {
     "name": "stdout",
     "output_type": "stream",
     "text": [
      "45 is not a prime number.\n"
     ]
    }
   ],
   "source": [
    "# Program to determine if a given number is prime or not using if-else\n",
    "num = int(input(\"Enter a number: \"))\n",
    "if num > 1:\n",
    "    for i in range(2, int(num ** 0.5) + 1):\n",
    "        if num % i == 0:\n",
    "            print(num, \"is not a prime number.\")\n",
    "            break\n",
    "    else:\n",
    "        print(num, \"is a prime number.\")\n",
    "else:\n",
    "    print(num, \"is not a prime number.\")\n"
   ]
  },
  {
   "cell_type": "markdown",
   "id": "b130067f-2e1e-47bd-bef2-5fc1b2573a08",
   "metadata": {},
   "source": [
    "Explain the purpose of the `map()` function in Python and provide an example of how it can be used to apply a function to each element of an iterable.\n",
    "Write a Python program that uses the `map()` function to square each element of a list of numbers.\n",
    "How does the `map()` function differ from a list comprehension in Python, and when would you choose one over the other?\n",
    "Create a Python program that uses the `map()` function to convert a list of names to uppercase.\n",
    "Write a Python program that uses the `map()` function to calculate the length of each word in a list of strings.\n",
    "How can you use the `map()` function to apply a custom function to elements of multiple lists simultaneously in Python?\n",
    "Create a Python program that uses `map()` to convert a list of temperatures from Celsius to Fahrenheit.\n",
    "Write a Python program that uses the `map()` function to round each element of a list of floating-point numbers to the nearest integer.\n"
   ]
  },
  {
   "cell_type": "code",
   "execution_count": 50,
   "id": "de0178a6-3082-4864-9e26-8055d46e0e09",
   "metadata": {},
   "outputs": [
    {
     "name": "stdout",
     "output_type": "stream",
     "text": [
      "[1, 4, 9, 16, 25]\n"
     ]
    }
   ],
   "source": [
    "# Example of using map() function to apply a function to each element of an iterable\n",
    "def square(x):\n",
    "    return x ** 2\n",
    "\n",
    "numbers = [1, 2, 3, 4, 5]\n",
    "squared_numbers = map(square, numbers)\n",
    "print(list(squared_numbers))  # Output: [1, 4, 9, 16, 25]\n"
   ]
  },
  {
   "cell_type": "code",
   "execution_count": 51,
   "id": "1ac269ff-3548-49d7-a189-78cf658755d3",
   "metadata": {},
   "outputs": [
    {
     "name": "stdout",
     "output_type": "stream",
     "text": [
      "[1, 4, 9, 16, 25]\n"
     ]
    }
   ],
   "source": [
    "# Program to square each element of a list of numbers using the map() function\n",
    "numbers = [1, 2, 3, 4, 5]\n",
    "\n",
    "def square(x):\n",
    "    return x ** 2\n",
    "\n",
    "squared_numbers = map(square, numbers)\n",
    "print(list(squared_numbers))  # Output: [1, 4, 9, 16, 25]\n"
   ]
  },
  {
   "cell_type": "code",
   "execution_count": 52,
   "id": "178e58ba-e89c-4662-9fd3-78c015df3503",
   "metadata": {},
   "outputs": [
    {
     "name": "stdout",
     "output_type": "stream",
     "text": [
      "['ALICE', 'BOB', 'CHARLIE']\n"
     ]
    }
   ],
   "source": [
    "# Program to convert a list of names to uppercase using the map() function\n",
    "names = [\"Alice\", \"Bob\", \"Charlie\"]\n",
    "\n",
    "uppercase_names = map(str.upper, names)\n",
    "print(list(uppercase_names))  # Output: ['ALICE', 'BOB', 'CHARLIE']\n"
   ]
  },
  {
   "cell_type": "code",
   "execution_count": 53,
   "id": "ca601958-3f0c-4c8b-bc6d-628ac7613191",
   "metadata": {},
   "outputs": [
    {
     "name": "stdout",
     "output_type": "stream",
     "text": [
      "[5, 6, 6]\n"
     ]
    }
   ],
   "source": [
    "# Program to calculate the length of each word in a list of strings using the map() function\n",
    "words = [\"apple\", \"banana\", \"cherry\"]\n",
    "\n",
    "word_lengths = map(len, words)\n",
    "print(list(word_lengths))  # Output: [5, 6, 6]\n"
   ]
  },
  {
   "cell_type": "code",
   "execution_count": 54,
   "id": "d73aea7d-6ab4-47df-8ae1-fca3bd0264d7",
   "metadata": {},
   "outputs": [
    {
     "name": "stdout",
     "output_type": "stream",
     "text": [
      "[5, 7, 9]\n"
     ]
    }
   ],
   "source": [
    "# Program to apply a custom function to elements of multiple lists using the map() function\n",
    "def add(x, y):\n",
    "    return x + y\n",
    "\n",
    "list1 = [1, 2, 3]\n",
    "list2 = [4, 5, 6]\n",
    "\n",
    "result = map(add, list1, list2)\n",
    "print(list(result))  # Output: [5, 7, 9]\n"
   ]
  },
  {
   "cell_type": "code",
   "execution_count": 55,
   "id": "606ed55d-5034-4bec-97af-dd479a7730c9",
   "metadata": {},
   "outputs": [
    {
     "name": "stdout",
     "output_type": "stream",
     "text": [
      "[32.0, 50.0, 68.0, 86.0, 104.0]\n"
     ]
    }
   ],
   "source": [
    "# Program to convert a list of temperatures from Celsius to Fahrenheit using the map() function\n",
    "def celsius_to_fahrenheit(celsius):\n",
    "    return (celsius * 9/5) + 32\n",
    "\n",
    "temperatures_celsius = [0, 10, 20, 30, 40]\n",
    "temperatures_fahrenheit = map(celsius_to_fahrenheit, temperatures_celsius)\n",
    "print(list(temperatures_fahrenheit))  # Output: [32.0, 50.0, 68.0, 86.0, 104.0]\n"
   ]
  },
  {
   "cell_type": "code",
   "execution_count": 56,
   "id": "3134de82-7b86-4ccc-b9fd-08b534352fe6",
   "metadata": {},
   "outputs": [
    {
     "name": "stdout",
     "output_type": "stream",
     "text": [
      "[1, 3, 4, 5, 5]\n"
     ]
    }
   ],
   "source": [
    "# Program to round each element of a list of floating-point numbers using the map() function\n",
    "numbers = [1.2, 2.7, 3.5, 4.9, 5.0]\n",
    "rounded_numbers = map(round, numbers)\n",
    "print(list(rounded_numbers))  # Output: [1, 3, 4, 5, 5]\n"
   ]
  },
  {
   "cell_type": "markdown",
   "id": "95b92208-b42d-4960-b1ed-c83b84be7541",
   "metadata": {},
   "source": [
    "What is the `reduce()` function in Python, and what module should you import to use it? Provide an example of its basic usage.\n",
    "Write a Python program that uses the `reduce()` function to find the product of all elements in a list.\n",
    "Create a Python program that uses `reduce()` to find the maximum element in a list of numbers.\n",
    "How can you use the `reduce()` function to concatenate a list of strings into a single string?\n",
    "Write a Python program that calculates the factorial of a number using the `reduce()` function.\n",
    "Create a Python program that uses `reduce()` to find the GCD (Greatest Common Divisor) of a list of numbers.\n",
    "Write a Python program that uses the `reduce()` function to find the sum of the digits of a given number.\n"
   ]
  },
  {
   "cell_type": "code",
   "execution_count": 57,
   "id": "842f2dff-e9e4-4be6-b443-4e9c80dbd35d",
   "metadata": {},
   "outputs": [
    {
     "name": "stdout",
     "output_type": "stream",
     "text": [
      "Sum of elements: 15\n"
     ]
    }
   ],
   "source": [
    "from functools import reduce\n",
    "\n",
    "numbers = [1, 2, 3, 4, 5]\n",
    "\n",
    "def add(x, y):\n",
    "    return x + y\n",
    "\n",
    "sum_result = reduce(add, numbers)\n",
    "print(\"Sum of elements:\", sum_result)  # Output: 15\n"
   ]
  },
  {
   "cell_type": "code",
   "execution_count": 58,
   "id": "8e9caf4b-f9f2-4657-9622-57eefd12ecc0",
   "metadata": {},
   "outputs": [
    {
     "name": "stdout",
     "output_type": "stream",
     "text": [
      "Product of elements: 120\n"
     ]
    }
   ],
   "source": [
    "from functools import reduce\n",
    "\n",
    "numbers = [1, 2, 3, 4, 5]\n",
    "\n",
    "def multiply(x, y):\n",
    "    return x * y\n",
    "\n",
    "product = reduce(multiply, numbers)\n",
    "print(\"Product of elements:\", product)  # Output: 120\n"
   ]
  },
  {
   "cell_type": "code",
   "execution_count": 59,
   "id": "d011b68b-acc5-42f9-8175-897bb3069696",
   "metadata": {},
   "outputs": [
    {
     "name": "stdout",
     "output_type": "stream",
     "text": [
      "Maximum element: 20\n"
     ]
    }
   ],
   "source": [
    "from functools import reduce\n",
    "\n",
    "numbers = [10, 5, 20, 8, 15]\n",
    "\n",
    "max_number = reduce(lambda x, y: x if x > y else y, numbers)\n",
    "print(\"Maximum element:\", max_number)  # Output: 20\n"
   ]
  },
  {
   "cell_type": "code",
   "execution_count": 60,
   "id": "104aac44-1526-43ed-9f7b-e3a9274794a5",
   "metadata": {},
   "outputs": [
    {
     "name": "stdout",
     "output_type": "stream",
     "text": [
      "Concatenated string: Hello World!\n"
     ]
    }
   ],
   "source": [
    "from functools import reduce\n",
    "\n",
    "strings = [\"Hello\", \" \", \"World\", \"!\"]\n",
    "\n",
    "concatenated_string = reduce(lambda x, y: x + y, strings)\n",
    "print(\"Concatenated string:\", concatenated_string)  # Output: Hello World!\n"
   ]
  },
  {
   "cell_type": "code",
   "execution_count": 61,
   "id": "4c98a3be-0426-467d-9117-7c62ab7abcd7",
   "metadata": {},
   "outputs": [
    {
     "name": "stdout",
     "output_type": "stream",
     "text": [
      "Factorial of 5 : 120\n"
     ]
    }
   ],
   "source": [
    "from functools import reduce\n",
    "\n",
    "def factorial(n):\n",
    "    return reduce(lambda x, y: x * y, range(1, n+1))\n",
    "\n",
    "num = 5\n",
    "factorial_result = factorial(num)\n",
    "print(\"Factorial of\", num, \":\", factorial_result)  # Output: 120\n"
   ]
  },
  {
   "cell_type": "code",
   "execution_count": 62,
   "id": "bba93f7d-8b1f-4342-a322-54a8a69778c0",
   "metadata": {},
   "outputs": [
    {
     "name": "stdout",
     "output_type": "stream",
     "text": [
      "GCD of numbers: 15\n"
     ]
    }
   ],
   "source": [
    "from functools import reduce\n",
    "import math\n",
    "\n",
    "numbers = [30, 45, 75]\n",
    "\n",
    "gcd = reduce(math.gcd, numbers)\n",
    "print(\"GCD of numbers:\", gcd)  # Output: 15\n"
   ]
  },
  {
   "cell_type": "code",
   "execution_count": 63,
   "id": "8218c8d8-ff44-4e4a-8d52-3130659b26d7",
   "metadata": {},
   "outputs": [
    {
     "name": "stdout",
     "output_type": "stream",
     "text": [
      "Sum of digits: 15\n"
     ]
    }
   ],
   "source": [
    "from functools import reduce\n",
    "\n",
    "number = 12345\n",
    "\n",
    "digit_sum = reduce(lambda x, y: int(x) + int(y), str(number))\n",
    "print(\"Sum of digits:\", digit_sum)  # Output: 15\n"
   ]
  },
  {
   "cell_type": "markdown",
   "id": "a50e7760-b1e4-46ae-8285-c8eb62a5c682",
   "metadata": {},
   "source": [
    "Explain the purpose of the `filter()` function in Python and provide an example of how it can be used to filter elements from an iterable.\n",
    "Write a Python program that uses the `filter()` function to select even numbers from a list of integers.\n",
    "Create a Python program that uses the `filter()` function to select names that start with a specific letter from a list of strings.\n",
    "Write a Python program that uses the `filter()` function to select prime numbers from a list of integers.\n",
    "How can you use the `filter()` function to remove None values from a list in Python?\n",
    "Create a Python program that uses `filter()` to select words longer than a certain length from a list of strings.\n",
    "Write a Python program that uses the `filter()` function to select elements greater than a specified threshold from a list of values.\n"
   ]
  },
  {
   "cell_type": "code",
   "execution_count": 64,
   "id": "f5b4a72f-4513-49f0-abe7-48137ee4a24b",
   "metadata": {},
   "outputs": [
    {
     "name": "stdout",
     "output_type": "stream",
     "text": [
      "[2, 4, 6, 8, 10]\n"
     ]
    }
   ],
   "source": [
    "# Example of using the filter() function to filter elements from an iterable\n",
    "def is_even(num):\n",
    "    return num % 2 == 0\n",
    "\n",
    "numbers = [1, 2, 3, 4, 5, 6, 7, 8, 9, 10]\n",
    "even_numbers = filter(is_even, numbers)\n",
    "print(list(even_numbers))  # Output: [2, 4, 6, 8, 10]\n"
   ]
  },
  {
   "cell_type": "code",
   "execution_count": 65,
   "id": "49fddeb6-32b9-409d-ae5e-62b0f9a90ed5",
   "metadata": {},
   "outputs": [
    {
     "name": "stdout",
     "output_type": "stream",
     "text": [
      "[2, 4, 6, 8, 10]\n"
     ]
    }
   ],
   "source": [
    "numbers = [1, 2, 3, 4, 5, 6, 7, 8, 9, 10]\n",
    "\n",
    "even_numbers = filter(lambda x: x % 2 == 0, numbers)\n",
    "print(list(even_numbers))  # Output: [2, 4, 6, 8, 10]\n"
   ]
  },
  {
   "cell_type": "code",
   "execution_count": 66,
   "id": "1caeece4-0047-4f7b-9044-b039890379db",
   "metadata": {},
   "outputs": [
    {
     "name": "stdout",
     "output_type": "stream",
     "text": [
      "['Charlie']\n"
     ]
    }
   ],
   "source": [
    "names = [\"Alice\", \"Bob\", \"Charlie\", \"David\", \"Ella\"]\n",
    "\n",
    "starts_with_c = filter(lambda x: x.startswith(\"C\"), names)\n",
    "print(list(starts_with_c))  # Output: ['Charlie']\n"
   ]
  },
  {
   "cell_type": "code",
   "execution_count": 67,
   "id": "733bd015-c560-4233-a9a2-f36dbc574df7",
   "metadata": {},
   "outputs": [
    {
     "name": "stdout",
     "output_type": "stream",
     "text": [
      "[2, 3, 5, 7]\n"
     ]
    }
   ],
   "source": [
    "import math\n",
    "\n",
    "def is_prime(num):\n",
    "    if num <= 1:\n",
    "        return False\n",
    "    for i in range(2, int(math.sqrt(num)) + 1):\n",
    "        if num % i == 0:\n",
    "            return False\n",
    "    return True\n",
    "\n",
    "numbers = [2, 3, 4, 5, 6, 7, 8, 9, 10]\n",
    "\n",
    "prime_numbers = filter(is_prime, numbers)\n",
    "print(list(prime_numbers))  # Output: [2, 3, 5, 7]\n"
   ]
  },
  {
   "cell_type": "code",
   "execution_count": 68,
   "id": "06d084c8-951a-4911-bdd8-b56141b32a21",
   "metadata": {},
   "outputs": [
    {
     "name": "stdout",
     "output_type": "stream",
     "text": [
      "[10, 20, 30, 40]\n"
     ]
    }
   ],
   "source": [
    "values = [10, None, 20, None, 30, None, 40]\n",
    "\n",
    "filtered_values = filter(lambda x: x is not None, values)\n",
    "print(list(filtered_values))  # Output: [10, 20, 30, 40]\n"
   ]
  },
  {
   "cell_type": "code",
   "execution_count": 69,
   "id": "ee32846f-e98f-409d-bfeb-4005f12d8a0c",
   "metadata": {},
   "outputs": [
    {
     "name": "stdout",
     "output_type": "stream",
     "text": [
      "['banana', 'cherry', 'grapes', 'orange']\n"
     ]
    }
   ],
   "source": [
    "words = [\"apple\", \"banana\", \"cherry\", \"grapes\", \"orange\"]\n",
    "\n",
    "long_words = filter(lambda x: len(x) > 5, words)\n",
    "print(list(long_words))  # Output: ['banana', 'cherry', 'grapes']\n"
   ]
  },
  {
   "cell_type": "code",
   "execution_count": 70,
   "id": "e2a3f5d2-f562-4f5a-8ded-a4f69e98e08e",
   "metadata": {},
   "outputs": [
    {
     "name": "stdout",
     "output_type": "stream",
     "text": [
      "[25, 30, 40]\n"
     ]
    }
   ],
   "source": [
    "values = [10, 25, 30, 15, 5, 40]\n",
    "\n",
    "threshold = 20\n",
    "filtered_values = filter(lambda x: x > threshold, values)\n",
    "print(list(filtered_values))  # Output: [25, 30, 40]\n"
   ]
  },
  {
   "cell_type": "markdown",
   "id": "9830cf5b-5aa5-41bc-bb6a-bbfa64a1c613",
   "metadata": {},
   "source": [
    "Explain the concept of recursion in Python. How does it differ from iteration?\n",
    "Write a Python program to calculate the factorial of a number using recursion.\n",
    "Create a recursive Python function to find the nth Fibonacci number.\n",
    "Write a recursive Python function to calculate the sum of all elements in a list.\n",
    "How can you prevent a recursive function from running indefinitely, causing a stack overflow error?\n",
    "Create a recursive Python function to find the greatest common divisor (GCD) of two numbers using the Euclidean algorithm.\n",
    "Write a recursive Python function to reverse a string.\n",
    "Create a recursive Python function to calculate the power of a number (x^n).\n",
    "Write a recursive Python function to find all permutations of a given string.\n",
    "Write a recursive Python function to check if a string is a palindrome.\n",
    "Create a recursive Python function to generate all possible combinations of a list of elements.\n"
   ]
  },
  {
   "cell_type": "markdown",
   "id": "92114170-bd99-4aea-9eb3-7621ee654a20",
   "metadata": {},
   "source": [
    "Recursion in Python refers to the process in which a function calls itself directly or indirectly to solve a problem. In a recursive approach, the problem is divided into smaller subproblems, and the function calls itself with these smaller subproblems until a base case is reached where the solution is directly computed without further recursion. Recursion is a powerful concept in programming that is commonly used in solving problems that can be broken down into smaller, similar subproblems.\n",
    "\n",
    "Here's an explanation of how recursion differs from iteration:\n",
    "\n",
    "Recursion:\n",
    "Uses function calls to solve a problem by dividing it into smaller subproblems.\n",
    "Typically involves a base case that defines when the recursion should stop.\n",
    "Requires additional memory for each recursive call, as each call creates a new stack frame.\n",
    "Useful for solving problems that can be naturally divided into smaller, similar subproblems.\n",
    "Iteration:\n",
    "Uses loops (such as for loops or while loops) to repeatedly execute a block of code until a condition is met.\n",
    "Does not require additional memory for each iteration, as the loop variables are reused.\n",
    "Can sometimes be more efficient than recursion for certain types of problems.\n",
    "Useful for repetitive tasks or when the number of iterations is known in advance."
   ]
  },
  {
   "cell_type": "code",
   "execution_count": 71,
   "id": "5a2c0397-210c-4d86-a8d2-d3fd2337c06f",
   "metadata": {},
   "outputs": [
    {
     "name": "stdout",
     "output_type": "stream",
     "text": [
      "Factorial of 5 : 120\n"
     ]
    }
   ],
   "source": [
    "def factorial(n):\n",
    "    if n == 0:\n",
    "        return 1\n",
    "    else:\n",
    "        return n * factorial(n - 1)\n",
    "\n",
    "num = 5\n",
    "print(\"Factorial of\", num, \":\", factorial(num))  # Output: 120\n"
   ]
  },
  {
   "cell_type": "code",
   "execution_count": 72,
   "id": "4c2467a4-ea78-44db-8fad-c62ac2e4db0d",
   "metadata": {},
   "outputs": [
    {
     "name": "stdout",
     "output_type": "stream",
     "text": [
      "Fibonacci number at position 6 : 5\n"
     ]
    }
   ],
   "source": [
    "def fibonacci(n):\n",
    "    if n <= 0:\n",
    "        return \"Invalid input\"\n",
    "    elif n == 1:\n",
    "        return 0\n",
    "    elif n == 2:\n",
    "        return 1\n",
    "    else:\n",
    "        return fibonacci(n - 1) + fibonacci(n - 2)\n",
    "\n",
    "n = 6\n",
    "print(\"Fibonacci number at position\", n, \":\", fibonacci(n))  # Output: 5\n"
   ]
  },
  {
   "cell_type": "code",
   "execution_count": 73,
   "id": "a9d50330-5b2e-455e-807f-4fbb648d1641",
   "metadata": {},
   "outputs": [
    {
     "name": "stdout",
     "output_type": "stream",
     "text": [
      "Sum of elements in the list: 15\n"
     ]
    }
   ],
   "source": [
    "def list_sum(arr):\n",
    "    if len(arr) == 0:\n",
    "        return 0\n",
    "    else:\n",
    "        return arr[0] + list_sum(arr[1:])\n",
    "\n",
    "numbers = [1, 2, 3, 4, 5]\n",
    "print(\"Sum of elements in the list:\", list_sum(numbers))  # Output: 15\n"
   ]
  },
  {
   "cell_type": "code",
   "execution_count": 74,
   "id": "4569cfdc-bac4-4afe-a8d9-db66bdfe503e",
   "metadata": {},
   "outputs": [
    {
     "name": "stdout",
     "output_type": "stream",
     "text": [
      "GCD of 48 and 18 : 6\n"
     ]
    }
   ],
   "source": [
    "def gcd(a, b):\n",
    "    if b == 0:\n",
    "        return a\n",
    "    else:\n",
    "        return gcd(b, a % b)\n",
    "\n",
    "num1 = 48\n",
    "num2 = 18\n",
    "print(\"GCD of\", num1, \"and\", num2, \":\", gcd(num1, num2))  # Output: 6\n"
   ]
  },
  {
   "cell_type": "code",
   "execution_count": 75,
   "id": "baeef786-3f38-46bd-bafc-2381d14d51c7",
   "metadata": {},
   "outputs": [
    {
     "name": "stdout",
     "output_type": "stream",
     "text": [
      "Reversed string: olleh\n"
     ]
    }
   ],
   "source": [
    "def reverse_string(s):\n",
    "    if len(s) <= 1:\n",
    "        return s\n",
    "    else:\n",
    "        return reverse_string(s[1:]) + s[0]\n",
    "\n",
    "string = \"hello\"\n",
    "print(\"Reversed string:\", reverse_string(string))  # Output: \"olleh\"\n"
   ]
  },
  {
   "cell_type": "code",
   "execution_count": 76,
   "id": "c3ee22db-8644-4d16-b17a-9a21b2fadea9",
   "metadata": {},
   "outputs": [
    {
     "name": "stdout",
     "output_type": "stream",
     "text": [
      "Power of 2 raised to 5 : 32\n"
     ]
    }
   ],
   "source": [
    "def power(x, n):\n",
    "    if n == 0:\n",
    "        return 1\n",
    "    else:\n",
    "        return x * power(x, n - 1)\n",
    "\n",
    "base = 2\n",
    "exponent = 5\n",
    "print(\"Power of\", base, \"raised to\", exponent, \":\", power(base, exponent))  # Output: 32\n"
   ]
  },
  {
   "cell_type": "code",
   "execution_count": 77,
   "id": "9f5cea76-783c-46bd-a0af-eb01c16a66b8",
   "metadata": {},
   "outputs": [
    {
     "name": "stdout",
     "output_type": "stream",
     "text": [
      "Permutations of abc : ['abc', 'acb', 'bac', 'bca', 'cab', 'cba']\n"
     ]
    }
   ],
   "source": [
    "def permutations(s):\n",
    "    if len(s) == 1:\n",
    "        return [s]\n",
    "    else:\n",
    "        perms = []\n",
    "        for i, char in enumerate(s):\n",
    "            for perm in permutations(s[:i] + s[i + 1:]):\n",
    "                perms.append(char + perm)\n",
    "        return perms\n",
    "\n",
    "string = \"abc\"\n",
    "print(\"Permutations of\", string, \":\", permutations(string))  # Output: ['abc', 'acb', 'bac', 'bca', 'cab', 'cba']\n"
   ]
  },
  {
   "cell_type": "code",
   "execution_count": 78,
   "id": "10622caa-6226-4998-bee5-a644f59fa402",
   "metadata": {},
   "outputs": [
    {
     "name": "stdout",
     "output_type": "stream",
     "text": [
      "Is radar a palindrome? True\n"
     ]
    }
   ],
   "source": [
    "def is_palindrome(s):\n",
    "    if len(s) <= 1:\n",
    "        return True\n",
    "    elif s[0] != s[-1]:\n",
    "        return False\n",
    "    else:\n",
    "        return is_palindrome(s[1:-1])\n",
    "\n",
    "string = \"radar\"\n",
    "print(\"Is\", string, \"a palindrome?\", is_palindrome(string))  # Output: True\n"
   ]
  },
  {
   "cell_type": "code",
   "execution_count": 79,
   "id": "83011d14-7678-4993-925f-dcf467538d09",
   "metadata": {},
   "outputs": [
    {
     "name": "stdout",
     "output_type": "stream",
     "text": [
      "All combinations of [1, 2, 3] : [(1,), (2,), (3,), (1, 2), (1, 3), (2, 3), (1, 2, 3)]\n"
     ]
    }
   ],
   "source": [
    "from itertools import combinations\n",
    "\n",
    "def all_combinations(arr):\n",
    "    combs = []\n",
    "    for r in range(1, len(arr) + 1):\n",
    "        combs.extend(combinations(arr, r))\n",
    "    return combs\n",
    "\n",
    "elements = [1, 2, 3]\n",
    "print(\"All combinations of\", elements, \":\", all_combinations(elements))\n"
   ]
  },
  {
   "cell_type": "markdown",
   "id": "1a9e54ca-3979-4f79-af84-05d1f3bb4082",
   "metadata": {},
   "source": [
    "What is a function in Python, and why is it used?\n",
    "How do you define a function in Python? Provide an example.\n",
    "Explain the difference between a function definition and a function call.\n",
    "Write a Python program that defines a function to calculate the sum of two numbers and then calls the function.\n",
    "What is a function signature, and what information does it typically include?\n",
    "Create a Python function that takes two arguments and returns their product.\n"
   ]
  },
  {
   "cell_type": "markdown",
   "id": "cf720ad7-89e9-48dc-8881-9c35fbffb4cf",
   "metadata": {},
   "source": [
    "A function in Python is a block of reusable code that performs a specific task or calculates a result when called. Functions are used to organize code into logical units, improve code readability, promote code reusability, and simplify complex tasks by breaking them down into smaller, manageable parts. Functions allow developers to encapsulate functionality, making the code modular and easier to maintain."
   ]
  },
  {
   "cell_type": "code",
   "execution_count": 80,
   "id": "14c167db-3348-414a-ab77-41eb37409e8b",
   "metadata": {},
   "outputs": [
    {
     "ename": "SyntaxError",
     "evalue": "invalid syntax (2512653641.py, line 1)",
     "output_type": "error",
     "traceback": [
      "\u001b[0;36m  Cell \u001b[0;32mIn[80], line 1\u001b[0;36m\u001b[0m\n\u001b[0;31m    def function_name(parameter1, parameter2, ...):\u001b[0m\n\u001b[0m                                              ^\u001b[0m\n\u001b[0;31mSyntaxError\u001b[0m\u001b[0;31m:\u001b[0m invalid syntax\n"
     ]
    }
   ],
   "source": [
    "def function_name(parameter1, parameter2, ...):\n",
    "    # Function body\n",
    "    # Code that performs the desired task\n",
    "    return result  # Optional: Return statement to send back a result\n"
   ]
  },
  {
   "cell_type": "code",
   "execution_count": 81,
   "id": "4dd3eef8-960d-4aa1-9427-d7b3074e1e41",
   "metadata": {},
   "outputs": [
    {
     "name": "stdout",
     "output_type": "stream",
     "text": [
      "Sum of 3 and 5 is: 8\n"
     ]
    }
   ],
   "source": [
    "def calculate_sum(a, b):\n",
    "    sum_result = a + b\n",
    "    return sum_result\n",
    "\n",
    "# Calling the function with arguments 3 and 5\n",
    "result = calculate_sum(3, 5)\n",
    "print(\"Sum of 3 and 5 is:\", result)  # Output: Sum of 3 and 5 is: 8\n"
   ]
  },
  {
   "cell_type": "markdown",
   "id": "c10ea7db-c4a8-4baf-ad9c-0e488261d0dd",
   "metadata": {},
   "source": [
    "The difference between a function definition and a function call is as follows:\n",
    "\n",
    "Function Definition: This is where you define the structure and behavior of a function. It includes the function name, parameters, and the code block that executes when the function is called.\n",
    "Function Call: This is where you actually use the defined function by providing the necessary arguments (if any) and invoking the function to execute its code block. The function call triggers the execution of the function's code and may return a result."
   ]
  },
  {
   "cell_type": "markdown",
   "id": "3547f60a-d992-4910-841c-28ffb56adebf",
   "metadata": {},
   "source": [
    "A function signature typically includes:\n",
    "\n",
    "The function name.\n",
    "The parameters (if any) the function accepts, along with their types (if specified).\n",
    "The return type of the function (if specified)."
   ]
  },
  {
   "cell_type": "code",
   "execution_count": 82,
   "id": "c0bcd47c-8336-4732-ae52-90e412657739",
   "metadata": {},
   "outputs": [
    {
     "name": "stdout",
     "output_type": "stream",
     "text": [
      "Product of 4 and 7 is: 28\n"
     ]
    }
   ],
   "source": [
    "def calculate_product(x, y):\n",
    "    product_result = x * y\n",
    "    return product_result\n",
    "\n",
    "# Calling the function with arguments 4 and 7\n",
    "result = calculate_product(4, 7)\n",
    "print(\"Product of 4 and 7 is:\", result)  # Output: Product of 4 and 7 is: 28\n"
   ]
  },
  {
   "cell_type": "markdown",
   "id": "34726b52-655d-42de-a4d4-dc30f41a32d0",
   "metadata": {},
   "source": [
    "Explain the concepts of formal parameters and actual arguments in Python functions.\n",
    "Write a Python program that defines a function with default argument values.\n",
    "How do you use keyword arguments in Python function calls? Provide an example.\n",
    "Create a Python function that accepts a variable number of arguments and calculates their sum.\n",
    "What is the purpose of the `*args` and `**kwargs` syntax in function parameter lists?\n"
   ]
  },
  {
   "cell_type": "markdown",
   "id": "fcdc334b-73cd-4061-b2d5-6ec233e2facc",
   "metadata": {},
   "source": [
    "Formal parameters and actual arguments are concepts related to function parameters in Python.\n",
    "\n",
    "Formal Parameters: Formal parameters are the placeholders or variables used in the function definition to represent the data that the function expects to receive when it is called. These parameters are specified within the parentheses in the function header.\n",
    "Actual Arguments: Actual arguments are the values or expressions provided to a function when it is called. These arguments are passed to the function to be used with the formal parameters defined in the function's header. Actual arguments can be constants, variables, expressions, or even other function calls."
   ]
  },
  {
   "cell_type": "code",
   "execution_count": 83,
   "id": "0ecb5701-c3e4-40f5-9631-ad565a114a5c",
   "metadata": {},
   "outputs": [
    {
     "name": "stdout",
     "output_type": "stream",
     "text": [
      "Hello, Guest\n",
      "Hello, Alice\n"
     ]
    }
   ],
   "source": [
    "def greet(name='Guest'):\n",
    "    print(\"Hello,\", name)\n",
    "\n",
    "# Calling the function without providing an argument\n",
    "greet()  # Output: Hello, Guest\n",
    "\n",
    "# Calling the function with an argument\n",
    "greet(\"Alice\")  # Output: Hello, Alice\n"
   ]
  },
  {
   "cell_type": "code",
   "execution_count": 84,
   "id": "0222413a-9601-49eb-9c51-155959dc4db1",
   "metadata": {},
   "outputs": [
    {
     "name": "stdout",
     "output_type": "stream",
     "text": [
      "Name: Alice\n",
      "Age: 30\n",
      "City: Unknown\n",
      "Name: Bob\n",
      "Age: 25\n",
      "City: New York\n"
     ]
    }
   ],
   "source": [
    "def create_person(name, age, city='Unknown'):\n",
    "    print(\"Name:\", name)\n",
    "    print(\"Age:\", age)\n",
    "    print(\"City:\", city)\n",
    "\n",
    "# Using keyword arguments in the function call\n",
    "create_person(name='Alice', age=30)  # Output: Name: Alice, Age: 30, City: Unknown\n",
    "\n",
    "# Providing all arguments without using keywords\n",
    "create_person('Bob', 25, 'New York')  # Output: Name: Bob, Age: 25, City: New York\n"
   ]
  },
  {
   "cell_type": "code",
   "execution_count": 85,
   "id": "af9f4d6c-0ac3-44b9-a0d3-c4886ce15201",
   "metadata": {},
   "outputs": [
    {
     "name": "stdout",
     "output_type": "stream",
     "text": [
      "Sum of numbers: 15\n"
     ]
    }
   ],
   "source": [
    "def calculate_sum(*args):\n",
    "    total = sum(args)\n",
    "    return total\n",
    "\n",
    "result = calculate_sum(1, 2, 3, 4, 5)\n",
    "print(\"Sum of numbers:\", result)  # Output: Sum of numbers: 15\n"
   ]
  },
  {
   "cell_type": "markdown",
   "id": "657a9698-c3f8-4047-9302-bc0dfffbdee5",
   "metadata": {},
   "source": [
    "The purpose of *args and **kwargs syntax in function parameter lists is as follows:\n",
    "\n",
    "*args: This syntax allows a function to accept an arbitrary number of positional arguments. The args parameter inside the function becomes a tuple containing all the positional arguments passed to the function.\n",
    "**kwargs: This syntax allows a function to accept an arbitrary number of keyword arguments. The kwargs parameter inside the function becomes a dictionary containing all the keyword arguments passed to the function."
   ]
  },
  {
   "cell_type": "markdown",
   "id": "accba731-a90b-4d8b-b79f-d4fb30d84674",
   "metadata": {},
   "source": [
    "Describe the role of the `return` statement in Python functions and provide examples.\n",
    "Explain the concept of variable scope in Python, including local and global variables.\n",
    "Write a Python program that demonstrates the use of global variables within functions.\n",
    "Create a Python function that calculates the factorial of a number and returns it.\n",
    "How can you access variables defined outside a function from within the function?\n"
   ]
  },
  {
   "cell_type": "markdown",
   "id": "0ef8c1a3-b0b5-4bc1-88bc-26f91b774617",
   "metadata": {},
   "source": [
    "The return statement in Python functions is used to exit the function and return a value (or multiple values) to the caller. It allows functions to compute a result and pass that result back to the code that called the function. The return statement can be used to return any type of data, including numbers, strings, lists, tuples, dictionaries, or even other functions."
   ]
  },
  {
   "cell_type": "code",
   "execution_count": 86,
   "id": "b258601a-0d59-43a5-a65c-803772ed1d74",
   "metadata": {},
   "outputs": [
    {
     "name": "stdout",
     "output_type": "stream",
     "text": [
      "Sum: 8\n"
     ]
    }
   ],
   "source": [
    "def add_numbers(a, b):\n",
    "    return a + b\n",
    "\n",
    "result = add_numbers(3, 5)\n",
    "print(\"Sum:\", result)  # Output: Sum: 8\n"
   ]
  },
  {
   "cell_type": "code",
   "execution_count": 87,
   "id": "4496e961-a8a8-4a9f-a045-5e30bb607fb6",
   "metadata": {},
   "outputs": [
    {
     "name": "stdout",
     "output_type": "stream",
     "text": [
      "Mean: 30.0\n",
      "Variance: 200.0\n"
     ]
    }
   ],
   "source": [
    "def calculate_stats(numbers):\n",
    "    mean = sum(numbers) / len(numbers)\n",
    "    variance = sum((x - mean) ** 2 for x in numbers) / len(numbers)\n",
    "    return mean, variance\n",
    "\n",
    "data = [10, 20, 30, 40, 50]\n",
    "mean, variance = calculate_stats(data)\n",
    "print(\"Mean:\", mean)\n",
    "print(\"Variance:\", variance)\n"
   ]
  },
  {
   "cell_type": "code",
   "execution_count": 88,
   "id": "d1d76d42-74ab-4e21-9871-7c452668d811",
   "metadata": {},
   "outputs": [
    {
     "name": "stdout",
     "output_type": "stream",
     "text": [
      "Sequence: [1, 4, 9, 16, 25]\n"
     ]
    }
   ],
   "source": [
    "def generate_sequence(n):\n",
    "    return [x ** 2 for x in range(1, n + 1)]\n",
    "\n",
    "sequence = generate_sequence(5)\n",
    "print(\"Sequence:\", sequence)  # Output: Sequence: [1, 4, 9, 16, 25]\n"
   ]
  },
  {
   "cell_type": "markdown",
   "id": "354b95e4-f8a5-44ba-b599-8e47e6f40882",
   "metadata": {},
   "source": [
    "Variable scope in Python refers to the area of a program where a variable is accessible. There are two main types of variable scope:\n",
    "\n",
    "Local Variables: Variables defined within a function have local scope. They can only be accessed within that function and are not accessible outside of it.\n",
    "Global Variables: Variables defined outside of any function or at the top level of a module have global scope. They can be accessed from anywhere in the code, including inside functions."
   ]
  },
  {
   "cell_type": "code",
   "execution_count": 89,
   "id": "8bbdc55f-de33-4737-81e3-82e1ee43af2f",
   "metadata": {},
   "outputs": [
    {
     "name": "stdout",
     "output_type": "stream",
     "text": [
      "Global variable before function call: 10\n",
      "Global variable after function call: 15\n"
     ]
    }
   ],
   "source": [
    "global_var = 10  # Global variable\n",
    "\n",
    "def modify_global():\n",
    "    global global_var\n",
    "    global_var += 5  # Modify the global variable\n",
    "\n",
    "print(\"Global variable before function call:\", global_var)\n",
    "modify_global()\n",
    "print(\"Global variable after function call:\", global_var)\n"
   ]
  },
  {
   "cell_type": "code",
   "execution_count": 90,
   "id": "f7c97014-9506-4382-a27f-255c5f496b77",
   "metadata": {},
   "outputs": [
    {
     "name": "stdout",
     "output_type": "stream",
     "text": [
      "Factorial of 5 is: 120\n"
     ]
    }
   ],
   "source": [
    "def factorial(n):\n",
    "    if n == 0:\n",
    "        return 1\n",
    "    else:\n",
    "        return n * factorial(n - 1)\n",
    "\n",
    "result = factorial(5)\n",
    "print(\"Factorial of 5 is:\", result)  # Output: Factorial of 5 is: 120\n"
   ]
  },
  {
   "cell_type": "markdown",
   "id": "353ee3e8-a21f-40da-8d4c-f5e848158701",
   "metadata": {},
   "source": [
    "What are lambda functions in Python, and when are they typically used?\n",
    "Write a Python program that uses lambda functions to sort a list of tuples based on the second element.\n",
    "Explain the concept of higher-order functions in Python, and provide an example.\n",
    "Create a Python function that takes a list of numbers and a function as arguments, applying the function to each element in the list.\n"
   ]
  },
  {
   "cell_type": "markdown",
   "id": "f42fb6e0-ddb0-4be5-a448-dc41a480bdd5",
   "metadata": {},
   "source": [
    "Lambda functions in Python are anonymous functions that can have any number of arguments but only one expression. They are defined using the lambda keyword and are typically used when you need a small, temporary function for a specific task without the need to define a formal function using the def keyword."
   ]
  },
  {
   "cell_type": "code",
   "execution_count": null,
   "id": "fdf534d6-8800-4d90-b7fc-f9aad7705343",
   "metadata": {},
   "outputs": [],
   "source": [
    "lambda arguments: expression\n"
   ]
  },
  {
   "cell_type": "markdown",
   "id": "50857088-5f46-40c0-93a2-945a5f737cdb",
   "metadata": {},
   "source": [
    "Lambda functions are typically used in situations where you need a simple function as an argument to another function (e.g., in sorting, filtering, mapping, etc.) or when you want to define a quick function without assigning it a name."
   ]
  },
  {
   "cell_type": "code",
   "execution_count": 91,
   "id": "6958d6a5-b267-43ad-a37e-8a6a3cfcf61d",
   "metadata": {},
   "outputs": [
    {
     "name": "stdout",
     "output_type": "stream",
     "text": [
      "Sorted data: [(3, 'Alice'), (1, 'Bob'), (2, 'Charlie')]\n"
     ]
    }
   ],
   "source": [
    "data = [(3, 'Alice'), (1, 'Bob'), (2, 'Charlie')]\n",
    "\n",
    "sorted_data = sorted(data, key=lambda x: x[1])  # Sort based on the second element of each tuple\n",
    "print(\"Sorted data:\", sorted_data)  # Output: Sorted data: [(3, 'Alice'), (1, 'Bob'), (2, 'Charlie')]\n"
   ]
  },
  {
   "cell_type": "markdown",
   "id": "d84c0d88-8987-4a06-a3d1-dba755dda347",
   "metadata": {},
   "source": [
    "Higher-order functions in Python are functions that can take other functions as arguments, return functions as results, or both. They enable functional programming paradigms by treating functions as first-class citizens, allowing functions to be manipulated and used like any other data type."
   ]
  },
  {
   "cell_type": "code",
   "execution_count": 92,
   "id": "7fe59995-92c0-47ce-93d2-e2768d6628fe",
   "metadata": {},
   "outputs": [
    {
     "name": "stdout",
     "output_type": "stream",
     "text": [
      "Squared numbers: [1, 4, 9, 16, 25]\n"
     ]
    }
   ],
   "source": [
    "def apply_function_to_list(numbers, func):\n",
    "    return [func(num) for num in numbers]\n",
    "\n",
    "numbers = [1, 2, 3, 4, 5]\n",
    "\n",
    "# Define a lambda function to square a number\n",
    "square_func = lambda x: x ** 2\n",
    "\n",
    "# Apply the square function to each element in the list using the higher-order function\n",
    "result = apply_function_to_list(numbers, square_func)\n",
    "print(\"Squared numbers:\", result)  # Output: Squared numbers: [1, 4, 9, 16, 25]\n"
   ]
  },
  {
   "cell_type": "markdown",
   "id": "63e2e807-19ce-44e8-b505-8b21f85ebd25",
   "metadata": {},
   "source": [
    "Describe the role of built-in functions like `len()`, `max()`, and `min()` in Python.\n",
    "Write a Python program that uses the `map()` function to apply a function to each element of a list.\n",
    "How does the `filter()` function work in Python, and when would you use it?\n",
    "Create a Python program that uses the `reduce()` function to find the product of all elements in a list.\n"
   ]
  },
  {
   "cell_type": "markdown",
   "id": "dcd73a67-5cdb-43cf-8f3f-6e01ad190cd4",
   "metadata": {},
   "source": [
    "Built-in functions like len(), max(), and min() in Python play essential roles in performing common operations on data structures:\n",
    "\n",
    "len(): This function returns the length (number of items) of an object. It can be used with sequences like strings, lists, tuples, dictionaries, and sets, as well as other iterable objects.\n",
    "max(): This function returns the maximum element from a sequence or multiple arguments. When used with multiple arguments, it returns the largest argument.\n",
    "min(): This function returns the minimum element from a sequence or multiple arguments. When used with multiple arguments, it returns the smallest argument."
   ]
  },
  {
   "cell_type": "code",
   "execution_count": 93,
   "id": "a90558ea-17c4-4b36-bfe4-38c9ab3944e3",
   "metadata": {},
   "outputs": [
    {
     "name": "stdout",
     "output_type": "stream",
     "text": [
      "Length of the list: 5\n",
      "Maximum value: 9\n",
      "Minimum value: 2\n"
     ]
    }
   ],
   "source": [
    "my_list = [3, 7, 2, 9, 5]\n",
    "\n",
    "# Using len() to get the length of the list\n",
    "list_length = len(my_list)\n",
    "print(\"Length of the list:\", list_length)  # Output: Length of the list: 5\n",
    "\n",
    "# Using max() and min() to get the maximum and minimum elements of the list\n",
    "max_value = max(my_list)\n",
    "min_value = min(my_list)\n",
    "print(\"Maximum value:\", max_value)  # Output: Maximum value: 9\n",
    "print(\"Minimum value:\", min_value)  # Output: Minimum value: 2\n"
   ]
  },
  {
   "cell_type": "code",
   "execution_count": 94,
   "id": "27cf38d7-e929-46a5-bc52-3602eecc65d3",
   "metadata": {},
   "outputs": [
    {
     "name": "stdout",
     "output_type": "stream",
     "text": [
      "Squared numbers: [1, 4, 9, 16, 25]\n"
     ]
    }
   ],
   "source": [
    "def square(num):\n",
    "    return num ** 2\n",
    "\n",
    "numbers = [1, 2, 3, 4, 5]\n",
    "\n",
    "# Using map() to apply the square function to each element of the list\n",
    "squared_numbers = list(map(square, numbers))\n",
    "print(\"Squared numbers:\", squared_numbers)  # Output: Squared numbers: [1, 4, 9, 16, 25]\n",
    "\n"
   ]
  },
  {
   "cell_type": "markdown",
   "id": "52b829d4-6797-4394-a1a9-204b4c613b36",
   "metadata": {},
   "source": [
    "The map() function applies the square function to each element of the numbers list, producing a new list with the squared values.\n",
    "\n",
    "The filter() function in Python is used to filter elements from an iterable based on a specified condition. It takes two arguments: a function (or None) that tests each element of the iterable, and the iterable itself. The function should return True for elements that should be included in the result and False for elements that should be excluded.\n",
    "\n",
    "You would use the filter() function when you need to selectively filter elements from a list, tuple, or other iterable based on a specific criterion."
   ]
  },
  {
   "cell_type": "code",
   "execution_count": 95,
   "id": "643340ac-9764-4e66-9c5b-009eb80288b6",
   "metadata": {},
   "outputs": [
    {
     "name": "stdout",
     "output_type": "stream",
     "text": [
      "Even numbers: [2, 4, 6, 8, 10]\n"
     ]
    }
   ],
   "source": [
    "def is_even(num):\n",
    "    return num % 2 == 0\n",
    "\n",
    "numbers = [1, 2, 3, 4, 5, 6, 7, 8, 9, 10]\n",
    "\n",
    "# Using filter() to select even numbers from the list\n",
    "even_numbers = list(filter(is_even, numbers))\n",
    "print(\"Even numbers:\", even_numbers)  # Output: Even numbers: [2, 4, 6, 8, 10]\n"
   ]
  },
  {
   "cell_type": "code",
   "execution_count": 96,
   "id": "f86827d6-d5f9-4248-8f7d-324ed96a50e0",
   "metadata": {},
   "outputs": [
    {
     "name": "stdout",
     "output_type": "stream",
     "text": [
      "Product of all elements: 120\n"
     ]
    }
   ],
   "source": [
    "from functools import reduce\n",
    "\n",
    "def multiply(x, y):\n",
    "    return x * y\n",
    "\n",
    "numbers = [1, 2, 3, 4, 5]\n",
    "\n",
    "# Using reduce() to find the product of all elements in the list\n",
    "product = reduce(multiply, numbers)\n",
    "print(\"Product of all elements:\", product)  # Output: Product of all elements: 120\n"
   ]
  },
  {
   "cell_type": "markdown",
   "id": "1f50617c-b687-4048-ac36-8c2ac485b22e",
   "metadata": {},
   "source": [
    "The reduce() function applies the multiply function (which calculates the product of two numbers) cumulatively to the elements of the numbers list, resulting in the product of all elements."
   ]
  },
  {
   "cell_type": "markdown",
   "id": "3af091fb-b577-4ab0-be71-d0afd14650ac",
   "metadata": {},
   "source": [
    "Explain the purpose of docstrings in Python functions and how to write them.\n",
    "Describe some best practices for naming functions and variables in Python, including naming conventions and guidelines.\n"
   ]
  },
  {
   "cell_type": "markdown",
   "id": "ca1e63fc-bd16-4e52-a796-c3702f202581",
   "metadata": {},
   "source": [
    "Docstrings in Python functions serve the purpose of providing documentation or a description of what the function does, its parameters, return values, and any other relevant information. They help improve code readability, facilitate understanding for developers who use or maintain the code, and serve as a reference for using the function correctly."
   ]
  },
  {
   "cell_type": "code",
   "execution_count": 97,
   "id": "1b304c65-9263-4b96-8a25-ca2880bef3e2",
   "metadata": {},
   "outputs": [],
   "source": [
    "def my_function(param1, param2):\n",
    "    \"\"\"\n",
    "    This is a docstring that describes what my_function does.\n",
    "\n",
    "    Parameters:\n",
    "    param1 (int): Description of param1.\n",
    "    param2 (str): Description of param2.\n",
    "\n",
    "    Returns:\n",
    "    bool: Description of the return value.\n",
    "    \"\"\"\n",
    "    # Function body\n",
    "    return True\n"
   ]
  },
  {
   "cell_type": "markdown",
   "id": "f98dcdf4-fcfd-47bf-90b1-762d9fab3bcc",
   "metadata": {},
   "source": [
    "Here are some best practices for naming functions and variables in Python:\n",
    "\n",
    "Function Names:\n",
    "Use descriptive and meaningful names that reflect the purpose or action of the function.\n",
    "Use lowercase letters with words separated by underscores (snake_case) for function names.\n",
    "Avoid using built-in function names or names that conflict with Python keywords.\n",
    "Variable Names:\n",
    "Use meaningful and descriptive names that convey the purpose or content of the variable.\n",
    "Use lowercase letters with words separated by underscores (snake_case) for variable names.\n",
    "Use concise but descriptive names to enhance code readability.\n",
    "Constants:\n",
    "Use uppercase letters with words separated by underscores (UPPER_CASE) for constants to distinguish them from variables.\n",
    "Naming Conventions and Guidelines:\n",
    "Follow the Python naming conventions (PEP 8) for consistency and readability.\n",
    "Use descriptive names that make the code self-explanatory without the need for excessive comments.\n",
    "Avoid using single-letter variable names except for iterators or loop counters where the context is clear (e.g., i, j, k).\n",
    "Use nouns or noun phrases for functions and variables that represent objects, and use verbs or verb phrases for functions that perform actions."
   ]
  },
  {
   "cell_type": "markdown",
   "id": "a1a1295e-cc6a-41ab-b33f-df53092f7745",
   "metadata": {},
   "source": [
    "Problem 1: Bank Account Create a class representing a bank account with attributes like account number, account holder name, and balance. Implement methods to deposit and withdraw money from the account.\n",
    "\n",
    "Problem 2: Employee Management Create a class representing an employee with attributes like employee ID, name, and salary. Implement methods to calculate the yearly bonus and display employee details.\n",
    "\n",
    "Problem 3: Vehicle Rental Create a class representing a vehicle rental system. Implement methods to rent a vehicle, return a vehicle, and display available vehicles.\n",
    "\n",
    "Problem 4: Library Catalog Create classes representing a library and a book. Implement methods to add books to the library, borrow books, and display available books.\n",
    "\n",
    "Problem 5: Product Inventory Create classes representing a product and an inventory system. Implement methods to add products to the inventory, update product quantity, and display available products.\n",
    "\n",
    "Problem 6: Shape Calculation Create a class representing a shape with attributes like length, width, and height. Implement methods to calculate the area and perimeter of the shape.\n",
    "\n",
    "Problem 7: Student Management Create a class representing a student with attributes like student ID, name, and grades. Implement methods to calculate the average grade and display student details.\n",
    "\n",
    "Problem 8: Email Management Create a class representing an email with attributes like sender, recipient, and subject. Implement methods to send an email and display email details.\n",
    "\n",
    "Problem 9: Social Media Profile Create a class representing a social media profile with attributes like username and posts. Implement methods to add posts, display posts, and search for posts by keyword.\n",
    "\n",
    "Problem 10: ToDo List Create a class representing a ToDo list with attributes like tasks and due dates. Implement methods to add tasks, mark tasks as completed, and display pending tasks."
   ]
  },
  {
   "cell_type": "code",
   "execution_count": 98,
   "id": "971bcd45-65f8-4b22-9f35-9062740ab509",
   "metadata": {},
   "outputs": [
    {
     "name": "stdout",
     "output_type": "stream",
     "text": [
      "Deposited $500. Current balance: $1500\n",
      "Withdrew $200. Current balance: $1300\n"
     ]
    }
   ],
   "source": [
    "class BankAccount:\n",
    "    def __init__(self, account_number, account_holder_name, balance=0):\n",
    "        self.account_number = account_number\n",
    "        self.account_holder_name = account_holder_name\n",
    "        self.balance = balance\n",
    "\n",
    "    def deposit(self, amount):\n",
    "        self.balance += amount\n",
    "        print(f\"Deposited ${amount}. Current balance: ${self.balance}\")\n",
    "\n",
    "    def withdraw(self, amount):\n",
    "        if self.balance >= amount:\n",
    "            self.balance -= amount\n",
    "            print(f\"Withdrew ${amount}. Current balance: ${self.balance}\")\n",
    "        else:\n",
    "            print(\"Insufficient balance\")\n",
    "\n",
    "# Usage example:\n",
    "account = BankAccount(123456, \"John Doe\", 1000)\n",
    "account.deposit(500)\n",
    "account.withdraw(200)\n"
   ]
  },
  {
   "cell_type": "code",
   "execution_count": 99,
   "id": "dd5c5e69-04fa-43ae-a818-cb0b581f75f7",
   "metadata": {},
   "outputs": [
    {
     "name": "stdout",
     "output_type": "stream",
     "text": [
      "Yearly Bonus: 5000.0\n",
      "Employee ID: 1001\n",
      "Name: Alice\n",
      "Salary: $50000\n"
     ]
    }
   ],
   "source": [
    "class Employee:\n",
    "    def __init__(self, employee_id, name, salary):\n",
    "        self.employee_id = employee_id\n",
    "        self.name = name\n",
    "        self.salary = salary\n",
    "\n",
    "    def calculate_bonus(self):\n",
    "        return self.salary * 0.1  # Assuming bonus is 10% of salary\n",
    "\n",
    "    def display_details(self):\n",
    "        print(f\"Employee ID: {self.employee_id}\")\n",
    "        print(f\"Name: {self.name}\")\n",
    "        print(f\"Salary: ${self.salary}\")\n",
    "\n",
    "# Usage example:\n",
    "employee = Employee(1001, \"Alice\", 50000)\n",
    "bonus = employee.calculate_bonus()\n",
    "print(\"Yearly Bonus:\", bonus)\n",
    "employee.display_details()\n"
   ]
  },
  {
   "cell_type": "code",
   "execution_count": 100,
   "id": "e877288c-0ff4-47d6-8005-148e2c812294",
   "metadata": {},
   "outputs": [
    {
     "name": "stdout",
     "output_type": "stream",
     "text": [
      "Available Vehicles:\n",
      "<__main__.Vehicle object at 0x7f4a18358430>\n",
      "<__main__.Vehicle object at 0x7f4a1835a710>\n",
      "Rented vehicle: <__main__.Vehicle object at 0x7f4a18358430>\n",
      "Available Vehicles:\n",
      "<__main__.Vehicle object at 0x7f4a1835a710>\n"
     ]
    }
   ],
   "source": [
    "class VehicleRental:\n",
    "    def __init__(self):\n",
    "        self.available_vehicles = []\n",
    "\n",
    "    def rent_vehicle(self, vehicle):\n",
    "        self.available_vehicles.remove(vehicle)\n",
    "        print(f\"Rented vehicle: {vehicle}\")\n",
    "\n",
    "    def return_vehicle(self, vehicle):\n",
    "        self.available_vehicles.append(vehicle)\n",
    "        print(f\"Returned vehicle: {vehicle}\")\n",
    "\n",
    "    def display_available_vehicles(self):\n",
    "        print(\"Available Vehicles:\")\n",
    "        for vehicle in self.available_vehicles:\n",
    "            print(vehicle)\n",
    "\n",
    "# Usage example:\n",
    "class Vehicle:\n",
    "    def __init__(self, make, model):\n",
    "        self.make = make\n",
    "        self.model = model\n",
    "\n",
    "car1 = Vehicle(\"Toyota\", \"Camry\")\n",
    "car2 = Vehicle(\"Honda\", \"Accord\")\n",
    "\n",
    "rental_system = VehicleRental()\n",
    "rental_system.available_vehicles.extend([car1, car2])\n",
    "\n",
    "rental_system.display_available_vehicles()\n",
    "rental_system.rent_vehicle(car1)\n",
    "rental_system.display_available_vehicles()\n"
   ]
  },
  {
   "cell_type": "code",
   "execution_count": 101,
   "id": "e000d96c-0be3-418f-a821-734b6f6293b2",
   "metadata": {},
   "outputs": [
    {
     "name": "stdout",
     "output_type": "stream",
     "text": [
      "Added book: Title: Python Programming, Author: John Doe, ISBN: 978-1-234567-89-0\n",
      "Added book: Title: Data Structures, Author: Jane Smith, ISBN: 978-1-234567-90-6\n",
      "Available Books:\n",
      "Title: Python Programming, Author: John Doe, ISBN: 978-1-234567-89-0\n",
      "Title: Data Structures, Author: Jane Smith, ISBN: 978-1-234567-90-6\n",
      "Borrowed book: Title: Python Programming, Author: John Doe, ISBN: 978-1-234567-89-0\n",
      "Available Books:\n",
      "Title: Data Structures, Author: Jane Smith, ISBN: 978-1-234567-90-6\n"
     ]
    }
   ],
   "source": [
    "class Book:\n",
    "    def __init__(self, title, author, isbn):\n",
    "        self.title = title\n",
    "        self.author = author\n",
    "        self.isbn = isbn\n",
    "\n",
    "    def __str__(self):\n",
    "        return f\"Title: {self.title}, Author: {self.author}, ISBN: {self.isbn}\"\n",
    "\n",
    "class Library:\n",
    "    def __init__(self):\n",
    "        self.books = []\n",
    "\n",
    "    def add_book(self, book):\n",
    "        self.books.append(book)\n",
    "        print(f\"Added book: {book}\")\n",
    "\n",
    "    def borrow_book(self, title):\n",
    "        for book in self.books:\n",
    "            if book.title == title:\n",
    "                self.books.remove(book)\n",
    "                print(f\"Borrowed book: {book}\")\n",
    "                return\n",
    "        print(\"Book not found in library\")\n",
    "\n",
    "    def display_available_books(self):\n",
    "        print(\"Available Books:\")\n",
    "        for book in self.books:\n",
    "            print(book)\n",
    "\n",
    "# Usage example:\n",
    "book1 = Book(\"Python Programming\", \"John Doe\", \"978-1-234567-89-0\")\n",
    "book2 = Book(\"Data Structures\", \"Jane Smith\", \"978-1-234567-90-6\")\n",
    "\n",
    "library = Library()\n",
    "library.add_book(book1)\n",
    "library.add_book(book2)\n",
    "\n",
    "library.display_available_books()\n",
    "library.borrow_book(\"Python Programming\")\n",
    "library.display_available_books()\n"
   ]
  },
  {
   "cell_type": "code",
   "execution_count": 102,
   "id": "39a543df-4ddf-4bc4-97fb-8806e94059ce",
   "metadata": {},
   "outputs": [
    {
     "name": "stdout",
     "output_type": "stream",
     "text": [
      "Added product: Product: Laptop, Price: $1200, Quantity: 5\n",
      "Added product: Product: Phone, Price: $800, Quantity: 10\n",
      "Available Products:\n",
      "Product: Laptop, Price: $1200, Quantity: 5\n",
      "Product: Phone, Price: $800, Quantity: 10\n",
      "Updated quantity for Laptop: 3\n",
      "Available Products:\n",
      "Product: Laptop, Price: $1200, Quantity: 3\n",
      "Product: Phone, Price: $800, Quantity: 10\n"
     ]
    }
   ],
   "source": [
    "class Product:\n",
    "    def __init__(self, name, price, quantity):\n",
    "        self.name = name\n",
    "        self.price = price\n",
    "        self.quantity = quantity\n",
    "\n",
    "    def __str__(self):\n",
    "        return f\"Product: {self.name}, Price: ${self.price}, Quantity: {self.quantity}\"\n",
    "\n",
    "class Inventory:\n",
    "    def __init__(self):\n",
    "        self.products = []\n",
    "\n",
    "    def add_product(self, product):\n",
    "        self.products.append(product)\n",
    "        print(f\"Added product: {product}\")\n",
    "\n",
    "    def update_quantity(self, name, new_quantity):\n",
    "        for product in self.products:\n",
    "            if product.name == name:\n",
    "                product.quantity = new_quantity\n",
    "                print(f\"Updated quantity for {product.name}: {new_quantity}\")\n",
    "                return\n",
    "        print(\"Product not found in inventory\")\n",
    "\n",
    "    def display_available_products(self):\n",
    "        print(\"Available Products:\")\n",
    "        for product in self.products:\n",
    "            print(product)\n",
    "\n",
    "# Usage example:\n",
    "product1 = Product(\"Laptop\", 1200, 5)\n",
    "product2 = Product(\"Phone\", 800, 10)\n",
    "\n",
    "inventory = Inventory()\n",
    "inventory.add_product(product1)\n",
    "inventory.add_product(product2)\n",
    "\n",
    "inventory.display_available_products()\n",
    "inventory.update_quantity(\"Laptop\", 3)\n",
    "inventory.display_available_products()\n"
   ]
  },
  {
   "cell_type": "code",
   "execution_count": 103,
   "id": "e2968d52-2d5f-4845-8794-647f9860f62b",
   "metadata": {},
   "outputs": [
    {
     "name": "stdout",
     "output_type": "stream",
     "text": [
      "Rectangle Area: 50\n",
      "Rectangle Perimeter: 30\n",
      "Cube Area: 54\n",
      "Cube Perimeter: 36\n"
     ]
    }
   ],
   "source": [
    "class Shape:\n",
    "    def __init__(self, length, width, height=None):\n",
    "        self.length = length\n",
    "        self.width = width\n",
    "        self.height = height\n",
    "\n",
    "    def calculate_area(self):\n",
    "        if self.height is None:\n",
    "            return self.length * self.width\n",
    "        else:\n",
    "            return 2 * (self.length * self.width + self.length * self.height + self.width * self.height)\n",
    "\n",
    "    def calculate_perimeter(self):\n",
    "        if self.height is None:\n",
    "            return 2 * (self.length + self.width)\n",
    "        else:\n",
    "            return 4 * (self.length + self.width + self.height)\n",
    "\n",
    "# Usage example:\n",
    "rectangle = Shape(5, 10)\n",
    "print(\"Rectangle Area:\", rectangle.calculate_area())\n",
    "print(\"Rectangle Perimeter:\", rectangle.calculate_perimeter())\n",
    "\n",
    "cube = Shape(3, 3, 3)\n",
    "print(\"Cube Area:\", cube.calculate_area())\n",
    "print(\"Cube Perimeter:\", cube.calculate_perimeter())\n"
   ]
  },
  {
   "cell_type": "code",
   "execution_count": 104,
   "id": "8b661e52-cec5-46b8-b925-de15c8e44075",
   "metadata": {},
   "outputs": [
    {
     "name": "stdout",
     "output_type": "stream",
     "text": [
      "Student ID: 1001\n",
      "Name: Alice\n",
      "Grades: [85, 90, 92, 88]\n",
      "Average Grade: 88.75\n"
     ]
    }
   ],
   "source": [
    "class Student:\n",
    "    def __init__(self, student_id, name, grades):\n",
    "        self.student_id = student_id\n",
    "        self.name = name\n",
    "        self.grades = grades\n",
    "\n",
    "    def calculate_average_grade(self):\n",
    "        return sum(self.grades) / len(self.grades)\n",
    "\n",
    "    def display_student_details(self):\n",
    "        print(f\"Student ID: {self.student_id}\")\n",
    "        print(f\"Name: {self.name}\")\n",
    "        print(f\"Grades: {self.grades}\")\n",
    "        print(f\"Average Grade: {self.calculate_average_grade()}\")\n",
    "\n",
    "# Usage example:\n",
    "student1 = Student(1001, \"Alice\", [85, 90, 92, 88])\n",
    "student1.display_student_details()\n"
   ]
  },
  {
   "cell_type": "code",
   "execution_count": 105,
   "id": "2840d241-0a22-4bc5-9276-6ddd6ef5373e",
   "metadata": {},
   "outputs": [
    {
     "name": "stdout",
     "output_type": "stream",
     "text": [
      "Sender: sender@example.com\n",
      "Recipient: recipient@example.com\n",
      "Subject: Hello\n",
      "Body: This is a test email.\n",
      "Sending email...\n"
     ]
    }
   ],
   "source": [
    "class Email:\n",
    "    def __init__(self, sender, recipient, subject, body):\n",
    "        self.sender = sender\n",
    "        self.recipient = recipient\n",
    "        self.subject = subject\n",
    "        self.body = body\n",
    "\n",
    "    def send_email(self):\n",
    "        print(\"Sending email...\")\n",
    "        # Code to send email\n",
    "\n",
    "    def display_email_details(self):\n",
    "        print(f\"Sender: {self.sender}\")\n",
    "        print(f\"Recipient: {self.recipient}\")\n",
    "        print(f\"Subject: {self.subject}\")\n",
    "        print(f\"Body: {self.body}\")\n",
    "\n",
    "# Usage example:\n",
    "email = Email(\"sender@example.com\", \"recipient@example.com\", \"Hello\", \"This is a test email.\")\n",
    "email.display_email_details()\n",
    "email.send_email()\n"
   ]
  },
  {
   "cell_type": "code",
   "execution_count": 106,
   "id": "70094cbd-1de2-4272-9428-339bda16fcd2",
   "metadata": {},
   "outputs": [
    {
     "name": "stdout",
     "output_type": "stream",
     "text": [
      "Added post: Hello, this is my first post.\n",
      "Added post: Feeling excited about Python programming.\n",
      "Posts:\n",
      "Hello, this is my first post.\n",
      "Feeling excited about Python programming.\n",
      "Posts containing 'Python': ['Feeling excited about Python programming.']\n"
     ]
    }
   ],
   "source": [
    "class SocialMediaProfile:\n",
    "    def __init__(self, username):\n",
    "        self.username = username\n",
    "        self.posts = []\n",
    "\n",
    "    def add_post(self, post):\n",
    "        self.posts.append(post)\n",
    "        print(f\"Added post: {post}\")\n",
    "\n",
    "    def display_posts(self):\n",
    "        print(\"Posts:\")\n",
    "        for post in self.posts:\n",
    "            print(post)\n",
    "\n",
    "    def search_posts_by_keyword(self, keyword):\n",
    "        matching_posts = [post for post in self.posts if keyword in post]\n",
    "        return matching_posts\n",
    "\n",
    "# Usage example:\n",
    "profile = SocialMediaProfile(\"user123\")\n",
    "profile.add_post(\"Hello, this is my first post.\")\n",
    "profile.add_post(\"Feeling excited about Python programming.\")\n",
    "profile.display_posts()\n",
    "\n",
    "keyword = \"Python\"\n",
    "matching_posts = profile.search_posts_by_keyword(keyword)\n",
    "print(f\"Posts containing '{keyword}': {matching_posts}\")\n"
   ]
  },
  {
   "cell_type": "code",
   "execution_count": 107,
   "id": "9bbef2ad-0b59-44f9-9c71-2ec9572c710c",
   "metadata": {},
   "outputs": [
    {
     "name": "stdout",
     "output_type": "stream",
     "text": [
      "Added task: Write report, Due Date: 2024-05-01\n",
      "Added task: Buy groceries, Due Date: 2024-04-25\n",
      "Pending Tasks:\n",
      "Task: Write report, Due Date: 2024-05-01\n",
      "Task: Buy groceries, Due Date: 2024-04-25\n",
      "Marked task 'Buy groceries' as completed\n",
      "Pending Tasks:\n",
      "Task: Write report, Due Date: 2024-05-01\n"
     ]
    }
   ],
   "source": [
    "class ToDoList:\n",
    "    def __init__(self):\n",
    "        self.tasks = []\n",
    "\n",
    "    def add_task(self, task, due_date):\n",
    "        self.tasks.append((task, due_date))\n",
    "        print(f\"Added task: {task}, Due Date: {due_date}\")\n",
    "\n",
    "    def mark_task_completed(self, task):\n",
    "        for index, (t, due_date) in enumerate(self.tasks):\n",
    "            if t == task:\n",
    "                self.tasks[index] = (task, \"Completed\")\n",
    "                print(f\"Marked task '{task}' as completed\")\n",
    "                return\n",
    "        print(\"Task not found in ToDo list\")\n",
    "\n",
    "    def display_pending_tasks(self):\n",
    "        print(\"Pending Tasks:\")\n",
    "        for task, due_date in self.tasks:\n",
    "            if due_date != \"Completed\":\n",
    "                print(f\"Task: {task}, Due Date: {due_date}\")\n",
    "\n",
    "# Usage example:\n",
    "todo_list = ToDoList()\n",
    "todo_list.add_task(\"Write report\", \"2024-05-01\")\n",
    "todo_list.add_task(\"Buy groceries\", \"2024-04-25\")\n",
    "\n",
    "todo_list.display_pending_tasks()\n",
    "todo_list.mark_task_completed(\"Buy groceries\")\n",
    "todo_list.display_pending_tasks()\n"
   ]
  },
  {
   "cell_type": "code",
   "execution_count": null,
   "id": "6595eeb1-aa7c-4603-87d7-3944767dc1ab",
   "metadata": {},
   "outputs": [],
   "source": []
  }
 ],
 "metadata": {
  "kernelspec": {
   "display_name": "Python 3 (ipykernel)",
   "language": "python",
   "name": "python3"
  },
  "language_info": {
   "codemirror_mode": {
    "name": "ipython",
    "version": 3
   },
   "file_extension": ".py",
   "mimetype": "text/x-python",
   "name": "python",
   "nbconvert_exporter": "python",
   "pygments_lexer": "ipython3",
   "version": "3.10.8"
  }
 },
 "nbformat": 4,
 "nbformat_minor": 5
}
