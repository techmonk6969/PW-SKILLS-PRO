{
 "cells": [
  {
   "cell_type": "markdown",
   "id": "b34b6c98-85d4-4e7e-b816-ec1d2bfe6795",
   "metadata": {},
   "source": [
    "Q.1 Can you explain the logic and working of the Tower of Hanoi algorithm by writing a Java program?\n",
    "How does the recursion work, and how are the movements of disks between rods accomplished?"
   ]
  },
  {
   "cell_type": "markdown",
   "id": "a006ffcb-1306-4ec4-814f-2f585122692b",
   "metadata": {},
   "source": [
    "Q.2 Given two strings word1 and word2, return the minimum number of operations required to convert word1\n",
    "to word2.\n",
    "Example 1:\n",
    "Input: word1 = \"horse\", word2 = \"ros\"\n",
    "Output: 3\n",
    "Explanation:\n",
    "horse -> rorse (replace 'h' with 'r')\n",
    "rorse -> rose (remove 'r')\n",
    "rose -> ros (remove 'e')\n",
    "Example 2:\n",
    "Input: word1 = \"intention\", word2 = \"execution\"\n",
    "Output: 5\n",
    "Explanation:\n",
    "intention -> inention (remove 't')\n",
    "inention -> enention (replace 'i' with 'e')\n",
    "enention -> exention (replace 'n' with 'x')\n",
    "exention -> exection (replace 'n' with 'c')\n",
    "exection -> execution (insert 'u')"
   ]
  },
  {
   "cell_type": "markdown",
   "id": "55d72133-1f82-48b0-9fe1-606028f95149",
   "metadata": {},
   "source": [
    "Q. 3 Print the max value of the array [ 13, 1, -3, 22, 5].\n",
    "Q.4 Find the sum of the values of the array [92, 23, 15, -20, 10].\n",
    "Q.5 Given a number n. Print if it is an armstrong number or not.An armstrong number is a number if the sum\n",
    "of every digit in that number raised to the power of total digits in that number is equal to the number.\n",
    "Example : 153 = 1^3 + 5^3 + 3^3 = 1 + 125 + 27 = 153 hence 153 is an armstrong number. (Easy)\n",
    "Input1 : 153\n",
    "Output1 : Yes\n",
    "Input 2 : 134\n",
    "Output2 : No"
   ]
  },
  {
   "cell_type": "code",
   "execution_count": 1,
   "id": "169aef0e-58b9-4de3-8b0f-db6589f982ac",
   "metadata": {},
   "outputs": [
    {
     "name": "stdout",
     "output_type": "stream",
     "text": [
      "Move disk 1 from A to C\n",
      "Move disk 2 from A to B\n",
      "Move disk 1 from C to B\n",
      "Move disk 3 from A to C\n",
      "Move disk 1 from B to A\n",
      "Move disk 2 from B to C\n",
      "Move disk 1 from A to C\n"
     ]
    }
   ],
   "source": [
    "def tower_of_hanoi(n, source, auxiliary, destination):\n",
    "    if n == 1:\n",
    "        print(f\"Move disk 1 from {source} to {destination}\")\n",
    "        return\n",
    "    tower_of_hanoi(n - 1, source, destination, auxiliary)\n",
    "    print(f\"Move disk {n} from {source} to {destination}\")\n",
    "    tower_of_hanoi(n - 1, auxiliary, source, destination)\n",
    "\n",
    "n = 3  # Number of disks\n",
    "tower_of_hanoi(n, 'A', 'B', 'C')  # 'A' is the source rod, 'B' is the auxiliary rod, 'C' is the destination rod\n"
   ]
  },
  {
   "cell_type": "code",
   "execution_count": 2,
   "id": "2403b59a-d8eb-4932-bf58-ecadd85ff8f1",
   "metadata": {},
   "outputs": [
    {
     "name": "stdout",
     "output_type": "stream",
     "text": [
      "3\n"
     ]
    }
   ],
   "source": [
    "def min_operations(word1, word2):\n",
    "    m, n = len(word1), len(word2)\n",
    "    dp = [[0] * (n + 1) for _ in range(m + 1)]\n",
    "\n",
    "    for i in range(m + 1):\n",
    "        for j in range(n + 1):\n",
    "            if i == 0:\n",
    "                dp[i][j] = j\n",
    "            elif j == 0:\n",
    "                dp[i][j] = i\n",
    "            elif word1[i - 1] == word2[j - 1]:\n",
    "                dp[i][j] = dp[i - 1][j - 1]\n",
    "            else:\n",
    "                dp[i][j] = 1 + min(dp[i - 1][j - 1], dp[i - 1][j], dp[i][j - 1])\n",
    "\n",
    "    return dp[m][n]\n",
    "\n",
    "word1 = \"horse\"\n",
    "word2 = \"ros\"\n",
    "print(min_operations(word1, word2))  # Output: 3\n"
   ]
  },
  {
   "cell_type": "code",
   "execution_count": 3,
   "id": "7ebef811-26c9-4700-a3a5-979991f4561f",
   "metadata": {},
   "outputs": [
    {
     "name": "stdout",
     "output_type": "stream",
     "text": [
      "Max value: 22\n"
     ]
    }
   ],
   "source": [
    "array = [13, 1, -3, 22, 5]\n",
    "max_value = max(array)\n",
    "print(\"Max value:\", max_value)\n"
   ]
  },
  {
   "cell_type": "code",
   "execution_count": 4,
   "id": "e562c217-0611-40cd-9174-b5e426146be5",
   "metadata": {},
   "outputs": [
    {
     "name": "stdout",
     "output_type": "stream",
     "text": [
      "Sum of values: 120\n"
     ]
    }
   ],
   "source": [
    "array = [92, 23, 15, -20, 10]\n",
    "sum_values = sum(array)\n",
    "print(\"Sum of values:\", sum_values)\n"
   ]
  },
  {
   "cell_type": "code",
   "execution_count": 5,
   "id": "8c72c197-c01b-4dcb-86a1-9714b75eef98",
   "metadata": {},
   "outputs": [
    {
     "name": "stdout",
     "output_type": "stream",
     "text": [
      "Input1: 153\n",
      "Output1: Yes\n",
      "Input2: 134\n",
      "Output2: No\n"
     ]
    }
   ],
   "source": [
    "def is_armstrong_number(number):\n",
    "    original_number = number\n",
    "    digits = len(str(number))\n",
    "    result = 0\n",
    "\n",
    "    while original_number != 0:\n",
    "        remainder = original_number % 10\n",
    "        result += remainder ** digits\n",
    "        original_number //= 10\n",
    "\n",
    "    return result == number\n",
    "\n",
    "number1 = 153\n",
    "number2 = 134\n",
    "\n",
    "print(\"Input1:\", number1)\n",
    "print(\"Output1:\", \"Yes\" if is_armstrong_number(number1) else \"No\")\n",
    "print(\"Input2:\", number2)\n",
    "print(\"Output2:\", \"Yes\" if is_armstrong_number(number2) else \"No\")\n"
   ]
  },
  {
   "cell_type": "code",
   "execution_count": null,
   "id": "3d34fda9-eebc-4406-89e5-98af3a9d7f4f",
   "metadata": {},
   "outputs": [],
   "source": []
  }
 ],
 "metadata": {
  "kernelspec": {
   "display_name": "Python 3 (ipykernel)",
   "language": "python",
   "name": "python3"
  },
  "language_info": {
   "codemirror_mode": {
    "name": "ipython",
    "version": 3
   },
   "file_extension": ".py",
   "mimetype": "text/x-python",
   "name": "python",
   "nbconvert_exporter": "python",
   "pygments_lexer": "ipython3",
   "version": "3.10.8"
  }
 },
 "nbformat": 4,
 "nbformat_minor": 5
}
