{
 "cells": [
  {
   "cell_type": "markdown",
   "id": "c0708e51-67c6-4ff2-aebb-c3d0650f441e",
   "metadata": {},
   "source": [
    "Problem 1 :\n",
    "def quicksort(arr):\n",
    "if len(arr) <= 1:\n",
    "return arr\n",
    "pivot = arr[len(arr) // 2]\n",
    "left = [x for x in arr if x < pivot]\n",
    "middle = [x for x in arr if x == pivot]\n",
    "right = [x for x in arr if x > pivot]\n",
    "return quicksort(left) + middle + quicksort(right)\n",
    "\n",
    "Problem 2 :\n",
    "def nested_loop_example(matrix):\n",
    "rows, cols = len(matrix), len(matrix[0])\n",
    "total = 0\n",
    "for i in range(rows):\n",
    "for j in range(cols):\n",
    "total += matrix[i][j]\n",
    "return total\n",
    "\n",
    "Problem 3 :\n",
    "def example_function(arr):\n",
    "result = 0\n",
    "for element in arr:\n",
    "result += element\n",
    "return result\n",
    "\n",
    "Problem 4 :\n",
    "def longest_increasing_subsequence(nums):\n",
    "n = len(nums)\n",
    "lis = [1] * n\n",
    "for i in range(1, n):\n",
    "for j in range(0, i):\n",
    "if nums[i] > nums[j] and lis[i] < lis[j] + 1:\n",
    "lis[i] = lis[j] + 1\n",
    "return max(lis)                                                                                                                              Problem 5 :\n",
    "def mysterious_function(arr):\n",
    "n = len(arr)\n",
    "result = 0\n",
    "for i in range(n):\n",
    "for j in range(i, n):\n",
    "result += arr[i] * arr[j]\n",
    "return result"
   ]
  },
  {
   "cell_type": "markdown",
   "id": "ea661d11-e30e-483e-95e7-18d419e9439f",
   "metadata": {},
   "source": [
    "Quicksort:\n",
    "This is a classic implementation of the quicksort algorithm. It recursively divides the array into smaller subarrays based on a chosen pivot element and then combines them back together. The average time complexity of quicksort is O(n log n), making it efficient for sorting large datasets.\n",
    "Nested Loop Example:\n",
    "This function calculates the sum of all elements in a matrix using nested loops. It iterates through each element in the matrix and adds its value to the total sum. The time complexity of this function is O(rows * cols), where rows and cols are the dimensions of the matrix.\n",
    "Example Function:\n",
    "This function calculates the sum of all elements in a given array. It uses a loop to iterate through each element and adds it to a running total. The time complexity of this function is O(n), where n is the length of the array.\n",
    "Longest Increasing Subsequence:\n",
    "This function finds the length of the longest increasing subsequence in a given array of integers using dynamic programming. It initializes an array lis where lis[i] represents the length of the longest increasing subsequence ending at index i. It then iterates through the array to update the lis values based on the longest increasing subsequences encountered so far. The time complexity of this function is O(n^2), where n is the length of the array.\n",
    "Mysterious Function:\n",
    "This function calculates a mysterious result based on the elements of a given array. It uses two nested loops to iterate through each pair of elements in the array and adds the product of those elements to the result. The time complexity of this function is O(n^2), where n is the length of the array."
   ]
  },
  {
   "cell_type": "markdown",
   "id": "3bc34ebc-a127-407b-baea-b41c54bd2c30",
   "metadata": {},
   "source": [
    "Problem 6 : Sum of Digits\n",
    "Write a recursive function to calculate the sum of digits of a given positive integer.\n",
    "sum_of_digits(123) -> 6\n",
    "\n",
    "Problem 7: Fibonacci Series\n",
    "Write a recursive function to generate the first n numbers of the Fibonacci series.\n",
    "fibonacci_series(6) -> [0, 1, 1, 2, 3, 5]\n",
    "\n",
    "Problem 8 : Subset Sum\n",
    "Given a set of positive integers and a target sum, write a recursive function to determine if there exists a subset\n",
    "of the integers that adds up to the target sum.\n",
    "subset_sum([3, 34, 4, 12, 5, 2], 9) -> True\n",
    "Solve the following problems on recursion\n",
    "\n",
    "Problem 9: Word Break\n",
    "Given a non-empty string and a dictionary of words, write a recursive function to determine if the string can be\n",
    "segmented into a space-separated sequence of dictionary words.\n",
    "word_break( leetcode , [ leet , code ]) -> True\n",
    "\n",
    "Problem 10 : N-Queens\n",
    "Implement a recursive function to solve the N Queens problem, where you have to place N queens on an N×N\n",
    "chessboard in such a way that no two queens threaten each other.\n",
    "n_queens(4)\n",
    "[\n",
    "[\".Q..\",\n",
    "\"...Q\",\n",
    "\"Q...\",\n",
    "\"..Q.\"],\n",
    "[\"..Q.\",\n",
    "\"Q...\",\n",
    "\"...Q\",\n",
    "\".Q..\"]\n",
    "]"
   ]
  },
  {
   "cell_type": "code",
   "execution_count": 1,
   "id": "8629d687-cec8-4a1e-998e-603166c37973",
   "metadata": {},
   "outputs": [],
   "source": [
    "def sum_of_digits(n):\n",
    "    if n == 0:\n",
    "        return 0\n",
    "    return n % 10 + sum_of_digits(n // 10)\n"
   ]
  },
  {
   "cell_type": "code",
   "execution_count": 2,
   "id": "cca255ef-4908-4def-b063-3d46850cc5e5",
   "metadata": {},
   "outputs": [],
   "source": [
    "def fibonacci_series(n):\n",
    "    if n <= 0:\n",
    "        return []\n",
    "    if n == 1:\n",
    "        return [0]\n",
    "    if n == 2:\n",
    "        return [0, 1]\n",
    "    fib_series = fibonacci_series(n - 1)\n",
    "    fib_series.append(fib_series[-1] + fib_series[-2])\n",
    "    return fib_series\n"
   ]
  },
  {
   "cell_type": "code",
   "execution_count": 3,
   "id": "4da60fb3-ab6c-47bf-82de-a1233502c44b",
   "metadata": {},
   "outputs": [],
   "source": [
    "def subset_sum(nums, target):\n",
    "    if target == 0:\n",
    "        return True\n",
    "    if not nums or target < 0:\n",
    "        return False\n",
    "    return subset_sum(nums[:-1], target - nums[-1]) or subset_sum(nums[:-1], target)\n"
   ]
  },
  {
   "cell_type": "code",
   "execution_count": 4,
   "id": "c520c4e6-f14b-4f4e-8728-13ac7cff7722",
   "metadata": {},
   "outputs": [],
   "source": [
    "def word_break(s, word_dict):\n",
    "    if not s:\n",
    "        return True\n",
    "    for word in word_dict:\n",
    "        if s.startswith(word) and word_break(s[len(word):], word_dict):\n",
    "            return True\n",
    "    return False\n"
   ]
  },
  {
   "cell_type": "code",
   "execution_count": 5,
   "id": "3050d3d9-ca19-4667-a57b-63bf1511915b",
   "metadata": {},
   "outputs": [],
   "source": [
    "def is_safe(board, row, col):\n",
    "    for i in range(row):\n",
    "        if board[i][col] == 'Q':\n",
    "            return False\n",
    "        if col - row + i >= 0 and board[i][col - row + i] == 'Q':\n",
    "            return False\n",
    "        if col + row - i < len(board) and board[i][col + row - i] == 'Q':\n",
    "            return False\n",
    "    return True\n",
    "\n",
    "def solve_n_queens(n, board, row, result):\n",
    "    if row == n:\n",
    "        result.append([''.join(row) for row in board])\n",
    "        return\n",
    "    for col in range(n):\n",
    "        if is_safe(board, row, col):\n",
    "            board[row][col] = 'Q'\n",
    "            solve_n_queens(n, board, row + 1, result)\n",
    "            board[row][col] = '.'\n",
    "\n",
    "def n_queens(n):\n",
    "    board = [['.' for _ in range(n)] for _ in range(n)]\n",
    "    result = []\n",
    "    solve_n_queens(n, board, 0, result)\n",
    "    return result\n"
   ]
  },
  {
   "cell_type": "code",
   "execution_count": null,
   "id": "8b5c61eb-b9b2-4008-a213-2bbfad4a0f2f",
   "metadata": {},
   "outputs": [],
   "source": []
  }
 ],
 "metadata": {
  "kernelspec": {
   "display_name": "Python 3 (ipykernel)",
   "language": "python",
   "name": "python3"
  },
  "language_info": {
   "codemirror_mode": {
    "name": "ipython",
    "version": 3
   },
   "file_extension": ".py",
   "mimetype": "text/x-python",
   "name": "python",
   "nbconvert_exporter": "python",
   "pygments_lexer": "ipython3",
   "version": "3.10.8"
  }
 },
 "nbformat": 4,
 "nbformat_minor": 5
}
