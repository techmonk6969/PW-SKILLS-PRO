{
 "cells": [
  {
   "cell_type": "markdown",
   "id": "9aa5f10a-1231-4861-91f9-404004217248",
   "metadata": {},
   "source": [
    "Q= Generate a list o> R00 integers containing values between 90 to R30 and store it in the variable `int_list`.\n",
    "A>ter generating the list, >ind the >ollowing:\n",
    "\n",
    "  \n",
    "\n",
    "  (i) Write a Python function to calculate the mean of a given list of numbers.\n",
    "\n",
    "Create a function to find the median of a list of numbers.\n",
    "\n",
    "  \n",
    "\n",
    "  (ii) Develop a program to compute the mode of a list of integers.\n",
    "\n",
    "  \n",
    "\n",
    "  (iii) Implement a function to calculate the weighted mean of a list of values and their corresponding weights.\n",
    "\n",
    "  \n",
    "\n",
    "  (iv) Write a Python function to find the geometric mean of a list of positive numbers.\n",
    "\n",
    "  \n",
    "\n",
    "  (v) Create a program to calculate the harmonic mean of a list of values.\n",
    "\n",
    "  \n",
    "\n",
    "  (vi) Build a function to determine the midrange of a list of numbers (average of the minimum and maximum).\n",
    "\n",
    "  \n",
    "\n",
    "  (vii) Implement a Python program to find the trimmed mean of a list, excluding a certain percentage of\n",
    "outliers."
   ]
  },
  {
   "cell_type": "code",
   "execution_count": 1,
   "id": "d030fc9a-e259-4f19-b6ab-79de6556d133",
   "metadata": {},
   "outputs": [],
   "source": [
    "import random\n",
    "\n",
    "# Generate a list of 1000 integers between 90 and 130\n",
    "int_list = [random.randint(90, 130) for _ in range(1000)]\n"
   ]
  },
  {
   "cell_type": "code",
   "execution_count": 2,
   "id": "e6c698af-9aa6-4c1d-af2d-0cc518e7a354",
   "metadata": {},
   "outputs": [],
   "source": [
    "def calculate_mean(numbers):\n",
    "    return sum(numbers) / len(numbers) if numbers else 0\n"
   ]
  },
  {
   "cell_type": "code",
   "execution_count": 3,
   "id": "c365a11b-fe52-4003-8163-71c917f67f6d",
   "metadata": {},
   "outputs": [],
   "source": [
    "def calculate_median(numbers):\n",
    "    sorted_numbers = sorted(numbers)\n",
    "    n = len(sorted_numbers)\n",
    "    mid = n // 2\n",
    "    if n % 2 == 0:\n",
    "        return (sorted_numbers[mid - 1] + sorted_numbers[mid]) / 2\n",
    "    else:\n",
    "        return sorted_numbers[mid]\n"
   ]
  },
  {
   "cell_type": "code",
   "execution_count": 4,
   "id": "65704b90-090d-43c6-9621-b95b096cf95d",
   "metadata": {},
   "outputs": [],
   "source": [
    "from collections import Counter\n",
    "\n",
    "def calculate_mode(numbers):\n",
    "    count = Counter(numbers)\n",
    "    max_count = max(count.values())\n",
    "    return [num for num, freq in count.items() if freq == max_count]\n"
   ]
  },
  {
   "cell_type": "code",
   "execution_count": 5,
   "id": "f3c81160-0ac8-4edb-93b1-242008b41cfa",
   "metadata": {},
   "outputs": [],
   "source": [
    "def calculate_weighted_mean(values, weights):\n",
    "    if len(values) != len(weights) or not values or not weights:\n",
    "        return 0\n",
    "    return sum(v * w for v, w in zip(values, weights)) / sum(weights)\n"
   ]
  },
  {
   "cell_type": "code",
   "execution_count": 6,
   "id": "d36b27e2-12ed-4afa-9868-23e2c0954a7b",
   "metadata": {},
   "outputs": [],
   "source": [
    "import math\n",
    "\n",
    "def calculate_geometric_mean(numbers):\n",
    "    if not numbers:\n",
    "        return 0\n",
    "    product = math.prod(numbers)\n",
    "    return product ** (1 / len(numbers))\n"
   ]
  },
  {
   "cell_type": "code",
   "execution_count": 7,
   "id": "7dc418b8-9d5e-4b5a-9e33-af2f99cbed77",
   "metadata": {},
   "outputs": [],
   "source": [
    "def calculate_harmonic_mean(numbers):\n",
    "    if not numbers or any(n == 0 for n in numbers):\n",
    "        return 0\n",
    "    return len(numbers) / sum(1 / n for n in numbers)\n"
   ]
  },
  {
   "cell_type": "code",
   "execution_count": 8,
   "id": "d6f8a168-3602-44de-ade1-faef616cba78",
   "metadata": {},
   "outputs": [],
   "source": [
    "def calculate_midrange(numbers):\n",
    "    if not numbers:\n",
    "        return 0\n",
    "    return (min(numbers) + max(numbers)) / 2\n"
   ]
  },
  {
   "cell_type": "code",
   "execution_count": 9,
   "id": "28bcabcf-84f5-4de7-8c4c-ddaf00a669e3",
   "metadata": {},
   "outputs": [],
   "source": [
    "def calculate_trimmed_mean(numbers, trim_percent):\n",
    "    if not numbers or not (0 <= trim_percent < 50):\n",
    "        return 0\n",
    "    \n",
    "    sorted_numbers = sorted(numbers)\n",
    "    n = len(sorted_numbers)\n",
    "    trim_amount = int(n * trim_percent / 100)\n",
    "    \n",
    "    trimmed_list = sorted_numbers[trim_amount:-trim_amount]\n",
    "    \n",
    "    return calculate_mean(trimmed_list)\n"
   ]
  },
  {
   "cell_type": "code",
   "execution_count": 10,
   "id": "24b83799-7ccc-4e0a-9f03-03be55e6e48a",
   "metadata": {},
   "outputs": [
    {
     "name": "stdout",
     "output_type": "stream",
     "text": [
      "Mean: 109.444\n",
      "Median: 110.0\n",
      "Mode: [119]\n",
      "Weighted Mean: 2.5\n",
      "Geometric Mean: 2.605171084697352\n",
      "Harmonic Mean: 2.18978102189781\n",
      "Midrange: 110.0\n",
      "Trimmed Mean (10%): 109.4275\n"
     ]
    }
   ],
   "source": [
    "# Example usage with int_list\n",
    "\n",
    "print(\"Mean:\", calculate_mean(int_list))\n",
    "print(\"Median:\", calculate_median(int_list))\n",
    "print(\"Mode:\", calculate_mode(int_list))\n",
    "\n",
    "# For weighted mean example\n",
    "values = [1, 2, 3]\n",
    "weights = [0.1, 0.3, 0.6]\n",
    "print(\"Weighted Mean:\", calculate_weighted_mean(values, weights))\n",
    "\n",
    "print(\"Geometric Mean:\", calculate_geometric_mean([1, 2, 3, 4, 5]))\n",
    "print(\"Harmonic Mean:\", calculate_harmonic_mean([1, 2, 3, 4, 5]))\n",
    "print(\"Midrange:\", calculate_midrange(int_list))\n",
    "print(\"Trimmed Mean (10%):\", calculate_trimmed_mean(int_list, 10))\n"
   ]
  },
  {
   "cell_type": "markdown",
   "id": "d7e73619-6dab-45d9-b1ab-338be1d7b51f",
   "metadata": {},
   "source": [
    " 2. Generate a list o> 500 integers containing values between 200 to 300 and store it in the variable `int_list2`.\n",
    "A>ter generating the list, >ind the >ollowing:\n",
    "\n",
    "\n",
    "  (i) Compare the given list of visualization for the given data:\n",
    "\n",
    "    \n",
    "\n",
    "    1. Frequency & Gaussian distribution\n",
    "\n",
    "    2. Frequency smoothened KDE plot\n",
    "\n",
    "    3. Gaussian distribution & smoothened KDE plot\n",
    "\n",
    "\n",
    "  (ii) Write a Python function to calculate the range of a given list of numbers.\n",
    "\n",
    "\n",
    "  (iii) Create a program to find the variance and standard deviation of a list of numbers.\n",
    "\n",
    "\n",
    "  (iv) Implement a function to compute the interquartile range (IQR) of a list of values.\n",
    "\n",
    "\n",
    "  (v) Build a program to calculate the coefficient of variation for a dataset.\n",
    "\n",
    "  \n",
    "\n",
    "  (vi) Write a Python function to find the mean absolute deviation (MAD) of a list of numbers.\n",
    "\n",
    "\n",
    "  (vii) Create a program to calculate the quartile deviation of a list of values.\n",
    "\n",
    "  \n",
    "\n",
    "  (viii) Implement a function to find the range-based coefficient of dispersion for a dataset."
   ]
  },
  {
   "cell_type": "code",
   "execution_count": 11,
   "id": "47c60a99-9957-4d6b-8402-8d8d7ca2ddf2",
   "metadata": {},
   "outputs": [],
   "source": [
    "import random\n",
    "\n",
    "# Generate a list of 500 integers between 200 and 300\n",
    "int_list2 = [random.randint(200, 300) for _ in range(500)]\n"
   ]
  },
  {
   "cell_type": "code",
   "execution_count": 12,
   "id": "ef314e2d-0bb7-4adf-bb77-a870a74ec112",
   "metadata": {},
   "outputs": [
    {
     "data": {
      "image/png": "[encoded data removed]",
      "text/plain": [
       "<Figure size 1800x600 with 3 Axes>"
      ]
     },
     "metadata": {},
     "output_type": "display_data"
    }
   ],
   "source": [
    "import matplotlib.pyplot as plt\n",
    "import seaborn as sns\n",
    "import numpy as np\n",
    "\n",
    "# Frequency histogram and Gaussian distribution\n",
    "plt.figure(figsize=(18, 6))\n",
    "\n",
    "# Histogram\n",
    "plt.subplot(1, 3, 1)\n",
    "sns.histplot(int_list2, kde=False, bins=20, color='blue')\n",
    "plt.title('Frequency Distribution')\n",
    "\n",
    "# KDE plot\n",
    "plt.subplot(1, 3, 2)\n",
    "sns.kdeplot(int_list2, bw_adjust=0.5, color='green')\n",
    "plt.title('Smoothed KDE Plot')\n",
    "\n",
    "# Gaussian distribution & KDE plot\n",
    "plt.subplot(1, 3, 3)\n",
    "sns.histplot(int_list2, kde=True, bins=20, color='blue')\n",
    "plt.title('Gaussian Distribution & KDE Plot')\n",
    "\n",
    "plt.tight_layout()\n",
    "plt.show()\n"
   ]
  },
  {
   "cell_type": "code",
   "execution_count": 13,
   "id": "17e8161d-0ac4-4558-8a64-c8d683724db5",
   "metadata": {},
   "outputs": [],
   "source": [
    "def calculate_range(numbers):\n",
    "    if not numbers:\n",
    "        return 0\n",
    "    return max(numbers) - min(numbers)\n"
   ]
  },
  {
   "cell_type": "code",
   "execution_count": 14,
   "id": "41fc1d24-ad55-417f-ade0-a635e9f3d381",
   "metadata": {},
   "outputs": [],
   "source": [
    "import statistics\n",
    "\n",
    "def calculate_variance(numbers):\n",
    "    return statistics.variance(numbers) if len(numbers) > 1 else 0\n",
    "\n",
    "def calculate_standard_deviation(numbers):\n",
    "    return statistics.stdev(numbers) if len(numbers) > 1 else 0\n"
   ]
  },
  {
   "cell_type": "code",
   "execution_count": 15,
   "id": "6a6b6e19-2e9c-4af5-b5ec-a8d1e609a086",
   "metadata": {},
   "outputs": [],
   "source": [
    "def calculate_iqr(numbers):\n",
    "    if not numbers:\n",
    "        return 0\n",
    "    sorted_numbers = sorted(numbers)\n",
    "    q1 = np.percentile(sorted_numbers, 25)\n",
    "    q3 = np.percentile(sorted_numbers, 75)\n",
    "    return q3 - q1\n"
   ]
  },
  {
   "cell_type": "code",
   "execution_count": 16,
   "id": "f28a0b31-2715-414e-86b7-dfbe98cd153f",
   "metadata": {},
   "outputs": [],
   "source": [
    "def calculate_coefficient_of_variation(numbers):\n",
    "    if not numbers or len(numbers) == 1:\n",
    "        return 0\n",
    "    mean = calculate_mean(numbers)\n",
    "    std_dev = calculate_standard_deviation(numbers)\n",
    "    return (std_dev / mean) * 100 if mean != 0 else 0\n"
   ]
  },
  {
   "cell_type": "code",
   "execution_count": 17,
   "id": "51b69087-9b15-47c4-ae18-193f191c7ce9",
   "metadata": {},
   "outputs": [],
   "source": [
    "def calculate_mad(numbers):\n",
    "    mean = calculate_mean(numbers)\n",
    "    return calculate_mean([abs(x - mean) for x in numbers])\n"
   ]
  },
  {
   "cell_type": "code",
   "execution_count": 18,
   "id": "c00d495e-b7b4-4576-80e2-53f64ba5b819",
   "metadata": {},
   "outputs": [],
   "source": [
    "def calculate_quartile_deviation(numbers):\n",
    "    if not numbers:\n",
    "        return 0\n",
    "    sorted_numbers = sorted(numbers)\n",
    "    q1 = np.percentile(sorted_numbers, 25)\n",
    "    q3 = np.percentile(sorted_numbers, 75)\n",
    "    return (q3 - q1) / 2\n"
   ]
  },
  {
   "cell_type": "code",
   "execution_count": 19,
   "id": "4f47e6c1-88ab-4e44-99ea-0485e701d8b3",
   "metadata": {},
   "outputs": [],
   "source": [
    "def calculate_range_based_coefficient_of_dispersion(numbers):\n",
    "    if not numbers or len(numbers) == 1:\n",
    "        return 0\n",
    "    return calculate_range(numbers) / calculate_mean(numbers) * 100\n"
   ]
  },
  {
   "cell_type": "code",
   "execution_count": 20,
   "id": "687c99bd-c6ac-4cbf-9ad4-6c7c23a2159f",
   "metadata": {},
   "outputs": [
    {
     "name": "stdout",
     "output_type": "stream",
     "text": [
      "Range: 100\n",
      "Variance: 809.1003446893787\n",
      "Standard Deviation: 28.444689217662035\n",
      "IQR: 47.25\n",
      "Coefficient of Variation: 11.369507729375993\n",
      "MAD: 24.530944000000023\n",
      "Quartile Deviation: 23.625\n",
      "Range-Based Coefficient of Dispersion: 39.9705816519042\n"
     ]
    }
   ],
   "source": [
    "print(\"Range:\", calculate_range(int_list2))\n",
    "print(\"Variance:\", calculate_variance(int_list2))\n",
    "print(\"Standard Deviation:\", calculate_standard_deviation(int_list2))\n",
    "print(\"IQR:\", calculate_iqr(int_list2))\n",
    "print(\"Coefficient of Variation:\", calculate_coefficient_of_variation(int_list2))\n",
    "print(\"MAD:\", calculate_mad(int_list2))\n",
    "print(\"Quartile Deviation:\", calculate_quartile_deviation(int_list2))\n",
    "print(\"Range-Based Coefficient of Dispersion:\", calculate_range_based_coefficient_of_dispersion(int_list2))\n"
   ]
  },
  {
   "cell_type": "markdown",
   "id": "57717db0-9057-49bb-b7d3-b4ea2ead1a03",
   "metadata": {},
   "source": [
    "\u001d",
    ")  Write a Python class representing a discrete random variable with methods to calculate its expected\n",
    "value and variance.\n",
    "0) Implement a program to simulate the rolling of a fair six-sided die and calculate the expected value and\n",
    "variance of the outcomes.\n",
    "_) Create a Python function to generate random samples 6rom a given probability distribution (e.g.,\n",
    "binomial, Poisson) and calculate their mean and variance.\n",
    "}) Write a Python script to generate random numbers f a Gaussian (normal) distribution and compute\n",
    "the mean, variance, and standard deviation of the samples."
   ]
  },
  {
   "cell_type": "code",
   "execution_count": 21,
   "id": "d7caeebf-63fd-4dd9-9969-a5c3ec901e32",
   "metadata": {},
   "outputs": [],
   "source": [
    "class DiscreteRandomVariable:\n",
    "    def __init__(self, probabilities, values):\n",
    "        if len(probabilities) != len(values) or not (0 <= sum(probabilities) <= 1):\n",
    "            raise ValueError(\"Invalid probabilities or values\")\n",
    "        self.probabilities = probabilities\n",
    "        self.values = values\n",
    "\n",
    "    def expected_value(self):\n",
    "        return sum(p * v for p, v in zip(self.probabilities, self.values))\n",
    "\n",
    "    def variance(self):\n",
    "        mean = self.expected_value()\n",
    "        return sum(p * (v - mean) ** 2 for p, v in zip(self.probabilities, self.values))\n"
   ]
  },
  {
   "cell_type": "code",
   "execution_count": 22,
   "id": "0068d325-588f-4e55-96dd-7101e4bba95d",
   "metadata": {},
   "outputs": [
    {
     "name": "stdout",
     "output_type": "stream",
     "text": [
      "Expected Value: 3.5016\n",
      "Variance: 2.9151974400000005\n"
     ]
    }
   ],
   "source": [
    "import numpy as np\n",
    "\n",
    "def roll_die(num_rolls=10000):\n",
    "    outcomes = np.random.randint(1, 7, num_rolls)\n",
    "    mean = np.mean(outcomes)\n",
    "    variance = np.var(outcomes)\n",
    "    return mean, variance\n",
    "\n",
    "mean, variance = roll_die()\n",
    "print(f\"Expected Value: {mean}\")\n",
    "print(f\"Variance: {variance}\")\n"
   ]
  },
  {
   "cell_type": "code",
   "execution_count": 23,
   "id": "e51c475d-349f-4d3c-ae4e-25821effac6a",
   "metadata": {},
   "outputs": [
    {
     "name": "stdout",
     "output_type": "stream",
     "text": [
      "Binomial Distribution - Mean: 4.977, Variance: 2.438471\n",
      "Poisson Distribution - Mean: 5.06, Variance: 5.3924\n"
     ]
    }
   ],
   "source": [
    "import numpy as np\n",
    "\n",
    "def generate_samples(distribution_type, params, num_samples=1000):\n",
    "    if distribution_type == 'binomial':\n",
    "        n, p = params\n",
    "        samples = np.random.binomial(n, p, num_samples)\n",
    "    elif distribution_type == 'poisson':\n",
    "        lam = params\n",
    "        samples = np.random.poisson(lam, num_samples)\n",
    "    else:\n",
    "        raise ValueError(\"Unsupported distribution type\")\n",
    "    \n",
    "    mean = np.mean(samples)\n",
    "    variance = np.var(samples)\n",
    "    return mean, variance\n",
    "\n",
    "# Example usage\n",
    "mean, variance = generate_samples('binomial', (10, 0.5))\n",
    "print(f\"Binomial Distribution - Mean: {mean}, Variance: {variance}\")\n",
    "\n",
    "mean, variance = generate_samples('poisson', 5)\n",
    "print(f\"Poisson Distribution - Mean: {mean}, Variance: {variance}\")\n"
   ]
  },
  {
   "cell_type": "code",
   "execution_count": 24,
   "id": "3152e58a-caac-43fc-97e7-82dd5ee0585d",
   "metadata": {},
   "outputs": [
    {
     "name": "stdout",
     "output_type": "stream",
     "text": [
      "Gaussian Distribution - Mean: -0.029617175404048575, Variance: 1.03090299858148, Standard Deviation: 1.0153339345168564\n"
     ]
    }
   ],
   "source": [
    "import numpy as np\n",
    "\n",
    "def generate_gaussian_samples(mean, std_dev, num_samples=1000):\n",
    "    samples = np.random.normal(mean, std_dev, num_samples)\n",
    "    mean = np.mean(samples)\n",
    "    variance = np.var(samples)\n",
    "    std_dev = np.sqrt(variance)\n",
    "    return mean, variance, std_dev\n",
    "\n",
    "# Example usage\n",
    "mean, variance, std_dev = generate_gaussian_samples(0, 1)\n",
    "print(f\"Gaussian Distribution - Mean: {mean}, Variance: {variance}, Standard Deviation: {std_dev}\")\n"
   ]
  },
  {
   "cell_type": "markdown",
   "id": "2ff3b50d-fcb1-4cb3-aaaa-6996f2e8ea1e",
   "metadata": {},
   "source": [
    "\u0012) Use seaborn library to load tips dataset. Find the following from the dataset for the columns total_bill\n",
    "and tip`:\n",
    "\n",
    "  \n",
    "\n",
    "  (\u0013) Write a Python function that calculates their skewness.\n",
    "\n",
    "\n",
    "  (\u0013\u0013) Create a program that determines whether the columns exhibit positive skewness, negative skewness, or \u0013s\n",
    "approximately symmetric.\n",
    "\n",
    "\n",
    "  (\u0013\u0013\u0013) Write a function that calculates the covariance between two columns.\n",
    "\n",
    "\n",
    "  (\u0013v) Implement a Python program that calculates the Pearson correlation coefficient between two columns.\n",
    "\n",
    "\n",
    "  (v) Write a script to visualize the correlation between two specific columns in a Pandas DataFrame using\n",
    "scatter plots"
   ]
  },
  {
   "cell_type": "code",
   "execution_count": 25,
   "id": "dd7a3ce3-25ae-4408-9a62-4cab4a2abed0",
   "metadata": {},
   "outputs": [
    {
     "name": "stdout",
     "output_type": "stream",
     "text": [
      "   total_bill   tip     sex smoker  day    time  size\n",
      "0       16.99  1.01  Female     No  Sun  Dinner     2\n",
      "1       10.34  1.66    Male     No  Sun  Dinner     3\n",
      "2       21.01  3.50    Male     No  Sun  Dinner     3\n",
      "3       23.68  3.31    Male     No  Sun  Dinner     2\n",
      "4       24.59  3.61  Female     No  Sun  Dinner     4\n"
     ]
    }
   ],
   "source": [
    "import seaborn as sns\n",
    "import pandas as pd\n",
    "\n",
    "# Load the tips dataset\n",
    "tips = sns.load_dataset('tips')\n",
    "\n",
    "# Display the first few rows of the dataset\n",
    "print(tips.head())\n"
   ]
  },
  {
   "cell_type": "code",
   "execution_count": 26,
   "id": "a743ae3a-ea06-4558-8bcb-2dae67a505b8",
   "metadata": {},
   "outputs": [
    {
     "name": "stdout",
     "output_type": "stream",
     "text": [
      "Skewness of 'total_bill': 1.1262346334818638\n",
      "Skewness of 'tip': 1.4564266884221506\n"
     ]
    }
   ],
   "source": [
    "from scipy.stats import skew\n",
    "\n",
    "def calculate_skewness(data):\n",
    "    return skew(data)\n",
    "\n",
    "total_bill_skewness = calculate_skewness(tips['total_bill'])\n",
    "tip_skewness = calculate_skewness(tips['tip'])\n",
    "\n",
    "print(f\"Skewness of 'total_bill': {total_bill_skewness}\")\n",
    "print(f\"Skewness of 'tip': {tip_skewness}\")\n"
   ]
  },
  {
   "cell_type": "code",
   "execution_count": 27,
   "id": "fde17802-617e-41e4-8936-5b625fec3aea",
   "metadata": {},
   "outputs": [
    {
     "name": "stdout",
     "output_type": "stream",
     "text": [
      "'total_bill' skewness type: Positive skewness\n",
      "'tip' skewness type: Positive skewness\n"
     ]
    }
   ],
   "source": [
    "def skewness_type(skewness):\n",
    "    if skewness > 0:\n",
    "        return 'Positive skewness'\n",
    "    elif skewness < 0:\n",
    "        return 'Negative skewness'\n",
    "    else:\n",
    "        return 'Approximately symmetric'\n",
    "\n",
    "total_bill_skewness_type = skewness_type(total_bill_skewness)\n",
    "tip_skewness_type = skewness_type(tip_skewness)\n",
    "\n",
    "print(f\"'total_bill' skewness type: {total_bill_skewness_type}\")\n",
    "print(f\"'tip' skewness type: {tip_skewness_type}\")\n"
   ]
  },
  {
   "cell_type": "code",
   "execution_count": 28,
   "id": "89838353-704a-4c99-9660-ec5bfd00e0a1",
   "metadata": {},
   "outputs": [
    {
     "name": "stdout",
     "output_type": "stream",
     "text": [
      "Covariance between 'total_bill' and 'tip': 8.323501629224854\n"
     ]
    }
   ],
   "source": [
    "def calculate_covariance(column1, column2):\n",
    "    return column1.cov(column2)\n",
    "\n",
    "covariance = calculate_covariance(tips['total_bill'], tips['tip'])\n",
    "print(f\"Covariance between 'total_bill' and 'tip': {covariance}\")\n"
   ]
  },
  {
   "cell_type": "code",
   "execution_count": 29,
   "id": "1a338001-3739-4a87-ad1e-d9a01cbd2ba6",
   "metadata": {},
   "outputs": [
    {
     "name": "stdout",
     "output_type": "stream",
     "text": [
      "Pearson correlation coefficient between 'total_bill' and 'tip': 0.6757341092113641\n"
     ]
    }
   ],
   "source": [
    "def calculate_pearson_correlation(column1, column2):\n",
    "    return column1.corr(column2)\n",
    "\n",
    "pearson_correlation = calculate_pearson_correlation(tips['total_bill'], tips['tip'])\n",
    "print(f\"Pearson correlation coefficient between 'total_bill' and 'tip': {pearson_correlation}\")\n"
   ]
  },
  {
   "cell_type": "code",
   "execution_count": 30,
   "id": "77e447fd-04c3-4d2e-9eb0-8232b15266ee",
   "metadata": {},
   "outputs": [
    {
     "data": {
      "image/png": "[encoded data removed]",
      "text/plain": [
       "<Figure size 1000x600 with 1 Axes>"
      ]
     },
     "metadata": {},
     "output_type": "display_data"
    }
   ],
   "source": [
    "import matplotlib.pyplot as plt\n",
    "\n",
    "def plot_scatter(df, col1, col2):\n",
    "    plt.figure(figsize=(10, 6))\n",
    "    sns.scatterplot(x=df[col1], y=df[col2])\n",
    "    plt.title(f'Scatter Plot of {col1} vs {col2}')\n",
    "    plt.xlabel(col1)\n",
    "    plt.ylabel(col2)\n",
    "    plt.show()\n",
    "\n",
    "plot_scatter(tips, 'total_bill', 'tip')\n"
   ]
  },
  {
   "cell_type": "markdown",
   "id": "91ed6ae9-56af-434d-8cf0-56161ca27bba",
   "metadata": {},
   "source": [
    ") Write a Python function to calculate the probability density function (PDF) of a continuous random\n",
    "variable for a given normal distribution.\n",
    "¸) Create a program to calculate the cumulative distribution function (CDF) of exponential distribution.\n",
    "ÕÐ) Write a Python function to calculate the probability mass function (PMF) of Poisson distribution."
   ]
  },
  {
   "cell_type": "code",
   "execution_count": 31,
   "id": "165301cc-7af7-46f9-b7b3-c1b642bb6c6d",
   "metadata": {},
   "outputs": [
    {
     "name": "stdout",
     "output_type": "stream",
     "text": [
      "PDF of normal distribution at x=1: 0.24197072451914337\n"
     ]
    }
   ],
   "source": [
    "from scipy.stats import norm\n",
    "\n",
    "def calculate_pdf(x, mean, std_dev):\n",
    "    return norm.pdf(x, loc=mean, scale=std_dev)\n",
    "\n",
    "# Example usage\n",
    "mean = 0\n",
    "std_dev = 1\n",
    "x = 1\n",
    "pdf_value = calculate_pdf(x, mean, std_dev)\n",
    "print(f\"PDF of normal distribution at x={x}: {pdf_value}\")\n"
   ]
  },
  {
   "cell_type": "code",
   "execution_count": 32,
   "id": "48fd3218-9c22-4464-b718-7d4b3346541f",
   "metadata": {},
   "outputs": [
    {
     "name": "stdout",
     "output_type": "stream",
     "text": [
      "CDF of exponential distribution at x=2: 0.8646647167633873\n"
     ]
    }
   ],
   "source": [
    "from scipy.stats import expon\n",
    "\n",
    "def calculate_cdf(x, scale):\n",
    "    return expon.cdf(x, scale=scale)\n",
    "\n",
    "# Example usage\n",
    "scale = 1  # This is the reciprocal of the rate parameter lambda\n",
    "x = 2\n",
    "cdf_value = calculate_cdf(x, scale)\n",
    "print(f\"CDF of exponential distribution at x={x}: {cdf_value}\")\n"
   ]
  },
  {
   "cell_type": "code",
   "execution_count": 33,
   "id": "a55f3636-0c21-4312-92b3-1dba933af22f",
   "metadata": {},
   "outputs": [
    {
     "name": "stdout",
     "output_type": "stream",
     "text": [
      "PMF of Poisson distribution at k=2: 0.22404180765538775\n"
     ]
    }
   ],
   "source": [
    "from scipy.stats import poisson\n",
    "\n",
    "def calculate_pmf(k, mu):\n",
    "    return poisson.pmf(k, mu)\n",
    "\n",
    "# Example usage\n",
    "mu = 3  # Average rate (lambda)\n",
    "k = 2\n",
    "pmf_value = calculate_pmf(k, mu)\n",
    "print(f\"PMF of Poisson distribution at k={k}: {pmf_value}\")\n"
   ]
  },
  {
   "cell_type": "markdown",
   "id": "893c0099-2c7c-49ca-82fb-a3333c27df54",
   "metadata": {},
   "source": [
    "A company wants to test if a new website layout leads to a higher conversion rate (percentage of visitors\n",
    "who make a purchase). They collect data from the old and new layouts to compare.\n",
    "\n",
    "\n",
    "To generate the data use the following command:\n",
    "\n",
    "```python\n",
    "\n",
    "import numpy as np\n",
    "\n",
    "# 50 purchases out of 1000 visitors\n",
    "\n",
    "old_layout = np.array([1] * 50 + [0] * 950)\n",
    "\n",
    "# 70 purchases out of 1000 visitors  \n",
    "\n",
    "new_layout = np.array([1] * 70 + [0] * 930)\n",
    "\n",
    "  ```\n",
    "\n",
    "Apply z-test to find which layout is successful."
   ]
  },
  {
   "cell_type": "code",
   "execution_count": 34,
   "id": "9f29fd4d-8353-49c5-823f-477360f011ba",
   "metadata": {},
   "outputs": [
    {
     "name": "stdout",
     "output_type": "stream",
     "text": [
      "Z-Score: -1.883108942886774\n",
      "P-Value: 0.9701571972337869\n",
      "Fail to reject the null hypothesis: No significant difference in conversion rates between the layouts.\n"
     ]
    }
   ],
   "source": [
    "import numpy as np\n",
    "from scipy import stats\n",
    "\n",
    "# Define the data\n",
    "old_layout = np.array([1] * 50 + [0] * 950)\n",
    "new_layout = np.array([1] * 70 + [0] * 930)\n",
    "\n",
    "# Calculate successes and sample sizes\n",
    "x1 = np.sum(old_layout)  # Successes for old layout\n",
    "n1 = len(old_layout)     # Sample size for old layout\n",
    "x2 = np.sum(new_layout)  # Successes for new layout\n",
    "n2 = len(new_layout)     # Sample size for new layout\n",
    "\n",
    "# Calculate proportions\n",
    "p1 = x1 / n1\n",
    "p2 = x2 / n2\n",
    "\n",
    "# Calculate pooled proportion\n",
    "p_pooled = (x1 + x2) / (n1 + n2)\n",
    "\n",
    "# Calculate z-score\n",
    "z = (p1 - p2) / np.sqrt(p_pooled * (1 - p_pooled) * (1 / n1 + 1 / n2))\n",
    "\n",
    "# Calculate p-value\n",
    "p_value = stats.norm.sf(z)  # one-tailed p-value\n",
    "\n",
    "print(f\"Z-Score: {z}\")\n",
    "print(f\"P-Value: {p_value}\")\n",
    "\n",
    "# Interpretation\n",
    "alpha = 0.05  # significance level\n",
    "if p_value < alpha:\n",
    "    print(\"Reject the null hypothesis: The new layout has a significantly higher conversion rate.\")\n",
    "else:\n",
    "    print(\"Fail to reject the null hypothesis: No significant difference in conversion rates between the layouts.\")\n"
   ]
  },
  {
   "cell_type": "markdown",
   "id": "3c432dbf-12d8-4bce-8b14-42d95957b49e",
   "metadata": {},
   "source": [
    "A tutoring service claims that its program improves students' exam scores. A sample of students who\n",
    "participated in the program was taken, and their scores beNore and after the program were recorded.\n",
    "\n",
    "\n",
    "Use the below code to ge<erate samples of respective arrays of marks:\n",
    "\n",
    "```python\n",
    "\n",
    "before_program = np.array([75, 80, 85, 70, 90, 78, 92, 88, 82, 87])\n",
    "\n",
    "after_program = np.array([80, 85, 90, 80, 92, 80, 95, 90, 85, 88])\n",
    "\n",
    "```\n",
    "\n",
    "Use z-test to find if the claims made by tutor are true or false."
   ]
  },
  {
   "cell_type": "markdown",
   "id": "ad2ba425-a1f9-429b-bda4-18d656e285bb",
   "metadata": {},
   "source": [
    "A tutoring service claims that its program improves students' exam scores. A sample of students who\n",
    "participated in the program was taken, and their scores beNore and after the program were recorded.\n",
    "\n",
    "\n",
    "Use the below code to ge<erate samples of respective arrays of marks:\n",
    "\n",
    "```python\n",
    "\n",
    "before_program = np.array([75, 80, 85, 70, 90, 78, 92, 88, 82, 87])\n",
    "\n",
    "after_program = np.array([80, 85, 90, 80, 92, 80, 95, 90, 85, 88])\n",
    "\n",
    "```\n",
    "\n",
    "Use z-test to find if the claims made by tutor are true or false."
   ]
  },
  {
   "cell_type": "code",
   "execution_count": 35,
   "id": "da7d9ced-0019-4ae0-b9dd-db75714eb2c0",
   "metadata": {},
   "outputs": [
    {
     "name": "stdout",
     "output_type": "stream",
     "text": [
      "T-Statistic: 4.593190894944668\n",
      "P-Value: 0.0013030932910086035\n",
      "Reject the null hypothesis: The tutoring program has a significant effect on exam scores.\n"
     ]
    }
   ],
   "source": [
    "import numpy as np\n",
    "from scipy import stats\n",
    "\n",
    "# Define the data\n",
    "before_program = np.array([75, 80, 85, 70, 90, 78, 92, 88, 82, 87])\n",
    "after_program = np.array([80, 85, 90, 80, 92, 80, 95, 90, 85, 88])\n",
    "\n",
    "# Calculate the differences\n",
    "differences = after_program - before_program\n",
    "\n",
    "# Perform the paired sample t-test\n",
    "t_statistic, p_value = stats.ttest_rel(after_program, before_program)\n",
    "\n",
    "print(f\"T-Statistic: {t_statistic}\")\n",
    "print(f\"P-Value: {p_value}\")\n",
    "\n",
    "# Interpretation\n",
    "alpha = 0.05  # significance level\n",
    "if p_value < alpha:\n",
    "    print(\"Reject the null hypothesis: The tutoring program has a significant effect on exam scores.\")\n",
    "else:\n",
    "    print(\"Fail to reject the null hypothesis: There is no significant effect of the tutoring program on exam scores.\")\n"
   ]
  },
  {
   "cell_type": "markdown",
   "id": "e9b98659-ec35-4738-887b-8e1e3f690ce9",
   "metadata": {},
   "source": [
    "A pharmaceutical company wants to determine if a new drug is effective in reducing blood pressure. They\n",
    "conduct a study and record blood pressure measurements before and after administering the drug.\n",
    "\n",
    "\n",
    "Use the below code to generate samples of respective arrays of blood pressure:\n",
    "\n",
    "\n",
    "```python\n",
    "\n",
    "before_drug = np.array([145, 150, 140, 135, 155, 160, 152, 148, 130, 138])\n",
    "\n",
    "after_drug = np.array([130, 140, 132, 128, 145, 148, 138, 136, 125, 130])\n",
    "\n",
    "  ```\n",
    "\n",
    "\n",
    "Implement z-test to find if the drug really works or not."
   ]
  },
  {
   "cell_type": "code",
   "execution_count": 36,
   "id": "6fce6032-2329-4290-8e3d-f9f97d4a2658",
   "metadata": {},
   "outputs": [
    {
     "name": "stdout",
     "output_type": "stream",
     "text": [
      "T-Statistic: -10.04987562112089\n",
      "P-Value: 3.433031432681152e-06\n",
      "Reject the null hypothesis: The drug has a significant effect on reducing blood pressure.\n"
     ]
    }
   ],
   "source": [
    "import numpy as np\n",
    "from scipy import stats\n",
    "\n",
    "# Define the data\n",
    "before_drug = np.array([145, 150, 140, 135, 155, 160, 152, 148, 130, 138])\n",
    "after_drug = np.array([130, 140, 132, 128, 145, 148, 138, 136, 125, 130])\n",
    "\n",
    "# Perform the paired sample t-test\n",
    "t_statistic, p_value = stats.ttest_rel(after_drug, before_drug)\n",
    "\n",
    "print(f\"T-Statistic: {t_statistic}\")\n",
    "print(f\"P-Value: {p_value}\")\n",
    "\n",
    "# Interpretation\n",
    "alpha = 0.05  # significance level\n",
    "if p_value < alpha:\n",
    "    print(\"Reject the null hypothesis: The drug has a significant effect on reducing blood pressure.\")\n",
    "else:\n",
    "    print(\"Fail to reject the null hypothesis: There is no significant effect of the drug on blood pressure.\")\n"
   ]
  },
  {
   "cell_type": "markdown",
   "id": "f1a9eca7-2f82-42d6-ab9b-8ac2bad00d86",
   "metadata": {},
   "source": [
    "A customer service department claims that their average response time is less than 5 minutes A sample\n",
    "of recent customer interactions was taken, and the response times were recorded.\n",
    "\n",
    "\n",
    "Implement the below code to generate the array of response time:\n",
    "\n",
    "```python\n",
    "\n",
    "respo3se_times = np.array([4.3, 3.8, 5.1, 4.9, 4.7, 4.2, 5.2, 4.5, 4.6, 4.4])\n",
    "\n",
    "```\n",
    "\n",
    "Implement z-test to find the claims made by customer service department are true or false"
   ]
  },
  {
   "cell_type": "code",
   "execution_count": 37,
   "id": "ddf5558d-cd0c-4d95-85bc-6184094b286f",
   "metadata": {},
   "outputs": [
    {
     "name": "stdout",
     "output_type": "stream",
     "text": [
      "T-Statistic: -3.1844572260429627\n",
      "P-Value: 0.011104982316785018\n",
      "Reject the null hypothesis: The average response time is significantly less than 5 minutes.\n"
     ]
    }
   ],
   "source": [
    "import numpy as np\n",
    "from scipy import stats\n",
    "\n",
    "# Define the data\n",
    "response_times = np.array([4.3, 3.8, 5.1, 4.9, 4.7, 4.2, 5.2, 4.5, 4.6, 4.4])\n",
    "\n",
    "# Known value (claimed average response time)\n",
    "claimed_mean = 5.0\n",
    "\n",
    "# Perform the one-sample t-test\n",
    "t_statistic, p_value = stats.ttest_1samp(response_times, claimed_mean)\n",
    "\n",
    "print(f\"T-Statistic: {t_statistic}\")\n",
    "print(f\"P-Value: {p_value}\")\n",
    "\n",
    "# Interpretation\n",
    "alpha = 0.05  # significance level\n",
    "if p_value < alpha and t_statistic < 0:\n",
    "    print(\"Reject the null hypothesis: The average response time is significantly less than 5 minutes.\")\n",
    "else:\n",
    "    print(\"Fail to reject the null hypothesis: There is no significant evidence that the average response time is less than 5 minutes.\")\n"
   ]
  },
  {
   "cell_type": "markdown",
   "id": "bbbaec21-ed20-418f-957c-260d7b70e4db",
   "metadata": {},
   "source": [
    "A company is testing two different website layouts to see which one leads to higher click-through rates\n",
    "Write a Python function to perform an A/B test analysis, including calculating the t-statistic, degrees of\n",
    "freedom and p-value.\n",
    "\n",
    "\n",
    "Use the following data:\n",
    "\n",
    "```python\n",
    "\n",
    "layout_a_clicks = [28, 32, 33, 29, 31, 34, 30, 35, 36, 37]\n",
    "\n",
    "layout_b_clicks = [40, 41, 38, 42, 39, 44, 43, 41, 45, 47]"
   ]
  },
  {
   "cell_type": "code",
   "execution_count": 38,
   "id": "1762a51e-0779-4026-9f47-077666eaa79d",
   "metadata": {},
   "outputs": [
    {
     "name": "stdout",
     "output_type": "stream",
     "text": [
      "T-Statistic: -7.298102156175069\n",
      "P-Value: 9.19659607078939e-07\n",
      "Degrees of Freedom: 18\n",
      "Reject the null hypothesis: There is a significant difference between the click-through rates of the two layouts.\n"
     ]
    }
   ],
   "source": [
    "import numpy as np\n",
    "from scipy import stats\n",
    "\n",
    "def perform_ab_test(layout_a_clicks, layout_b_clicks):\n",
    "    # Convert lists to numpy arrays\n",
    "    layout_a = np.array(layout_a_clicks)\n",
    "    layout_b = np.array(layout_b_clicks)\n",
    "    \n",
    "    # Perform the two-sample t-test\n",
    "    t_statistic, p_value = stats.ttest_ind(layout_a, layout_b, equal_var=False)\n",
    "    \n",
    "    # Calculate degrees of freedom\n",
    "    # Note: scipy's t-test already handles the calculation of degrees of freedom\n",
    "    df = len(layout_a) + len(layout_b) - 2\n",
    "    \n",
    "    print(f\"T-Statistic: {t_statistic}\")\n",
    "    print(f\"P-Value: {p_value}\")\n",
    "    print(f\"Degrees of Freedom: {df}\")\n",
    "    \n",
    "    # Interpretation\n",
    "    alpha = 0.05  # significance level\n",
    "    if p_value < alpha:\n",
    "        print(\"Reject the null hypothesis: There is a significant difference between the click-through rates of the two layouts.\")\n",
    "    else:\n",
    "        print(\"Fail to reject the null hypothesis: There is no significant difference between the click-through rates of the two layouts.\")\n",
    "\n",
    "# Data\n",
    "layout_a_clicks = [28, 32, 33, 29, 31, 34, 30, 35, 36, 37]\n",
    "layout_b_clicks = [40, 41, 38, 42, 39, 44, 43, 41, 45, 47]\n",
    "\n",
    "# Perform A/B test\n",
    "perform_ab_test(layout_a_clicks, layout_b_clicks)\n"
   ]
  },
  {
   "cell_type": "markdown",
   "id": "df300f88-4c9b-421d-81a0-c909f670829d",
   "metadata": {},
   "source": [
    "A pharmaceutical company wants to determine if a new drug is more effective than an existing drug in\n",
    "reducing cholesterol levels Create a program to analyze the clinical trial data and calculate the tstatistic and p-value for the treatment effect.\n",
    "\n",
    "\n",
    "Use the following data of cholestrol level:\n",
    "\n",
    "```python\n",
    "\n",
    "existing_drug_levels = [180, 182, 175, 185, 178, 176, 172, 184, 179, 183]\n",
    "\n",
    "new_drug_levels = [170, 172, 165, 168, 175, 173, 170, 178, 172, 176]"
   ]
  },
  {
   "cell_type": "code",
   "execution_count": 39,
   "id": "ab692968-05d8-4123-99e9-34c0430c566c",
   "metadata": {},
   "outputs": [
    {
     "name": "stdout",
     "output_type": "stream",
     "text": [
      "T-Statistic: -4.140480986208659\n",
      "P-Value: 0.0006229228945469329\n",
      "Degrees of Freedom: 18\n",
      "Reject the null hypothesis: The new drug has a significant effect in reducing cholesterol levels compared to the existing drug.\n"
     ]
    }
   ],
   "source": [
    "import numpy as np\n",
    "from scipy import stats\n",
    "\n",
    "def analyze_drug_effect(existing_drug_levels, new_drug_levels):\n",
    "    # Convert lists to numpy arrays\n",
    "    existing_drug = np.array(existing_drug_levels)\n",
    "    new_drug = np.array(new_drug_levels)\n",
    "    \n",
    "    # Perform the two-sample t-test\n",
    "    t_statistic, p_value = stats.ttest_ind(new_drug, existing_drug, equal_var=False)\n",
    "    \n",
    "    # Calculate degrees of freedom\n",
    "    # Note: scipy's t-test already handles the calculation of degrees of freedom\n",
    "    df = len(existing_drug) + len(new_drug) - 2\n",
    "    \n",
    "    print(f\"T-Statistic: {t_statistic}\")\n",
    "    print(f\"P-Value: {p_value}\")\n",
    "    print(f\"Degrees of Freedom: {df}\")\n",
    "    \n",
    "    # Interpretation\n",
    "    alpha = 0.05  # significance level\n",
    "    if p_value < alpha:\n",
    "        print(\"Reject the null hypothesis: The new drug has a significant effect in reducing cholesterol levels compared to the existing drug.\")\n",
    "    else:\n",
    "        print(\"Fail to reject the null hypothesis: There is no significant difference between the new drug and the existing drug in reducing cholesterol levels.\")\n",
    "\n",
    "# Data\n",
    "existing_drug_levels = [180, 182, 175, 185, 178, 176, 172, 184, 179, 183]\n",
    "new_drug_levels = [170, 172, 165, 168, 175, 173, 170, 178, 172, 176]\n",
    "\n",
    "# Analyze drug effect\n",
    "analyze_drug_effect(existing_drug_levels, new_drug_levels)\n"
   ]
  },
  {
   "cell_type": "markdown",
   "id": "2bab1b2c-4ab3-423f-bfdf-ac4959e35a7d",
   "metadata": {},
   "source": [
    "A school district introduces an educational intervention program to improve math scores Write a Python\n",
    "function to analyze pre- and post-intervention test scores, calculating the t-statistic and p-value to\n",
    "determine if the intervention had a significant i:pact.\n",
    "\n",
    "\n",
    "Use the following data of test score:\n",
    "\n",
    "\n",
    "  ```python\n",
    "\n",
    "  pre_intervention_scores = [80, 85, 90, 75, 88, 82, 92, 78, 85, 87]\n",
    "\n",
    "  post_intervention_scores = [90, 92, 88, 92, 95, 91, 96, 93, 89, 93]"
   ]
  },
  {
   "cell_type": "code",
   "execution_count": 40,
   "id": "fe4a644a-ffd1-4769-90f5-59e0dafafa54",
   "metadata": {},
   "outputs": [
    {
     "name": "stdout",
     "output_type": "stream",
     "text": [
      "T-Statistic: 4.42840883965761\n",
      "P-Value: 0.0016509548165795493\n",
      "Degrees of Freedom: 9\n",
      "Reject the null hypothesis: The educational intervention had a significant impact on math scores.\n"
     ]
    }
   ],
   "source": [
    "import numpy as np\n",
    "from scipy import stats\n",
    "\n",
    "def analyze_intervention(pre_intervention_scores, post_intervention_scores):\n",
    "    # Convert lists to numpy arrays\n",
    "    pre_scores = np.array(pre_intervention_scores)\n",
    "    post_scores = np.array(post_intervention_scores)\n",
    "    \n",
    "    # Perform the paired sample t-test\n",
    "    t_statistic, p_value = stats.ttest_rel(post_scores, pre_scores)\n",
    "    \n",
    "    # Calculate degrees of freedom\n",
    "    df = len(pre_scores) - 1  # Degrees of freedom for paired sample t-test\n",
    "    \n",
    "    print(f\"T-Statistic: {t_statistic}\")\n",
    "    print(f\"P-Value: {p_value}\")\n",
    "    print(f\"Degrees of Freedom: {df}\")\n",
    "    \n",
    "    # Interpretation\n",
    "    alpha = 0.05  # significance level\n",
    "    if p_value < alpha:\n",
    "        print(\"Reject the null hypothesis: The educational intervention had a significant impact on math scores.\")\n",
    "    else:\n",
    "        print(\"Fail to reject the null hypothesis: There is no significant impact of the educational intervention on math scores.\")\n",
    "\n",
    "# Data\n",
    "pre_intervention_scores = [80, 85, 90, 75, 88, 82, 92, 78, 85, 87]\n",
    "post_intervention_scores = [90, 92, 88, 92, 95, 91, 96, 93, 89, 93]\n",
    "\n",
    "# Analyze intervention impact\n",
    "analyze_intervention(pre_intervention_scores, post_intervention_scores)\n"
   ]
  },
  {
   "cell_type": "markdown",
   "id": "f37d0699-c909-448b-a137-d089ff282cf5",
   "metadata": {},
   "source": [
    "An HR department wants to investigate if there's a gender-based salary gap within the company. Develop\n",
    "a program to analyze salary data, calculate the t-statistic, and determine if there's a statistically\n",
    "significant difference between the average salaries of male and female employees.\n",
    "\n",
    "\n",
    "Use the below code to generate synthetic data\n",
    "```python\n",
    "\n",
    "# Generate synthetic salary data for male and female employees\n",
    "\n",
    "np.random.seed(0)  # For reproducibility\n",
    "\n",
    "male_salaries = np.random.normal(loc=50000, scale=10000, size=20)\n",
    "\n",
    "female_salaries = np.random.normal(loc=55000, scale=9000, size=20)"
   ]
  },
  {
   "cell_type": "code",
   "execution_count": 41,
   "id": "5a92800a-3f7e-4701-80ef-d245fe1efeb7",
   "metadata": {},
   "outputs": [
    {
     "name": "stdout",
     "output_type": "stream",
     "text": [
      "T-Statistic: 0.061142089696313844\n",
      "P-Value: 0.9515826849267927\n",
      "Degrees of Freedom: 38\n",
      "Fail to reject the null hypothesis: There is no significant difference in average salaries between male and female employees.\n"
     ]
    }
   ],
   "source": [
    "import numpy as np\n",
    "from scipy import stats\n",
    "\n",
    "def analyze_salary_gap(male_salaries, female_salaries):\n",
    "    # Convert lists to numpy arrays\n",
    "    male = np.array(male_salaries)\n",
    "    female = np.array(female_salaries)\n",
    "    \n",
    "    # Perform the two-sample t-test\n",
    "    t_statistic, p_value = stats.ttest_ind(male, female, equal_var=False)\n",
    "    \n",
    "    # Calculate degrees of freedom\n",
    "    # Note: scipy's t-test already handles the calculation of degrees of freedom\n",
    "    df = len(male) + len(female) - 2\n",
    "    \n",
    "    print(f\"T-Statistic: {t_statistic}\")\n",
    "    print(f\"P-Value: {p_value}\")\n",
    "    print(f\"Degrees of Freedom: {df}\")\n",
    "    \n",
    "    # Interpretation\n",
    "    alpha = 0.05  # significance level\n",
    "    if p_value < alpha:\n",
    "        print(\"Reject the null hypothesis: There is a significant difference in average salaries between male and female employees.\")\n",
    "    else:\n",
    "        print(\"Fail to reject the null hypothesis: There is no significant difference in average salaries between male and female employees.\")\n",
    "\n",
    "# Generate synthetic salary data\n",
    "np.random.seed(0)  # For reproducibility\n",
    "male_salaries = np.random.normal(loc=50000, scale=10000, size=20)\n",
    "female_salaries = np.random.normal(loc=55000, scale=9000, size=20)\n",
    "\n",
    "# Analyze salary gap\n",
    "analyze_salary_gap(male_salaries, female_salaries)\n"
   ]
  },
  {
   "cell_type": "markdown",
   "id": "da58cac6-2de9-44aa-9179-b49a6ebaf1ea",
   "metadata": {},
   "source": [
    "A manufacturer produces two different versions of a product and wants to compare their quality scores.\n",
    "Create a Python function to analyze quality assessment data, calculate the t-statistic, and decide\n",
    "whether there's a significant difference in quality between the two versions.\n",
    "\n",
    "\n",
    "Use the following data\n",
    "```python\n",
    "\n",
    "version1_scores = [85, 88, 82, 89, 87, 84, 90, 88, 85, 86, 91, 83, 87, 84, 89, 86, 84, 88, 85, 86, 89, 90, 87, 88, 85]\n",
    "\n",
    "version2_scores = [80, 78, 83, 81, 79, 82, 76, 80, 78, 81, 77, 82, 80, 79, 82, 79, 80, 81, 79, 82, 79, 78, 80, 81, 82]"
   ]
  },
  {
   "cell_type": "code",
   "execution_count": 42,
   "id": "1386acbb-9498-49e2-b1bc-ab42ec1b2acb",
   "metadata": {},
   "outputs": [
    {
     "name": "stdout",
     "output_type": "stream",
     "text": [
      "T-Statistic: 11.325830417646698\n",
      "P-Value: 1.078754084378157e-14\n",
      "Degrees of Freedom: 48\n",
      "Reject the null hypothesis: There is a significant difference in quality scores between the two versions of the product.\n"
     ]
    }
   ],
   "source": [
    "import numpy as np\n",
    "from scipy import stats\n",
    "\n",
    "def analyze_quality_scores(version1_scores, version2_scores):\n",
    "    # Convert lists to numpy arrays\n",
    "    version1 = np.array(version1_scores)\n",
    "    version2 = np.array(version2_scores)\n",
    "    \n",
    "    # Perform the two-sample t-test\n",
    "    t_statistic, p_value = stats.ttest_ind(version1, version2, equal_var=False)\n",
    "    \n",
    "    # Calculate degrees of freedom\n",
    "    # Note: scipy's t-test already handles the calculation of degrees of freedom\n",
    "    df = len(version1) + len(version2) - 2\n",
    "    \n",
    "    print(f\"T-Statistic: {t_statistic}\")\n",
    "    print(f\"P-Value: {p_value}\")\n",
    "    print(f\"Degrees of Freedom: {df}\")\n",
    "    \n",
    "    # Interpretation\n",
    "    alpha = 0.05  # significance level\n",
    "    if p_value < alpha:\n",
    "        print(\"Reject the null hypothesis: There is a significant difference in quality scores between the two versions of the product.\")\n",
    "    else:\n",
    "        print(\"Fail to reject the null hypothesis: There is no significant difference in quality scores between the two versions of the product.\")\n",
    "\n",
    "# Data\n",
    "version1_scores = [85, 88, 82, 89, 87, 84, 90, 88, 85, 86, 91, 83, 87, 84, 89, 86, 84, 88, 85, 86, 89, 90, 87, 88, 85]\n",
    "version2_scores = [80, 78, 83, 81, 79, 82, 76, 80, 78, 81, 77, 82, 80, 79, 82, 79, 80, 81, 79, 82, 79, 78, 80, 81, 82]\n",
    "\n",
    "# Analyze quality scores\n",
    "analyze_quality_scores(version1_scores, version2_scores)\n"
   ]
  },
  {
   "cell_type": "markdown",
   "id": "eba74cc6-4c31-45a1-8d54-6df61dd4c779",
   "metadata": {},
   "source": [
    "20. A restaurant chain collects customer satisfaction scores for two different branches. Write a program to\n",
    "analyze the scores, calculate the t-statistic, and determine if there's a statistically significant difference in\n",
    "customer satisfaction between the branches.\n",
    "\n",
    "\n",
    "Use the below data of scores:\n",
    "\n",
    "  ```python\n",
    "\n",
    "branch_a_scores = [4, 5, 3, 4, 5, 4, 5, 3, 4, 4, 5, 4, 4, 3, 4, 5, 5, 4, 3, 4, 5, 4, 3, 5, 4, 4, 5, 3, 4, 5, 4]\n",
    "\n",
    "branch_b_scores = [3, 4, 2, 3, 4, 3, 4, 2, 3, 3, 4, 3, 3, 2, 3, 4, 4, 3, 2, 3, 4, 3, 2, 4, 3, 3, 4, 2, 3, 4, 3]"
   ]
  },
  {
   "cell_type": "code",
   "execution_count": 43,
   "id": "b8c9d9e8-86e7-4d1b-a112-66f78b45b83a",
   "metadata": {},
   "outputs": [
    {
     "name": "stdout",
     "output_type": "stream",
     "text": [
      "T-Statistic: 5.480077554195743\n",
      "P-Value: 8.895290509945655e-07\n",
      "Degrees of Freedom: 60\n",
      "Reject the null hypothesis: There is a significant difference in customer satisfaction scores between the two branches.\n"
     ]
    }
   ],
   "source": [
    "import numpy as np\n",
    "from scipy import stats\n",
    "\n",
    "def analyze_customer_satisfaction(branch_a_scores, branch_b_scores):\n",
    "    # Convert lists to numpy arrays\n",
    "    branch_a = np.array(branch_a_scores)\n",
    "    branch_b = np.array(branch_b_scores)\n",
    "    \n",
    "    # Perform the two-sample t-test\n",
    "    t_statistic, p_value = stats.ttest_ind(branch_a, branch_b, equal_var=False)\n",
    "    \n",
    "    # Calculate degrees of freedom\n",
    "    # Note: scipy's t-test already handles the calculation of degrees of freedom\n",
    "    df = len(branch_a) + len(branch_b) - 2\n",
    "    \n",
    "    print(f\"T-Statistic: {t_statistic}\")\n",
    "    print(f\"P-Value: {p_value}\")\n",
    "    print(f\"Degrees of Freedom: {df}\")\n",
    "    \n",
    "    # Interpretation\n",
    "    alpha = 0.05  # significance level\n",
    "    if p_value < alpha:\n",
    "        print(\"Reject the null hypothesis: There is a significant difference in customer satisfaction scores between the two branches.\")\n",
    "    else:\n",
    "        print(\"Fail to reject the null hypothesis: There is no significant difference in customer satisfaction scores between the two branches.\")\n",
    "\n",
    "# Data\n",
    "branch_a_scores = [4, 5, 3, 4, 5, 4, 5, 3, 4, 4, 5, 4, 4, 3, 4, 5, 5, 4, 3, 4, 5, 4, 3, 5, 4, 4, 5, 3, 4, 5, 4]\n",
    "branch_b_scores = [3, 4, 2, 3, 4, 3, 4, 2, 3, 3, 4, 3, 3, 2, 3, 4, 4, 3, 2, 3, 4, 3, 2, 4, 3, 3, 4, 2, 3, 4, 3]\n",
    "\n",
    "# Analyze customer satisfaction\n",
    "analyze_customer_satisfaction(branch_a_scores, branch_b_scores)\n"
   ]
  },
  {
   "cell_type": "markdown",
   "id": "aa70899e-0a5e-4714-b9fd-cad47c4b826f",
   "metadata": {},
   "source": [
    "A political analyst wants to determine if there is a significant association between age groups and voter\n",
    "preferences Candidate A or Candidate B). They collect data from a sample of 500 voters and classify\n",
    "them into different age groups and candidate preferences. Perform a Chi-Square test to determine if\n",
    "there is a significant association between age groups and voter preferences.\n",
    "\n",
    "\n",
    "Use the below code to generate data:\n",
    "\n",
    "```python\n",
    "\n",
    "np.random.seed(0)\n",
    "\n",
    "age_groups = np.random.choice([ 18 30 , 31 50 , 51+', 51+'], size=30)\n",
    "\n",
    "voter_preferences = np.random.choice(['Candidate A', 'Candidate B'], size=30)"
   ]
  },
  {
   "cell_type": "code",
   "execution_count": 44,
   "id": "fbf8032b-998b-4ea7-a5db-cfc3ec9ea1ae",
   "metadata": {},
   "outputs": [
    {
     "name": "stdout",
     "output_type": "stream",
     "text": [
      "Chi-Square Statistic: 0.8779923945254768\n",
      "P-Value: 0.6446832311860852\n",
      "Degrees of Freedom: 2\n",
      "Expected Frequencies Table:\n",
      "[[96.824 85.176]\n",
      " [89.908 79.092]\n",
      " [79.268 69.732]]\n",
      "Fail to reject the null hypothesis: There is no significant association between age groups and voter preferences.\n"
     ]
    }
   ],
   "source": [
    "import numpy as np\n",
    "import pandas as pd\n",
    "from scipy.stats import chi2_contingency\n",
    "\n",
    "def chi_square_test(age_groups, voter_preferences):\n",
    "    # Create a DataFrame from the provided data\n",
    "    df = pd.DataFrame({'Age Group': age_groups, 'Voter Preference': voter_preferences})\n",
    "    \n",
    "    # Create a contingency table\n",
    "    contingency_table = pd.crosstab(df['Age Group'], df['Voter Preference'])\n",
    "    \n",
    "    # Perform the Chi-Square test\n",
    "    chi2_statistic, p_value, dof, expected = chi2_contingency(contingency_table)\n",
    "    \n",
    "    print(f\"Chi-Square Statistic: {chi2_statistic}\")\n",
    "    print(f\"P-Value: {p_value}\")\n",
    "    print(f\"Degrees of Freedom: {dof}\")\n",
    "    print(\"Expected Frequencies Table:\")\n",
    "    print(expected)\n",
    "    \n",
    "    # Interpretation\n",
    "    alpha = 0.05  # significance level\n",
    "    if p_value < alpha:\n",
    "        print(\"Reject the null hypothesis: There is a significant association between age groups and voter preferences.\")\n",
    "    else:\n",
    "        print(\"Fail to reject the null hypothesis: There is no significant association between age groups and voter preferences.\")\n",
    "\n",
    "# Generate synthetic data\n",
    "np.random.seed(0)\n",
    "\n",
    "age_groups = np.random.choice(['18-30', '31-50', '51+'], size=500)\n",
    "voter_preferences = np.random.choice(['Candidate A', 'Candidate B'], size=500)\n",
    "\n",
    "# Perform Chi-Square test\n",
    "chi_square_test(age_groups, voter_preferences)\n"
   ]
  },
  {
   "cell_type": "markdown",
   "id": "d15cace1-435c-4d07-83f2-ac50eea53cd8",
   "metadata": {},
   "source": [
    " 22. A company conducted a customer satisfaction survey to determine if there is a significant relationship\n",
    "between product satisfaction levels (Satisfied, Neutral, Dissatisfied) and the region where customers are\n",
    "located (East, West, North, South). The survey data is summarized in a contingency table. Conduct a ChiSquare test to determine if there is a significant relationship between product satisfaction levels and\n",
    "customer regions.\n",
    "\n",
    "\n",
    "Sample data:\n",
    "\n",
    "```python\n",
    "\n",
    "#Sample data: Product satisfaction levels (rows) vs. Customer regions (columns)\n",
    "\n",
    "data = np.array([[50, 30, 40, 20], [30, 40, 30, 50], [20, 30, 40, 30]]"
   ]
  },
  {
   "cell_type": "code",
   "execution_count": 45,
   "id": "d207bfbf-57cd-4c43-baa0-e5302e88ce6f",
   "metadata": {},
   "outputs": [
    {
     "name": "stdout",
     "output_type": "stream",
     "text": [
      "Chi-Square Statistic: 27.777056277056275\n",
      "P-Value: 0.00010349448486004387\n",
      "Degrees of Freedom: 6\n",
      "Expected Frequencies Table:\n",
      "[[34.14634146 34.14634146 37.56097561 34.14634146]\n",
      " [36.58536585 36.58536585 40.24390244 36.58536585]\n",
      " [29.26829268 29.26829268 32.19512195 29.26829268]]\n",
      "Reject the null hypothesis: There is a significant relationship between product satisfaction levels and customer regions.\n"
     ]
    }
   ],
   "source": [
    "import numpy as np\n",
    "from scipy.stats import chi2_contingency\n",
    "\n",
    "def chi_square_test_satisfaction_region(data):\n",
    "    # Perform the Chi-Square test\n",
    "    chi2_statistic, p_value, dof, expected = chi2_contingency(data)\n",
    "    \n",
    "    print(f\"Chi-Square Statistic: {chi2_statistic}\")\n",
    "    print(f\"P-Value: {p_value}\")\n",
    "    print(f\"Degrees of Freedom: {dof}\")\n",
    "    print(\"Expected Frequencies Table:\")\n",
    "    print(expected)\n",
    "    \n",
    "    # Interpretation\n",
    "    alpha = 0.05  # significance level\n",
    "    if p_value < alpha:\n",
    "        print(\"Reject the null hypothesis: There is a significant relationship between product satisfaction levels and customer regions.\")\n",
    "    else:\n",
    "        print(\"Fail to reject the null hypothesis: There is no significant relationship between product satisfaction levels and customer regions.\")\n",
    "\n",
    "# Sample data: Product satisfaction levels (rows) vs. Customer regions (columns)\n",
    "data = np.array([[50, 30, 40, 20], [30, 40, 30, 50], [20, 30, 40, 30]])\n",
    "\n",
    "# Perform Chi-Square test\n",
    "chi_square_test_satisfaction_region(data)\n"
   ]
  },
  {
   "cell_type": "markdown",
   "id": "4e3faf46-3e2c-48d9-8c96-634ed04cbe5c",
   "metadata": {},
   "source": [
    " 23. A company implemented an employee training program to improve job performance (Effective, Neutral,\n",
    "Ineffective). After the training, they collected data from a sample of employees and classified them based\n",
    "on their job performance before and after the training. Perform a Chi-Square test to determine if there is a\n",
    "significant difference between job performance levels before and after the training.\n",
    "\n",
    "\n",
    "Sample data:\n",
    "\n",
    "```python\n",
    "\n",
    "# Sample data: Job performance levels before (rows) and after (columns) training\n",
    "\n",
    "data = np.array([[50, 30, 20], [30, 40, 30], [20, 30, 40]])"
   ]
  },
  {
   "cell_type": "code",
   "execution_count": null,
   "id": "61d69910-ef25-48b3-96f5-7e5db236e2ac",
   "metadata": {},
   "outputs": [],
   "source": []
  }
 ],
 "metadata": {
  "kernelspec": {
   "display_name": "Python 3 (ipykernel)",
   "language": "python",
   "name": "python3"
  },
  "language_info": {
   "codemirror_mode": {
    "name": "ipython",
    "version": 3
   },
   "file_extension": ".py",
   "mimetype": "text/x-python",
   "name": "python",
   "nbconvert_exporter": "python",
   "pygments_lexer": "ipython3",
   "version": "3.10.8"
  }
 },
 "nbformat": 4,
 "nbformat_minor": 5
}
