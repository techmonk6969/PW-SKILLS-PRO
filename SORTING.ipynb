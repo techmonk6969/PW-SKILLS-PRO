{
 "cells": [
  {
   "cell_type": "markdown",
   "id": "98dbc0a5-8dd5-417a-84fa-74d03eb4e8a3",
   "metadata": {},
   "source": [
    "Problem 1.Given an array of n numbers, give an algorithm which gives the element appearing maximum\n",
    "number of times?\n",
    "\n",
    "Problem 2 : We are given a list of n-1 integers and these integers are in the range of 1 to n . There are no\n",
    "duplicates in the list. One of the integers is missing in the list. Give an algorithm to find that element Ex:\n",
    "[1,2,4,6,3,7,8] 5 is the missing num.\n",
    "\n",
    "Problem 3 : Given an array of n positive numbers. All numbers occurs even number of times except 1 which\n",
    "occurs odd number of times. Find that number in O(n) time and O(1) space. Ex: [1,2,3,2,3,1,3]. 3 is repeats odd\n",
    "times.\n",
    "\n",
    "Problem 4 : Given an array of n elements. Find two elements in the array such that their sum is equal to given\n",
    "element K.\n",
    "\n",
    "Problem 5 : Given an array of both positive and negative numbers, find two numbers such that their sum is\n",
    "closest to 0. Ex: [ 1 ,60 ,-10, 70, -80,85]. Ans : -80,85.\n",
    "\n",
    "Problem 6 : Given an array of n elements . Find three elements such that their sum is equal to the given\n",
    "number.\n",
    "\n",
    "Problem 7 : Given an array of n elements . Find three elements i, j, k in the array such that\n",
    "i * i + j * j = k*k.\n",
    "\n",
    "Problem 8 : An element is a majority if it appears more than n/2 times. Give an algorithm takes an array of n\n",
    "element as argument and identifies a majority (if it exists).\n",
    "\n",
    "Problem 9 : Given n × n matrix, and in each row all 1’s are followed by 0’s. Find the row with the maximum\n",
    "number of 0’s.\n",
    "\n",
    "Problem 10 : Sort an array of 0’s, 1’s and 2’s [or R’s, G’s and B’s]: Given an array A[] consisting of 0’s, 1’s and\n",
    "2’s, give an algorithm for sorting A[].The algorithm should put all 0’s first, then all 1’s and finally all 2’s at the\n",
    "end. Example Input = {0,1,1,0,1,2,1,2,0,0,0,1}, Output = {0,0,0,0,0,1,1,1,1,1,2,2}"
   ]
  },
  {
   "cell_type": "code",
   "execution_count": 1,
   "id": "7daf685b-349a-482b-b339-c59fe00b2ee7",
   "metadata": {},
   "outputs": [
    {
     "name": "stdout",
     "output_type": "stream",
     "text": [
      "Element appearing maximum times: 2\n"
     ]
    }
   ],
   "source": [
    "def max_frequency_element(arr):\n",
    "    freq_dict = {}\n",
    "    max_element = None\n",
    "    max_frequency = 0\n",
    "    \n",
    "    for num in arr:\n",
    "        if num in freq_dict:\n",
    "            freq_dict[num] += 1\n",
    "        else:\n",
    "            freq_dict[num] = 1\n",
    "        \n",
    "        if freq_dict[num] > max_frequency:\n",
    "            max_frequency = freq_dict[num]\n",
    "            max_element = num\n",
    "    \n",
    "    return max_element\n",
    "\n",
    "arr = [1, 2, 4, 2, 5, 9, 2, 4, 4]\n",
    "result = max_frequency_element(arr)\n",
    "print(\"Element appearing maximum times:\", result)\n"
   ]
  },
  {
   "cell_type": "code",
   "execution_count": 2,
   "id": "b188de54-6d8d-409f-a53e-f77e825dddc3",
   "metadata": {},
   "outputs": [
    {
     "name": "stdout",
     "output_type": "stream",
     "text": [
      "Missing number: 5\n"
     ]
    }
   ],
   "source": [
    "def find_missing_number(arr):\n",
    "    n = len(arr) + 1\n",
    "    total_sum = n * (n + 1) // 2\n",
    "    actual_sum = sum(arr)\n",
    "    missing_number = total_sum - actual_sum\n",
    "    return missing_number\n",
    "\n",
    "arr = [1, 2, 4, 6, 3, 7, 8]\n",
    "result = find_missing_number(arr)\n",
    "print(\"Missing number:\", result)\n"
   ]
  },
  {
   "cell_type": "code",
   "execution_count": 3,
   "id": "330391f7-ea8c-4141-b539-942235d96347",
   "metadata": {},
   "outputs": [
    {
     "name": "stdout",
     "output_type": "stream",
     "text": [
      "Number occurring odd times: 3\n"
     ]
    }
   ],
   "source": [
    "def find_odd_occurrence(arr):\n",
    "    result = 0\n",
    "    for num in arr:\n",
    "        result ^= num\n",
    "    return result\n",
    "\n",
    "arr = [1, 2, 3, 2, 3, 1, 3]\n",
    "result = find_odd_occurrence(arr)\n",
    "print(\"Number occurring odd times:\", result)\n"
   ]
  },
  {
   "cell_type": "code",
   "execution_count": 4,
   "id": "cd2f06fc-4586-4831-9bc3-fb7096b4f93a",
   "metadata": {},
   "outputs": [
    {
     "name": "stdout",
     "output_type": "stream",
     "text": [
      "Pair with sum 25 : (20, 5)\n"
     ]
    }
   ],
   "source": [
    "def find_pair_with_sum(arr, K):\n",
    "    seen = set()\n",
    "    for num in arr:\n",
    "        if K - num in seen:\n",
    "            return num, K - num\n",
    "        seen.add(num)\n",
    "    return None\n",
    "\n",
    "arr = [10, 5, 20, 8, 15]\n",
    "K = 25\n",
    "result = find_pair_with_sum(arr, K)\n",
    "print(\"Pair with sum\", K, \":\", result)\n"
   ]
  },
  {
   "cell_type": "code",
   "execution_count": 5,
   "id": "e2e58ba9-3ea8-411f-98a3-1e169b0ae5df",
   "metadata": {},
   "outputs": [
    {
     "name": "stdout",
     "output_type": "stream",
     "text": [
      "Two numbers closest to zero: (-80, 85)\n"
     ]
    }
   ],
   "source": [
    "def closest_to_zero(arr):\n",
    "    arr.sort()\n",
    "    left, right = 0, len(arr) - 1\n",
    "    min_abs_sum = float('inf')\n",
    "    closest_pair = None\n",
    "    \n",
    "    while left < right:\n",
    "        current_sum = arr[left] + arr[right]\n",
    "        abs_sum = abs(current_sum)\n",
    "        \n",
    "        if abs_sum < min_abs_sum:\n",
    "            min_abs_sum = abs_sum\n",
    "            closest_pair = (arr[left], arr[right])\n",
    "        \n",
    "        if current_sum < 0:\n",
    "            left += 1\n",
    "        else:\n",
    "            right -= 1\n",
    "    \n",
    "    return closest_pair\n",
    "\n",
    "arr = [1, 60, -10, 70, -80, 85]\n",
    "result = closest_to_zero(arr)\n",
    "print(\"Two numbers closest to zero:\", result)\n"
   ]
  },
  {
   "cell_type": "code",
   "execution_count": 6,
   "id": "e395261d-44be-4ed6-b151-8b7897594ceb",
   "metadata": {},
   "outputs": [
    {
     "name": "stdout",
     "output_type": "stream",
     "text": [
      "Three elements with sum 22 : (4, 8, 10)\n"
     ]
    }
   ],
   "source": [
    "def find_three_elements_with_sum(arr, target_sum):\n",
    "    arr.sort()\n",
    "    n = len(arr)\n",
    "    for left in range(n - 2):\n",
    "        middle, right = left + 1, n - 1\n",
    "        while middle < right:\n",
    "            current_sum = arr[left] + arr[middle] + arr[right]\n",
    "            if current_sum == target_sum:\n",
    "                return arr[left], arr[middle], arr[right]\n",
    "            elif current_sum < target_sum:\n",
    "                middle += 1\n",
    "            else:\n",
    "                right -= 1\n",
    "    return None\n",
    "\n",
    "arr = [1, 4, 45, 6, 10, 8]\n",
    "target_sum = 22\n",
    "result = find_three_elements_with_sum(arr, target_sum)\n",
    "print(\"Three elements with sum\", target_sum, \":\", result)\n"
   ]
  },
  {
   "cell_type": "code",
   "execution_count": 7,
   "id": "8e66cb26-dd61-47ed-a584-79dce2fcd3bb",
   "metadata": {},
   "outputs": [
    {
     "name": "stdout",
     "output_type": "stream",
     "text": [
      "Pythagorean triplets: (9, 16, 25)\n"
     ]
    }
   ],
   "source": [
    "def find_pythagorean_triplets(arr):\n",
    "    arr = [num**2 for num in arr]\n",
    "    arr.sort()\n",
    "    n = len(arr)\n",
    "    for right in range(n - 1, 1, -1):\n",
    "        left, middle = 0, right - 1\n",
    "        while left < middle:\n",
    "            if arr[left] + arr[middle] == arr[right]:\n",
    "                return (arr[left], arr[middle], arr[right])\n",
    "            elif arr[left] + arr[middle] < arr[right]:\n",
    "                left += 1\n",
    "            else:\n",
    "                middle -= 1\n",
    "    return None\n",
    "\n",
    "arr = [3, 1, 4, 6, 5]\n",
    "result = find_pythagorean_triplets(arr)\n",
    "print(\"Pythagorean triplets:\", result)\n"
   ]
  },
  {
   "cell_type": "code",
   "execution_count": 8,
   "id": "b43aa195-ffd5-45b5-9e1b-1cbd3c08f718",
   "metadata": {},
   "outputs": [
    {
     "name": "stdout",
     "output_type": "stream",
     "text": [
      "Majority element: 4\n"
     ]
    }
   ],
   "source": [
    "def find_majority_element(arr):\n",
    "    candidate, count = None, 0\n",
    "    for num in arr:\n",
    "        if count == 0:\n",
    "            candidate = num\n",
    "            count = 1\n",
    "        elif num == candidate:\n",
    "            count += 1\n",
    "        else:\n",
    "            count -= 1\n",
    "    return candidate if arr.count(candidate) > len(arr) // 2 else None\n",
    "\n",
    "arr = [3, 3, 4, 2, 4, 4, 2, 4, 4]\n",
    "result = find_majority_element(arr)\n",
    "print(\"Majority element:\", result)\n"
   ]
  },
  {
   "cell_type": "code",
   "execution_count": 9,
   "id": "b6fd1e86-5cd2-41a3-9b31-ba33cfde6740",
   "metadata": {},
   "outputs": [
    {
     "name": "stdout",
     "output_type": "stream",
     "text": [
      "Row with maximum zeros: 2\n"
     ]
    }
   ],
   "source": [
    "def find_max_zeros_row(matrix):\n",
    "    max_zeros_row = 0\n",
    "    max_zeros = matrix[0].count(0)\n",
    "    for i in range(1, len(matrix)):\n",
    "        zeros = matrix[i].count(0)\n",
    "        if zeros > max_zeros:\n",
    "            max_zeros = zeros\n",
    "            max_zeros_row = i\n",
    "    return max_zeros_row\n",
    "\n",
    "matrix = [[0, 1, 1, 1], [0, 0, 1, 1], [0, 0, 0, 1], [1, 1, 1, 1]]\n",
    "result = find_max_zeros_row(matrix)\n",
    "print(\"Row with maximum zeros:\", result)\n"
   ]
  },
  {
   "cell_type": "code",
   "execution_count": 10,
   "id": "e0a6fe4f-b977-45da-92f5-e0f2769bf3b2",
   "metadata": {},
   "outputs": [
    {
     "name": "stdout",
     "output_type": "stream",
     "text": [
      "Sorted array of 0's, 1's, and 2's: [0, 0, 0, 1, 1, 1, 1, 2, 2, 2]\n"
     ]
    }
   ],
   "source": [
    "def sort_012(arr):\n",
    "    low, mid, high = 0, 0, len(arr) - 1\n",
    "    while mid <= high:\n",
    "        if arr[mid] == 0:\n",
    "            arr[low], arr[mid] = arr[mid], arr[low]\n",
    "            low += 1\n",
    "            mid += 1\n",
    "        elif arr[mid] == 1:\n",
    "            mid += 1\n",
    "        else:\n",
    "            arr[mid], arr[high] = arr[high], arr[mid]\n",
    "            high -= 1\n",
    "\n",
    "arr = [0, 1, 2, 1, 0, 2, 1, 2, 0, 1]\n",
    "sort_012(arr)\n",
    "print(\"Sorted array of 0's, 1's, and 2's:\", arr)\n"
   ]
  },
  {
   "cell_type": "code",
   "execution_count": null,
   "id": "710ac0a2-9c5c-4c10-8988-5356007c27e1",
   "metadata": {},
   "outputs": [],
   "source": []
  }
 ],
 "metadata": {
  "kernelspec": {
   "display_name": "Python 3 (ipykernel)",
   "language": "python",
   "name": "python3"
  },
  "language_info": {
   "codemirror_mode": {
    "name": "ipython",
    "version": 3
   },
   "file_extension": ".py",
   "mimetype": "text/x-python",
   "name": "python",
   "nbconvert_exporter": "python",
   "pygments_lexer": "ipython3",
   "version": "3.10.8"
  }
 },
 "nbformat": 4,
 "nbformat_minor": 5
}
